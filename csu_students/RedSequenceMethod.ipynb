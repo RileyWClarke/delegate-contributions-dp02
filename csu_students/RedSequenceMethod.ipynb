{
 "cells": [
  {
   "cell_type": "markdown",
   "id": "38a63c53-1243-4c39-bd63-a9a31da68d7f",
   "metadata": {},
   "source": [
    "## Red Sequence Method Tutorial"
   ]
  },
  {
   "cell_type": "markdown",
   "id": "b6a0864b-da73-4770-bc00-a43e745681d9",
   "metadata": {},
   "source": [
    "Description:\n",
    "\n",
    "0. NOTE: Running this code requires the file `massiv_cl.csv` which is a list of function positions.\n",
    "\n",
    "1. Setting up the packages to be able to extract galaxies from Truth Catalogue using TAP. \n",
    "\n",
    "2.  Define functions that extract galaxies around known clusters positions returning `r` and `i` magnitude and redshift data. Define function that will plot color magnitude diagrams for each cluster, and then read in 149 cluster positions.\n",
    "   \n",
    "3. Plot the color-intercept versus redshift and calculate the best fit line using sigma clipping. These plots are made for redshifts in the range of `0.2-0.25` and `0.54-0.66`.\n",
    "\n",
    "4. Conclusions\n",
    "\n",
    "5. Exercises for the reader: Try different colors and redshift ranges. Add your own cluster catalogues, and make a color image of some of the clusters. Plot a few of the color magnitude diagrams that are not plotted. \n",
    "\n",
    "\n",
    "Author: Vicente Puga <br>\n",
    "Contact Author: Louise Edwards ledwar04@calpoly.edu <br>\n",
    "Last verified to run: 2023-04-02 <br>\n",
    "Targeted learning level: beginner <br>\n",
    "\n",
    "Credit: This notebook uses code from DP0 Tutorials 1 and 2"
   ]
  },
  {
   "cell_type": "markdown",
   "id": "79be0212-2003-4752-bb33-08380eedb80b",
   "metadata": {},
   "source": [
    "## Introduction \n",
    "Galaxy clusters can be visualized using color magnitude diagrams. And with use of the TAP and Matplotlib several of these figures can be made so that we can determine unique qualities of each cluster. The most significant quality pertaining to this notebook is the value associated with the red sequence. The red sequence is a unique feature that appears on the color magnitude diagram which can be quantified by assigning it an intercept value. In this notebook we will analyze the relationship between that intercept value and the redshift, or distance, of the galaxies collected. "
   ]
  },
  {
   "cell_type": "markdown",
   "id": "ca428a4d-0fa2-4fc8-9f7a-6f74c5ebc494",
   "metadata": {},
   "source": [
    "## 1. Setting up the Packages\n",
    "Here you will be importing the packages required to use Matplotlib. Important data constants will also be imported to be able to use and manipulate the lsst data. "
   ]
  },
  {
   "cell_type": "markdown",
   "id": "a2232db4-959a-4c04-87e8-d13dc41ab100",
   "metadata": {
    "execution": {
     "iopub.execute_input": "2024-02-05T06:14:02.204076Z",
     "iopub.status.busy": "2024-02-05T06:14:02.203287Z",
     "iopub.status.idle": "2024-02-05T06:14:02.208695Z",
     "shell.execute_reply": "2024-02-05T06:14:02.207986Z",
     "shell.execute_reply.started": "2024-02-05T06:14:02.204047Z"
    }
   },
   "source": [
    "This cell imports lsst data packages which we can use to call the data we need for plotting. "
   ]
  },
  {
   "cell_type": "code",
   "execution_count": 1,
   "id": "2df92c37-50b4-4e82-9d28-fd16e3aa24a3",
   "metadata": {
    "execution": {
     "iopub.execute_input": "2024-06-13T21:01:30.485377Z",
     "iopub.status.busy": "2024-06-13T21:01:30.484664Z",
     "iopub.status.idle": "2024-06-13T21:01:31.672875Z",
     "shell.execute_reply": "2024-06-13T21:01:31.672327Z",
     "shell.execute_reply.started": "2024-06-13T21:01:30.485348Z"
    }
   },
   "outputs": [],
   "source": [
    "import matplotlib.pyplot as plt\n",
    "import numpy as np\n",
    "import pandas\n",
    "from astropy import units as u\n",
    "from astropy.stats import sigma_clip\n",
    "from astropy.modeling import models, fitting\n",
    "from lsst.rsp import get_tap_service, retrieve_query"
   ]
  },
  {
   "cell_type": "markdown",
   "id": "b476b85c-932c-4ff2-ae29-abc2cf2a576b",
   "metadata": {
    "execution": {
     "iopub.execute_input": "2024-02-05T06:14:02.204076Z",
     "iopub.status.busy": "2024-02-05T06:14:02.203287Z",
     "iopub.status.idle": "2024-02-05T06:14:02.208695Z",
     "shell.execute_reply": "2024-02-05T06:14:02.207986Z",
     "shell.execute_reply.started": "2024-02-05T06:14:02.204047Z"
    }
   },
   "source": [
    "This cell imports lsst data packages which we can use to call the data we need for plotting. "
   ]
  },
  {
   "cell_type": "code",
   "execution_count": 2,
   "id": "df4eed02-d48f-4fa7-b7a9-b6a68e1ff2eb",
   "metadata": {
    "execution": {
     "iopub.execute_input": "2024-06-13T21:01:31.674387Z",
     "iopub.status.busy": "2024-06-13T21:01:31.673852Z",
     "iopub.status.idle": "2024-06-13T21:01:31.677215Z",
     "shell.execute_reply": "2024-06-13T21:01:31.676605Z",
     "shell.execute_reply.started": "2024-06-13T21:01:31.674365Z"
    }
   },
   "outputs": [],
   "source": [
    "# Import the Rubin TAP service utilities\n",
    "from lsst.rsp import get_tap_service, retrieve_query\n",
    "\n",
    "# To ignore some kinds of warnings\n",
    "import warnings\n",
    "from astropy.units import UnitsWarning"
   ]
  },
  {
   "cell_type": "markdown",
   "id": "cb3d547b-fe62-4391-a54c-ca69b31a045b",
   "metadata": {},
   "source": [
    "In this cell, some adjustment is done to the data displayed with pandas. "
   ]
  },
  {
   "cell_type": "code",
   "execution_count": 3,
   "id": "be59d0a4-82df-4b2b-a573-2e2ef38982ec",
   "metadata": {
    "execution": {
     "iopub.execute_input": "2024-06-13T21:01:31.678171Z",
     "iopub.status.busy": "2024-06-13T21:01:31.677844Z",
     "iopub.status.idle": "2024-06-13T21:01:31.698716Z",
     "shell.execute_reply": "2024-06-13T21:01:31.698190Z",
     "shell.execute_reply.started": "2024-06-13T21:01:31.678151Z"
    }
   },
   "outputs": [],
   "source": [
    "pandas.set_option('display.max_rows', 200)\n",
    "%matplotlib inline\n",
    "plot_filter_labels = ['u', 'g', 'r', 'i', 'z', 'y']\n",
    "plot_filter_colors = {'u': '#56b4e9', 'g': '#008060', 'r': '#ff4000',\n",
    "                      'i': '#850000', 'z': '#6600cc', 'y': '#000000'}\n",
    "plot_filter_symbols = {'u': 'o', 'g': '^', 'r': 'v', 'i': 's', 'z': '*', 'y': 'p'}\n"
   ]
  },
  {
   "cell_type": "code",
   "execution_count": 4,
   "id": "711b48c6-d3f7-4498-8e10-6896a72feab4",
   "metadata": {
    "execution": {
     "iopub.execute_input": "2024-06-13T21:01:31.700306Z",
     "iopub.status.busy": "2024-06-13T21:01:31.700035Z",
     "iopub.status.idle": "2024-06-13T21:01:31.705065Z",
     "shell.execute_reply": "2024-06-13T21:01:31.704610Z",
     "shell.execute_reply.started": "2024-06-13T21:01:31.700290Z"
    }
   },
   "outputs": [],
   "source": [
    "def sort_dataframe(df, sort_key='objectId'):\n",
    "    df = df.sort_values(sort_key)\n",
    "    df.set_index(np.array(range(len(df))), inplace=True)\n",
    "    return df"
   ]
  },
  {
   "cell_type": "code",
   "execution_count": 5,
   "id": "7edd8796-da60-467f-ad4c-44c9e76afa41",
   "metadata": {
    "execution": {
     "iopub.execute_input": "2024-06-13T21:01:31.705870Z",
     "iopub.status.busy": "2024-06-13T21:01:31.705715Z",
     "iopub.status.idle": "2024-06-13T21:01:31.763473Z",
     "shell.execute_reply": "2024-06-13T21:01:31.762910Z",
     "shell.execute_reply.started": "2024-06-13T21:01:31.705858Z"
    }
   },
   "outputs": [],
   "source": [
    "service = get_tap_service(\"tap\")"
   ]
  },
  {
   "cell_type": "code",
   "execution_count": 6,
   "id": "81dd4b53-4471-4d29-b42c-f3bc7fac7b40",
   "metadata": {
    "execution": {
     "iopub.execute_input": "2024-06-13T21:01:31.764331Z",
     "iopub.status.busy": "2024-06-13T21:01:31.764156Z",
     "iopub.status.idle": "2024-06-13T21:01:31.807990Z",
     "shell.execute_reply": "2024-06-13T21:01:31.807503Z",
     "shell.execute_reply.started": "2024-06-13T21:01:31.764317Z"
    }
   },
   "outputs": [
    {
     "name": "stderr",
     "output_type": "stream",
     "text": [
      "/tmp/ipykernel_11774/1189525124.py:1: DeprecationWarning: get_tap_service() is deprecated, use get_tap_service(\"tap\")\n",
      "  service = get_tap_service()\n"
     ]
    }
   ],
   "source": [
    "service = get_tap_service()\n",
    "assert service is not None\n",
    "assert service.baseurl == \"https://data.lsst.cloud/api/tap\""
   ]
  },
  {
   "cell_type": "markdown",
   "id": "a301144c-d89e-4c02-af6b-e2b584990c63",
   "metadata": {},
   "source": [
    "Before we search from the database we need to set constants that specify the parameters of our search. Defining these constants makes it easier to code our search from the query. This will also help if the search parameters need to be changed, instead of going into the cell with the search code and changing each instance these values appear we can simply change the definitions of these constants. "
   ]
  },
  {
   "cell_type": "code",
   "execution_count": 7,
   "id": "ab6f551a-a9cf-47a5-ad9c-2d8831f266bb",
   "metadata": {
    "execution": {
     "iopub.execute_input": "2024-06-13T21:01:31.808822Z",
     "iopub.status.busy": "2024-06-13T21:01:31.808653Z",
     "iopub.status.idle": "2024-06-13T21:01:31.811517Z",
     "shell.execute_reply": "2024-06-13T21:01:31.810974Z",
     "shell.execute_reply.started": "2024-06-13T21:01:31.808809Z"
    }
   },
   "outputs": [],
   "source": [
    "Mag_Min = 22.0 #The maximum magnitude of objects we want from our search\n",
    "Mag_Max = 15.5 #The minimum magnitude of objects we want from our search"
   ]
  },
  {
   "cell_type": "markdown",
   "id": "ae977103-fd27-4a98-9dfd-0857e673d4f5",
   "metadata": {},
   "source": [
    "The magnitude scale defines larger values as dimmer objects and smaller values as brighter objects. Flux however works as one would expect, large values are brighter and smaller values are dimmer. Sometimes instead of using a range of magnitudes we can use a range of fluxes to describe our search. Here we do just that by using the conversion equation between magnitude and flux. The maximum and minimum flux values will be used in the search, however the same search could also be done with the previously defined `Mag_Min` and `Mag_Max`. "
   ]
  },
  {
   "cell_type": "code",
   "execution_count": 8,
   "id": "dd29862f-1260-4355-b85e-05495a22d1ab",
   "metadata": {
    "execution": {
     "iopub.execute_input": "2024-06-13T21:01:31.812303Z",
     "iopub.status.busy": "2024-06-13T21:01:31.812139Z",
     "iopub.status.idle": "2024-06-13T21:01:31.823377Z",
     "shell.execute_reply": "2024-06-13T21:01:31.822870Z",
     "shell.execute_reply.started": "2024-06-13T21:01:31.812289Z"
    }
   },
   "outputs": [
    {
     "name": "stdout",
     "output_type": "stream",
     "text": [
      "Min Flux is,  5754.399373371561\n",
      "Max Flux is,  2290867.65276777\n"
     ]
    }
   ],
   "source": [
    "Max_Flux = 10**((Mag_Max-31.4)/-2.5)\n",
    "Min_Flux = 10**((Mag_Min-31.4)/-2.5)\n",
    "\n",
    "print(\"Min Flux is, \", Min_Flux)\n",
    "print(\"Max Flux is, \", Max_Flux)"
   ]
  },
  {
   "cell_type": "markdown",
   "id": "3b182390-a2fc-476f-bb74-50c1b2c5f5fc",
   "metadata": {},
   "source": [
    "FOR LOW Z NEEDS TO BE BASED ON BRIGHTEST GALAXY KIND OF ONLY!!!?!"
   ]
  },
  {
   "cell_type": "markdown",
   "id": "b9a136b1-9ad3-4a8a-ac45-0409e737248a",
   "metadata": {},
   "source": [
    "## 2. Creating the Functions to Extract the Galaxies and Reading Cluster Centers"
   ]
  },
  {
   "cell_type": "markdown",
   "id": "3071e3d4-7539-43cd-b775-9db1a482b916",
   "metadata": {},
   "source": [
    "We will now define a function so that we can run multiple queries with one line of code. We will call this function `coordinate_loop`. We will make it a function of `x`, where `x` will be a list of ra and dec coordinates. To start off the function we simply write our a query of the galaxies we want to extract. We pick a search radius, `rad`, equal to 0.25 to minimize background galaxies and so that the search stays relatively close to the coordinate entered. This query will now search this radius for galaxies fitting the desired parameters. However there will be instances where the query returns an empty table. This is due to the search radius being too small. So we implement a while loop. This loop will be activated any time the length of the results table is equal to 0. And it will rerun the original query but with a slightly larger radius. It will continue to do this until the length of the results table is greater than 900 entries. As the loop collects its searches it also averages the redshift of all the galaxies in the search, and uses that value as the redshift value associated to the cluster. "
   ]
  },
  {
   "cell_type": "code",
   "execution_count": 9,
   "id": "fa91012a-eab1-459f-9d9d-7b7b3981fff6",
   "metadata": {
    "execution": {
     "iopub.execute_input": "2024-06-13T21:01:31.824208Z",
     "iopub.status.busy": "2024-06-13T21:01:31.824018Z",
     "iopub.status.idle": "2024-06-13T21:01:31.836295Z",
     "shell.execute_reply": "2024-06-13T21:01:31.835754Z",
     "shell.execute_reply.started": "2024-06-13T21:01:31.824194Z"
    }
   },
   "outputs": [],
   "source": [
    "def coordinate_loop(x):\n",
    "    #center_coords = SkyCoord(x, y, frame='icrs', unit='deg')\n",
    "    rad=0.1 #0.1 for 0.11 redshift\n",
    "    searchrad = str(rad)\n",
    "    search_radius = 1.0*u.deg \n",
    "    use_center_coords = str(x)\n",
    "    use_radius = searchrad\n",
    "    #use SELECT TOP 10 for 0.11 redshift\n",
    "    explore = service.search(\n",
    "        \"SELECT TOP 5 mt.id_truth_type, mt.match_objectId, ts.ra, ts.dec, ts.truth_type, \"\\\n",
    "        \"ts.redshift AS ts_redshift, \"\\\n",
    "        \"obj.coord_ra AS obj_coord_ra, \"\\\n",
    "        \"obj.coord_dec AS obj_coord_dec, \"\\\n",
    "        \"scisql_nanojanskyToAbMag(obj.r_cModelFlux) AS obj_cModelMag_r, \"\\\n",
    "        \"scisql_nanojanskyToAbMag(obj.i_cModelFlux) AS obj_cModelMag_i \"\\\n",
    "        \"FROM dp02_dc2_catalogs.MatchesTruth AS mt \"\\\n",
    "        \"JOIN dp02_dc2_catalogs.TruthSummary AS ts ON mt.id_truth_type = ts.id_truth_type \"\\\n",
    "        \"JOIN dp02_dc2_catalogs.Object AS obj ON mt.match_objectId = obj.objectId \"\\\n",
    "        \"WHERE CONTAINS(POINT('ICRS', ra, dec), \"\\\n",
    "        \"CIRCLE('ICRS', \" + use_center_coords + \", \" + use_radius + \")) = 1 \"\\\n",
    "        \"AND ts.truth_type = 1 \"\\\n",
    "        \"AND scisql_nanojanskyToAbMag(obj.r_cModelFlux) < \" + str(Mag_Min) +\\\n",
    "        \"AND scisql_nanojanskyToAbMag(obj.r_cModelFlux) > \" + str(Mag_Max) +\\\n",
    "        \"AND scisql_nanojanskyToAbMag(obj.i_cModelFlux)  <\" + str(Mag_Min) +\\\n",
    "        \"AND scisql_nanojanskyToAbMag(obj.i_cModelFlux)  >\" + str(Mag_Max) +\\\n",
    "        \"AND obj.detect_isPrimary = 1\"\\\n",
    "        \"AND is_variable = 0 \" \\\n",
    "        \"ORDER BY obj_cModelMag_r ASC\")\n",
    "    tab = explore.to_table().to_pandas()\n",
    "    redmed=np.median(tab['ts_redshift'])\n",
    "    redshifts_unlim.append(redmed)\n",
    "    return(tab)"
   ]
  },
  {
   "cell_type": "markdown",
   "id": "b22c3463-e933-4099-9bac-c395041aa6b9",
   "metadata": {},
   "source": [
    "We will now write another loop which will plot color magnitude diagrams for each of the galaxy clusters used in the query. This loop takes in the r and i values of the galaxies queried so that it can make the plot, it also takes a variable called `clus` which will be defined later one. But it is in short a label for each cluster. In addition to plotting, this loop will also quantify the red sequence. And it does this by predicting the shape of the red sequence with a line of best fit. As mentioned before, the intercept value will be the way we quantify the red sequence. However, an issue arrizes in that the color magnitude diagrams are plotted on an inverse x axis. Meaning as you move further left you simple to infinite rather than reaching the y intercept. So we create our own intercept. We decide to make the point where magnitude equals 21 to be the intercept. This is the value we will use in furhter analysis to quantify the red sequence.  "
   ]
  },
  {
   "cell_type": "code",
   "execution_count": 10,
   "id": "39effd35-84e9-470d-8f7f-fe646e847268",
   "metadata": {
    "execution": {
     "iopub.execute_input": "2024-06-13T21:01:31.838397Z",
     "iopub.status.busy": "2024-06-13T21:01:31.837962Z",
     "iopub.status.idle": "2024-06-13T21:01:31.852499Z",
     "shell.execute_reply": "2024-06-13T21:01:31.851960Z",
     "shell.execute_reply.started": "2024-06-13T21:01:31.838377Z"
    }
   },
   "outputs": [],
   "source": [
    "def galaxy_plot(r, i, clus):\n",
    "    fig = plt.figure(figsize=(8, 8))\n",
    "    data = {'imag': i, \n",
    "            'rmag': r}\n",
    "    data['rmi'] = data['rmag'] - data['imag']\n",
    "    plt.title('Colour-Magnitude Diagram '+str(clus)+'')\n",
    "    plt.xlim(22.2, 15.5)\n",
    "    plt.ylim(-0.5, 1.5)\n",
    "    plt.xlabel('r')\n",
    "    plt.ylabel('r-i')\n",
    "    plt.grid(True)\n",
    "    x = data['rmag']\n",
    "    y = data['rmi']\n",
    "\n",
    "    #find line of best fit\n",
    "    #initialize fitter\n",
    "    fit = fitting.LinearLSQFitter()\n",
    "    # initialize the outlier removal fitter\n",
    "    or_fit = fitting.FittingWithOutlierRemoval(fit, sigma_clip, niter=3, sigma=2)\n",
    "    # initialize a linear model\n",
    "    line_init = models.Linear1D()\n",
    "    # fit the data with the fitter\n",
    "    fitted_line, mask = or_fit(line_init, x, y)\n",
    "    filtered_data = np.ma.masked_array(y, mask=mask)\n",
    "    #gather slope and intercept\n",
    "    m = fitted_line.slope.value\n",
    "    b = fitted_line.intercept.value\n",
    "    \n",
    "    plt.scatter('rmag', 'rmi', s=6, color='blue', data=data)\n",
    "    plt.plot(x, y, \"o\",color=\"black\",fillstyle=\"none\", label=\"Clipped Data\")\n",
    "    plt.plot(x, filtered_data, \"o\",color=\"black\", label=\"Fitted Data\")\n",
    "    plt.plot(x, fitted_line(x), '--', color='purple', label='Fitted Model')\n",
    "    plt.legend()\n",
    "\n",
    "    plt.savefig('RedSequenceLine '+str(clus)+'.png')\n",
    "    plt.close()\n",
    "    slope = m\n",
    "    #print('Slope is ', slope)\n",
    "    yints = b\n",
    "    #print('Y-Intercept is ', yint)\n",
    "    int21=m*18+b \n",
    "    \n",
    "    redint.append(int21)\n",
    "    slopes.append(m)\n",
    "    yint.append(b)\n",
    "    #np.savetxt('name.dat', slopes)"
   ]
  },
  {
   "cell_type": "markdown",
   "id": "b9eb0004-a8d1-49cf-b302-25405acb5469",
   "metadata": {},
   "source": [
    "Here we import a collection of coordinates pertaining to known clusters. We define the ra column as `x`, and the dec column as `y`. "
   ]
  },
  {
   "cell_type": "code",
   "execution_count": 11,
   "id": "562f4580-80ce-490a-a783-dcdc378e1f68",
   "metadata": {
    "execution": {
     "iopub.execute_input": "2024-06-13T21:01:31.853288Z",
     "iopub.status.busy": "2024-06-13T21:01:31.853117Z",
     "iopub.status.idle": "2024-06-13T21:01:31.867956Z",
     "shell.execute_reply": "2024-06-13T21:01:31.867478Z",
     "shell.execute_reply.started": "2024-06-13T21:01:31.853275Z"
    }
   },
   "outputs": [],
   "source": [
    "#nt1 = pandas.read_csv(r'localcl_cl.csv')\n",
    "#nt2 = pandas.read_csv(r'massiv_cl-edit.csv')\n",
    "# concatenating df1 and df2 along rows\n",
    "#newtable = pandas.concat([nt1, nt2], axis=0)\n",
    "\n",
    "#newtable = pandas.read_csv(r'localcl_cl.csv')\n",
    "newtable = pandas.read_csv(r'two_red_ranges.csv') #both ranges, but not all the points\n",
    "x=newtable['ra'].astype('string')\n",
    "y=newtable['dec'].astype('string')\n",
    "zed=newtable['redshift']\n",
    "\n",
    "z = x + ', ' + y \n",
    "subjects = z.to_numpy()\n",
    "zed = zed.to_numpy()\n"
   ]
  },
  {
   "cell_type": "markdown",
   "id": "959329c5-56b7-48d6-976e-3535a3079345",
   "metadata": {},
   "source": [
    "## 3. Putting Everything Together: Runing the loops and Calculating the Intercepts and Plotting Redshift v. Intercept"
   ]
  },
  {
   "cell_type": "markdown",
   "id": "e70a0326-811c-4b0d-b2cd-61b0a406d406",
   "metadata": {},
   "source": [
    "Taking the loops we defined earlier we can now put everything together into a loop which will run every coordinate in the list `subejcts`. In addition to collecting and plotting the galaxies, and their larger clusters, the loop will collect and append the redshift and red sequence intercept values to lists that can be used for the final step. \n",
    "\n",
    "This code may take several minutes to run (about 20)"
   ]
  },
  {
   "cell_type": "code",
   "execution_count": 12,
   "id": "c94700ef-9cd1-465a-a742-98439e9388f9",
   "metadata": {
    "execution": {
     "iopub.execute_input": "2024-06-13T21:01:31.868829Z",
     "iopub.status.busy": "2024-06-13T21:01:31.868663Z",
     "iopub.status.idle": "2024-06-13T21:19:59.470069Z",
     "shell.execute_reply": "2024-06-13T21:19:59.469509Z",
     "shell.execute_reply.started": "2024-06-13T21:01:31.868817Z"
    }
   },
   "outputs": [
    {
     "name": "stdout",
     "output_type": "stream",
     "text": [
      "[0.182707, 0.0490843, 0.0493178, 0.0484737, 0.0523355, 0.045436, 0.0453696, 0.0437921, 0.0437921, 0.0594648, 0.0334568, 0.0469418, 0.0628821, 0.216892, 0.0512057, 0.408991, 0.0518937, 0.157337, 0.0835595, 0.0520289, 0.0518937, 0.0730025, 0.0511471, 0.120574, 0.137563, 0.137264, 0.155603, 0.0766424, 0.050274, 0.083527, 0.127436, 0.288785, 0.125964, 0.126249, 0.124191, 0.0787746, 0.139674, 0.137178, 0.11591, 0.115303, 0.152295, 0.149168, 0.103457, 0.146167, 0.144002, 0.0455431, 0.131701, 0.103758, 0.151398, 0.144887, 0.109296, 0.128036, 0.0923541, 0.107924, 0.103009, 0.147558, 0.146869, 0.139725, 0.148471, 0.13803, 0.102632, 0.116585, 0.0661705, 0.0410414, 0.102626, 0.126207, 0.0997266, 0.130203, 0.117393, 0.127254, 0.11917, 0.119292, 0.116649, 0.115914, 0.115001, 0.138446, 0.137062, 0.103693, 0.108307, 0.136064, 0.135495, 0.138501, 0.0916314, 0.0998329, 0.107481, 0.111803, 0.141856, 0.0830789, 0.0805646, 0.125893, 0.0827162, 0.118143, 0.11753, 0.147492, 0.138338, 0.112962, 0.225783, 0.140782, 0.0968516, 0.111935]\n",
      "[0.18, 0.0481867696228113, 0.0482592632223883, 0.0455451603533998, 0.0525557762067117, 0.045436011652453, 0.0453489474573802, 0.0436121477202466, 0.0437334888498579, 0.0586890434333549, 0.0529807956198769, 0.0454557676448943, 0.062674414769968, 0.0472210176231016, 0.0528513977315894, 0.0535995551068699, 0.0489064606016942, 0.0503472399206577, 0.0501615865491926, 0.0513581231912125, 0.0520904251030203, 0.0459450101836325, 0.0512276137215421, 0.0426345105836412, 0.062713226763551, 0.0471732767391557, 0.0482593217484914, 0.053119901537652, 0.0488802046077827, 0.0514264784815277, 0.1274361305249478, 0.1137583449874726, 0.1259639067546261, 0.1277585876088935, 0.1261121452413618, 0.1355965501906288, 0.1406644662545118, 0.1371777815293973, 0.115909567952354, 0.1153027084610875, 0.1171701184280047, 0.1491680272021283, 0.1023402852008965, 0.1462616651501778, 0.1464573650974108, 0.1477870935070167, 0.1317012991850927, 0.1034695988313467, 0.1448592433703626, 0.1451737755593558, 0.1092961732773252, 0.1300124288120534, 0.0923541522861473, 0.106632546986469, 0.1029734003804667, 0.1484834740972034, 0.146869024825325, 0.1397246481621705, 0.1488549566559451, 0.1380295369925253, 0.1385626424527817, 0.1167563269195035, 0.1252501206101761, 0.1162479967974663, 0.102536386986997, 0.1262074222896827, 0.0997265530847471, 0.1219185291848266, 0.117466920091571, 0.1263911121621883, 0.1191704146408643, 0.1186225548139565, 0.116648648465377, 0.1161578151308149, 0.11462708930029, 0.1386130984231426, 0.1376799542657523, 0.1036153364145446, 0.108306744628688, 0.1363097442637819, 0.1359835910033526, 0.1385010534268762, 0.0913627228795948, 0.0998329149858148, 0.1075991091659689, 0.1450131777881478, 0.1420757238643213, 0.0828388091746934, 0.1471675917516395, 0.1276489990332667, 0.082716230477065, 0.1176772862317057, 0.1327533900124253, 0.1479975050513597, 0.1383376979383221, 0.1201899285704755, 0.1470940125098299, 0.1407822863561665, 0.0968515907528255, 0.1119352258700918]\n"
     ]
    }
   ],
   "source": [
    "slopes = []\n",
    "yint = []\n",
    "redint = []\n",
    "redshifts_unlim= []\n",
    "rcollect1=[]\n",
    "icollect1=[]\n",
    "coordinates= subjects\n",
    "redINPUT = []\n",
    "clnum=len(coordinates)\n",
    "#for clus in range(0, clnum):\n",
    "for clus in range(0, 100):\n",
    "    #print(clus)\n",
    "    #print(coordinates[clus], clnum)\n",
    "    tab = coordinate_loop(coordinates[clus])\n",
    "    redINPUT.append(zed[clus])\n",
    "    r=tab['obj_cModelMag_r']\n",
    "    i=tab['obj_cModelMag_i']\n",
    "    rcollect1.append(r)\n",
    "    icollect1.append(i)\n",
    "    rs_plot = galaxy_plot(r, i, clus)\n",
    "#    print(tab)\n",
    "print(redshifts_unlim)\n",
    "print(redINPUT)"
   ]
  },
  {
   "cell_type": "code",
   "execution_count": 13,
   "id": "b4139eef-caab-43cd-8a6d-5c25b31c71de",
   "metadata": {
    "execution": {
     "iopub.execute_input": "2024-06-13T21:19:59.471278Z",
     "iopub.status.busy": "2024-06-13T21:19:59.470885Z",
     "iopub.status.idle": "2024-06-13T21:19:59.482931Z",
     "shell.execute_reply": "2024-06-13T21:19:59.482415Z",
     "shell.execute_reply.started": "2024-06-13T21:19:59.471260Z"
    },
    "scrolled": true
   },
   "outputs": [
    {
     "data": {
      "text/html": [
       "<div>\n",
       "<style scoped>\n",
       "    .dataframe tbody tr th:only-of-type {\n",
       "        vertical-align: middle;\n",
       "    }\n",
       "\n",
       "    .dataframe tbody tr th {\n",
       "        vertical-align: top;\n",
       "    }\n",
       "\n",
       "    .dataframe thead th {\n",
       "        text-align: right;\n",
       "    }\n",
       "</style>\n",
       "<table border=\"1\" class=\"dataframe\">\n",
       "  <thead>\n",
       "    <tr style=\"text-align: right;\">\n",
       "      <th></th>\n",
       "      <th>id_truth_type</th>\n",
       "      <th>match_objectId</th>\n",
       "      <th>ra</th>\n",
       "      <th>dec</th>\n",
       "      <th>truth_type</th>\n",
       "      <th>ts_redshift</th>\n",
       "      <th>obj_coord_ra</th>\n",
       "      <th>obj_coord_dec</th>\n",
       "      <th>obj_cModelMag_r</th>\n",
       "      <th>obj_cModelMag_i</th>\n",
       "    </tr>\n",
       "  </thead>\n",
       "  <tbody>\n",
       "    <tr>\n",
       "      <th>0</th>\n",
       "      <td>10937504905_1</td>\n",
       "      <td>1325008268493349520</td>\n",
       "      <td>49.811597</td>\n",
       "      <td>-42.901312</td>\n",
       "      <td>1</td>\n",
       "      <td>0.111935</td>\n",
       "      <td>49.811598</td>\n",
       "      <td>-42.901312</td>\n",
       "      <td>15.981682</td>\n",
       "      <td>15.583018</td>\n",
       "    </tr>\n",
       "    <tr>\n",
       "      <th>1</th>\n",
       "      <td>10937510370_1</td>\n",
       "      <td>1325008268493347513</td>\n",
       "      <td>49.774237</td>\n",
       "      <td>-42.940120</td>\n",
       "      <td>1</td>\n",
       "      <td>0.148475</td>\n",
       "      <td>49.774238</td>\n",
       "      <td>-42.940119</td>\n",
       "      <td>17.148871</td>\n",
       "      <td>16.675431</td>\n",
       "    </tr>\n",
       "    <tr>\n",
       "      <th>2</th>\n",
       "      <td>10937504917_1</td>\n",
       "      <td>1325008268493348205</td>\n",
       "      <td>49.723954</td>\n",
       "      <td>-42.935190</td>\n",
       "      <td>1</td>\n",
       "      <td>0.112198</td>\n",
       "      <td>49.723956</td>\n",
       "      <td>-42.935189</td>\n",
       "      <td>17.345892</td>\n",
       "      <td>16.904565</td>\n",
       "    </tr>\n",
       "    <tr>\n",
       "      <th>3</th>\n",
       "      <td>10937500713_1</td>\n",
       "      <td>1324946695842204737</td>\n",
       "      <td>49.824045</td>\n",
       "      <td>-42.971568</td>\n",
       "      <td>1</td>\n",
       "      <td>0.072385</td>\n",
       "      <td>49.824045</td>\n",
       "      <td>-42.971568</td>\n",
       "      <td>17.604342</td>\n",
       "      <td>17.190166</td>\n",
       "    </tr>\n",
       "    <tr>\n",
       "      <th>4</th>\n",
       "      <td>10937504906_1</td>\n",
       "      <td>1325008268493350340</td>\n",
       "      <td>49.779090</td>\n",
       "      <td>-42.890758</td>\n",
       "      <td>1</td>\n",
       "      <td>0.111676</td>\n",
       "      <td>49.779092</td>\n",
       "      <td>-42.890759</td>\n",
       "      <td>17.725788</td>\n",
       "      <td>17.265204</td>\n",
       "    </tr>\n",
       "  </tbody>\n",
       "</table>\n",
       "</div>"
      ],
      "text/plain": [
       "   id_truth_type       match_objectId         ra        dec  truth_type  \\\n",
       "0  10937504905_1  1325008268493349520  49.811597 -42.901312           1   \n",
       "1  10937510370_1  1325008268493347513  49.774237 -42.940120           1   \n",
       "2  10937504917_1  1325008268493348205  49.723954 -42.935190           1   \n",
       "3  10937500713_1  1324946695842204737  49.824045 -42.971568           1   \n",
       "4  10937504906_1  1325008268493350340  49.779090 -42.890758           1   \n",
       "\n",
       "   ts_redshift  obj_coord_ra  obj_coord_dec  obj_cModelMag_r  obj_cModelMag_i  \n",
       "0     0.111935     49.811598     -42.901312        15.981682        15.583018  \n",
       "1     0.148475     49.774238     -42.940119        17.148871        16.675431  \n",
       "2     0.112198     49.723956     -42.935189        17.345892        16.904565  \n",
       "3     0.072385     49.824045     -42.971568        17.604342        17.190166  \n",
       "4     0.111676     49.779092     -42.890759        17.725788        17.265204  "
      ]
     },
     "execution_count": 13,
     "metadata": {},
     "output_type": "execute_result"
    }
   ],
   "source": [
    "tab\n"
   ]
  },
  {
   "cell_type": "markdown",
   "id": "43009dd6-8ba7-49a6-b2d8-ececa03c11a7",
   "metadata": {},
   "source": [
    "The final step is to take all the values collect and test to see the trend between red sequence intercept and redshift. "
   ]
  },
  {
   "cell_type": "code",
   "execution_count": 14,
   "id": "14dec74d-2571-4799-846b-ff983d855853",
   "metadata": {
    "execution": {
     "iopub.execute_input": "2024-06-13T21:19:59.483789Z",
     "iopub.status.busy": "2024-06-13T21:19:59.483619Z",
     "iopub.status.idle": "2024-06-13T21:19:59.668329Z",
     "shell.execute_reply": "2024-06-13T21:19:59.667627Z",
     "shell.execute_reply.started": "2024-06-13T21:19:59.483777Z"
    }
   },
   "outputs": [
    {
     "data": {
      "image/png": "[encoded data removed]",
      "text/plain": [
       "<Figure size 640x480 with 1 Axes>"
      ]
     },
     "metadata": {},
     "output_type": "display_data"
    }
   ],
   "source": [
    "data = {'Redshift': redshifts_unlim, \n",
    "        'RedIN': redINPUT}\n",
    "\n",
    "plt.scatter('RedIN', 'Redshift', s=6, color='blue', data=data)\n",
    "\n",
    "#This sets axis range\n",
    "#plt.xlim(23.2, 15.7)\n",
    "plt.ylabel('Median Redshift')\n",
    "plt.xlabel('Input redshift')\n",
    "plt.grid(True)\n",
    "\n",
    "y = np.array(data['Redshift'])\n",
    "x = np.array(data['RedIN'])\n",
    "\n",
    "#find line of best fit\n",
    "#initialize fitter\n",
    "fit = fitting.LinearLSQFitter()\n",
    "# initialize the outlier removal fitter\n",
    "# increase parameter 'sigma' for a include larger outliers\n",
    "or_fit = fitting.FittingWithOutlierRemoval(fit, sigma_clip, niter=3, sigma=2)\n",
    "# initialize a linear model\n",
    "line_init = models.Linear1D()\n",
    "# fit the data with the fitter\n",
    "fitted_line, mask = or_fit(line_init, x, y)\n",
    "filtered_data = np.ma.masked_array(y, mask=mask)\n",
    "#gather slope and intercept\n",
    "m = fitted_line.slope.value\n",
    "b = fitted_line.intercept.value\n",
    "\n",
    "plt.plot(x, y, \"o\",color=\"black\",fillstyle=\"none\", label=\"Clipped Data\")\n",
    "plt.plot(x, filtered_data, \"o\",color=\"black\", label=\"Fitted Data\")\n",
    "plt.plot(x, fitted_line(x), '--', color='purple', label='Fitted Model')\n",
    "plt.legend()\n",
    "plt.show()"
   ]
  },
  {
   "cell_type": "code",
   "execution_count": 15,
   "id": "c625a5df-e99c-42fb-81c9-9eef095d8742",
   "metadata": {
    "execution": {
     "iopub.execute_input": "2024-06-13T21:19:59.669395Z",
     "iopub.status.busy": "2024-06-13T21:19:59.669125Z",
     "iopub.status.idle": "2024-06-13T21:19:59.822369Z",
     "shell.execute_reply": "2024-06-13T21:19:59.821848Z",
     "shell.execute_reply.started": "2024-06-13T21:19:59.669377Z"
    }
   },
   "outputs": [
    {
     "data": {
      "image/png": "[encoded data removed]",
      "text/plain": [
       "<Figure size 640x480 with 1 Axes>"
      ]
     },
     "metadata": {},
     "output_type": "display_data"
    },
    {
     "name": "stdout",
     "output_type": "stream",
     "text": [
      "0.10237317564336122 0.06737607330331549\n"
     ]
    }
   ],
   "source": [
    "data = {'Redshift': redshifts_unlim, \n",
    "#data = {'Redshift': redINPUT,\n",
    "        'Redint': redint}\n",
    "\n",
    "plt.scatter('Redint', 'Redshift', s=6, color='blue', data=data)\n",
    "plt.title('Red Sequence v. Redshift')\n",
    "\n",
    "#This sets axis range\n",
    "#plt.xlim(23.2, 15.7)\n",
    "plt.ylabel('Redshift')\n",
    "plt.xlabel('Intercept')\n",
    "plt.grid(True)\n",
    "\n",
    "y = np.array(data['Redshift'])\n",
    "x = np.array(data['Redint'])\n",
    "\n",
    "#find line of best fit\n",
    "a, b = np.polyfit(x, y, 1)\n",
    "\n",
    "#We use a*x+b because we want a line, this part of the code can be modified depending on the type of fit desired\n",
    "plt.plot(x, a*x+b, color='red')\n",
    "\n",
    "plt.show()\n",
    "print(a,b)"
   ]
  },
  {
   "cell_type": "markdown",
   "id": "387cd612-8287-48f5-9f99-04810756c24d",
   "metadata": {},
   "source": [
    "The final plot above gives the slope and intercept for the fitted line. Which means that given a red sequence intercept between the ranges 0.1 and 0.6, you could theoretically caluclate the estimated redshift of that galaxy cluster using the values given above."
   ]
  },
  {
   "cell_type": "markdown",
   "id": "dad9c09e-b046-4906-be27-95243a8d0abb",
   "metadata": {},
   "source": [
    "## Conclusions"
   ]
  },
  {
   "cell_type": "markdown",
   "id": "e2b34d67-5ac1-4b99-92b3-77f3addd41c1",
   "metadata": {},
   "source": [
    "The code above is a relatively simple method, but it can tell us a lot about the data. The most important of which is the linear relationship between redshift and red sequence. In addition, we know that this method works best for galaxies collected at lower redshifts, at least for the magnitudes and colors used in this notebook. This could be due to the larger redshift galaxies being younger than lower redshift galaxies. In total, we have discussed the use of the red sequence and how to quantify it, as well as a helpful method on how to use that red sequence to estimate redshift, or distance, to galaxy clusters."
   ]
  }
 ],
 "metadata": {
  "kernelspec": {
   "display_name": "LSST",
   "language": "python",
   "name": "lsst"
  },
  "language_info": {
   "codemirror_mode": {
    "name": "ipython",
    "version": 3
   },
   "file_extension": ".py",
   "mimetype": "text/x-python",
   "name": "python",
   "nbconvert_exporter": "python",
   "pygments_lexer": "ipython3",
   "version": "3.11.7"
  }
 },
 "nbformat": 4,
 "nbformat_minor": 5
}
