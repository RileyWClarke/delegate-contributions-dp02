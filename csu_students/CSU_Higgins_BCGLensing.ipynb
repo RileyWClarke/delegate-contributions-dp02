{
 "cells": [
  {
   "cell_type": "markdown",
   "id": "92a03ff8-fa8e-4ac5-810f-e1953a7f68a4",
   "metadata": {},
   "source": [
    "### AUTHOR: Denvir Higgins\n",
    "### Last verified: June 2/2023\n",
    "### Products and set up\n",
    "### Contact author: Denvir Higgins and Louise Edwards\n",
    "### Targeted learning level: beginner\n",
    "\n",
    "The purpose of the notebook is to use the Truth Summary catalog from DP0 DC2 to query nearby, bright galaxy clusters. \n",
    "\n",
    "The notebook utilizes aspects from tutorial notebooks 1-8 and is described in three parts below. Within the notebook, you'll see how to porgram a simple equation, as well as make color images, and overplot a circle on an image.\n",
    "\n",
    "### Part I: Identifying potential BCGs\n",
    "\n",
    "First, we use the TAP Query to identify large, bright, red galaxies. Then, we create a histogram that bins the redshift of these galaxies, as well as a histogram that bins the apparent magntiude of these galaxies. Then, we create a scatter plot of redshifts versus apparent magnitude. Finally, we convert redshift into distance in parsecs and apparent magnitude into absolute magnitude and plot M vs d.\n",
    "\n",
    "### Part II: Tracing the Einstein Radius around the BCG\n",
    "\n",
    "In this section, we investigate the use of the Butler to create a color image of our galaxy, using the right ascension and declination found in our TAP Query from above. Then, we use the distance and estimated total mass of the galaxy to determine the Einstein radius. "
   ]
  },
  {
   "cell_type": "markdown",
   "id": "0c0ffd08-e039-43e5-a81f-19a9bff2f7be",
   "metadata": {},
   "source": [
    "# Part I: Identifying potential BCGs\n",
    "## A: Setting up the notebook and querying the data"
   ]
  },
  {
   "cell_type": "markdown",
   "id": "54eaf1e0-3f22-40df-a653-5f193ff1f984",
   "metadata": {},
   "source": [
    "#### We start by setting up imports and plotting parameters."
   ]
  },
  {
   "cell_type": "code",
   "execution_count": null,
   "id": "09e80a6b-3dd2-4689-ad46-27e930d18996",
   "metadata": {
    "tags": []
   },
   "outputs": [],
   "source": [
    "# Import general python packages\n",
    "import numpy as np\n",
    "import re\n",
    "import pandas\n",
    "from pandas.testing import assert_frame_equal\n",
    "import matplotlib.pyplot as plt\n",
    "\n",
    "# Import the Rubin TAP service utilities\n",
    "from lsst.rsp import get_tap_service, retrieve_query\n",
    "\n",
    "# Astropy\n",
    "from astropy import units as u\n",
    "from astropy.coordinates import SkyCoord\n",
    "\n",
    "# Set the maximum number of rows to display from pandas\n",
    "pandas.set_option('display.max_rows', 20)"
   ]
  },
  {
   "cell_type": "code",
   "execution_count": null,
   "id": "ba0b0f7a-2ef8-4378-a214-1ff72f7ce937",
   "metadata": {
    "tags": []
   },
   "outputs": [],
   "source": [
    "# Ignore warnings\n",
    "import warnings\n",
    "from astropy.units import UnitsWarning\n",
    "warnings.simplefilter(\"ignore\", category=UnitsWarning)"
   ]
  },
  {
   "cell_type": "code",
   "execution_count": null,
   "id": "df7fd1ae-9258-4cfe-8ab1-148cc5936b54",
   "metadata": {
    "tags": []
   },
   "outputs": [],
   "source": [
    "# Set up some plotting defaults:\n",
    "params = {'axes.labelsize': 28,\n",
    "          'font.size': 24,\n",
    "          'legend.fontsize': 14,\n",
    "          'xtick.major.width': 3,\n",
    "          'xtick.minor.width': 2,\n",
    "          'xtick.major.size': 12,\n",
    "          'xtick.minor.size': 6,\n",
    "          'xtick.direction': 'in',\n",
    "          'xtick.top': True,\n",
    "          'lines.linewidth': 3,\n",
    "          'axes.linewidth': 3,\n",
    "          'axes.labelweight': 3,\n",
    "          'axes.titleweight': 3,\n",
    "          'ytick.major.width': 3,\n",
    "          'ytick.minor.width': 2,\n",
    "          'ytick.major.size': 12,\n",
    "          'ytick.minor.size': 6,\n",
    "          'ytick.direction': 'in',\n",
    "          'ytick.right': True,\n",
    "          'figure.figsize': [8, 8],\n",
    "          'figure.facecolor': 'White'\n",
    "          }\n",
    "\n",
    "plt.rcParams.update(params)"
   ]
  },
  {
   "cell_type": "markdown",
   "id": "d658b745-c482-4517-b375-066fb296c73e",
   "metadata": {},
   "source": [
    "#### Getting ready to use the TAP to search for galaxies. Below we start by showing the available tables, we use \"dp02_dc2_catalogs\" in this project."
   ]
  },
  {
   "cell_type": "code",
   "execution_count": null,
   "id": "5a44c982-41d8-44d5-a18a-77e10dc6da97",
   "metadata": {
    "tags": []
   },
   "outputs": [],
   "source": [
    "# Get an instance of the TAP service\n",
    "service = get_tap_service(\"tap\")\n",
    "assert service is not None\n",
    "assert service.baseurl == \"https://data.lsst.cloud/api/tap\""
   ]
  },
  {
   "cell_type": "code",
   "execution_count": null,
   "id": "aa2d92ca-ed7c-4b19-a56b-8ab107e834be",
   "metadata": {
    "tags": []
   },
   "outputs": [],
   "source": [
    "# Query to find out what schemas are in the Rubin TAP_SCHEMA\n",
    "query = \"SELECT * FROM tap_schema.schemas\"\n",
    "\n",
    "# Execute the query\n",
    "results = service.search(query)\n",
    "\n",
    "# A TAP Results object is returned\n",
    "print(type(results))"
   ]
  },
  {
   "cell_type": "code",
   "execution_count": null,
   "id": "282567dc-31e3-49fe-ab94-3803d39f1c00",
   "metadata": {
    "tags": []
   },
   "outputs": [],
   "source": [
    "# Convert the results to an astropy table and display\n",
    "results = service.search(query).to_table()\n",
    "results"
   ]
  },
  {
   "cell_type": "markdown",
   "id": "4234ecc0-b75a-42a6-820e-9f627543c83a",
   "metadata": {},
   "source": [
    "#### **Here we set up and execute our TAP Query.** We first use SELECT to highlight the columns of data we want to manipulate, then we use FROM to indicate which catalog we are pulling the data from. In this project, we are querying bright, nearby galaxies, which we indiciate in the TAP Query by using WHERE and AND statements. Finally, we use ORDER to organize the data for analysis. \n",
    "\n",
    "#### In this project, we are looking for potential brightest cluster galaxies in the nearby universe. So we choose only bright (apparent magnitude m=11-17) and nearby (redshift z=0.01-0.1). We choose our cuts by analyzing a graph of magnitude versus redshift based on the full sample."
   ]
  },
  {
   "cell_type": "code",
   "execution_count": null,
   "id": "224c975a-6e20-452e-8d22-8c2e2d2395b4",
   "metadata": {
    "tags": []
   },
   "outputs": [],
   "source": [
    "# Setting up the query for galaxies at z~0.1, apparent magnitude between 11 and 17, and ordering these galaxies \n",
    "# by their flux to get the brightest ones at the top of the table\n",
    "query = \"SELECT id, ra, dec, mag_r, redshift, flux_g, flux_r, flux_i, flux_y, flux_z,\" \\\n",
    "        \" truth_type, is_variable \"\\\n",
    "        \" FROM dp02_dc2_catalogs.TruthSummary \" \\\n",
    "        \"WHERE mag_r < 17 \" \\\n",
    "        \"AND mag_r > 11 \" \\\n",
    "        \"AND redshift <= 0.1 \" \\\n",
    "        \"AND redshift >= 0.01 \" \\\n",
    "        \"AND truth_type = 1 \" \\\n",
    "        \"AND is_variable = 0 \" \\\n",
    "        \"ORDER by flux_r DESC\"\n",
    "print(query)"
   ]
  },
  {
   "cell_type": "code",
   "execution_count": null,
   "id": "d9afddea-09c2-48d1-a186-d7a9af5d1f1f",
   "metadata": {
    "tags": []
   },
   "outputs": [],
   "source": [
    "# Execute the query\n",
    "results = service.search(query)"
   ]
  },
  {
   "cell_type": "markdown",
   "id": "96054e68-8d6c-4003-bde6-ed34b1bf63f9",
   "metadata": {},
   "source": [
    "#### Once we have our results table (~2 minutes to generate), we can use pandas to manipulate the data for analysis. We begin by converting our data into a pandas dataframe."
   ]
  },
  {
   "cell_type": "code",
   "execution_count": null,
   "id": "640c512a-1321-4a92-b21b-1b931e750873",
   "metadata": {
    "tags": []
   },
   "outputs": [],
   "source": [
    "galaxies = service.search(query).to_table().to_pandas()"
   ]
  },
  {
   "cell_type": "markdown",
   "id": "ae6741bc-0b14-43d6-962a-9c6d45b2cf70",
   "metadata": {},
   "source": [
    "#### We've extracted the ra, dec, redshift, and flux_r of various galaxies. The head(#) function allows us to specify the amount of rows of data we want to access."
   ]
  },
  {
   "cell_type": "code",
   "execution_count": null,
   "id": "ee002310-2f4c-4107-ba97-4a464b3ffb4b",
   "metadata": {
    "tags": []
   },
   "outputs": [],
   "source": [
    "top3 = galaxies.head(3)\n",
    "top3"
   ]
  },
  {
   "cell_type": "markdown",
   "id": "6918f5cc-a168-4fd9-8756-0dbb0c8043f7",
   "metadata": {},
   "source": [
    "## B: Analyzing our galaxies\n",
    "#### ~40,000 galaxies were returned from the DP0 truth tables. To analyze this data, we create a few histograms to see the distrbutions. First, we create a histogram of redshifts. We queried galaxies with a redshift between 0.01 and 0.1. Try imagining the spread of the data before running the next cell."
   ]
  },
  {
   "cell_type": "markdown",
   "id": "2f1caf65-edbd-4ef4-94d6-0bbc43101cb7",
   "metadata": {},
   "source": [
    "#### Using the matplotlib package, we use the command plt.figure() to generate a figure for our histogram."
   ]
  },
  {
   "cell_type": "code",
   "execution_count": null,
   "id": "5b21231c-82fa-472c-835a-7a10e26c602b",
   "metadata": {
    "tags": []
   },
   "outputs": [],
   "source": [
    "fig=plt.figure()\n",
    "plt.hist(galaxies[\"redshift\"], bins=50)\n",
    "plt.xlabel(\"Redshift\")\n",
    "plt.ylabel(\"Count\")\n",
    "#plt.title(\"Redshift of 40465 Galaxies at >20 Apparent Magnitude\");\n",
    "plt.savefig('redshift-count.png',format='png', bbox_inches='tight', transparent=True)"
   ]
  },
  {
   "cell_type": "markdown",
   "id": "036e1b40-7ed0-4a0e-8888-e4d835e26646",
   "metadata": {},
   "source": [
    "#### We will now run the same procedure, this time to see what the spread of the apparent magnitudes (brightnesses) of our galaxies looks like."
   ]
  },
  {
   "cell_type": "code",
   "execution_count": null,
   "id": "447e7e89-1e65-4a1c-a31b-df9dd735f748",
   "metadata": {
    "tags": []
   },
   "outputs": [],
   "source": [
    "fig=plt.figure()\n",
    "plt.hist(galaxies[\"mag_r\"], bins=50)\n",
    "plt.xlabel(\"Apparent Magnitude\")\n",
    "plt.ylabel(\"Count\")\n",
    "\n",
    "#plt.title(\"Apparent Magnitude of 40465 Galaxies at <0.1 Redshift\");\n",
    "plt.savefig('appmag-count.png',format='png', bbox_inches='tight', transparent=True)"
   ]
  },
  {
   "cell_type": "markdown",
   "id": "999ede50-5cfd-46f1-987b-05f9c34b9d6b",
   "metadata": {},
   "source": [
    "#### For further analysis, we can create a scatter plot using another matplotlib package, scatter()."
   ]
  },
  {
   "cell_type": "code",
   "execution_count": null,
   "id": "0643d54f-56e7-41db-80d6-a4844a8328be",
   "metadata": {
    "tags": []
   },
   "outputs": [],
   "source": [
    "fig, ax = plt.subplots()\n",
    "plt.scatter(galaxies[\"redshift\"], galaxies[\"mag_r\"], marker='o')\n",
    "plt.xlabel(\"Redshift\")\n",
    "plt.ylabel(\"Apparent Magnitude\")\n",
    "ax.invert_yaxis()\n",
    "\n",
    "#plt.title(\"40465 Galaxies at <0.1 Redshift and >20 Apparent Magnitude\");\n",
    "fig.savefig('appmagvredshift-scatter.png',format='png', bbox_inches='tight', transparent=True)"
   ]
  },
  {
   "cell_type": "markdown",
   "id": "ea52385e-28dd-41e8-8292-434d41cccd12",
   "metadata": {},
   "source": [
    "#### The apparent magnitude of the galaxies can be converted to absolute magnitude using the galaxies' redshifts. The use of the pandas dataframe makes this manipulation fairly simple with the formula below."
   ]
  },
  {
   "cell_type": "code",
   "execution_count": null,
   "id": "f7caf557-0dbc-4913-928b-3768a72c9d8c",
   "metadata": {
    "tags": []
   },
   "outputs": [],
   "source": [
    "distance=(3e5*1e6*galaxies[\"redshift\"])/69.8 # pc\n",
    "distance"
   ]
  },
  {
   "cell_type": "code",
   "execution_count": null,
   "id": "c9d8a040-be5b-477d-96f0-4f753fe87deb",
   "metadata": {
    "tags": []
   },
   "outputs": [],
   "source": [
    "absmag=galaxies[\"mag_r\"]-5*np.log10(distance/10.0)"
   ]
  },
  {
   "cell_type": "code",
   "execution_count": null,
   "id": "5993f69d-5b98-4020-96b5-803538fb1be3",
   "metadata": {
    "tags": []
   },
   "outputs": [],
   "source": [
    "fig, ax = plt.subplots()\n",
    "plt.scatter(distance/1e6, absmag, marker='o')\n",
    "plt.xlabel(\"Distance [in Mpc]\")\n",
    "plt.ylabel(\"Absolute Magnitude\")\n",
    "ax.invert_yaxis()\n",
    "#plt.title(\"Absolute Magnitude in terms of Distance for 40465 Galaxies\");\n",
    "fig.savefig('absmagvredshift-scatter.png',format='png', bbox_inches='tight', transparent=True)"
   ]
  },
  {
   "cell_type": "markdown",
   "id": "d862a731-6f13-4139-8304-57521a0bf12f",
   "metadata": {},
   "source": [
    "# Part II: Tracing the Einstein Radius around the potential brightest cluster galaxy (BCG)"
   ]
  },
  {
   "cell_type": "markdown",
   "id": "008ffe02-4500-4dd9-b753-496a1c34bddc",
   "metadata": {},
   "source": [
    "#### We start by extracting relevant variables from our TAP Query pandas table to construct an image of the galaxy. The right ascension and declination let the Butler service know where to center the image. The redshift and flux in the r-band are needed to determine the angle size of the Einstein radius, which will be shown after we construct the image. Some discussion about the Einsgtein radius can be found on this web page.\n",
    "https://lweb.cfa.harvard.edu/~dfabricant/huchra/ay202/lectures/lecture12.pdfhttps://lweb.cfa.harvard.edu/~dfabricant/huchra/ay202/lectures/lecture12.pdf"
   ]
  },
  {
   "cell_type": "code",
   "execution_count": null,
   "id": "0515922e-0488-4a32-8610-2008cfee8c83",
   "metadata": {
    "tags": []
   },
   "outputs": [],
   "source": [
    "# Variables (CHANGE FOR EACH GALAXY)\n",
    "ra, dec = 58.052836,-34.460247\n",
    "redshift=0.017737\n",
    "rflux=66247800.0 #nJy\n",
    "gflux=41641400.0 #nJy\n",
    "magr=11.8471"
   ]
  },
  {
   "cell_type": "markdown",
   "id": "8867b45d-6e27-494e-8390-77df6e3900e5",
   "metadata": {},
   "source": [
    "## A: Creating a color image\n",
    "#### We begin by importing Butler and configuring it to the DP0.2 dataset."
   ]
  },
  {
   "cell_type": "code",
   "execution_count": null,
   "id": "afe99039-39b6-42ca-b266-159ba9b3b75b",
   "metadata": {
    "tags": []
   },
   "outputs": [],
   "source": [
    "import lsst\n",
    "from IPython.display import Markdown as md   \n",
    "from rubin_jupyter_utils.lab.notebook import get_tap_service, retrieve_query    \n",
    "#to get the catalog service\n",
    "service = lsst.rsp.get_tap_service(\"tap\")\n",
    "#to get the image service\n",
    "import lsst.daf.butler as dafButler\n",
    "butler = dafButler.Butler('dp02', collections='2.2i/runs/DP0.2')"
   ]
  },
  {
   "cell_type": "code",
   "execution_count": null,
   "id": "24340597-1911-4d25-966d-2ceadd101286",
   "metadata": {
    "tags": []
   },
   "outputs": [],
   "source": [
    "#Run this after making an image, to help from running out of space.\n",
    "import warnings                      # imports the warnings library\n",
    "import gc                            # imports python's garbage collector\n",
    "#remove large amounts of data being stored.\n",
    "def remove_figure(fig):\n",
    "    \"\"\"Remove a figure to reduce memory footprint. \"\"\"\n",
    "    # get the axes and clear their images\n",
    "    for ax in fig.get_axes():\n",
    "        for im in ax.get_images():\n",
    "            im.remove()\n",
    "    fig.clf()      # clear the figure\n",
    "    plt.close(fig) # close the figure\n",
    "    gc.collect()   # call the garbage collector"
   ]
  },
  {
   "cell_type": "markdown",
   "id": "5053b61d-474f-4ff7-978c-87669802fd60",
   "metadata": {},
   "source": [
    "#### Now, we begin setting parameters for our image, which superimposes data from the r, g, and b bands to create a color image. "
   ]
  },
  {
   "cell_type": "code",
   "execution_count": null,
   "id": "1f81ea01-cf9c-46e1-a6c6-137b47f6c3d2",
   "metadata": {
    "tags": []
   },
   "outputs": [],
   "source": [
    "import lsst.geom as geom\n",
    "def cutout_coadd(butler, ra, dec, band='r', datasetType='deepCoadd',\n",
    "                 skymap=None, cutoutSideLength=51, **kwargs):\n",
    "    \"\"\"\n",
    "    Produce a cutout from a coadd at the given ra, dec position.\n",
    "\n",
    "    Adapted from DC2 tutorial notebook by Michael Wood-Vasey.\n",
    "\n",
    "    Parameters\n",
    "    ----------\n",
    "    butler: lsst.daf.persistence.Butler\n",
    "        Servant providing access to a data repository\n",
    "    ra: float\n",
    "        Right ascension of the center of the cutout, in degrees\n",
    "    dec: float\n",
    "        Declination of the center of the cutout, in degrees\n",
    "    band: string\n",
    "        Filter of the image to load\n",
    "    datasetType: string ['deepCoadd']\n",
    "        Which type of coadd to load.  Doesn't support 'calexp'\n",
    "    skymap: lsst.afw.skyMap.SkyMap [optional]\n",
    "        Pass in to avoid the Butler read.  Useful if you have lots of them.\n",
    "    cutoutSideLength: float [optional]\n",
    "        Size of the cutout region in pixels.\n",
    "\n",
    "    Returns\n",
    "    -------\n",
    "    MaskedImage\n",
    "    \"\"\"\n",
    "    radec = geom.SpherePoint(ra, dec, geom.degrees)\n",
    "    cutoutSize = geom.ExtentI(cutoutSideLength, cutoutSideLength)\n",
    "\n",
    "    if skymap is None:\n",
    "        skymap = butler.get(\"skyMap\")\n",
    "\n",
    "    # Look up the tract, patch for the RA, Dec\n",
    "    tractInfo = skymap.findTract(radec)\n",
    "    patchInfo = tractInfo.findPatch(radec)\n",
    "    xy = geom.PointI(tractInfo.getWcs().skyToPixel(radec))\n",
    "    bbox = geom.BoxI(xy - cutoutSize // 2, cutoutSize)\n",
    "    patch = tractInfo.getSequentialPatchIndex(patchInfo)\n",
    "\n",
    "    coaddId = {'tract': tractInfo.getId(), 'patch': patch, 'band': band}\n",
    "    parameters = {'bbox': bbox}\n",
    "\n",
    "    cutout_image = butler.get(datasetType, parameters=parameters,\n",
    "                               dataId=coaddId)\n",
    "\n",
    "    return cutout_image"
   ]
  },
  {
   "cell_type": "markdown",
   "id": "93561e96-aa8c-4837-8f8f-09587f99de34",
   "metadata": {},
   "source": [
    "#### Depending on the image size, the \"cutoutSideLength\" parameter may need to be scaled up or down. Generally, 1001 is a good place to start."
   ]
  },
  {
   "cell_type": "code",
   "execution_count": null,
   "id": "185804e2-00cf-409a-97e4-02f44723ff42",
   "metadata": {
    "tags": []
   },
   "outputs": [],
   "source": [
    "# Select a position at roughly the center of the galaxy cluster:\n",
    "cutout_image = cutout_coadd(butler, ra, dec, datasetType='deepCoadd',\n",
    "                            cutoutSideLength=1001)\n",
    "print(\"The size of the cutout in pixels is: \", cutout_image.image.array.shape)"
   ]
  },
  {
   "cell_type": "code",
   "execution_count": null,
   "id": "ff54d409-6661-4af7-8b61-2544669350bb",
   "metadata": {
    "tags": []
   },
   "outputs": [],
   "source": [
    "# Make a color figure\n",
    "from astropy.visualization import make_lupton_rgb"
   ]
  },
  {
   "cell_type": "markdown",
   "id": "e8a10331-74e9-4f15-8cb2-f0d986fe3523",
   "metadata": {},
   "source": [
    "#### The following procedure is pulled from tutorial 6a https://github.com/rubin-dp0/tutorial-notebooks/blob/main/06a_Interactive_Image_Visualization.ipynbhttps://github.com/rubin-dp0/tutorial-notebooks/blob/main/06a_Interactive_Image_Visualization.ipynb"
   ]
  },
  {
   "cell_type": "code",
   "execution_count": null,
   "id": "e5979fd4-6f9d-4a29-bee2-a5cb14276834",
   "metadata": {
    "tags": []
   },
   "outputs": [],
   "source": [
    "def createRGB(image, bgr=\"gri\", stretch=1, Q=10, scale=None):\n",
    "    \"\"\"\n",
    "    Create an RGB color composite image.\n",
    "\n",
    "    Parameters\n",
    "    ----------\n",
    "    image : `MultibandExposure`\n",
    "        `MultibandExposure` to display.\n",
    "    bgr : sequence\n",
    "        A 3-element sequence of filter names (i.e., keys of the exps dict)\n",
    "        indicating what band to use for each channel. If `image` only has\n",
    "        three filters then this parameter is ignored and the filters\n",
    "        in the image are used.\n",
    "    stretch: int\n",
    "        The linear stretch of the image.\n",
    "    Q: int\n",
    "        The Asinh softening parameter.\n",
    "    scale: list of 3 floats, each less than 1. (default: None)\n",
    "        Re-scales the RGB channels.\n",
    "\n",
    "    Returns\n",
    "    -------\n",
    "    rgb: ndarray\n",
    "        RGB (integer, 8-bits per channel) colour image as an NxNx3 numpy array.\n",
    "    \"\"\"\n",
    "\n",
    "    # If the image only has 3 bands, reverse the order of the bands\n",
    "    #   to produce the RGB image\n",
    "    if len(image) == 3:\n",
    "        bgr = image.filters\n",
    "\n",
    "    # Extract the primary image component of each Exposure with the\n",
    "    #   .image property, and use .array to get a NumPy array view.\n",
    "\n",
    "    if scale is None:\n",
    "        r_im = image[bgr[2]].array  # numpy array for the r channel\n",
    "        g_im = image[bgr[1]].array  # numpy array for the g channel\n",
    "        b_im = image[bgr[0]].array  # numpy array for the b channel\n",
    "    else:\n",
    "        # manually re-scaling the images here\n",
    "        r_im = image[bgr[2]].array * scale[0]\n",
    "        g_im = image[bgr[1]].array * scale[1]\n",
    "        b_im = image[bgr[0]].array * scale[2]\n",
    "\n",
    "    rgb = make_lupton_rgb(image_r=r_im,\n",
    "                          image_g=g_im,\n",
    "                          image_b=b_im,\n",
    "                          stretch=stretch, Q=Q)\n",
    "    # \"stretch\" and \"Q\" are parameters to stretch and scale the pixel values\n",
    "\n",
    "    return rgb"
   ]
  },
  {
   "cell_type": "code",
   "execution_count": null,
   "id": "71ddf4e7-ca73-431c-94df-f2f053d0e084",
   "metadata": {
    "tags": []
   },
   "outputs": [],
   "source": [
    "from lsst.afw.image import MultibandExposure\n",
    "\n",
    "cutout_image_g = cutout_coadd(butler, ra, dec, band='g',\n",
    "                              datasetType='deepCoadd', cutoutSideLength=1001)\n",
    "cutout_image_r = cutout_coadd(butler, ra, dec, band='r',\n",
    "                              datasetType='deepCoadd', cutoutSideLength=1001)\n",
    "cutout_image_i = cutout_coadd(butler, ra, dec, band='i',\n",
    "                              datasetType='deepCoadd', cutoutSideLength=1001)\n",
    "\n",
    "# Multiband exposures need a list of images and filters\n",
    "coadds = [cutout_image_g, cutout_image_r, cutout_image_i]\n",
    "coadds = MultibandExposure.fromExposures(['g', 'r', 'i'], coadds)"
   ]
  },
  {
   "cell_type": "code",
   "execution_count": null,
   "id": "e2249d16-6c7f-47f3-8bce-3199a96be434",
   "metadata": {
    "tags": []
   },
   "outputs": [],
   "source": [
    "#make a figure with the afw image\n",
    "fig=plt.figure()\n",
    "rgb_scaled = createRGB(coadds.image, bgr=['g', 'r', 'i'],\n",
    "                       scale=[0.6, 0.7, 1.0])\n",
    "plt.imshow(rgb_scaled, origin='lower')\n",
    "#plt.savefig('lens1.png')"
   ]
  },
  {
   "cell_type": "markdown",
   "id": "d4d50a05-f18d-4bb3-ae51-dc98d7dcc235",
   "metadata": {},
   "source": [
    "## B: Determining the Einstein radius\n",
    "#### Now that we've created our image, we can begin calculating the angular size of the Einstein radius for our galaxy. First, we need to import some constants. "
   ]
  },
  {
   "cell_type": "code",
   "execution_count": null,
   "id": "80ebe431-78d6-4075-ab4d-28e9f715e0c6",
   "metadata": {
    "tags": []
   },
   "outputs": [],
   "source": [
    "# Constants\n",
    "G=6.6743e-11; #m3 kg-1 s-2\n",
    "c=299792458; #m/s\n",
    "ckm=2.99792458e5; #km/s\n",
    "Msun=1.989e30; # kg\n",
    "Lsun=3.846e26; #watts"
   ]
  },
  {
   "cell_type": "markdown",
   "id": "fffe3122-192d-42d5-859d-20eadc1dcade",
   "metadata": {},
   "source": [
    "#### One piece of information we need to determine this radius is the average distance from the source to the lensed galaxy. From this paper's Figure 3 (https://academic.oup.com/mnras/article/343/2/639/1042160) I determined an average redshift that I called \"ofekavg\". We then use this redshift to determine Dls, the distance from the lens to the source. "
   ]
  },
  {
   "cell_type": "code",
   "execution_count": null,
   "id": "f3fb1906-9d28-4172-9b34-d89309717ad9",
   "metadata": {
    "tags": []
   },
   "outputs": [],
   "source": [
    "from itertools import pairwise\n",
    "ofekZ=[0.94,0.69,1.56,0.93,1.34,0.41,1.38,0.83,1.65,0.31,1.24,0.25,1.41,0.36,1.53,0.60,1.72,0.31,1.02,0.44,1.85,0.72,1.17,0.11,1.59,0.41,1.39,0.63,1.52,0.68,1.74,0.25,2.03,0.50]\n",
    "delZ=[x-y for (x, y) in pairwise(ofekZ)]\n",
    "ofekavg=sum(delZ[::2])/len(delZ[::2])\n",
    "ofekavg"
   ]
  },
  {
   "cell_type": "code",
   "execution_count": null,
   "id": "9a6a0e92-2c72-4b2e-adc5-b60fb1e6172c",
   "metadata": {
    "tags": []
   },
   "outputs": [],
   "source": [
    "#D=DLS/DS*DL where Dls=distance from lens to source, \n",
    "#Dl= distance to source, Ds=distance to lensed galaxy\n",
    "Dl=(ckm*redshift)/69.8; #Mpc\n",
    "Dls=(ckm*ofekavg)/69.8\n",
    "Ds=Dl+Dls\n",
    "Dls"
   ]
  },
  {
   "cell_type": "code",
   "execution_count": null,
   "id": "15fe3426-1132-48a4-bf51-a64c0af0f849",
   "metadata": {
    "tags": []
   },
   "outputs": [],
   "source": [
    "# convert distances to meters\n",
    "Dl_m=Dl*3.086e22 #m\n",
    "Ds_m=Ds*3.086e22\n",
    "Dls_m=Dls*3.086e22"
   ]
  },
  {
   "cell_type": "markdown",
   "id": "c480789c-5665-4354-95b1-25f9522dd114",
   "metadata": {},
   "source": [
    "#### Now that we've determined our distances, we need to estimate the mass of the galaxy that we just imaged. Using the flux in the r-band and the g-band from the truth table as well as the distance to the source from the location of observation (Earth), we first determine the galaxy's stellar mass using the Erik Bell technique (https://arxiv.org/abs/astro-ph/0302543). "
   ]
  },
  {
   "cell_type": "code",
   "execution_count": null,
   "id": "2dd2a401-16e4-47eb-9701-ddc38bfb0b3c",
   "metadata": {
    "tags": []
   },
   "outputs": [],
   "source": [
    "# Erik Bell technique using G-R log10(M/L)=a+b*color\n",
    "#r band = 552 to 691 nm, g band 400 to 552 nm\n",
    "#converting fluxes to magnitudes\n",
    "rmag=-2.5*np.log10(rflux)+31.4\n",
    "gmag=-2.5*np.log10(gflux)+31.4\n",
    "\n",
    "gr=gmag-rmag\n",
    "\n",
    "a_g=-0.499\n",
    "b_g=1.519\n",
    "a_r=-0.306\n",
    "b_r=1.097\n",
    "\n",
    "Lgal=4.0*np.pi*(Dl_m)*(Dl_m)*(rflux*1e-9*1e-26*((c/552e-9)-(c/691e-9))) # Watts\n",
    "\n",
    "MLrat=10**((a_r)+(b_r)*gr)\n",
    "Mgal=MLrat*Lgal*(Msun/Lsun)\n",
    "Mgalsol=Mgal/Msun\n",
    "print(\"{:.3e}\".format(Mgalsol))"
   ]
  },
  {
   "cell_type": "markdown",
   "id": "fa2dc8d6-bd5c-478c-ac7f-0a447242e04b",
   "metadata": {},
   "source": [
    "#### We can relate the stellar mass to the halo mass using a power-law rule based on redshift. These constants are for redshift 0<z<0.2 (https://arxiv.org/pdf/2001.02230.pdf)"
   ]
  },
  {
   "cell_type": "code",
   "execution_count": null,
   "id": "244185d2-68d2-4d25-9a0c-116ea7afdff8",
   "metadata": {
    "tags": []
   },
   "outputs": [],
   "source": [
    "#relate stellar mass to cluster mass\n",
    "#using constants for z=0.0-0.02\n",
    "A=0.0465#-0.0015\n",
    "M_A=10**11.77#-0.03\n",
    "beta=1.0#-0.05\n",
    "gamma=0.702#-0.006\n",
    "\n",
    "Mhalo=np.linspace(1e11,1e16,100000)\n",
    "#Mhalo=[1e10,1e11,1e12,1e13,1e14,1e15]\n",
    "Mhalo_A=Mhalo/M_A\n",
    "\n",
    "Mstar=Mhalo*(2*A*(Mhalo_A**-beta+Mhalo_A**gamma)**-1)\n",
    "\n"
   ]
  },
  {
   "cell_type": "code",
   "execution_count": null,
   "id": "1db6edba-7d5a-4e88-8922-14ebc12670de",
   "metadata": {
    "tags": []
   },
   "outputs": [],
   "source": [
    "logx=np.log10(Mhalo)\n",
    "logy=np.log10(Mstar)\n",
    "\n",
    "fig, ax = plt.subplots()\n",
    "plt.plot(logx,logy,'r')\n",
    "plt.ylabel(\"log(Mstar/Msun)\")\n",
    "plt.xlabel(\"log(Mhalo/Msun)\")\n",
    "ax.invert_xaxis()\n",
    "plt.show()\n",
    "fig.savefig('halo-stellar-mass.png',format='png', bbox_inches='tight')"
   ]
  },
  {
   "cell_type": "markdown",
   "id": "c665750b-9e1e-49ac-b8d5-03a217ab9f3a",
   "metadata": {
    "tags": []
   },
   "source": [
    "#### From our distances and the galaxy's halo mass, we compute the Einstein radius in arcseconds from the observed angular value."
   ]
  },
  {
   "cell_type": "code",
   "execution_count": null,
   "id": "a343ab50-5be7-4008-b7aa-47de45e3fb28",
   "metadata": {
    "tags": []
   },
   "outputs": [],
   "source": [
    "Mhalo=2.308e12*Msun\n",
    "distance=Dls_m/(Ds_m*Dl_m) \n",
    "\n",
    "thetE=np.sqrt(((4*G*Mhalo/(c*c))*distance)) # radians \n",
    "thetEdeg=thetE*(180/np.pi) # degrees\n",
    "thetEsec=thetEdeg*3600 # arcseconds\n",
    "thetEsec"
   ]
  },
  {
   "cell_type": "markdown",
   "id": "ba5c3151-7d52-4d0f-ba9e-0ed9cc3bea62",
   "metadata": {},
   "source": [
    "#### We convert our distance in arcseconds to pixels so that we can superimpose our circle onto our image."
   ]
  },
  {
   "cell_type": "code",
   "execution_count": null,
   "id": "63bd2b10-dc48-4a54-8d17-d9c6e434587e",
   "metadata": {
    "tags": []
   },
   "outputs": [],
   "source": [
    "# 1 pixel is 0.2 arcsecs across\n",
    "# typical radius range is 3 to 30 ''\n",
    "radEpx=thetEsec/0.2 #pixels\n",
    "radEpx"
   ]
  },
  {
   "cell_type": "markdown",
   "id": "eeef67a1-1aa3-4e64-b190-5be04ca65c38",
   "metadata": {},
   "source": [
    "#### Finally, the plot we've been waiting for..."
   ]
  },
  {
   "cell_type": "code",
   "execution_count": null,
   "id": "feeddd4d-ef3f-4b3a-b766-066fba02f318",
   "metadata": {
    "tags": []
   },
   "outputs": [],
   "source": [
    "circle = plt.Circle((499, 499), radEpx, color='g', fill=False)\n",
    "fig=plt.figure()\n",
    "\n",
    "ax = plt.gca()\n",
    "ax.cla() # clear things for fresh plot\n",
    "\n",
    "ax.imshow(rgb_scaled, origin='lower')\n",
    "    \n",
    "ax.add_patch(circle)\n",
    "fig.savefig('z=0.1-lens1.png')\n",
    "## lens small, compare w published lens calculations of similar redshifts (NASA/ADS 'einstein radius nearby universe')"
   ]
  },
  {
   "cell_type": "code",
   "execution_count": null,
   "id": "e6550dd9-243b-4973-93e2-6e77d1458c25",
   "metadata": {},
   "outputs": [],
   "source": []
  }
 ],
 "metadata": {
  "kernelspec": {
   "display_name": "LSST",
   "language": "python",
   "name": "lsst"
  },
  "language_info": {
   "codemirror_mode": {
    "name": "ipython",
    "version": 3
   },
   "file_extension": ".py",
   "mimetype": "text/x-python",
   "name": "python",
   "nbconvert_exporter": "python",
   "pygments_lexer": "ipython3",
   "version": "3.10.10"
  }
 },
 "nbformat": 4,
 "nbformat_minor": 5
}
