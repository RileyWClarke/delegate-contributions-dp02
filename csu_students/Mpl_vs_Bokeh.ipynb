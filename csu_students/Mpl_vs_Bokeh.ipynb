{
 "cells": [
  {
   "cell_type": "markdown",
   "id": "5fd82a56-616e-4eaa-91b6-26fff3c3ccf4",
   "metadata": {},
   "source": [
    "## A Comparison of plotting with Matplotlib v Bokeh"
   ]
  },
  {
   "cell_type": "markdown",
   "id": "daf7cf52-796c-48b9-8839-cc9cbdd76706",
   "metadata": {},
   "source": [
    "Description:\n",
    "\n",
    "1. We extract Galaxies from the object catalogues using the TAP  \n",
    "\n",
    "2. We explore creating colo-magnitude diagrams for galaxies, with Matplotlib and Bokeh in order understand different functionalities \n",
    "\n",
    "2. We fit a line to the galaxy main sequence \n",
    "\n",
    "3. We add annotations to the plots in section 2.1 <br>\n",
    "\n",
    "Contact author: Vicente Puga <br>\n",
    "Last verified to run: 2023-04-02 <br>\n",
    "Targeted learning level: beginner <br>\n",
    "\n",
    "Credit: This notebook uses code from DP0 Tutorials 1 and 2"
   ]
  },
  {
   "cell_type": "markdown",
   "id": "4d268356-3388-488a-a030-82ec546054ad",
   "metadata": {},
   "source": [
    "## Introduction \n",
    "Matplotlib and Bokeh are both methods of plotting and for graphing data on Python. In this notebook the qualities of each will be discussed. This will allow for a better understanding of how to use these two methods, as well as each is a better fit for creating color-color and color-magnitude diagrams. \n",
    "\n",
    "This notebook will also go into adding a line of best fit to a color-magnitude plot of a galaxy cluster. This galaxy cluster will have what is known as a red sequence. Which, in short, is a a linear feature that stands out in the color-magnitude plot for galaxies in the same physical cluster. A line of best fit will be introduced to these plots to better understand and quantify this trend. Annotations will be included to the plots to add clarity to help make the main ideas of plots clearer to the reader."
   ]
  },
  {
   "cell_type": "markdown",
   "id": "e96c9402-6192-416c-8686-fa9a54085158",
   "metadata": {},
   "source": [
    "## 1. Extracting Data\n",
    "Here you will be importing the packages required to use Bokeh and Matplotlib. Important data constants will also be imported to be able to use and manipulate the lsst data. "
   ]
  },
  {
   "cell_type": "markdown",
   "id": "ab34618f-f418-4f21-a8da-696af8af647f",
   "metadata": {},
   "source": [
    "The most important of the important packages below Matplotlib. This package will allow us to make our color-color and color-magnitude diagrams. The packages involving pandas are used for managing data, such as creating tables etc. Astropy will help us use astronomical values units which will be important when describing the specific data we want from the query. Numpy is what will let us do calculations, which will come into play when finding flux values from magnitude. "
   ]
  },
  {
   "cell_type": "code",
   "execution_count": null,
   "id": "28a8527c-7e04-4b13-8af6-8c2ffdf68f10",
   "metadata": {},
   "outputs": [],
   "source": [
    "# Import general python packages\n",
    "import time\n",
    "import gc\n",
    "import numpy as np\n",
    "import matplotlib.pyplot as plt\n",
    "import pandas\n",
    "from pandas.testing import assert_frame_equal\n",
    "from astropy import units as u\n",
    "from astropy.coordinates import SkyCoord\n",
    "\n"
   ]
  },
  {
   "cell_type": "markdown",
   "id": "ddb60370-9493-4159-a6df-334e26f8a9fb",
   "metadata": {},
   "source": [
    "Below, Bokeh and its complimentary packages will be imported to allow us full use of its plotting features."
   ]
  },
  {
   "cell_type": "code",
   "execution_count": null,
   "id": "3af1fb61-e7a9-47cd-af01-2b6152356fe5",
   "metadata": {},
   "outputs": [],
   "source": [
    "# Bokeh and holoviews for interactive visualization\n",
    "import bokeh\n",
    "from bokeh.io import output_file, output_notebook, show\n",
    "from bokeh.layouts import gridplot\n",
    "from bokeh.models import ColumnDataSource, CDSView, GroupFilter, HoverTool\n",
    "from bokeh.plotting import figure\n",
    "from bokeh.transform import factor_cmap\n",
    "import holoviews as hv\n",
    "\n",
    "\n"
   ]
  },
  {
   "cell_type": "markdown",
   "id": "b79b0c86-6781-473c-9fa5-808fcb842c96",
   "metadata": {},
   "source": [
    "This cell imports lsst data packages which we can use to call the data we need for plotting. "
   ]
  },
  {
   "cell_type": "code",
   "execution_count": null,
   "id": "7a8cd2ba-dfa1-493f-8811-5648c5855e8b",
   "metadata": {},
   "outputs": [],
   "source": [
    "# Import the Rubin TAP service utilities\n",
    "from lsst.rsp import get_tap_service, retrieve_query\n",
    "\n",
    "# To ignore some kinds of warnings\n",
    "import warnings\n",
    "from astropy.units import UnitsWarning"
   ]
  },
  {
   "cell_type": "markdown",
   "id": "a66711e4-c8bb-4c1a-b6eb-e2a3fc8dc85b",
   "metadata": {},
   "source": [
    "In this cell, some adjustment is done to the data displayed with pandas. "
   ]
  },
  {
   "cell_type": "code",
   "execution_count": null,
   "id": "3dc1ef29-5709-4943-b6dd-09f093c19dc6",
   "metadata": {
    "tags": []
   },
   "outputs": [],
   "source": [
    "pandas.set_option('display.max_rows', 20) #Changes the number of rows displayed\n",
    "\n",
    "output_notebook() #output will be inline in with the notebook output cell\n",
    "\n",
    "warnings.simplefilter(\"ignore\", category=UnitsWarning) #stops warnings from interrupting code"
   ]
  },
  {
   "cell_type": "markdown",
   "id": "4122219e-a497-4810-a2d8-2a0e5087bcb4",
   "metadata": {},
   "source": [
    "The cell below gives us the ability to compare the data from the query regardless of the order it is returned in. The `set_index` is used to reset incremental index"
   ]
  },
  {
   "cell_type": "code",
   "execution_count": null,
   "id": "803800f4-e2a6-4dc5-88e6-bcf34e99502c",
   "metadata": {},
   "outputs": [],
   "source": [
    "def sort_dataframe(df, sort_key='objectId'):\n",
    "    df = df.sort_values(sort_key)\n",
    "    df.set_index(np.array(range(len(df))), inplace=True)\n",
    "    return df"
   ]
  },
  {
   "cell_type": "code",
   "execution_count": null,
   "id": "7d0939c8-2ab0-4a11-8904-caa5512b3e7f",
   "metadata": {},
   "outputs": [],
   "source": [
    "service = get_tap_service()\n",
    "assert service is not None\n",
    "assert service.baseurl == \"https://data.lsst.cloud/api/tap\""
   ]
  },
  {
   "cell_type": "markdown",
   "id": "ca1c50ab-377a-4217-b753-3756a9dd1bf6",
   "metadata": {},
   "source": [
    "Before we search from the database we need to set constants that specify the parameters of our search. Defining these constants makes it easier to code our search from the query. This will also help if the search parameters need to be changed, instead of going into the cell with the search code and changing each instance these values appear we can simply change the definitions of these constants. "
   ]
  },
  {
   "cell_type": "code",
   "execution_count": null,
   "id": "40a7a26f-084e-4b60-8c80-d2bc62bdbb80",
   "metadata": {
    "tags": []
   },
   "outputs": [],
   "source": [
    "center_coords = SkyCoord(62, -37, frame='icrs', unit='deg') #set the coordinates we want to center our search around\n",
    "search_radius = 0.5*u.deg  #the radius of the search based on the coordintes chosen\n",
    "\n",
    "max_rec = 5 #maximum records to return\n",
    "\n",
    "Mag_Min = 23.0 #The maximum magnitude of objects we want from our search\n",
    "Mag_Max = 16.0 #The minimum magnitude of objects we want from our search\n",
    "\n",
    "print(center_coords)\n",
    "print(search_radius)\n"
   ]
  },
  {
   "cell_type": "markdown",
   "id": "12c293d7-e77c-4c96-a6d7-76413d944792",
   "metadata": {},
   "source": [
    "The search query will also need the center coords in the form of a string, so we can define those here"
   ]
  },
  {
   "cell_type": "code",
   "execution_count": null,
   "id": "53818e7f-56ab-4b02-bf3b-14477a0398b1",
   "metadata": {
    "tags": []
   },
   "outputs": [],
   "source": [
    "use_center_coords = \"62, -37\" \n",
    "use_radius = \"0.5\""
   ]
  },
  {
   "cell_type": "markdown",
   "id": "009271a5-a56b-4462-b2a1-e04a6d008982",
   "metadata": {},
   "source": [
    "The magnitude scale defines larger values as dimmer objects and smaller values as brighter objects. Flux however works as one would expect, large values are brighter and smaller values are dimmer. Sometimes instead of using a range of magnitudes we can use a range of fluxes to describe our search. Here we do just that by using the conversion equation between magnitude and flux. The maximum and minimum flux values will be used in the search, however the same search could also be done with the previously defined `Mag_Min` and `Mag_Max`. "
   ]
  },
  {
   "cell_type": "code",
   "execution_count": null,
   "id": "ece51ddd-6f69-49e6-a020-7a71a7b8c7f4",
   "metadata": {
    "tags": []
   },
   "outputs": [],
   "source": [
    "Max_Flux = 10**((Mag_Max-31.4)/-2.5)\n",
    "Min_Flux = 10**((Mag_Min-31.4)/-2.5)\n",
    "\n",
    "print(\"Min Flux is, \", Min_Flux)\n",
    "print(\"Max Flux is, \", Max_Flux)"
   ]
  },
  {
   "cell_type": "markdown",
   "id": "b56b1027-0db6-4993-b956-985f6b698d40",
   "metadata": {},
   "source": [
    "This cell contains the code used to access data with query. All the constants defined before will be used here to extract the specific objects that meet our criteria. At the end of the code the line reading `results_table` places everything in a table that will let us easily access the desired values needed to form our plots. (This cell might take several minutes to run)"
   ]
  },
  {
   "cell_type": "code",
   "execution_count": null,
   "id": "fa31b314-4477-496b-8e21-7e8607b85ab6",
   "metadata": {
    "tags": []
   },
   "outputs": [],
   "source": [
    "results = service.search(\"SELECT objectId, detect_isPrimary, \" \n",
    "        \"coord_ra AS ra, coord_dec AS dec, \"\n",
    "        \"scisql_nanojanskyToAbMag(g_cModelFlux) AS mag_g_cModel, \"\n",
    "        \"scisql_nanojanskyToAbMag(r_cModelFlux) AS mag_r_cModel, \"\n",
    "        \"scisql_nanojanskyToAbMag(i_cModelFlux) AS mag_i_cModel, \"\n",
    "        \"scisql_nanojanskyToAbMag(u_cModelFlux) AS mag_u_cModel, \"\n",
    "        \"r_extendedness \"\n",
    "        \"FROM dp02_dc2_catalogs.Object \"\n",
    "        \"WHERE CONTAINS(POINT('ICRS', coord_ra, coord_dec), \" \n",
    "        \"CIRCLE('ICRS', \" + use_center_coords + \", \" + use_radius + \")) = 1 \"\n",
    "        \"AND detect_isPrimary = 1 \"\n",
    "        \"AND g_cModelFlux >\" + str(Min_Flux) + \n",
    "        \"AND g_cModelFlux <\" + str(Max_Flux) +\n",
    "        \"AND r_cModelFlux >\" + str(Min_Flux) +\n",
    "        \"AND r_cModelFlux <\" + str(Max_Flux) +\n",
    "        \"AND i_cModelFlux >\" + str(Min_Flux) +\n",
    "        \"AND i_cModelFlux <\" + str(Max_Flux) +\n",
    "        \"AND u_cModelFlux >\" + str(Min_Flux) +\n",
    "        \"AND u_cModelFlux <\" + str(Max_Flux) +\n",
    "        \"AND r_extendedness IS NOT NULL \")\n",
    "\n",
    "results_table = results.to_table().to_pandas()\n",
    "\n"
   ]
  },
  {
   "cell_type": "code",
   "execution_count": null,
   "id": "e7410eef-8e2a-4b0a-97cd-78ee44332645",
   "metadata": {
    "tags": []
   },
   "outputs": [],
   "source": [
    "results_table"
   ]
  },
  {
   "cell_type": "markdown",
   "id": "508db9b0-aa1e-47c0-8088-aa9b852fbe92",
   "metadata": {},
   "source": [
    "## 2. Using Matplotlib to plot\n",
    "Here Matplotlib is used to plot a color-color diagram and a color-magnitude diagram. Annotations are added as needed to convey the information in a more precise way. We will also manipulate data to get different plots and see how much that can complicate the code. "
   ]
  },
  {
   "cell_type": "markdown",
   "id": "7706ad64-3bec-43fc-844c-a573030080c1",
   "metadata": {},
   "source": [
    "First,data is called and put into a table where it can be viewed before converting into a plot. However, this time the table will only contain objects which are stars. This is done by setting the extendedness equal to 0, since an object with an extendedness value of zero measn the object is a point source; a star. "
   ]
  },
  {
   "cell_type": "code",
   "execution_count": null,
   "id": "9aee18be-4ff9-4b70-9f48-0370287384ca",
   "metadata": {
    "tags": []
   },
   "outputs": [],
   "source": [
    "stars=results_table[results_table['r_extendedness']==0]\n",
    "stars"
   ]
  },
  {
   "cell_type": "markdown",
   "id": "b56ddbcf-d30d-4829-94a0-d2ed7aad74b2",
   "metadata": {},
   "source": [
    "Now we will plot stars and galaxies superimposed on the same plot. There is not feature on Matplotlib to plot both stars and galaxies at the same time in different colors or distinguishig symbols. So to accomplish this we use the same code twice to plot but distinguish between stars and galaxies, ie. plotting galaxies in one color then plotting again with stars as another color. This gives the result below. "
   ]
  },
  {
   "cell_type": "code",
   "execution_count": null,
   "id": "7bcd729a-799d-483a-8bc4-574f5f6934ac",
   "metadata": {
    "tags": []
   },
   "outputs": [],
   "source": [
    "#Here we are naming certain columns from the table variables that are easier to code with\n",
    "data = {'imag': results_table['mag_i_cModel'], \n",
    "        'rmag': results_table['mag_r_cModel']}\n",
    "        \n",
    "data['rmi'] = data['rmag'] - data['imag']\n",
    "\n",
    "plt.scatter('rmag', 'rmi', s=6, color='blue', data=data)\n",
    "plt.title('Colour-Magnitude Diagram')\n",
    "\n",
    "#This sets axis range\n",
    "plt.xlim(23.2, 15.7)\n",
    "plt.xlabel('r')\n",
    "plt.ylabel('r-i')\n",
    "plt.grid(True)\n",
    "\n",
    "#overlaying stars onto galaxies\n",
    "data = {'imag1': stars['mag_i_cModel'], \n",
    "        'rmag1': stars['mag_r_cModel']}\n",
    "        \n",
    "data['rmi1'] = data['rmag1'] - data['imag1']\n",
    "\n",
    "plt.scatter('rmag1', 'rmi1', s=6, color='green', data=data)\n",
    "\n",
    "#Creating a legend to identify each\n",
    "plt.legend(['Galaxies', 'Stars']);\n",
    "\n",
    "plt.show()"
   ]
  },
  {
   "cell_type": "markdown",
   "id": "f07374a7-fbd1-4a86-a423-21326981631f",
   "metadata": {
    "execution": {
     "iopub.execute_input": "2023-02-22T05:09:29.546077Z",
     "iopub.status.busy": "2023-02-22T05:09:29.545255Z",
     "iopub.status.idle": "2023-02-22T05:09:29.549503Z",
     "shell.execute_reply": "2023-02-22T05:09:29.548917Z",
     "shell.execute_reply.started": "2023-02-22T05:09:29.546053Z"
    },
    "tags": []
   },
   "source": [
    "We can also plot a color-color diagram which works the exact same way. But now we simply put a color on the x and y axis. "
   ]
  },
  {
   "cell_type": "markdown",
   "id": "93255895-0edd-46d6-be1c-4f34714400d7",
   "metadata": {},
   "source": [
    "## 2.1. Using Annotations"
   ]
  },
  {
   "cell_type": "code",
   "execution_count": null,
   "id": "a5b4f7bb-e874-46d2-b8c5-23dac94992df",
   "metadata": {
    "tags": []
   },
   "outputs": [],
   "source": [
    "data = {'gmag': results_table['mag_g_cModel'], \n",
    "        'rmag': results_table['mag_r_cModel'],\n",
    "        'imag': results_table['mag_i_cModel']}\n",
    "        \n",
    "# Solving for the color index of g-r and r-i by taking the columns of those magnitudes and performing simple math    \n",
    "data['gmr'] = data['gmag'] - data['rmag']\n",
    "data['rmi'] = data['rmag'] - data['imag']\n",
    "\n",
    "colorcolor=plt.scatter('gmr', 'rmi', s=6, color='green', alpha=0.3, label='Lighten', data=data)\n",
    "plt.title('Colour-Color Diagram')\n",
    "plt.xlim(-0.7, 2.0)\n",
    "plt.ylim(-0.5, 1.5)\n",
    "plt.ylabel('r-i')\n",
    "plt.xlabel('g-r')\n",
    "plt.grid(True)\n",
    "\n",
    "#overlaying stars onto galaxies \n",
    "\n",
    "data = {'gmag1': stars['mag_g_cModel'], \n",
    "        'rmag1': stars['mag_r_cModel'],\n",
    "        'imag1': stars['mag_i_cModel']}\n",
    "        \n",
    "data['gmr1'] = data['gmag1'] - data['rmag1']\n",
    "data['rmi1'] = data['rmag1'] - data['imag1']\n",
    "\n",
    "plt.scatter('gmr1', 'rmi1', s=6, color='black', data=data)\n",
    "\n",
    "plt.legend(['Galaxies', 'Stars']);\n",
    "\n",
    "\n",
    "#This step adds annotation on the plot so we can better understand what information the plot is conveying. \n",
    "#The first four entries in plt.arrow are: inital x-position, inital y-position, x-length, and y-length. In that order.\n",
    "plt.arrow(0.6, -0.4, -1, 0, head_width = 0.08,\n",
    "          width = 0.02)\n",
    "plt.arrow(0.6, -0.4, 1, 0, head_width = 0.08,\n",
    "          width = 0.02, color='red')\n",
    "\n",
    "#Text annotation\n",
    "plt.annotate('Redder', xy=(0, 0), xytext=(1, -0.3), color='red')\n",
    "plt.annotate('Bluer', xy=(0, 0), xytext=(0, -0.3), color='blue')\n",
    "\n",
    "plt.show()"
   ]
  },
  {
   "cell_type": "markdown",
   "id": "21030a12-d449-41a1-bfd9-20c68ac05174",
   "metadata": {},
   "source": [
    "## 3. Using Bokeh to Plot\n",
    "This method begins similarly to the Matplotlib method"
   ]
  },
  {
   "cell_type": "markdown",
   "id": "d28a2552-8ad3-4aae-9436-be71e492f693",
   "metadata": {
    "execution": {
     "iopub.execute_input": "2023-02-22T04:31:09.909207Z",
     "iopub.status.busy": "2023-02-22T04:31:09.908795Z",
     "iopub.status.idle": "2023-02-22T04:31:09.912152Z",
     "shell.execute_reply": "2023-02-22T04:31:09.911641Z",
     "shell.execute_reply.started": "2023-02-22T04:31:09.909190Z"
    },
    "tags": []
   },
   "source": [
    "Start by restating the center coordinates used before. But now, we want them to have the dataype float, instead of a string like in Section 1. This should yield the same ra and dec we chose in Section 1."
   ]
  },
  {
   "cell_type": "code",
   "execution_count": null,
   "id": "0eab82f8-fe39-4b56-9131-57d2c390bacc",
   "metadata": {
    "tags": []
   },
   "outputs": [],
   "source": [
    "center_ra = center_coords.ra.deg\n",
    "center_dec = center_coords.dec.deg\n",
    "print(center_ra, center_dec)"
   ]
  },
  {
   "cell_type": "markdown",
   "id": "82b05100-45ae-41d4-be47-29447f4b52f2",
   "metadata": {},
   "source": [
    "This section is how to dinstinguish the stars from galaxies and plot them on the same graph but in different colors. This is similar to before where we made a new table for all stars by only calliong objects with an extendness of 0. Here it is just done in one step by defining staras as objects with an extendedness of 0 and galaxies as objects with an extendedness of 1."
   ]
  },
  {
   "cell_type": "code",
   "execution_count": null,
   "id": "aaa2510a-3a70-49e9-882a-e390703a8d2c",
   "metadata": {
    "tags": []
   },
   "outputs": [],
   "source": [
    "object_map = {0.0: 'star', 1.0: 'galaxy'}"
   ]
  },
  {
   "cell_type": "markdown",
   "id": "20b40997-0f87-4c1d-874b-edb4d93c07ee",
   "metadata": {},
   "source": [
    "Here we define the data we will use to make the plots like we did in the previous section."
   ]
  },
  {
   "cell_type": "code",
   "execution_count": null,
   "id": "27429f85-7e83-4d29-bec0-e9d1892b577c",
   "metadata": {
    "tags": []
   },
   "outputs": [],
   "source": [
    "data = dict(ra=results_table['ra'], dec=results_table['dec'],\n",
    "            target_ra=results_table['ra']-center_ra,\n",
    "            target_dec=results_table['dec']-center_dec,\n",
    "            rmi=results_table['mag_r_cModel']-results_table['mag_i_cModel'],\n",
    "            gmag=results_table['mag_g_cModel'],\n",
    "            rmag=results_table['mag_r_cModel'],\n",
    "            imag=results_table['mag_i_cModel'])\n",
    "source = ColumnDataSource(data=data)\n",
    "\n",
    "# Additional data can be added to the Column Data Source after creation\n",
    "source.data['objectId'] = results_table['objectId']\n",
    "source.data['r_extendedness'] = results_table['r_extendedness']"
   ]
  },
  {
   "cell_type": "markdown",
   "id": "d35d32ba-f0fa-4b71-8ae1-c1c051fd71e8",
   "metadata": {},
   "source": [
    "`object_type` is the name of the collection of all the objects and what they are classified as based on the description we gave in the `object_map`. We can call this in the code for plotting so that Bokeh can distinguish stars and galaxies, and plot simultaneously instead of having to overlay two seperate plots. "
   ]
  },
  {
   "cell_type": "code",
   "execution_count": null,
   "id": "a943f108-7304-403f-ac10-1253fe679a0c",
   "metadata": {
    "tags": []
   },
   "outputs": [],
   "source": [
    "source.data['object_type'] = results_table['r_extendedness'].map(object_map)\n",
    "source.data['object_type']"
   ]
  },
  {
   "cell_type": "markdown",
   "id": "3fb2cc6d-f8d0-49da-98eb-b065306f5d8c",
   "metadata": {
    "execution": {
     "iopub.execute_input": "2023-02-22T04:31:19.682114Z",
     "iopub.status.busy": "2023-02-22T04:31:19.681656Z",
     "iopub.status.idle": "2023-02-22T04:31:19.685414Z",
     "shell.execute_reply": "2023-02-22T04:31:19.684860Z",
     "shell.execute_reply.started": "2023-02-22T04:31:19.682096Z"
    },
    "tags": []
   },
   "source": [
    "Now we plot using Bokeh"
   ]
  },
  {
   "cell_type": "code",
   "execution_count": null,
   "id": "e1710b46-acc5-4734-a19d-cd711d2a3ae3",
   "metadata": {
    "tags": []
   },
   "outputs": [],
   "source": [
    "#Adjusting the specifications of the plot\n",
    "plot_options = {'plot_height': 400, 'plot_width': 400,\n",
    "                'tools': ['box_select', 'reset', 'box_zoom', 'help']}\n",
    "\n",
    "#This is to add the interactive features\n",
    "tooltips = [\n",
    "    (\"Col (r-i)\", \"@rmi\"),\n",
    "    (\"Mag (g)\", \"@gmag\"),\n",
    "    (\"Mag (r)\", \"@rmag\"),\n",
    "    (\"Mag (i)\", \"@imag\"),\n",
    "    (\"Type\", \"@objectId\")\n",
    "]\n",
    "hover_tool_cmd = HoverTool(tooltips=tooltips)\n",
    "\n",
    "#Plotting\n",
    "p = figure(title=\"Colour - Magnitude Diagram\",\n",
    "           x_axis_label='r', y_axis_label='g-r',\n",
    "           x_range=(23.2, 16),\n",
    "           **plot_options)\n",
    "\n",
    "#Adding the hover tool and setting the plot features\n",
    "object_type_palette = ['darkred', 'green']\n",
    "p.add_tools(hover_tool_cmd)\n",
    "p.circle(x='rmag', y='rmi', source=source,\n",
    "         size=3, alpha=0.6,\n",
    "         legend_field=\"object_type\",\n",
    "         color=factor_cmap('object_type',\n",
    "                           palette=object_type_palette,\n",
    "                           factors=['star', 'galaxy']),\n",
    "         hover_color=\"darkblue\")\n",
    "\n",
    "#displaying\n",
    "show(p)\n"
   ]
  },
  {
   "cell_type": "markdown",
   "id": "63b553ca-aa1a-41ad-ba69-ea370c1e6c94",
   "metadata": {},
   "source": [
    "## 4. Adding line of best fit\n",
    "\n",
    "Using Matplotlib you can easliy plot a line of best fit as well. Here we will add a line of best fit to the color-magnitude diagram from before. "
   ]
  },
  {
   "cell_type": "markdown",
   "id": "b7b0c9ef-4393-45fe-bcd7-3e77b110d8b6",
   "metadata": {
    "execution": {
     "iopub.execute_input": "2023-04-03T23:04:42.692440Z",
     "iopub.status.busy": "2023-04-03T23:04:42.691539Z",
     "iopub.status.idle": "2023-04-03T23:04:42.698358Z",
     "shell.execute_reply": "2023-04-03T23:04:42.697497Z",
     "shell.execute_reply.started": "2023-04-03T23:04:42.692409Z"
    },
    "tags": []
   },
   "source": [
    "Here we will be working with galaxies. To extract all the galaxies from the data we write the same code we did to find the stars, except this time we set extendedness equal to 1, which indicates a spread out light source. "
   ]
  },
  {
   "cell_type": "code",
   "execution_count": null,
   "id": "0a6d1559-fcf2-4671-8e68-17f30f1b86f3",
   "metadata": {
    "tags": []
   },
   "outputs": [],
   "source": [
    "galaxies=results_table[results_table['r_extendedness']==1]\n",
    "galaxies"
   ]
  },
  {
   "cell_type": "markdown",
   "id": "e372700c-befa-462d-84dc-1d39b0c93949",
   "metadata": {},
   "source": [
    "This code exactly the same as the code for the Matplotlib section up until the part where we code the line of best fit. "
   ]
  },
  {
   "cell_type": "code",
   "execution_count": null,
   "id": "4ab0b28e-8e68-4597-9cca-c687d37d55f0",
   "metadata": {
    "tags": []
   },
   "outputs": [],
   "source": [
    "data = {'imag': galaxies['mag_i_cModel'], \n",
    "        'rmag': galaxies['mag_r_cModel']}\n",
    "        \n",
    "data['rmi'] = data['rmag'] - data['imag']\n",
    "\n",
    "plt.scatter('rmag', 'rmi', s=6, color='blue', data=data)\n",
    "plt.title('Colour-Magnitude Diagram')\n",
    "plt.xlim(23.2, 15.7)\n",
    "plt.ylim(-0.5, 1.5)\n",
    "plt.xlabel('r')\n",
    "plt.ylabel('r-i')\n",
    "plt.grid(True)\n",
    "\n",
    "\n",
    "x = data['rmag']\n",
    "y = data['rmi']\n",
    "\n",
    "#find line of best fit\n",
    "a, b = np.polyfit(x, y, 1)\n",
    "\n",
    "#We use a*x+b because we want a line, this part of the code can be modified depending on the type of fit desired\n",
    "plt.plot(x, a*x+b, color='red')        \n",
    "\n",
    "#saving the final plot\n",
    "plt.savefig('RedSequenceLine.png')\n"
   ]
  },
  {
   "cell_type": "markdown",
   "id": "effa29de-3fec-415b-af98-30c6a8dc51f0",
   "metadata": {},
   "source": [
    "## 5 Conclusions \n",
    "Matplotlib delivers a very easy using experince. As can be seen by the code written. The layout is very practical and stratightforward. It is also very simple to add annotations such as arrows and text. One of the cons is how you cannot plot two different sets of data simulataneously, however this is almost no issue due to the fact that overlaying two plots works just as well, and requires very minimal effor. Adding the line of best fit was also a trivial task, which is very useful when working with data and performing analysis. \n",
    "\n",
    "Bokeh has many more features included in the plot, the most prominent of which is the hover tool. This tool displays information about specific data points on the graph. This would be something that is very useful in a web document or any work that is shared electronically. However not so much on a printed document. Bokeh is also not as straightforward as Matplotlib is, the plot options, tools and other features are not as intuitive. That being said they are not necessary to plot. If you were to go back and comment that code out the plot will still appear, however it would lack any of the features that make Bokeh special. \n",
    "\n",
    "Matplotlib is perhaps the most efficient method to use for plotting if the goal is to create cohesive and simple plots that can be added to papers or lab reports. It allows for easy modifications and requires very little code to do so. Bokeh however would be very useufl for webistes or virtual reports, anything where the reader can interact with the document. And if the extra time to figure out the slight learning curve is no issue, it also provides a slightly nicer format that has a more distinguished appearance. "
   ]
  }
 ],
 "metadata": {
  "kernelspec": {
   "display_name": "LSST",
   "language": "python",
   "name": "lsst"
  },
  "language_info": {
   "codemirror_mode": {
    "name": "ipython",
    "version": 3
   },
   "file_extension": ".py",
   "mimetype": "text/x-python",
   "name": "python",
   "nbconvert_exporter": "python",
   "pygments_lexer": "ipython3",
   "version": "3.10.9"
  }
 },
 "nbformat": 4,
 "nbformat_minor": 5
}
