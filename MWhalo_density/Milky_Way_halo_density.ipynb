{
 "cells": [
  {
   "cell_type": "markdown",
   "id": "47e1358a",
   "metadata": {},
   "source": [
    "# Exploring the Outer Reaches of the DP0.2 Simulated Milky Way\n",
    "\n",
    "Contact author: Jeff Carlin\n",
    "\n",
    "Last verified to run on 01 Dec 2022 with LSST Science Pipelines release version w_2022_40.\n",
    "\n",
    "**Prerequisites:**\n",
    "With the exception of the single TAP query to extract a data table, this notebook doesn't presume a lot of prior knowledge about Rubin tools.\n",
    "\n",
    "**Credit:** Developed by Jeff Carlin, with contributions by Peter Ferguson."
   ]
  },
  {
   "cell_type": "markdown",
   "id": "3598fd4f",
   "metadata": {},
   "source": [
    "## Introduction\n",
    "\n",
    "The goal of this notebook is to explore what we can learn about the structure of the simulated Milky Way from the DP0.2 dataset. In particular, we will use blue horizontal branch (BHB) stars as probes, since BHB stars are easily identified by their photometric colors, probe old and metal-poor stellar populations (e.g., the Milky Way halo), and are reliable, precise distance indicators.\n",
    "\n",
    "This example (from [this paper](https://ui.adsabs.harvard.edu/abs/2008ApJS..179..326A/abstract)) of a few metal-poor globular cluster color-magnitude diagrams shows the prominent horizontal branch at the left side of each plot (at colors of g-r < 0):\n",
    "\n",
    "<img align=\"left\" src = metal_poor_gc_cmds.jpeg width=300 style=\"padding: 10px\"> \n",
    "\n",
    "While they have rather blue colors that stand out in a CMD of stars at a single distance, BHB stars in surveys covering large sky areas are mingled with more nearby white dwarfs (WDs), distant quasars (QSOs), and blue straggler stars (among possibly other \"contaminants\"). Thus we focus first on identifying a relatively pure sample of BHB stars using selection in multiple color-color planes.\n",
    "\n",
    "After identifying a sample of BHB stars, we estimate their distances and plot a radial density profile of the Milky Way halo. We will then fit a powerlaw to the density profile, and compare it to the (known) simulated Galactic halo from DC2. (For more on how the slope of the stellar density in outer galaxy halos depends on the host's mass, assembly history, and other properties, see [Pillepich et al. 2014](https://ui.adsabs.harvard.edu/abs/2014MNRAS.444..237P/abstract) and references therein.)"
   ]
  },
  {
   "cell_type": "markdown",
   "id": "896eab59",
   "metadata": {},
   "source": [
    "## 1.0 Set Up"
   ]
  },
  {
   "cell_type": "code",
   "execution_count": null,
   "id": "dff335a8",
   "metadata": {},
   "outputs": [],
   "source": [
    "# Import general python packages\n",
    "import time\n",
    "import numpy as np\n",
    "from numpy.polynomial import Polynomial\n",
    "import matplotlib.pyplot as plt\n",
    "from matplotlib import colors\n",
    "import matplotlib.cm as cm\n",
    "import astropy.units as u\n",
    "from astropy.io import fits\n",
    "from astropy.table import Table\n",
    "from astropy.coordinates import SkyCoord\n",
    "from dustmaps.sfd import SFDQuery\n",
    "\n",
    "# Import the Rubin TAP service utilities\n",
    "from lsst.rsp import get_tap_service, retrieve_query"
   ]
  },
  {
   "cell_type": "code",
   "execution_count": null,
   "id": "65efb92b-9ef8-4d14-a66a-5a4f416c7b97",
   "metadata": {},
   "outputs": [],
   "source": [
    "# Set up some plotting defaults:\n",
    "\n",
    "params = {'axes.labelsize': 24,\n",
    "          'font.size': 20,\n",
    "          'legend.fontsize': 14,\n",
    "          'xtick.major.width': 3,\n",
    "          'xtick.minor.width': 2,\n",
    "          'xtick.major.size': 12,\n",
    "          'xtick.minor.size': 6,\n",
    "          'xtick.direction': 'in',\n",
    "          'xtick.top': True,\n",
    "          'lines.linewidth': 3,\n",
    "          'axes.linewidth': 3,\n",
    "          'axes.labelweight': 3,\n",
    "          'axes.titleweight': 3,\n",
    "          'ytick.major.width': 3,\n",
    "          'ytick.minor.width': 2,\n",
    "          'ytick.major.size': 12,\n",
    "          'ytick.minor.size': 6,\n",
    "          'ytick.direction': 'in',\n",
    "          'ytick.right': True,\n",
    "          'figure.figsize': [7, 5],\n",
    "          'figure.facecolor': 'White'\n",
    "          }\n",
    "\n",
    "plt.rcParams.update(params)"
   ]
  },
  {
   "cell_type": "code",
   "execution_count": null,
   "id": "8ddb098a-7fd9-4b92-97a0-2db4bc887705",
   "metadata": {},
   "outputs": [],
   "source": [
    "service = get_tap_service()\n",
    "assert service is not None\n",
    "assert service.baseurl == \"https://data.lsst.cloud/api/tap\""
   ]
  },
  {
   "cell_type": "code",
   "execution_count": null,
   "id": "b13587d8-3f88-4740-86de-594a7be2a6e0",
   "metadata": {},
   "outputs": [],
   "source": [
    "results = service.search(\"SELECT column_name, datatype, description, unit from TAP_SCHEMA.columns \"\n",
    "                         \"WHERE table_name = 'dp02_dc2_catalogs.Object'\")\n",
    "sch = results.to_table()"
   ]
  },
  {
   "cell_type": "markdown",
   "id": "0ad3889e-3b64-4ea9-aa60-390bcfcb2d7f",
   "metadata": {},
   "source": [
    "## 1.1 Data Query \n",
    "\n",
    "We'll query the Object table over the entire region of sky covered by DP0.2, specifying the following selection criteria:\n",
    "\n",
    "a) -0.3 < (g-r) < 0.0 (blue colors typical of BHB stars)\n",
    "\n",
    "b) g < 26 (there shouldn't be stars fainter than this anyway, but a BHB star at 26th mag would be > 600 kpc away, which is unrealistic for the Milky Way)\n",
    "\n",
    "c) refExtendedness < 0.5 (objects classified as \"not extended,\" i.e., point sources)\n"
   ]
  },
  {
   "cell_type": "code",
   "execution_count": null,
   "id": "6a7cf166-ca97-4ed6-952d-2e21c706f1a4",
   "metadata": {},
   "outputs": [],
   "source": [
    "# Define the query\n",
    "query = \"SELECT objectId, coord_ra, coord_dec, \"\\\n",
    "        \"scisql_nanojanskyToAbMag(u_psfFlux) as umag, \"\\\n",
    "        \"scisql_nanojanskyToAbMag(g_psfFlux) as gmag, \"\\\n",
    "        \"scisql_nanojanskyToAbMag(r_psfFlux) as rmag, \"\\\n",
    "        \"scisql_nanojanskyToAbMag(i_psfFlux) as imag, \"\\\n",
    "        \"scisql_nanojanskyToAbMag(z_psfFlux) as zmag, \"\\\n",
    "        \"scisql_nanojanskyToAbMag(y_psfFlux) as ymag, \"\\\n",
    "        \"scisql_nanojanskyToAbMagSigma(u_psfFlux, u_psfFluxErr) as umagerr, \"\\\n",
    "        \"scisql_nanojanskyToAbMagSigma(g_psfFlux, g_psfFluxErr) as gmagerr, \"\\\n",
    "        \"scisql_nanojanskyToAbMagSigma(r_psfFlux, r_psfFluxErr) as rmagerr, \"\\\n",
    "        \"scisql_nanojanskyToAbMagSigma(i_psfFlux, i_psfFluxErr) as imagerr, \"\\\n",
    "        \"scisql_nanojanskyToAbMagSigma(z_psfFlux, z_psfFluxErr) as zmagerr, \"\\\n",
    "        \"scisql_nanojanskyToAbMagSigma(y_psfFlux, y_psfFluxErr) as ymagerr, \"\\\n",
    "        \"tract, patch, i_extendedness, refExtendedness \"\\\n",
    "        \"FROM dp02_dc2_catalogs.Object \"\\\n",
    "        \"WHERE (scisql_nanojanskyToAbMag(g_psfFlux)-scisql_nanojanskyToAbMag(r_psfFlux)) < 0.0 \"\\\n",
    "        \"AND (scisql_nanojanskyToAbMag(g_psfFlux)-scisql_nanojanskyToAbMag(r_psfFlux)) > -0.3 \"\\\n",
    "        \"AND scisql_nanojanskyToAbMag(g_psfFlux) < 26.0 \"\\\n",
    "        \"AND refExtendedness < 0.5\"\n"
   ]
  },
  {
   "cell_type": "markdown",
   "id": "35a49e57-24ac-448a-a6b2-b48e3bce2ed5",
   "metadata": {},
   "source": [
    "### 1.1.1 Query the Object table\n",
    "\n",
    "_Because the query takes a long time to execute, I have provided multiple options:_\n",
    "\n",
    "1. Uncomment and execute the following three cells to execute the query and save the results to a file. _Warning: it may take at least 15 minutes to return a result._\n",
    "\n",
    "2. If you have already executed the query and saved the results as a FITS file, _or_ if you want to use a saved file from a shared folder, skip ahead to Section 1.1.2."
   ]
  },
  {
   "cell_type": "code",
   "execution_count": null,
   "id": "82913ec9-87c1-4efa-b8e0-692d783a640b",
   "metadata": {},
   "outputs": [],
   "source": [
    "# %%time\n",
    "# bhb_gr_color = service.search(query)\n",
    "# print('Query returned %s matched objects.' % len(bhb_gr_color))"
   ]
  },
  {
   "cell_type": "code",
   "execution_count": null,
   "id": "2b9cdade-e24d-4088-b55d-4a57386de342",
   "metadata": {},
   "outputs": [],
   "source": [
    "# bhb_gr_color_tab = bhb_gr_color.to_table()"
   ]
  },
  {
   "cell_type": "code",
   "execution_count": null,
   "id": "c24310a6-7844-49bd-b191-871011c849d5",
   "metadata": {},
   "outputs": [],
   "source": [
    "# bhb_gr_color_tab.write('bhb_dp02_gr_selection.fits', overwrite=True)"
   ]
  },
  {
   "cell_type": "markdown",
   "id": "af1602e4-b3cc-47cc-bc04-1e4b92e527f6",
   "metadata": {},
   "source": [
    "### 1.1.2 Read the data from the saved FITS file\n",
    "\n",
    "If you have already executed the query and saved it as a FITS file, you can simply read that file and proceed. (I have placed a version of the saved FITS file in an accessible location. On the IDF, the path is /scratch/jeffcarlin/bhb_dp02_gr_selection.fits.)"
   ]
  },
  {
   "cell_type": "code",
   "execution_count": null,
   "id": "ccf051c9-b7b5-49e2-8313-cb169a4aea83",
   "metadata": {},
   "outputs": [],
   "source": [
    "# Read the FITS file:\n",
    "bhb_gr_color0 = fits.getdata('/scratch/jeffcarlin/bhb_dp02_gr_selection.fits')\n",
    "\n",
    "# Convert the file to an Astropy Table:\n",
    "bhb_gr_color = Table(bhb_gr_color0)"
   ]
  },
  {
   "cell_type": "code",
   "execution_count": null,
   "id": "12464feb-76fe-4dbe-b59f-036329d7e343",
   "metadata": {},
   "outputs": [],
   "source": [
    "bhb_gr_color.columns"
   ]
  },
  {
   "cell_type": "markdown",
   "id": "95ff0fa4-ed86-4a91-ab6e-562a6beb2661",
   "metadata": {},
   "source": [
    "### 1.1.3 Correct the magnitudes for extinction\n",
    "\n",
    "We will look up the reddening values, E(B-V), from the maps of [Schlegel, Finkbeiner, & Davis (1998)](https://ui.adsabs.harvard.edu/abs/1998ApJ...500..525S/abstract) using the `dustmaps` package. Then we convert them to per-band extinction values using the coefficients derived for DC2 in this [notebook](https://github.com/LSSTDESC/DC2-analysis/blob/master/contributed/Derive_A_EBV_coefficients.ipynb) by Sam Schmidt (see also [this demo](https://github.com/LSSTDESC/DC2-analysis/blob/master/contributed/DC2_object_deredden.ipynb) showing how to apply the corrections)."
   ]
  },
  {
   "cell_type": "code",
   "execution_count": null,
   "id": "09d52df1-5eb9-4385-adc7-0014734490c2",
   "metadata": {},
   "outputs": [],
   "source": [
    "# set the A_lamba/E(B-V) values for the six ugrizy LSST filters\n",
    "band_a_ebv = np.array([4.81, 3.64, 2.70, 2.06, 1.58, 1.31])"
   ]
  },
  {
   "cell_type": "markdown",
   "id": "aa654ba8-3df0-4f5d-81bd-adea29da5dfd",
   "metadata": {},
   "source": [
    "`dustmaps` expects coordinates to be in Astropy \"SkyCoord\" format."
   ]
  },
  {
   "cell_type": "code",
   "execution_count": null,
   "id": "ff5e6f6a-a060-4782-a8ff-f2329c1f734c",
   "metadata": {},
   "outputs": [],
   "source": [
    "coords = SkyCoord(bhb_gr_color['coord_ra'], bhb_gr_color['coord_dec'],\n",
    "                  unit='deg', frame='icrs')"
   ]
  },
  {
   "cell_type": "markdown",
   "id": "120d8e8d-e015-4490-8fcd-d88d2cc44545",
   "metadata": {},
   "source": [
    "Execute the `dustmaps` query and add the E(B-V) values to the table:"
   ]
  },
  {
   "cell_type": "code",
   "execution_count": null,
   "id": "c411a08d-fb83-4c7f-bb27-831d280c567d",
   "metadata": {},
   "outputs": [],
   "source": [
    "sfd = SFDQuery()\n",
    "ebvvec = sfd(coords)\n",
    "bhb_gr_color.add_column(ebvvec, name='ebv')"
   ]
  },
  {
   "cell_type": "markdown",
   "id": "586f6f7f-8670-4984-8447-20641a136660",
   "metadata": {},
   "source": [
    "Now apply the coefficients to get per-band extinction, then correct the magnitudes for the extinction (i.e., xmag0 = xmag - A_x * E(B-V), where \"x\" is each band)."
   ]
  },
  {
   "cell_type": "code",
   "execution_count": null,
   "id": "3dc540c2-da32-4566-ac02-cb03df254efc",
   "metadata": {},
   "outputs": [],
   "source": [
    "u0 = bhb_gr_color['umag'] - bhb_gr_color['ebv']*band_a_ebv[0]\n",
    "g0 = bhb_gr_color['gmag'] - bhb_gr_color['ebv']*band_a_ebv[1]\n",
    "r0 = bhb_gr_color['rmag'] - bhb_gr_color['ebv']*band_a_ebv[2]\n",
    "i0 = bhb_gr_color['imag'] - bhb_gr_color['ebv']*band_a_ebv[3]\n",
    "z0 = bhb_gr_color['zmag'] - bhb_gr_color['ebv']*band_a_ebv[4]"
   ]
  },
  {
   "cell_type": "markdown",
   "id": "331f1889-1282-4c9d-a2eb-890b61a428aa",
   "metadata": {},
   "source": [
    "For convenience, we'll extract extinction-corrected colors into arrays:"
   ]
  },
  {
   "cell_type": "code",
   "execution_count": null,
   "id": "3ab806d2-be93-456d-86b3-026a3e86c3e2",
   "metadata": {},
   "outputs": [],
   "source": [
    "ug0 = u0-g0\n",
    "ui0 = u0-i0\n",
    "gr0 = g0-r0\n",
    "rz0 = r0-z0\n",
    "ri0 = r0-i0\n",
    "iz0 = i0-z0"
   ]
  },
  {
   "cell_type": "markdown",
   "id": "a823030d-954f-4fb6-9795-8ec48058b083",
   "metadata": {},
   "source": [
    "## 2.0 Examine color-color plots\n",
    "\n",
    "The method of selecting blue horizontal branch (BHB) stars that we intend to develop in this notebook is based on their unique locus in color-color space. First, let's look at a couple of color-color plots:"
   ]
  },
  {
   "cell_type": "code",
   "execution_count": null,
   "id": "e302035d-6092-4437-8e6a-00e72a3ba1d8",
   "metadata": {},
   "outputs": [],
   "source": [
    "fig, ax = plt.subplots(3, 1, figsize=(5, 9))\n",
    "\n",
    "plt.subplots_adjust(hspace=0)\n",
    "\n",
    "plt.sca(ax[0])\n",
    "plt.hexbin(gr0, iz0, gridsize=200, extent=(-0.3, 0.0, -1.5, 1.5))\n",
    "plt.xlim(-0.3, 0.0)\n",
    "plt.ylim(-1.5, 1.5)\n",
    "plt.minorticks_on()\n",
    "plt.ylabel('i-z')\n",
    "ax[0].xaxis.set_ticklabels([])\n",
    "\n",
    "plt.sca(ax[1])\n",
    "plt.hexbin(gr0, rz0, gridsize=200, extent=(-0.3, 0.0, -1.5, 2.0))\n",
    "plt.xlim(-0.3, 0.0)\n",
    "plt.ylim(-1.5, 2)\n",
    "plt.minorticks_on()\n",
    "plt.ylabel('r-z')\n",
    "ax[1].xaxis.set_ticklabels([])\n",
    "\n",
    "plt.sca(ax[2])\n",
    "plt.hexbin(gr0, ug0, gridsize=200, extent=(-0.3, 0.0, -1.3, 1.0))\n",
    "plt.xlim(-0.3, 0.0)\n",
    "plt.ylim(-0.4, 1.0)\n",
    "plt.minorticks_on()\n",
    "plt.xlabel('g-r')\n",
    "plt.ylabel('u-g')\n",
    "plt.show()"
   ]
  },
  {
   "cell_type": "markdown",
   "id": "63cc6c74-7a72-463b-b936-b14496674609",
   "metadata": {},
   "source": [
    "## 2.1 Select the BHB candidates\n",
    "\n",
    "You may have noticed a narrow stripe cutting across all three of those color-color plots. Let's try to develop a way to select that stripe. It's a clear overdensity, and mostly horizontal, so we will try binning the data in the colors that are on the vertical axis in each plot, then see if there is a peak.\n",
    "\n",
    "We'll do the following:\n",
    "1. use a 2D histogram to bin the data, \n",
    "2. fit a polynomial to the overall distribution in each slice of (g-r) color,\n",
    "3. subtract off the polynomial from the profile,\n",
    "4. look for peaks in the residuals.\n",
    "\n",
    "Because the BHB locus is a narrow stripe, it should remain after subtracting the smooth, low-order polynomial."
   ]
  },
  {
   "cell_type": "markdown",
   "id": "f36d2a82-4926-4422-9a6c-50cf98032161",
   "metadata": {
    "tags": []
   },
   "source": [
    "### 2.1.1 Select in (r-z) vs. (g-r)"
   ]
  },
  {
   "cell_type": "code",
   "execution_count": null,
   "id": "269c2a08-8c63-404c-b3bb-7cc6dfedf50e",
   "metadata": {},
   "outputs": [],
   "source": [
    "nbins = 30\n",
    "hist_grrz = np.histogram2d(gr0, rz0, range=[[-0.3, 0.0], [-1, 0]], bins=nbins)"
   ]
  },
  {
   "cell_type": "code",
   "execution_count": null,
   "id": "162a6c8b-a727-4ddc-b956-7c78fbef36b2",
   "metadata": {},
   "outputs": [],
   "source": [
    "gr_binvals = []\n",
    "rz_binvals = []\n",
    "\n",
    "mingr = np.min(hist_grrz[1])\n",
    "maxgr = np.max(hist_grrz[1])\n",
    "\n",
    "norm = colors.Normalize(vmin=mingr, vmax=maxgr, clip=True)\n",
    "mapper = cm.ScalarMappable(norm=norm, cmap=cm.cool)\n",
    "\n",
    "for x in range(nbins):\n",
    "    poly = Polynomial.fit(hist_grrz[2][:-1], hist_grrz[0][x], deg=3)\n",
    "    resid = hist_grrz[0][x]-poly(hist_grrz[2][:-1])\n",
    "    plt.plot(hist_grrz[2][:-1], resid, c=mapper.to_rgba(hist_grrz[1][x]), linewidth=2, alpha=0.3)\n",
    "    peak = np.argmax(resid)\n",
    "    plt.plot(hist_grrz[2][peak], resid[peak], 'k.')\n",
    "    gr_binvals.append(hist_grrz[1][x])\n",
    "    rz_binvals.append(hist_grrz[2][peak])\n",
    "    # plt.plot(hist_grrz[2][:-1], hist_grrz[0][x])\n",
    "\n",
    "plt.colorbar(mapper, label='g-r')\n",
    "plt.xlabel('(r-z)')\n",
    "plt.ylabel('residual number density')\n",
    "plt.show()"
   ]
  },
  {
   "cell_type": "markdown",
   "id": "033f7281-b6e5-4768-93a8-7d695c6f2c9e",
   "metadata": {
    "tags": []
   },
   "source": [
    "All we did was pick the highest peak in the residuals, and it looks like it may have worked. Let's fit a polynomial to the peaks we extracted."
   ]
  },
  {
   "cell_type": "code",
   "execution_count": null,
   "id": "7998c699-4d88-44d6-aff8-dc9c959b5049",
   "metadata": {},
   "outputs": [],
   "source": [
    "poly_grrz0 = Polynomial.fit(gr_binvals, rz_binvals, deg=2)"
   ]
  },
  {
   "cell_type": "code",
   "execution_count": null,
   "id": "787374e3-a575-40f1-943d-c73e82ad2727",
   "metadata": {},
   "outputs": [],
   "source": [
    "plt.plot(gr_binvals, rz_binvals, 'k.', label='peaks')\n",
    "plt.plot(gr_binvals, poly_grrz0(np.array(gr_binvals)), 'r', label='polynomial fit')\n",
    "plt.legend()\n",
    "plt.xlabel('(g-r)')\n",
    "plt.ylabel('(r-z)')\n",
    "plt.minorticks_on()\n",
    "plt.show()"
   ]
  },
  {
   "cell_type": "markdown",
   "id": "76f44daa-a4eb-43c1-a94b-97f0b28f97c7",
   "metadata": {},
   "source": [
    "Those were coarse bins. Let's try a finer scale:"
   ]
  },
  {
   "cell_type": "code",
   "execution_count": null,
   "id": "2faf070a-1357-439a-9929-8cf93d2ea31d",
   "metadata": {},
   "outputs": [],
   "source": [
    "nbins = 100\n",
    "hist_grrz = np.histogram2d(gr0, rz0, range=[[-0.3, 0.0], [-1, 0]], bins=nbins)\n",
    "\n",
    "gr_binvals = []\n",
    "rz_binvals = []\n",
    "\n",
    "mingr = np.min(hist_grrz[1])\n",
    "maxgr = np.max(hist_grrz[1])\n",
    "\n",
    "norm = colors.Normalize(vmin=mingr, vmax=maxgr, clip=True)\n",
    "mapper = cm.ScalarMappable(norm=norm, cmap=cm.cool)\n",
    "\n",
    "for x in range(nbins):\n",
    "    poly = Polynomial.fit(hist_grrz[2][:-1], hist_grrz[0][x], deg=3)\n",
    "    resid = hist_grrz[0][x]-poly(hist_grrz[2][:-1])\n",
    "    plt.plot(hist_grrz[2][:-1], resid, c=mapper.to_rgba(hist_grrz[1][x]), linewidth=1, alpha=0.3)\n",
    "    peak = np.argmax(resid)\n",
    "    plt.plot(hist_grrz[2][peak], resid[peak], 'k.')\n",
    "    gr_binvals.append(hist_grrz[1][x])\n",
    "    rz_binvals.append(hist_grrz[2][peak])\n",
    "\n",
    "plt.colorbar(mapper, label='g-r')\n",
    "plt.xlabel('(r-z)')\n",
    "plt.ylabel('residual number density')\n",
    "\n",
    "plt.show()"
   ]
  },
  {
   "cell_type": "markdown",
   "id": "03212f0f-8393-49d6-a646-7d5837688c66",
   "metadata": {},
   "source": [
    "With finer bins, there will be some outliers. We'll calculate residuals relative to the previous, coarse polynomial to filter out points with large residuals, then fit a new polynomial."
   ]
  },
  {
   "cell_type": "code",
   "execution_count": null,
   "id": "5e6adbe4-54c8-4c0d-af87-2ddd0a5154e1",
   "metadata": {},
   "outputs": [],
   "source": [
    "rz_resid = rz_binvals-poly_grrz0(np.array(gr_binvals))\n",
    "keepers = np.abs(rz_resid) < 0.05\n",
    "gr_keepers = np.array(gr_binvals)[keepers]\n",
    "rz_keepers = np.array(rz_binvals)[keepers]\n",
    "\n",
    "poly_grrz = Polynomial.fit(gr_keepers, rz_keepers, deg=2)\n"
   ]
  },
  {
   "cell_type": "code",
   "execution_count": null,
   "id": "8f775e59-8511-4238-b1cf-df6420459104",
   "metadata": {},
   "outputs": [],
   "source": [
    "plt.plot(gr_binvals, rz_binvals, 'k.', label='peaks')\n",
    "plt.plot(gr_binvals, poly_grrz(np.array(gr_binvals)), 'r', label='polynomial fit')\n",
    "plt.legend()\n",
    "plt.xlabel('(g-r)')\n",
    "plt.ylabel('(r-z)')\n",
    "plt.minorticks_on()\n",
    "plt.show()"
   ]
  },
  {
   "cell_type": "code",
   "execution_count": null,
   "id": "13a39290-5e91-4250-984c-2f609ec04353",
   "metadata": {},
   "outputs": [],
   "source": [
    "# Print the polynomial fit coefficients:\n",
    "poly_grrz.coef"
   ]
  },
  {
   "cell_type": "markdown",
   "id": "ea416b91-3bcb-47bc-abed-1d1f02307a93",
   "metadata": {},
   "source": [
    "### 2.1.2 Select in (i-z) vs. (g-r)\n",
    "\n",
    "Same process as before, but using (i-z) this time."
   ]
  },
  {
   "cell_type": "code",
   "execution_count": null,
   "id": "72a8b1f8-036a-4f59-9f10-06f0a401cc62",
   "metadata": {},
   "outputs": [],
   "source": [
    "nbins = 35\n",
    "hist_griz = np.histogram2d(gr0, iz0, range=[[-0.3, 0.0], [-0.7, 0.2]], bins=nbins)"
   ]
  },
  {
   "cell_type": "code",
   "execution_count": null,
   "id": "d254da85-9e16-4b26-8614-26139da5eecb",
   "metadata": {},
   "outputs": [],
   "source": [
    "gr_binvals = []\n",
    "iz_binvals = []\n",
    "\n",
    "mingr = np.min(hist_griz[1])\n",
    "maxgr = np.max(hist_griz[1])\n",
    "\n",
    "norm = colors.Normalize(vmin=mingr, vmax=maxgr, clip=True)\n",
    "mapper = cm.ScalarMappable(norm=norm, cmap=cm.cool)\n",
    "\n",
    "for x in range(nbins):\n",
    "    poly = Polynomial.fit(hist_griz[2][:-1], hist_griz[0][x], deg=3)\n",
    "    resid = hist_griz[0][x]-poly(hist_griz[2][:-1])\n",
    "    plt.plot(hist_griz[2][:-1], resid, c=mapper.to_rgba(hist_griz[1][x]), linewidth=2, alpha=0.3)\n",
    "    peak = np.argmax(resid)\n",
    "    plt.plot(hist_griz[2][peak], resid[peak], 'k.')\n",
    "    gr_binvals.append(hist_griz[1][x])\n",
    "    iz_binvals.append(hist_griz[2][peak])\n",
    "\n",
    "plt.colorbar(mapper, label='g-r')\n",
    "plt.xlabel('(i-z)')\n",
    "plt.ylabel('residual number density')\n",
    "\n",
    "plt.show()"
   ]
  },
  {
   "cell_type": "code",
   "execution_count": null,
   "id": "76fdb292-266b-432a-b068-328bbd8ca183",
   "metadata": {},
   "outputs": [],
   "source": [
    "poly_griz0 = Polynomial.fit(gr_binvals[:-1], iz_binvals[:-1], deg=3)"
   ]
  },
  {
   "cell_type": "code",
   "execution_count": null,
   "id": "d115dc70-6e60-4bad-9f29-db8b41f6660c",
   "metadata": {},
   "outputs": [],
   "source": [
    "plt.plot(gr_binvals, iz_binvals, 'k.', label='peaks')\n",
    "plt.plot(gr_binvals, poly_griz0(np.array(gr_binvals)), 'r', label='polynomial fit')\n",
    "plt.legend()\n",
    "plt.xlabel('(g-r)')\n",
    "plt.ylabel('(i-z)')\n",
    "plt.minorticks_on()\n",
    "plt.show()"
   ]
  },
  {
   "cell_type": "code",
   "execution_count": null,
   "id": "2481d4ff-eeab-4d62-9b13-ab8a8e628664",
   "metadata": {},
   "outputs": [],
   "source": [
    "nbins = 100\n",
    "hist_griz = np.histogram2d(gr0, iz0, range=[[-0.3, 0.0], [-0.7, 0.2]], bins=nbins)"
   ]
  },
  {
   "cell_type": "code",
   "execution_count": null,
   "id": "ff6eddbf-5bb5-4940-8d4a-e34e73ff3296",
   "metadata": {},
   "outputs": [],
   "source": [
    "gr_binvals = []\n",
    "iz_binvals = []\n",
    "\n",
    "mingr = np.min(hist_griz[1])\n",
    "maxgr = np.max(hist_griz[1])\n",
    "\n",
    "norm = colors.Normalize(vmin=mingr, vmax=maxgr, clip=True)\n",
    "mapper = cm.ScalarMappable(norm=norm, cmap=cm.cool)\n",
    "\n",
    "for x in range(nbins):\n",
    "    poly = Polynomial.fit(hist_griz[2][:-1], hist_griz[0][x], deg=3)\n",
    "    resid = hist_griz[0][x]-poly(hist_griz[2][:-1])\n",
    "    plt.plot(hist_griz[2][:-1], resid, c=mapper.to_rgba(hist_griz[1][x]), linewidth=1, alpha=0.3)\n",
    "    peak = np.argmax(resid)\n",
    "    plt.plot(hist_griz[2][peak], resid[peak], 'k.')\n",
    "    gr_binvals.append(hist_griz[1][x])\n",
    "    iz_binvals.append(hist_griz[2][peak])\n",
    "\n",
    "plt.colorbar(mapper, label='g-r')\n",
    "plt.xlabel('(i-z)')\n",
    "plt.ylabel('residual number density')\n",
    "\n",
    "plt.show()"
   ]
  },
  {
   "cell_type": "code",
   "execution_count": null,
   "id": "e59e7bbe-643c-4bb5-8902-43cef3f08848",
   "metadata": {},
   "outputs": [],
   "source": [
    "iz_resid = iz_binvals-poly_griz0(np.array(gr_binvals))\n",
    "keepers = np.abs(iz_resid) < 0.05\n",
    "gr_keepers = np.array(gr_binvals)[keepers]\n",
    "iz_keepers = np.array(iz_binvals)[keepers]\n",
    "\n",
    "poly_griz = Polynomial.fit(gr_keepers, iz_keepers, deg=2)"
   ]
  },
  {
   "cell_type": "code",
   "execution_count": null,
   "id": "a6d1a3e2-fa7f-4807-82b6-9e5544dd60f4",
   "metadata": {},
   "outputs": [],
   "source": [
    "plt.plot(gr_binvals, iz_binvals, 'k.', ms=10, label='peaks')\n",
    "plt.plot(gr_binvals, poly_griz(np.array(gr_binvals)), 'r', label='polynomial fit')\n",
    "plt.legend()\n",
    "plt.xlabel('(g-r)')\n",
    "plt.ylabel('(r-z)')\n",
    "plt.show()"
   ]
  },
  {
   "cell_type": "markdown",
   "id": "5b86e892-24f8-4f1e-903d-e6fcc6a0def9",
   "metadata": {},
   "source": [
    "### 2.1.3 Select in (u-g) vs. (g-r)\n",
    "\n",
    "Same process as before, but using (u-g) this time."
   ]
  },
  {
   "cell_type": "code",
   "execution_count": null,
   "id": "065a0b34-ebf9-4dd6-91f5-589ffc7121ac",
   "metadata": {},
   "outputs": [],
   "source": [
    "nbins = 15\n",
    "hist_grug = np.histogram2d(gr0, ug0, range=[[-0.3, -0.05], [0.0, 0.5]], bins=nbins)"
   ]
  },
  {
   "cell_type": "code",
   "execution_count": null,
   "id": "0c9e7a10-e0f5-44ba-9344-e87db2764c75",
   "metadata": {},
   "outputs": [],
   "source": [
    "gr_binvals = []\n",
    "ug_binvals = []\n",
    "\n",
    "mingr = np.min(hist_grug[1])\n",
    "maxgr = np.max(hist_grug[1])\n",
    "\n",
    "norm = colors.Normalize(vmin=mingr, vmax=maxgr, clip=True)\n",
    "mapper = cm.ScalarMappable(norm=norm, cmap=cm.cool)\n",
    "\n",
    "for x in range(nbins):\n",
    "    poly = Polynomial.fit(hist_grug[2][:-1], hist_grug[0][x], deg=3)\n",
    "    resid = hist_grug[0][x]-poly(hist_grug[2][:-1])\n",
    "    plt.plot(hist_grug[2][:-1], resid, c=mapper.to_rgba(hist_grug[1][x]), linewidth=2, alpha=0.3)\n",
    "    peak = np.argmax(resid)\n",
    "    plt.plot(hist_grug[2][peak], resid[peak], 'k.')\n",
    "    gr_binvals.append(hist_grug[1][x])\n",
    "    ug_binvals.append(hist_grug[2][peak])\n",
    "\n",
    "plt.colorbar(mapper, label='g-r')\n",
    "plt.xlabel('(u-g)')\n",
    "plt.ylabel('residual number density')\n",
    "\n",
    "plt.show()"
   ]
  },
  {
   "cell_type": "code",
   "execution_count": null,
   "id": "9bdd287c-edb5-4f7b-b2b1-bbe7a353e2ac",
   "metadata": {},
   "outputs": [],
   "source": [
    "poly_grug0 = Polynomial.fit(gr_binvals, ug_binvals, deg=2)"
   ]
  },
  {
   "cell_type": "code",
   "execution_count": null,
   "id": "76607704-4835-4361-a22c-8c13427d525b",
   "metadata": {},
   "outputs": [],
   "source": [
    "plt.plot(gr_binvals, ug_binvals, 'k.', label='peaks')\n",
    "plt.plot(gr_binvals, poly_grug0(np.array(gr_binvals)), 'r', label='polynomial fit')\n",
    "plt.legend()\n",
    "plt.xlabel('(g-r)')\n",
    "plt.ylabel('(u-g)')\n",
    "plt.show()"
   ]
  },
  {
   "cell_type": "code",
   "execution_count": null,
   "id": "b3949382-b7e7-4319-a5bc-59052f537998",
   "metadata": {},
   "outputs": [],
   "source": [
    "nbins = 25\n",
    "hist_grug = np.histogram2d(gr0, ug0, range=[[-0.3, -0.05], [0.0, 0.5]], bins=nbins)"
   ]
  },
  {
   "cell_type": "code",
   "execution_count": null,
   "id": "0713258e-6c2d-443c-8a7e-7ae5c71ec605",
   "metadata": {},
   "outputs": [],
   "source": [
    "gr_binvals = []\n",
    "ug_binvals = []\n",
    "\n",
    "mingr = np.min(hist_grug[1])\n",
    "maxgr = np.max(hist_grug[1])\n",
    "\n",
    "norm = colors.Normalize(vmin=mingr, vmax=maxgr, clip=True)\n",
    "mapper = cm.ScalarMappable(norm=norm, cmap=cm.cool)\n",
    "\n",
    "for x in range(nbins):\n",
    "    poly = Polynomial.fit(hist_grug[2][:-1], hist_grug[0][x], deg=3)\n",
    "    resid = hist_grug[0][x]-poly(hist_grug[2][:-1])\n",
    "    plt.plot(hist_grug[2][:-1], resid, c=mapper.to_rgba(hist_grug[1][x]), linewidth=2, alpha=0.3)\n",
    "    peak = np.argmax(resid)\n",
    "    plt.plot(hist_grug[2][peak], resid[peak], 'k.')\n",
    "    gr_binvals.append(hist_grug[1][x])\n",
    "    ug_binvals.append(hist_grug[2][peak])\n",
    "\n",
    "plt.colorbar(mapper, label='g-r')\n",
    "plt.xlabel('(u-g)')\n",
    "plt.ylabel('residual number density')\n",
    "\n",
    "plt.show()"
   ]
  },
  {
   "cell_type": "code",
   "execution_count": null,
   "id": "9b638dee-edd3-4149-a163-6dd33c0e8abc",
   "metadata": {},
   "outputs": [],
   "source": [
    "ug_resid = ug_binvals-poly_grug0(np.array(gr_binvals))\n",
    "keepers = np.abs(ug_resid) < 0.025\n",
    "gr_keepers = np.array(gr_binvals)[keepers]\n",
    "ug_keepers = np.array(ug_binvals)[keepers]\n",
    "\n",
    "poly_grug = Polynomial.fit(gr_keepers, ug_keepers, deg=2)"
   ]
  },
  {
   "cell_type": "code",
   "execution_count": null,
   "id": "f5f4af2f-7885-47c0-ba5c-37d3fb6e62c2",
   "metadata": {},
   "outputs": [],
   "source": [
    "plt.plot(gr_binvals, ug_binvals, 'k.', label='peaks')\n",
    "plt.plot(gr_binvals, poly_grug(np.array(gr_binvals)), 'r', label='polynomial fit')\n",
    "plt.legend()\n",
    "plt.xlabel('(g-r)')\n",
    "plt.ylabel('(u-g)')\n",
    "plt.show()"
   ]
  },
  {
   "cell_type": "code",
   "execution_count": null,
   "id": "935436f3-3e90-4bc9-aeb7-84dbc0c1e245",
   "metadata": {},
   "outputs": [],
   "source": [
    "print(poly_griz.coef)\n",
    "print(poly_grrz.coef)\n",
    "print(poly_grug.coef)"
   ]
  },
  {
   "cell_type": "markdown",
   "id": "61ae91bb-4c64-48c3-9a1f-4a6975257cb9",
   "metadata": {},
   "source": [
    "## 2.2 Use the fits to extract BHB candidates\n",
    "\n",
    "Now that we have fit the location of the BHB stars in color-color space, we can use the fits to extract a sample of candidate BHB stars. Our selection criteria will be:\n",
    "\n",
    "1. -0.3 < (g-r) < 0.05\n",
    "2. (i-z) > -0.05\n",
    "3. within 0.03 mags of polynomial in (r-z) vs. (g-r)\n",
    "4. within 0.03 mags of polynomial in (i-z) vs. (g-r)\n",
    "5. within 0.05 mags of polynomial in (u-g) vs. (g-r)"
   ]
  },
  {
   "cell_type": "code",
   "execution_count": null,
   "id": "17e9526d-fcd5-46f5-80bf-4edd63dde382",
   "metadata": {},
   "outputs": [],
   "source": [
    "lowergr = -0.3\n",
    "uppergr = 0.05\n",
    "upperiz = -0.05\n",
    "color_color_cut_griz = poly_griz(gr0)\n",
    "color_color_cut_grz = poly_grrz(gr0)\n",
    "color_color_cut_grug = poly_grug(gr0)\n",
    "\n",
    "sel_gr_lower = (gr0 > lowergr)\n",
    "sel_gr_upper = (gr0 < uppergr)\n",
    "sel_iz_upper = (iz0 < upperiz)\n",
    "sel_griz_lower = (iz0 > color_color_cut_griz - 0.03)\n",
    "sel_griz_upper = (iz0 < color_color_cut_griz + 0.03)\n",
    "sel_grz_lower = (rz0 > color_color_cut_grz - 0.03)\n",
    "sel_grz_upper = (rz0 < color_color_cut_grz + 0.03)\n",
    "sel_grug_lower = (ug0 > color_color_cut_grug - 0.05)\n",
    "sel_grug_upper = (ug0 < color_color_cut_grug + 0.05)\n",
    "\n",
    "sel = sel_gr_lower & sel_gr_upper & sel_iz_upper & sel_griz_lower & \\\n",
    "      sel_griz_upper & sel_grz_lower & sel_grz_upper & sel_grug_lower & \\\n",
    "      sel_grug_upper"
   ]
  },
  {
   "cell_type": "markdown",
   "id": "564efa9a-9444-4961-8fff-a3daf581a143",
   "metadata": {},
   "source": [
    "### 2.2.1 Check that the selection picked the narrow feature we were after:"
   ]
  },
  {
   "cell_type": "code",
   "execution_count": null,
   "id": "8fc8be4c-936a-4292-abfc-c43d049ee723",
   "metadata": {},
   "outputs": [],
   "source": [
    "fig, ax = plt.subplots(3, 1, figsize=(5, 9))\n",
    "\n",
    "plt.subplots_adjust(hspace=0)\n",
    "\n",
    "plt.sca(ax[0])\n",
    "plt.hexbin(gr0, iz0, gridsize=200, extent=(-0.3, 0.0, -1.5, 1.5))\n",
    "plt.plot(gr0[sel], iz0[sel], 'w.', alpha=0.03)\n",
    "plt.xlim(-0.3, 0.0)\n",
    "plt.ylim(-1.5, 1.5)\n",
    "plt.minorticks_on()\n",
    "plt.ylabel('i-z')\n",
    "ax[0].xaxis.set_ticklabels([])\n",
    "\n",
    "plt.sca(ax[1])\n",
    "plt.hexbin(gr0, rz0, gridsize=200, extent=(-0.3, 0.0, -1.5, 2.0))\n",
    "plt.plot(gr0[sel], rz0[sel], 'w.', alpha=0.03)\n",
    "plt.xlim(-0.3, 0.0)\n",
    "plt.ylim(-1.5, 2)\n",
    "plt.minorticks_on()\n",
    "plt.ylabel('r-z')\n",
    "ax[1].xaxis.set_ticklabels([])\n",
    "\n",
    "plt.sca(ax[2])\n",
    "plt.hexbin(gr0, ug0, gridsize=200, extent=(-0.3, 0.0, -1.3, 1.0))\n",
    "plt.plot(gr0[sel], ug0[sel], 'w.', alpha=0.03)\n",
    "plt.xlim(-0.3, 0.0)\n",
    "plt.ylim(-0.4, 1.0)\n",
    "plt.minorticks_on()\n",
    "plt.xlabel('g-r')\n",
    "plt.ylabel('u-g')\n",
    "plt.show()"
   ]
  },
  {
   "cell_type": "markdown",
   "id": "b93b9e40-cdc3-4a8e-8251-d01b8f2d7c5f",
   "metadata": {},
   "source": [
    "Hooray - it looks like we've selected stars that are part of that feature! Now on to the science!"
   ]
  },
  {
   "cell_type": "markdown",
   "id": "491623de-73af-4ee5-99e3-6b787a1c69d6",
   "metadata": {},
   "source": [
    "## 3.0 BHB density profile of the (DC2) Milky Way\n",
    "\n",
    "In this section, we will derive distances to the BHB stars using a relationship from the literature. Then we will extract a radial density profile of BHB stars in the Milky Way.\n",
    "\n",
    "From [Deason et al. 2011](https://ui.adsabs.harvard.edu/abs/2011MNRAS.416.2903D/abstract), the absolute magnitudes of BHB stars are related to their colors by:\n",
    "\n",
    "$M_{g, BHB} = 0.434 − 0.169(g − r) + 2.319(g − r)^2 +20.449(g − r)^3 + 94.517(g − r)^4$\n",
    "\n",
    "_Caveat: this relation is based on SDSS data. One should rederive the relation for DC2 to do this properly. Nonetheless, this likely only contributes a few percent error to the distances._\n",
    "\n",
    "The following cell applies this relation to go from measured $g$ and $r$-band magnitudes to distances in kpc."
   ]
  },
  {
   "cell_type": "code",
   "execution_count": null,
   "id": "e0353df2-360e-4bf5-bda6-b5dff518acfb",
   "metadata": {},
   "outputs": [],
   "source": [
    "def bhbMagToDistKpc(gmag, rmag):\n",
    "    gr = gmag-rmag\n",
    "    M_g = 0.434 - (0.169*gr) + 2.319*(gr**2) + 20.449*(gr**3) + 94.517*(gr**4)\n",
    "    distmod = gmag-M_g\n",
    "    dist_pc = 10.0**((distmod + 5.0)/5.0)\n",
    "    dist_kpc = dist_pc/1000.0\n",
    "    return dist_kpc"
   ]
  },
  {
   "cell_type": "code",
   "execution_count": null,
   "id": "d7da646d-3333-4308-bb3e-4bec9f4a2b7f",
   "metadata": {},
   "outputs": [],
   "source": [
    "# Get distances for our candidates:\n",
    "\n",
    "bhb_dist_kpc = bhbMagToDistKpc(g0[sel], r0[sel])"
   ]
  },
  {
   "cell_type": "code",
   "execution_count": null,
   "id": "1f55316c-e5e8-4868-989a-15722a56e9ed",
   "metadata": {},
   "outputs": [],
   "source": [
    "sc_bhb = SkyCoord(ra=bhb_gr_color[sel]['coord_ra']*u.deg,\n",
    "                  dec=bhb_gr_color[sel]['coord_dec']*u.deg,\n",
    "                  distance=bhb_dist_kpc*u.kpc, frame='icrs')"
   ]
  },
  {
   "cell_type": "markdown",
   "id": "c7edc6de-8a8d-46f3-bf7b-f0c21852bf69",
   "metadata": {},
   "source": [
    "The distances are as measured from the Sun (\"heliocentric\"). Since we're interested in the Milky Way's radial density profile, convert the distances to Galactocentric, then calculate the radial distance from the Galactic center. Thankfully, [Astropy](https://docs.astropy.org/en/stable/index.html)'s [SkyCoord](https://docs.astropy.org/en/stable/api/astropy.coordinates.SkyCoord.html) objects make this easy:"
   ]
  },
  {
   "cell_type": "code",
   "execution_count": null,
   "id": "08d2d2e5-047c-47fd-9e35-c1ee37ff1fe4",
   "metadata": {},
   "outputs": [],
   "source": [
    "rad_bhb = np.sqrt(sc_bhb.galactocentric.x**2\n",
    "                  + sc_bhb.galactocentric.y**2\n",
    "                  + sc_bhb.galactocentric.z**2)"
   ]
  },
  {
   "cell_type": "code",
   "execution_count": null,
   "id": "7ad34078-ffd4-4ca8-b697-c67d57cb30a5",
   "metadata": {},
   "outputs": [],
   "source": [
    "binwidth_kpc = 10.0\n",
    "radbins = np.arange(0, 600, binwidth_kpc)\n",
    "nbhb_bins, bhb_bin_edges = np.histogram(rad_bhb.value, bins=radbins)\n",
    "bin_edges = bhb_bin_edges[:-1]\n",
    "bin_centers = bin_edges+(binwidth_kpc/2)\n",
    "volume_bins = np.array([(4.0/3.0)*np.pi*(((rad+binwidth_kpc)**3)-(rad**3)) for rad in bin_edges])\n",
    "bhb_density_bins = nbhb_bins/volume_bins\n",
    "\n",
    "nbhb_sel_bins, bhb_sel_bin_edges = np.histogram(rad_bhb.value, bins=radbins)\n",
    "bhb_sel_density_bins = nbhb_sel_bins/volume_bins\n"
   ]
  },
  {
   "cell_type": "code",
   "execution_count": null,
   "id": "f0e67328-14ce-458b-87c7-3f337d65d5cf",
   "metadata": {},
   "outputs": [],
   "source": [
    "plt.plot(bin_centers, bhb_density_bins, linewidth=2, color='DodgerBlue', label='ugriz sel')\n",
    "plt.plot(bin_centers, bhb_density_bins, '.', c='DodgerBlue', ms=10, label='__none__')\n",
    "plt.xlabel(r'distance (kpc)')\n",
    "plt.ylabel(r'$\\rho_{\\rm BHB} ({\\rm kpc}^{-3})$')\n",
    "plt.legend()\n",
    "plt.semilogy()\n",
    "plt.minorticks_on()\n",
    "plt.show()"
   ]
  },
  {
   "cell_type": "markdown",
   "id": "7b49961e-e158-4aa5-8e39-2232908eb6d7",
   "metadata": {
    "tags": []
   },
   "source": [
    "### 3.1 Power-law fit\n",
    "\n",
    "We fit a powerlaw to the density profile of the form $\\rho \\propto R^{-n}$, where $R$ is the Galactocentric radius, $\\rho$ is the BHB density as a function of $R$, and $n$ is the powerlaw index.\n",
    "\n",
    "Note that because BHB stars at distances $\\lesssim 50$ kpc are bright and often saturated in the DC2 dataset, we limit the fit to $70 < R < 300$ kpc. We use the `numpy` function `polyfit`:"
   ]
  },
  {
   "cell_type": "code",
   "execution_count": null,
   "id": "f38d4aa8-e42e-490a-9f17-03311b8e2710",
   "metadata": {},
   "outputs": [],
   "source": [
    "okfit_bins = (bin_centers > 70.0) & (bin_centers < 300.0)\n",
    "bhb_sel_powerlaw_fit = np.polyfit(bin_centers[okfit_bins],\n",
    "                                  np.log10(bhb_sel_density_bins[okfit_bins]),\n",
    "                                  1)\n",
    "print('Powerlaw fit: ', bhb_sel_powerlaw_fit)\n",
    "\n",
    "bhb_sel_powerlaw = np.poly1d(bhb_sel_powerlaw_fit)"
   ]
  },
  {
   "cell_type": "code",
   "execution_count": null,
   "id": "bcdb98d8-147f-430d-9d17-838a1dfe524b",
   "metadata": {},
   "outputs": [],
   "source": [
    "plt.plot(bin_centers, bhb_density_bins, linewidth=2, color='DodgerBlue', label='ugriz sel')\n",
    "plt.plot(bin_centers, bhb_density_bins, '.', c='DodgerBlue', ms=10, label='__none__')\n",
    "plt.plot(bin_centers, 10.0**bhb_sel_powerlaw(bin_centers), linestyle='--', color='black',\n",
    "         label='polynomial fit, n='+f'{bhb_sel_powerlaw_fit[1]:.2f}')\n",
    "plt.xlabel(r'distance (kpc)')\n",
    "plt.ylabel(r'$\\rho_{\\rm BHB} ({\\rm kpc}^{-3})$')\n",
    "plt.legend()\n",
    "plt.semilogy()\n",
    "plt.minorticks_on()\n",
    "plt.show()"
   ]
  },
  {
   "cell_type": "markdown",
   "id": "3c7946ec-91ef-43bf-ae93-539bd83e4b1d",
   "metadata": {},
   "source": [
    "From [Juric et al. 2008](https://ui.adsabs.harvard.edu/abs/2008ApJ...673..864J/abstract), Table 5, the best fit halo density profile from SDSS goes as $\\sim R^{-2.8}$. The `galfast` model that went into DC2 used the Milky Way parameters from Juric+2008, so our \"expected\" result for the powerlaw should be $n_{expected} = 2.8$. We find $n = 2.7$, which is pretty excellent agreement given our rather simple methods!"
   ]
  },
  {
   "cell_type": "markdown",
   "id": "d1a7eb12-b333-432b-a42c-5befbfa8b543",
   "metadata": {},
   "source": [
    "#### Notes:\n",
    "\n",
    "We don't necessarily expect that the Milky Way will have stars out to 600 kpc, given that its virial radius is thought to be ~300 kpc. However, the simulated dataset includes stars out to a cutoff radius of 1 Mpc (see [these lines in the galfast code](https://github.com/mjuric/galfast/blob/b9900900657c9709dc8130285819b3bce6a3b2c1/src/skygen/model_J08.cpp#L65-L67)). Our density profile above suggests that we should be able to see a truncation in the Milky Way with BHB stars from LSST, if it exists.\n",
    "\n",
    "In this exercise, we are not accounting for a possible non-spherical halo (e.g., Juric+2008 found oblate halo with q~0.6). However, with a dataset spanning only a small region of sky, that would be difficult to measure anyway.\n",
    "\n",
    "Note also that we haven't include error bars on the density bins or profile fits. Those would make excellent \"next steps.\"\n",
    "\n",
    "Finally, a note that the narrow strip of BHB stars was relatively easy to pick out in this simulated DC2 data set. In real life, there are complications like blue straggler stars (not present in DC2, but with similar colors to BHBs), and substructure in the halo, that will make this much more difficult.\n"
   ]
  }
 ],
 "metadata": {
  "kernelspec": {
   "display_name": "LSST",
   "language": "python",
   "name": "lsst"
  },
  "language_info": {
   "codemirror_mode": {
    "name": "ipython",
    "version": 3
   },
   "file_extension": ".py",
   "mimetype": "text/x-python",
   "name": "python",
   "nbconvert_exporter": "python",
   "pygments_lexer": "ipython3",
   "version": "3.10.5"
  }
 },
 "nbformat": 4,
 "nbformat_minor": 5
}
