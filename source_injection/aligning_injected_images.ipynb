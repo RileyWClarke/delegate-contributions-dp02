{
 "cells": [
  {
   "cell_type": "markdown",
   "id": "ebe42c05-f8d8-4157-a11e-37bcee151d19",
   "metadata": {},
   "source": [
    "# Inject sources into multiple images, then align them\n",
    "\n",
    "Contact author: Jeff Carlin\n",
    "\n",
    "Date last verified to run: Mon Apr 29 2024\n",
    "\n",
    "RSP environment version: Weekly 2024_16\n",
    "\n",
    "**Summary:**\n",
    "A demo of how to inject sources into a set of `calexp` images, then \"warp\" those images to a common WCS so that they are aligned.\n",
    "\n",
    "Import packages and then instantiate a butler for DP0.2."
   ]
  },
  {
   "cell_type": "code",
   "execution_count": null,
   "id": "22d6a029-ca35-4b7d-a588-532331a6d728",
   "metadata": {},
   "outputs": [],
   "source": [
    "import matplotlib.pyplot as plt\n",
    "import os\n",
    "import astropy.units as u\n",
    "from astropy.coordinates import SkyCoord\n",
    "\n",
    "from lsst.daf.butler import Butler\n",
    "from lsst.daf.butler.registry import ConflictingDefinitionError\n",
    "import lsst.afw.display as afwDisplay\n",
    "from lsst.source.injection import ingest_injection_catalog, generate_injection_catalog\n",
    "from lsst.source.injection import VisitInjectConfig, VisitInjectTask\n",
    "import lsst.sphgeom\n",
    "from lsst.pipe.tasks.registerImage import RegisterConfig, RegisterTask\n",
    "\n",
    "afwDisplay.setDefaultBackend('matplotlib')\n",
    "plt.style.use('tableau-colorblind10')"
   ]
  },
  {
   "cell_type": "code",
   "execution_count": null,
   "id": "f31f7713-799c-4be6-8611-98b936d930ff",
   "metadata": {},
   "outputs": [],
   "source": [
    "butler_config = 'dp02'\n",
    "collections = '2.2i/runs/DP0.2'\n",
    "butler = Butler(butler_config, collections=collections)"
   ]
  },
  {
   "cell_type": "markdown",
   "id": "0c7edc9f-8527-442f-b863-d49b1058198a",
   "metadata": {},
   "source": [
    "### Find calexps overlapping a given position on the sky:"
   ]
  },
  {
   "cell_type": "code",
   "execution_count": null,
   "id": "b89ae6b9-0685-4d22-8a7d-5d3509e4cbbc",
   "metadata": {},
   "outputs": [],
   "source": [
    "ra_known_rrl = 62.1479031\n",
    "dec_known_rrl = -35.799138"
   ]
  },
  {
   "cell_type": "code",
   "execution_count": null,
   "id": "1d88c6ff-f7bf-4e37-8979-e81fa634a488",
   "metadata": {},
   "outputs": [],
   "source": [
    "level = 20  # the resolution of the HTM grid\n",
    "pixelization = lsst.sphgeom.HtmPixelization(level)"
   ]
  },
  {
   "cell_type": "code",
   "execution_count": null,
   "id": "839b9cdf-1b27-4c38-838e-dc94d7f6188d",
   "metadata": {},
   "outputs": [],
   "source": [
    "htm_id = pixelization.index(\n",
    "    lsst.sphgeom.UnitVector3d(\n",
    "        lsst.sphgeom.LonLat.fromDegrees(ra_known_rrl, dec_known_rrl)\n",
    "    )\n",
    ")"
   ]
  },
  {
   "cell_type": "code",
   "execution_count": null,
   "id": "fa682db6-d99e-4bee-b5de-c52bace3203a",
   "metadata": {},
   "outputs": [],
   "source": [
    "circle = pixelization.triangle(htm_id).getBoundingCircle()\n",
    "scale = circle.getOpeningAngle().asDegrees()*3600.\n",
    "level = pixelization.getLevel()\n",
    "print(f'HTM ID={htm_id} at level={level} is bounded by a circle of radius ~{scale:0.2f} arcsec.')"
   ]
  },
  {
   "cell_type": "code",
   "execution_count": null,
   "id": "fa8867b8-abb8-4778-bbc7-f20b332cd5dd",
   "metadata": {},
   "outputs": [],
   "source": [
    "datasetRefs = butler.registry.queryDatasets(\"calexp\", htm20=htm_id,\n",
    "                                            where=\"band = 'i'\")\n",
    "\n",
    "datasetRefs_list = []\n",
    "for i, ref in enumerate(datasetRefs):\n",
    "    datasetRefs_list.append(ref)\n",
    "\n",
    "print(f\"Found {len(list(datasetRefs))} calexps\")"
   ]
  },
  {
   "cell_type": "markdown",
   "id": "3e41ab92-d5c7-496f-bf03-124e7c84e823",
   "metadata": {},
   "source": [
    "### Extract 3 calexp images to inject sources into"
   ]
  },
  {
   "cell_type": "code",
   "execution_count": null,
   "id": "e98bec7b-c66d-4cb8-a274-b75eb147386c",
   "metadata": {},
   "outputs": [],
   "source": [
    "dataId_i1 = datasetRefs_list[1].dataId\n",
    "dataId_i2 = datasetRefs_list[6].dataId\n",
    "dataId_i3 = datasetRefs_list[7].dataId\n",
    "\n",
    "print(f\"{dataId_i1 = }\")\n",
    "print(f\"{dataId_i2 = }\")\n",
    "print(f\"{dataId_i3 = }\")"
   ]
  },
  {
   "cell_type": "code",
   "execution_count": null,
   "id": "45a79278-9012-4f9b-bac7-2b9cbc3c2637",
   "metadata": {},
   "outputs": [],
   "source": [
    "calexp_i1 = butler.get('calexp', dataId=dataId_i1)\n",
    "calexp_i2 = butler.get('calexp', dataId=dataId_i2)\n",
    "calexp_i3 = butler.get('calexp', dataId=dataId_i3)"
   ]
  },
  {
   "cell_type": "markdown",
   "id": "56575bcc-1a5a-45d4-86c0-0dd50c3eaf1e",
   "metadata": {},
   "source": [
    "Extract coordinates, the WCS, and the bounding box for each `calexp`."
   ]
  },
  {
   "cell_type": "code",
   "execution_count": null,
   "id": "f0d0f954-aec8-4dff-b91b-56be65df027a",
   "metadata": {},
   "outputs": [],
   "source": [
    "wcs1 = calexp_i1.getWcs()\n",
    "bbox1 = calexp_i1.getBBox()\n",
    "print('bounding box: ', bbox1)\n",
    "\n",
    "boxcen1 = bbox1.getCenter()\n",
    "cen1 = wcs1.pixelToSky(boxcen1)\n",
    "sc_cen1 = SkyCoord(ra=cen1[0].asDegrees()*u.deg, dec=cen1[1].asDegrees()*u.deg)\n",
    "\n",
    "print(sc_cen1)\n",
    "\n",
    "wcs2 = calexp_i2.getWcs()\n",
    "bbox2 = calexp_i2.getBBox()\n",
    "print('bounding box: ', bbox2)\n",
    "\n",
    "boxcen2 = bbox2.getCenter()\n",
    "cen2 = wcs2.pixelToSky(boxcen2)\n",
    "sc_cen2 = SkyCoord(ra=cen2[0].asDegrees()*u.deg, dec=cen2[1].asDegrees()*u.deg)\n",
    "\n",
    "print(sc_cen2)\n",
    "\n",
    "wcs3 = calexp_i3.getWcs()\n",
    "bbox3 = calexp_i3.getBBox()\n",
    "print('bounding box: ', bbox3)\n",
    "\n",
    "boxcen3 = bbox3.getCenter()\n",
    "cen3 = wcs3.pixelToSky(boxcen3)\n",
    "sc_cen3 = SkyCoord(ra=cen3[0].asDegrees()*u.deg, dec=cen3[1].asDegrees()*u.deg)\n",
    "\n",
    "print(sc_cen3)"
   ]
  },
  {
   "cell_type": "markdown",
   "id": "726d951b-44f8-4611-a8fe-cc1146fd3f12",
   "metadata": {},
   "source": [
    "### Create a catalog of sources to inject"
   ]
  },
  {
   "cell_type": "code",
   "execution_count": null,
   "id": "e4ed6552-b333-498c-af9a-7cca056fcfc4",
   "metadata": {},
   "outputs": [],
   "source": [
    "inject_size = 3/60  # in degrees"
   ]
  },
  {
   "cell_type": "markdown",
   "id": "b7c95ef3-8f9a-4a07-8f14-69b52f4121fe",
   "metadata": {},
   "source": [
    "This will generate 21 \"Sersic\" type sources (i.e., \"galaxies\"), all with the same magnitude (mag), Sersic index (n), ellipticity (q), position angle (beta), and half-light radius."
   ]
  },
  {
   "cell_type": "code",
   "execution_count": null,
   "id": "fec73785-f346-4727-8b89-77d0788396f1",
   "metadata": {},
   "outputs": [],
   "source": [
    "my_injection_catalog_galaxies = generate_injection_catalog(\n",
    "    ra_lim=[sc_cen1.ra.value-inject_size, sc_cen1.ra.value+inject_size],\n",
    "    dec_lim=[sc_cen1.dec.value-inject_size, sc_cen1.dec.value+inject_size],\n",
    "    number=21,\n",
    "    seed='3210',\n",
    "    source_type=\"Sersic\",\n",
    "    mag=[15.0],\n",
    "    n=[1],\n",
    "    q=[0.5],\n",
    "    beta=[31.0],\n",
    "    half_light_radius=[15.0],\n",
    ")"
   ]
  },
  {
   "cell_type": "code",
   "execution_count": null,
   "id": "7a35893f-734e-4cf8-8121-c3106f19eae7",
   "metadata": {},
   "outputs": [],
   "source": [
    "inject_cat = my_injection_catalog_galaxies"
   ]
  },
  {
   "cell_type": "markdown",
   "id": "3eef0e86-cba3-4ee0-8102-1fa7b6b8b4a4",
   "metadata": {},
   "source": [
    "### Ingest the catalog into a butler"
   ]
  },
  {
   "cell_type": "code",
   "execution_count": null,
   "id": "b414461c-282e-4b17-9fed-029719341102",
   "metadata": {},
   "outputs": [],
   "source": [
    "# Get username.\n",
    "user = os.getenv(\"USER\")\n",
    "\n",
    "INJECTION_CATALOG_COLLECTION = f\"u/{user}/injection_inputs21_contrib\"\n",
    "\n",
    "# Instantiate a writeable butler.\n",
    "writeable_butler = Butler(butler_config, writeable=True)"
   ]
  },
  {
   "cell_type": "code",
   "execution_count": null,
   "id": "ce69a842-b8df-47c0-96b9-218a83d17fe8",
   "metadata": {},
   "outputs": [],
   "source": [
    "try:\n",
    "    my_injected_datasetRefs = ingest_injection_catalog(\n",
    "        writeable_butler=writeable_butler,\n",
    "        table=inject_cat,\n",
    "        band=\"i\",\n",
    "        output_collection=INJECTION_CATALOG_COLLECTION,\n",
    "    )\n",
    "except ConflictingDefinitionError:\n",
    "    print(f\"Found an existing collection named INJECTION_CATALOG_COLLECTION={INJECTION_CATALOG_COLLECTION}.\")\n",
    "    print(\"\\nNOTE THAT IF YOU SEE THIS MESSAGE, YOUR CATALOG WAS NOT INGESTED.\"\\\n",
    "          \"\\nYou may either continue with the pre-existing catalog, or choose a new\"\\\n",
    "          \" name and re-run the previous cell and this one to ingest a new catalog.\")"
   ]
  },
  {
   "cell_type": "markdown",
   "id": "58e6e759-4d8d-470b-94d5-a3636779ac6a",
   "metadata": {},
   "source": [
    "### Inject the sources into all 3 calexp images"
   ]
  },
  {
   "cell_type": "code",
   "execution_count": null,
   "id": "e0d9db8b-e06a-448f-a9c4-1d4743d7abc2",
   "metadata": {},
   "outputs": [],
   "source": [
    "psf1 = calexp_i1.getPsf()\n",
    "photo_calib1 = calexp_i1.getPhotoCalib()\n",
    "wcs1 = calexp_i1.getWcs()\n",
    "\n",
    "psf2 = calexp_i2.getPsf()\n",
    "photo_calib2 = calexp_i2.getPhotoCalib()\n",
    "wcs2 = calexp_i2.getWcs()\n",
    "\n",
    "psf3 = calexp_i3.getPsf()\n",
    "photo_calib3 = calexp_i3.getPhotoCalib()\n",
    "wcs3 = calexp_i3.getWcs()"
   ]
  },
  {
   "cell_type": "code",
   "execution_count": null,
   "id": "fb377c36-bf0d-4d5d-bd83-1b9665c98eea",
   "metadata": {},
   "outputs": [],
   "source": [
    "# Load the input injection catalogs from the butler.\n",
    "injection_refs = butler.registry.queryDatasets(\n",
    "    \"injection_catalog\",\n",
    "    band=\"i\",\n",
    "    collections=INJECTION_CATALOG_COLLECTION,\n",
    ")\n",
    "injection_catalogs = [\n",
    "    butler.get(injection_ref) for injection_ref in injection_refs\n",
    "]"
   ]
  },
  {
   "cell_type": "markdown",
   "id": "27245523-ec31-47f3-8295-5b139297ce47",
   "metadata": {},
   "source": [
    "Initialize the injection task, then run it on each of the 3 `calexps`."
   ]
  },
  {
   "cell_type": "code",
   "execution_count": null,
   "id": "d245a628-e12a-4da5-ab26-af8bbe2dce22",
   "metadata": {},
   "outputs": [],
   "source": [
    "inject_config = VisitInjectConfig()\n",
    "inject_task = VisitInjectTask(config=inject_config)"
   ]
  },
  {
   "cell_type": "code",
   "execution_count": null,
   "id": "880d9124-8513-44b4-9933-883e9207562a",
   "metadata": {},
   "outputs": [],
   "source": [
    "injected_output1 = inject_task.run(\n",
    "    injection_catalogs=injection_catalogs,\n",
    "    input_exposure=calexp_i1.clone(),\n",
    "    psf=psf1,\n",
    "    photo_calib=photo_calib1,\n",
    "    wcs=wcs1,\n",
    ")\n",
    "injected_exposure1 = injected_output1.output_exposure\n",
    "injected_catalog1 = injected_output1.output_catalog"
   ]
  },
  {
   "cell_type": "code",
   "execution_count": null,
   "id": "19073a93-55b3-45eb-b335-904d90fa1b8e",
   "metadata": {},
   "outputs": [],
   "source": [
    "injected_output2 = inject_task.run(\n",
    "    injection_catalogs=injection_catalogs,\n",
    "    input_exposure=calexp_i2.clone(),\n",
    "    psf=psf2,\n",
    "    photo_calib=photo_calib2,\n",
    "    wcs=wcs2,\n",
    ")\n",
    "injected_exposure2 = injected_output2.output_exposure\n",
    "injected_catalog2 = injected_output2.output_catalog"
   ]
  },
  {
   "cell_type": "code",
   "execution_count": null,
   "id": "b8b0ab0b-2291-4d89-b941-f6ccbfc6dd3e",
   "metadata": {},
   "outputs": [],
   "source": [
    "injected_output3 = inject_task.run(\n",
    "    injection_catalogs=injection_catalogs,\n",
    "    input_exposure=calexp_i3.clone(),\n",
    "    psf=psf3,\n",
    "    photo_calib=photo_calib3,\n",
    "    wcs=wcs3,\n",
    ")\n",
    "injected_exposure3 = injected_output3.output_exposure\n",
    "injected_catalog3 = injected_output3.output_catalog"
   ]
  },
  {
   "cell_type": "markdown",
   "id": "9fb1af81-7996-4560-8fd3-2ecbeef6eda1",
   "metadata": {},
   "source": [
    "### Display the source-injected images"
   ]
  },
  {
   "cell_type": "code",
   "execution_count": null,
   "id": "9d9b48ee-815f-4ba8-9f1e-902b5e3135bf",
   "metadata": {},
   "outputs": [],
   "source": [
    "plot_injected_calexp1 = injected_exposure1.clone()\n",
    "plot_injected_calexp2 = injected_exposure2.clone()\n",
    "plot_injected_calexp3 = injected_exposure3.clone()\n",
    "\n",
    "fig, ax = plt.subplots(1, 3, figsize=(10, 6), dpi=150)\n",
    "\n",
    "plt.sca(ax[0])\n",
    "display0 = afwDisplay.Display(frame=fig)\n",
    "# display0.scale('linear', 'zscale')\n",
    "display0.scale('linear', min=-20, max=150)\n",
    "display0.mtv(plot_injected_calexp1.image)\n",
    "plt.title('injected_calexp image1')\n",
    "\n",
    "plt.sca(ax[1])\n",
    "display1 = afwDisplay.Display(frame=fig)\n",
    "# display1.scale('linear', 'zscale')\n",
    "display1.scale('linear', min=-20, max=150)\n",
    "display1.mtv(plot_injected_calexp2.image)\n",
    "plt.title('injected_calexp image2')\n",
    "\n",
    "plt.sca(ax[2])\n",
    "display2 = afwDisplay.Display(frame=fig)\n",
    "# display1.scale('linear', 'zscale')\n",
    "display2.scale('linear', min=-20, max=150)\n",
    "display2.mtv(plot_injected_calexp3.image)\n",
    "plt.title('injected_calexp image3')\n",
    "\n",
    "plt.tight_layout()\n",
    "plt.show()"
   ]
  },
  {
   "cell_type": "markdown",
   "id": "d0b24bc8-c35b-4ab7-930c-4ecf2b29ea51",
   "metadata": {},
   "source": [
    "### Warp the images to match the WCS of the first one, then display them\n",
    "\n",
    "In the above image, you can see that the `calexp` images have different rotation on the sky. The following cells will \"warp\" the images to a common sky orientation. This is done using the `RegisterTask` and giving it the first `calexp` as the reference image."
   ]
  },
  {
   "cell_type": "code",
   "execution_count": null,
   "id": "b27d8bb3-bb4f-43f6-8165-6b54118fbf08",
   "metadata": {},
   "outputs": [],
   "source": [
    "def warp_img(ref_img, img_to_warp, ref_wcs, wcs_to_warp):\n",
    "\n",
    "    config = RegisterConfig()\n",
    "    task = RegisterTask(name=\"register\", config=config)\n",
    "    warpedExp = task.warpExposure(img_to_warp, wcs_to_warp, ref_wcs,\n",
    "                                  ref_img.getBBox())\n",
    "\n",
    "    return warpedExp"
   ]
  },
  {
   "cell_type": "code",
   "execution_count": null,
   "id": "8380d647-5516-4aee-be1b-2c2210633481",
   "metadata": {},
   "outputs": [],
   "source": [
    "img_warped2 = warp_img(injected_exposure1, injected_exposure2, wcs1, wcs2)\n",
    "img_warped3 = warp_img(injected_exposure1, injected_exposure3, wcs1, wcs3)"
   ]
  },
  {
   "cell_type": "code",
   "execution_count": null,
   "id": "49c58bf7-48b0-45a5-80a5-2ed3e07298d5",
   "metadata": {},
   "outputs": [],
   "source": [
    "plot_warped_calexp2 = img_warped2.clone()\n",
    "plot_warped_calexp3 = img_warped3.clone()\n",
    "\n",
    "fig, ax = plt.subplots(1, 3, figsize=(10, 6), dpi=150)\n",
    "\n",
    "plt.sca(ax[0])\n",
    "display0 = afwDisplay.Display(frame=fig)\n",
    "# display0.scale('linear', 'zscale')\n",
    "display0.scale('linear', min=-20, max=150)\n",
    "display0.mtv(plot_injected_calexp1.image)\n",
    "plt.title('injected_calexp image1')\n",
    "\n",
    "plt.sca(ax[1])\n",
    "display1 = afwDisplay.Display(frame=fig)\n",
    "# display1.scale('linear', 'zscale')\n",
    "display1.scale('linear', min=-20, max=150)\n",
    "display1.mtv(plot_warped_calexp2.image)\n",
    "plt.title('warped calexp image2')\n",
    "\n",
    "plt.sca(ax[2])\n",
    "display2 = afwDisplay.Display(frame=fig)\n",
    "# display1.scale('linear', 'zscale')\n",
    "display2.scale('linear', min=-20, max=150)\n",
    "display2.mtv(plot_warped_calexp3.image)\n",
    "plt.title('warped calexp image3')\n",
    "\n",
    "plt.tight_layout()\n",
    "plt.show()"
   ]
  },
  {
   "cell_type": "markdown",
   "id": "50da01db-8f28-40ec-b47d-d806fadbfb2e",
   "metadata": {},
   "source": [
    "Hooray -- they all seem to line up!"
   ]
  },
  {
   "cell_type": "markdown",
   "id": "45ccbf82-d0ea-43a7-8000-444bfbee7b91",
   "metadata": {},
   "source": [
    "### Confirm that they are aligned by summing them\n",
    "\n",
    "Note that by default this will only add pixels that are present in all three images."
   ]
  },
  {
   "cell_type": "code",
   "execution_count": null,
   "id": "19e74736-800a-49fc-9a68-dbebaae5bb7a",
   "metadata": {},
   "outputs": [],
   "source": [
    "summed_image = plot_injected_calexp1.clone().image\n",
    "summed_image += plot_warped_calexp2.image\n",
    "summed_image += plot_warped_calexp3.image\n",
    "\n",
    "fig, ax = plt.subplots(1, 2, figsize=(8, 4), dpi=150)\n",
    "\n",
    "plt.sca(ax[0])\n",
    "display0 = afwDisplay.Display(frame=fig)\n",
    "# display0.scale('linear', 'zscale')\n",
    "display0.scale('linear', min=-20, max=150)\n",
    "display0.mtv(plot_injected_calexp1.image)\n",
    "\n",
    "plt.sca(ax[1])\n",
    "display1 = afwDisplay.Display(frame=fig)\n",
    "# display1.scale('linear', 'zscale')\n",
    "display1.scale('linear', min=-20, max=150)\n",
    "display1.mtv(summed_image)\n",
    "\n",
    "plt.tight_layout()\n",
    "plt.show()"
   ]
  }
 ],
 "metadata": {
  "kernelspec": {
   "display_name": "LSST",
   "language": "python",
   "name": "lsst"
  },
  "language_info": {
   "codemirror_mode": {
    "name": "ipython",
    "version": 3
   },
   "file_extension": ".py",
   "mimetype": "text/x-python",
   "name": "python",
   "nbconvert_exporter": "python",
   "pygments_lexer": "ipython3",
   "version": "3.11.7"
  }
 },
 "nbformat": 4,
 "nbformat_minor": 5
}
