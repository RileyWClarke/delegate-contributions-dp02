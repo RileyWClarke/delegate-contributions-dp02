{
 "cells": [
  {
   "cell_type": "markdown",
   "id": "ebe42c05-f8d8-4157-a11e-37bcee151d19",
   "metadata": {},
   "source": [
    "# Inject variable sources into multiple images\n",
    "\n",
    "Contact author: Jeff Carlin\n",
    "\n",
    "Date last verified to run: Mon Apr 29 2024\n",
    "\n",
    "RSP environment version: Weekly 2024_16\n",
    "\n",
    "**Summary:**\n",
    "A demo of how to inject a variable source into a set of `calexp` images, with the correct magnitude for each image, and then \"warp\" those images to a common WCS so that they are aligned and extract cutout images.\n",
    "\n",
    "Import packages and then instantiate a butler for DP0.2."
   ]
  },
  {
   "cell_type": "code",
   "execution_count": null,
   "id": "22d6a029-ca35-4b7d-a588-532331a6d728",
   "metadata": {},
   "outputs": [],
   "source": [
    "import matplotlib.pyplot as plt\n",
    "import numpy as np\n",
    "import os\n",
    "import astropy.units as u\n",
    "from astropy.table import Table\n",
    "from astropy.coordinates import SkyCoord\n",
    "\n",
    "from lsst.daf.butler import Butler\n",
    "from lsst.daf.butler.registry import ConflictingDefinitionError\n",
    "import lsst.afw.display as afwDisplay\n",
    "import lsst.geom as geom\n",
    "from lsst.source.injection import ingest_injection_catalog, generate_injection_catalog\n",
    "from lsst.source.injection import VisitInjectConfig, VisitInjectTask\n",
    "import lsst.sphgeom\n",
    "from lsst.pipe.tasks.registerImage import RegisterConfig, RegisterTask\n",
    "\n",
    "afwDisplay.setDefaultBackend('matplotlib')\n",
    "plt.style.use('tableau-colorblind10')"
   ]
  },
  {
   "cell_type": "code",
   "execution_count": null,
   "id": "ef947fef-3081-40a6-bd4f-bf10f9ad9ee6",
   "metadata": {},
   "outputs": [],
   "source": [
    "def cutout(im, xcen, ycen, size):\n",
    "    '''Create a cutout of an input image array\n",
    "\n",
    "    Parameters\n",
    "    ----------\n",
    "    im: `Image`\n",
    "        Input image (extracted from an ExposureF) to cut down\n",
    "    xcen, ycen: `int`\n",
    "        Integer XY coordinates to center the cutout on\n",
    "    size: `int`\n",
    "        Width in pixels of the resulting image\n",
    "    '''\n",
    "    return im[xcen-size/2:xcen+size/2, ycen-size/2:ycen+size/2]"
   ]
  },
  {
   "cell_type": "code",
   "execution_count": null,
   "id": "03786524-b168-4326-86c6-b6e2304f3886",
   "metadata": {},
   "outputs": [],
   "source": [
    "def sinusoidal_variability(period_days, amplitude_mags, mean_mag, exposure_midpts_mjd):\n",
    "    '''Given input parameters and exposure midpoints,\n",
    "        create a sinusoidally varying light curve\n",
    "\n",
    "    Parameters:\n",
    "    -----------\n",
    "    period_days: `float`\n",
    "        Sinusoidal period, in days\n",
    "    amplitude_mags: `float`\n",
    "        Amplitude of the variability, in magnitudes\n",
    "    mean_mag: `float`\n",
    "        Mean magnitude\n",
    "    exposure_midpts_mjd: `array` of `floats`\n",
    "        Midpoint times of exposures for which to calculate the magnitude\n",
    "    '''\n",
    "    # mag = mean_mag + A*sin(phase)\n",
    "    # Set the magnitude in the first image to the mean:\n",
    "    mag0 = mean_mag\n",
    "    t0 = exposure_midpts_mjd[0]\n",
    "    t_days = exposure_midpts_mjd - t0\n",
    "    mjd_norm = t_days / period_days\n",
    "    phase = np.mod(mjd_norm, 1.0)\n",
    "    mags = mean_mag + amplitude_mags*np.sin(phase*2.0*np.pi)\n",
    "\n",
    "    return mags\n",
    "    "
   ]
  },
  {
   "cell_type": "code",
   "execution_count": null,
   "id": "fdb471f5-5d1b-4499-8d36-369557968cd2",
   "metadata": {},
   "outputs": [],
   "source": [
    "def warp_img(ref_img, img_to_warp, ref_wcs, wcs_to_warp):\n",
    "    '''Warp an image to the same orientation as a reference image\n",
    "\n",
    "    Parameters\n",
    "    ----------\n",
    "    ref_img: `ExposureF`\n",
    "        Reference image to warp to\n",
    "    img_to_warp: `ExposureF`\n",
    "        Image to warp to the reference orientation\n",
    "    ref_wcs: `WCS` object\n",
    "        WCS of the reference image\n",
    "    wcs_to_warp: `WCS` object\n",
    "        WCS of the input image to be warped\n",
    "    '''\n",
    "\n",
    "    config = RegisterConfig()\n",
    "    task = RegisterTask(name=\"register\", config=config)\n",
    "    warpedExp = task.warpExposure(img_to_warp, wcs_to_warp, ref_wcs,\n",
    "                                  ref_img.getBBox())\n",
    "\n",
    "    return warpedExp"
   ]
  },
  {
   "cell_type": "code",
   "execution_count": null,
   "id": "f31f7713-799c-4be6-8611-98b936d930ff",
   "metadata": {},
   "outputs": [],
   "source": [
    "butler_config = 'dp02'\n",
    "collections = '2.2i/runs/DP0.2'\n",
    "butler = Butler(butler_config, collections=collections)"
   ]
  },
  {
   "cell_type": "markdown",
   "id": "0c7edc9f-8527-442f-b863-d49b1058198a",
   "metadata": {},
   "source": [
    "### Find calexps overlapping a given position on the sky:"
   ]
  },
  {
   "cell_type": "code",
   "execution_count": null,
   "id": "b89ae6b9-0685-4d22-8a7d-5d3509e4cbbc",
   "metadata": {},
   "outputs": [],
   "source": [
    "ra = 62.149\n",
    "dec = -35.796"
   ]
  },
  {
   "cell_type": "code",
   "execution_count": null,
   "id": "1d88c6ff-f7bf-4e37-8979-e81fa634a488",
   "metadata": {},
   "outputs": [],
   "source": [
    "level = 20  # the resolution of the HTM grid\n",
    "pixelization = lsst.sphgeom.HtmPixelization(level)"
   ]
  },
  {
   "cell_type": "code",
   "execution_count": null,
   "id": "839b9cdf-1b27-4c38-838e-dc94d7f6188d",
   "metadata": {},
   "outputs": [],
   "source": [
    "htm_id = pixelization.index(\n",
    "    lsst.sphgeom.UnitVector3d(\n",
    "        lsst.sphgeom.LonLat.fromDegrees(ra, dec)\n",
    "    )\n",
    ")"
   ]
  },
  {
   "cell_type": "code",
   "execution_count": null,
   "id": "fa682db6-d99e-4bee-b5de-c52bace3203a",
   "metadata": {},
   "outputs": [],
   "source": [
    "circle = pixelization.triangle(htm_id).getBoundingCircle()\n",
    "scale = circle.getOpeningAngle().asDegrees()*3600.\n",
    "level = pixelization.getLevel()\n",
    "print(f'HTM ID={htm_id} at level={level} is bounded by a circle of radius ~{scale:0.2f} arcsec.')"
   ]
  },
  {
   "cell_type": "code",
   "execution_count": null,
   "id": "fa8867b8-abb8-4778-bbc7-f20b332cd5dd",
   "metadata": {},
   "outputs": [],
   "source": [
    "datasetRefs = butler.registry.queryDatasets(\"calexp\", htm20=htm_id,\n",
    "                                            where=\"band = 'i'\")\n",
    "\n",
    "datasetRefs_list = []\n",
    "for i, ref in enumerate(datasetRefs):\n",
    "    datasetRefs_list.append(ref)\n",
    "\n",
    "print(f\"Found {len(list(datasetRefs))} calexps\")"
   ]
  },
  {
   "cell_type": "markdown",
   "id": "0d69fca5-5525-45c8-9e65-f14fda9d68d6",
   "metadata": {},
   "source": [
    "### Extract the time at midpoint of each exposure:"
   ]
  },
  {
   "cell_type": "code",
   "execution_count": null,
   "id": "05b2e7d8-d9c1-450d-b941-20a13802a4b3",
   "metadata": {},
   "outputs": [],
   "source": [
    "ccd_visit = butler.get('ccdVisitTable')\n",
    "exp_midpoints = []\n",
    "visits = []\n",
    "detectors = []\n",
    "\n",
    "for d in datasetRefs_list:\n",
    "    did = d.dataId\n",
    "    # Look up the info by visit and detector:\n",
    "    ccdrow = (ccd_visit['visitId'] == did['visit']) & (ccd_visit['detector'] == did['detector'])\n",
    "    exp_midpoints.append(ccd_visit[ccdrow]['expMidptMJD'].values[0])\n",
    "    visits.append(did['visit'])\n",
    "    detectors.append(did['detector'])\n",
    "\n",
    "exp_midpoints = np.array(exp_midpoints)\n",
    "visits = np.array(visits)\n",
    "detectors = np.array(detectors)"
   ]
  },
  {
   "cell_type": "code",
   "execution_count": null,
   "id": "f1a584fc-5dc4-40f7-95b8-32c75268e278",
   "metadata": {},
   "outputs": [],
   "source": [
    "exp_midpoints"
   ]
  },
  {
   "cell_type": "markdown",
   "id": "dc95e189-7b32-445d-980a-4bbb099bae40",
   "metadata": {},
   "source": [
    "### Assign variable magnitudes to inject\n",
    "\n",
    "Use the \"sinusoidal_variability\" function defined above to create a variable star."
   ]
  },
  {
   "cell_type": "code",
   "execution_count": null,
   "id": "f23354df-3e47-4585-a757-b432aa62885c",
   "metadata": {},
   "outputs": [],
   "source": [
    "per = 100.0  # period in days\n",
    "amp = 3.0  # amplitude in magnitudes\n",
    "mag = 20.0  # mean magnitude\n",
    "var_mags = sinusoidal_variability(per, amp, mag, exp_midpoints)"
   ]
  },
  {
   "cell_type": "markdown",
   "id": "c7b6dd0d-96da-416f-9264-2de57b55d68a",
   "metadata": {},
   "source": [
    "#### Plot the lightcurve we just created"
   ]
  },
  {
   "cell_type": "code",
   "execution_count": null,
   "id": "313eb653-79be-49c3-9cb1-3640f9e6c91f",
   "metadata": {},
   "outputs": [],
   "source": [
    "tmp_midpts = np.arange(np.min(exp_midpoints), np.max(exp_midpoints), 1)\n",
    "tmp_mags = sinusoidal_variability(per, amp, mag, tmp_midpts)\n",
    "plt.plot(tmp_midpts, tmp_mags, color='Gray')\n",
    "plt.plot(exp_midpoints, var_mags, 'k.')\n",
    "start_ind = 0\n",
    "finish_ind = 18\n",
    "plt.plot(exp_midpoints[start_ind:finish_ind], var_mags[start_ind:finish_ind], 'r.')\n",
    "\n",
    "plt.show()"
   ]
  },
  {
   "cell_type": "markdown",
   "id": "714e9a38-514e-49b3-8e1d-159c9a97b367",
   "metadata": {},
   "source": [
    "### Combine all the information into a catalog of sources\n",
    "\n",
    "The catalog consists of one star per visit."
   ]
  },
  {
   "cell_type": "code",
   "execution_count": null,
   "id": "fe0257a5-e825-4372-9803-3eae7d8651a8",
   "metadata": {},
   "outputs": [],
   "source": [
    "ra_arr = np.full((len(var_mags)), ra)\n",
    "dec_arr = np.full((len(var_mags)), dec)\n",
    "id_arr = np.arange(0, len(var_mags), 1)\n",
    "src_type_arr = np.full((len(var_mags)), 'Star')"
   ]
  },
  {
   "cell_type": "code",
   "execution_count": null,
   "id": "c3cf3fe4-1cc1-4b5b-942b-6e6f4b127265",
   "metadata": {},
   "outputs": [],
   "source": [
    "inject_table = Table([id_arr, visits, detectors, ra_arr, dec_arr,\n",
    "                      src_type_arr, exp_midpoints, var_mags],\n",
    "                     names=['injection_id', 'visit', 'detector', 'ra', 'dec',\n",
    "                            'source_type', 'exp_midpoint', 'mag'])\n",
    "\n",
    "inject_table"
   ]
  },
  {
   "cell_type": "markdown",
   "id": "5e2626dc-fa4c-4097-9135-76c1823e374c",
   "metadata": {},
   "source": [
    "### Inject a single star into each image\n",
    "\n",
    "First, initialize the injection task. Then, extract info about the first visit, which we'll take as the \"reference\" visit to match others to."
   ]
  },
  {
   "cell_type": "code",
   "execution_count": null,
   "id": "0b9c7d81-547a-47a0-9aa5-adeefdd7320d",
   "metadata": {},
   "outputs": [],
   "source": [
    "inject_config = VisitInjectConfig()\n",
    "inject_task = VisitInjectTask(config=inject_config)"
   ]
  },
  {
   "cell_type": "code",
   "execution_count": null,
   "id": "9793fc9f-dd56-4a53-b36a-81bbbd6265a7",
   "metadata": {},
   "outputs": [],
   "source": [
    "ref_dataId = datasetRefs_list[start_ind].dataId\n",
    "calexp_ref = butler.get('calexp', dataId=ref_dataId)\n",
    "psf_ref = calexp_ref.getPsf()\n",
    "photo_calib_ref = calexp_ref.getPhotoCalib()\n",
    "wcs_ref = calexp_ref.getWcs()\n",
    "\n",
    "xy_ref = wcs_ref.skyToPixel(geom.SpherePoint(ra*geom.degrees, dec*geom.degrees))\n",
    "x_ref = int(np.round(xy_ref.x))\n",
    "y_ref = int(np.round(xy_ref.y))"
   ]
  },
  {
   "cell_type": "markdown",
   "id": "94e3d227-eeb5-4be3-bb5b-0da250b46f9e",
   "metadata": {},
   "source": [
    "Loop over (a subset of) the visits, injecting a star of the appropriate magnitude based on the lightcurve, warping the resulting image to the orientation of the reference image, then extracting a cutout image around that star."
   ]
  },
  {
   "cell_type": "code",
   "execution_count": null,
   "id": "0013601e-ece3-44da-85b6-0659ca10379f",
   "metadata": {},
   "outputs": [],
   "source": [
    "cutouts = []\n",
    "dataids = []\n",
    "mjd_mid_times = []\n",
    "mags_injected = []\n",
    "\n",
    "for i in range(start_ind, finish_ind):\n",
    "    dataId_i = datasetRefs_list[i].dataId\n",
    "    calexp_i = butler.get('calexp', dataId=dataId_i)\n",
    "    psf_i = calexp_i.getPsf()\n",
    "    photo_calib_i = calexp_i.getPhotoCalib()\n",
    "    wcs_i = calexp_i.getWcs()\n",
    "\n",
    "    try:\n",
    "        injected_output_i = inject_task.run(\n",
    "            injection_catalogs=[inject_table[i]],\n",
    "            input_exposure=calexp_i.clone(),\n",
    "            psf=psf_i,\n",
    "            photo_calib=photo_calib_i,\n",
    "            wcs=wcs_i,\n",
    "        )\n",
    "        injected_exposure_i = injected_output_i.output_exposure\n",
    "        injected_catalog_i = injected_output_i.output_catalog\n",
    "\n",
    "        img_warped = warp_img(calexp_ref, injected_exposure_i, wcs_ref, wcs_i)\n",
    "        xy = img_warped.getWcs().skyToPixel(geom.SpherePoint(ra*geom.degrees, dec*geom.degrees))\n",
    "        x = int(np.round(xy.x))\n",
    "        y = int(np.round(xy.y))\n",
    "        cutout_image = cutout(img_warped, x, y, 301)\n",
    "        cutouts.append(cutout_image)\n",
    "        mjd_mid_times.append(inject_table[i]['exp_midpoint'])\n",
    "        mags_injected.append(inject_table[i]['mag'])\n",
    "        dataids.append(dataId_i)\n",
    "    except:\n",
    "        # Some visits don't actually overlap the point where we're injecting a star\n",
    "        print('No sources to inject for visit ', inject_table[i]['visit'])\n"
   ]
  },
  {
   "cell_type": "code",
   "execution_count": null,
   "id": "02c4518d-ff65-4f8f-9879-670608d932f7",
   "metadata": {},
   "outputs": [],
   "source": [
    "fig, axs = plt.subplots(5, 3, figsize=(9, 10), dpi=150)\n",
    "\n",
    "for i, ax in enumerate(fig.axes):\n",
    "    plt.sca(ax)\n",
    "    display0 = afwDisplay.Display(frame=fig)\n",
    "    # display0.scale('linear', 'zscale')\n",
    "    display0.scale('linear', min=-100, max=250)\n",
    "    try:\n",
    "        display0.mtv(cutouts[i].image)\n",
    "        vis = dataids[i]['visit']\n",
    "        mjd = mjd_mid_times[i]\n",
    "        mag = mags_injected[i]\n",
    "        plt.title(f'visit: {vis}, expMid: {mjd:0.5F}, mag={mag:0.2F}',\n",
    "                  fontsize=8)\n",
    "    except:\n",
    "        print('skip index ', i)\n",
    "\n",
    "plt.tight_layout()\n",
    "plt.show()"
   ]
  },
  {
   "cell_type": "code",
   "execution_count": null,
   "id": "b80cfab5-82cd-4d61-96ca-356c1a076183",
   "metadata": {},
   "outputs": [],
   "source": []
  }
 ],
 "metadata": {
  "kernelspec": {
   "display_name": "LSST",
   "language": "python",
   "name": "lsst"
  },
  "language_info": {
   "codemirror_mode": {
    "name": "ipython",
    "version": 3
   },
   "file_extension": ".py",
   "mimetype": "text/x-python",
   "name": "python",
   "nbconvert_exporter": "python",
   "pygments_lexer": "ipython3",
   "version": "3.11.7"
  }
 },
 "nbformat": 4,
 "nbformat_minor": 5
}
