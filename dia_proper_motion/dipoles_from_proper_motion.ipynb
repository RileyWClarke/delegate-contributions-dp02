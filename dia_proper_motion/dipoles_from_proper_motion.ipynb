{
 "cells": [
  {
   "cell_type": "markdown",
   "id": "68351cdb-2b6f-449b-a602-2ebc02904b39",
   "metadata": {},
   "source": [
    "# Testing dipole measurement and recovery of proper-motion star\n",
    "Michael Wood-Vasey\n",
    "\n",
    "Inspired by conversation with Eric Bellm and Lynne Jones.\n",
    "\n",
    "1. Take a set of images of a region spaced over 10 years.\n",
    "2. Simulate a star with a given proper motion.  Try things from 0.1 -- 10\" over ten years.\n",
    "3. First test single-frame recovery and astrometry\n",
    "4. Then run subtractions for each Year N - Year 1 pair.\n",
    "5. Analyze the dipoles and measurements of these DIA Sources.  Compare to single-frame measurements.  I think the interesting question of concern/interest for DIA are the ability and robustness of dipole fitting and measurement as one approaches no separation.\n",
    "6. Start with constant brightness source.  Then repeat for variable source and check recovery.\n",
    "7. Compare individual fitting with scene-modeling.\n",
    "\n",
    "Could start with just a very simplified gaussian PSF to get a sense, but I think the interesting questions are about the Science Pipeline measurements so shifting to (starting with) more realistic data where the Science Pipelines are really computing PSFs and convolution kernels would be helpful.\n",
    "\n",
    "I would be tempted to start with DC2 (5 years), and then try it with HSC, DECam images (3 years, maybe 5 years with a little work?).  But the time lag isn't really key as one can scale up the proper motion to compensate.\n",
    "\n",
    "Notes:\n",
    "* DC2 stars do not have proper motion.\n",
    "* I'm ignoring parallax.  One could simulate parallax if one really wanted to model end-to-end, but I don't think it's central to the basic question."
   ]
  },
  {
   "cell_type": "code",
   "execution_count": null,
   "id": "b0c6b5a2-1fde-4dc2-84ee-97260750b278",
   "metadata": {
    "tags": []
   },
   "outputs": [],
   "source": [
    "import os\n",
    "\n",
    "from astropy.wcs import WCS\n",
    "import astropy.units as u\n",
    "\n",
    "import gc\n",
    "\n",
    "import matplotlib.pyplot as plt\n",
    "import numpy as np\n",
    "import pandas as pd\n",
    "\n",
    "import lsst.afw.display as afwDisplay\n",
    "from lsst.afw.image import MultibandExposure\n",
    "from lsst.afw.math import Warper, WarperConfig\n",
    "import lsst.geom as geom\n",
    "from lsst.daf.butler import Butler, DimensionUniverse, DatasetType, CollectionType\n",
    "from lsst.daf.butler.registry import MissingCollectionError\n",
    "from lsst.ip.diffim import AlardLuptonSubtractConfig, AlardLuptonSubtractTask\n",
    "from lsst.ip.diffim import DetectAndMeasureConfig, DetectAndMeasureTask\n",
    "from lsst.pipe.tasks.makeWarp import MakeWarpConfig, MakeWarpTask\n",
    "from lsst.source.injection.inject_engine import generate_galsim_objects, inject_galsim_objects_into_exposure\n",
    "import lsst.sphgeom"
   ]
  },
  {
   "cell_type": "code",
   "execution_count": null,
   "id": "7caa7cac-2dd3-4cc2-9d36-c1002981d08a",
   "metadata": {
    "tags": []
   },
   "outputs": [],
   "source": [
    "afwDisplay.setDefaultBackend('matplotlib')\n",
    "plt.style.use('tableau-colorblind10')\n",
    "%matplotlib inline"
   ]
  },
  {
   "cell_type": "code",
   "execution_count": null,
   "id": "be877c8b-ea12-4199-bfed-e0ba6da1a21b",
   "metadata": {},
   "outputs": [],
   "source": [
    "user = os.getenv(\"USER\")\n",
    "\n",
    "collection = \"2.2i/runs/DP0.2\"\n",
    "repo_config = \"dp02\"\n",
    "output_collection = f\"u/{user}/proper_motion\""
   ]
  },
  {
   "cell_type": "code",
   "execution_count": null,
   "id": "976fc1ea-6ac4-4b49-8291-403ef6392a54",
   "metadata": {
    "tags": []
   },
   "outputs": [],
   "source": [
    "INJECTED_IMAGES_EXIST = True\n",
    "SUBTRACTIONS_OF_INJECTED_IMAGE_EXIST = True"
   ]
  },
  {
   "cell_type": "code",
   "execution_count": null,
   "id": "30ea1bd1-83b9-4f48-a824-cee94014583b",
   "metadata": {
    "tags": []
   },
   "outputs": [],
   "source": [
    "butler = Butler(repo_config, collections=collection)"
   ]
  },
  {
   "cell_type": "code",
   "execution_count": null,
   "id": "d999c063-5c3e-4f1c-95dc-41bcc7a8b828",
   "metadata": {
    "tags": []
   },
   "outputs": [],
   "source": [
    "print(butler.registry.getDatasetType(\"calexp\"))"
   ]
  },
  {
   "cell_type": "code",
   "execution_count": null,
   "id": "64139f55-33cc-476f-bb33-39e01f410a7f",
   "metadata": {
    "tags": []
   },
   "outputs": [],
   "source": [
    "skyMap = butler.get(\"skyMap\", skymap=\"DC2\")"
   ]
  },
  {
   "cell_type": "code",
   "execution_count": null,
   "id": "0db544ef-74fa-4f52-8f95-e07c56348e4e",
   "metadata": {
    "tags": []
   },
   "outputs": [],
   "source": [
    "# Do a spatial query for calexps using HTM levels following example in 04b_Intermediate_Butler_Queries.ipynb\n",
    "ra, dec = 55, -30  # degrees\n",
    "\n",
    "level = 10  # the resolution of the HTM grid\n",
    "pixelization = lsst.sphgeom.HtmPixelization(level)\n",
    "\n",
    "htm_id = pixelization.index(\n",
    "    lsst.sphgeom.UnitVector3d(\n",
    "        lsst.sphgeom.LonLat.fromDegrees(ra, dec)\n",
    "    )\n",
    ")"
   ]
  },
  {
   "cell_type": "code",
   "execution_count": null,
   "id": "0a0bda96-9043-408f-9261-b1afa445c8ea",
   "metadata": {
    "tags": []
   },
   "outputs": [],
   "source": [
    "htm_id"
   ]
  },
  {
   "cell_type": "markdown",
   "id": "2260fed4-2af5-4c00-bc76-2081d65add62",
   "metadata": {},
   "source": [
    "Get the neighboring HTM pixels"
   ]
  },
  {
   "cell_type": "code",
   "execution_count": null,
   "id": "ac405a8c-98b2-45e6-8fec-3f87d6fbedce",
   "metadata": {
    "tags": []
   },
   "outputs": [],
   "source": [
    "parent_level = htm_id // 10\n",
    "htm_ids = [parent_level * 10 + i for i in [0, 1, 2, 3]]"
   ]
  },
  {
   "cell_type": "code",
   "execution_count": null,
   "id": "b048f6c4-0b4f-45f8-8493-b92aa3b7ac81",
   "metadata": {
    "tags": []
   },
   "outputs": [],
   "source": [
    "htm_ids"
   ]
  },
  {
   "cell_type": "code",
   "execution_count": null,
   "id": "30704f26-cfc1-4715-bf2c-eff5f760c9a6",
   "metadata": {
    "tags": []
   },
   "outputs": [],
   "source": [
    "hi = htm_ids[0]\n",
    "\n",
    "# dataset_refs is an iterator, but each query is only a few hundred results,\n",
    "#   so convert to a list for future convenience\n",
    "dataset_refs = list(butler.registry.queryDatasets(\"calexp\", htm20=hi, dataId={\"band\": \"i\"}))\n",
    "dataset_refs = set(dataset_refs)\n",
    "for hi in htm_ids:\n",
    "    dr = list(butler.registry.queryDatasets(\"calexp\", htm20=hi, dataId={\"band\": \"i\"}))\n",
    "    dataset_refs = dataset_refs.intersection(dr)"
   ]
  },
  {
   "cell_type": "code",
   "execution_count": null,
   "id": "a9b03aed-bcd3-441e-bf17-120c8f02f274",
   "metadata": {
    "tags": []
   },
   "outputs": [],
   "source": [
    "dataset_refs = list(dataset_refs)\n",
    "# Sort by visitId to get a loose time order\n",
    "ids_visit = [dr.dataId[\"visit\"] for dr in dataset_refs]\n",
    "dataset_refs = [dataset_refs[idx] for idx in np.argsort(ids_visit)]\n",
    "\n",
    "print(dataset_refs)"
   ]
  },
  {
   "cell_type": "code",
   "execution_count": null,
   "id": "5f51bbfa-92e9-4a66-9a74-081286815ece",
   "metadata": {
    "tags": []
   },
   "outputs": [],
   "source": [
    "print(f\"Found {len(list(dataset_refs))} calexps\")"
   ]
  },
  {
   "cell_type": "code",
   "execution_count": null,
   "id": "31ca2798-dc98-426b-9a89-c32b952dab03",
   "metadata": {
    "tags": []
   },
   "outputs": [],
   "source": [
    "visit_table = butler.get(\"visitTable\") #, dataset_refs[0].dataId)"
   ]
  },
  {
   "cell_type": "markdown",
   "id": "3902d976-a034-47b7-9a77-af9e835f9942",
   "metadata": {},
   "source": [
    "We should find ~17 calexps matching all."
   ]
  },
  {
   "cell_type": "markdown",
   "id": "713c67cf-9f67-48f2-bae7-869be63b2d07",
   "metadata": {},
   "source": [
    "## Inject object"
   ]
  },
  {
   "cell_type": "code",
   "execution_count": null,
   "id": "9067a6f3-eb9d-4e7c-8d6a-44e646801b53",
   "metadata": {
    "tags": []
   },
   "outputs": [],
   "source": [
    "# Simulate star\n",
    "# Start with a constant magnitude\n",
    "BASE_MAG_STAR = 17  # u.mag\n",
    "BASE_STAR_RA, BASE_STAR_DEC = 54.982, -29.81\n",
    "BASE_MJD = 60_000\n",
    "\n",
    "# Wrap with a function to allow accessing consistent with a future expansion to time.\n",
    "def mag_star(phase=0 * u.d):\n",
    "    return BASE_MAG_STAR * u.mag\n",
    "\n",
    "def ra_star(phase=0 * u.d, pm_ra=0.1 * u.arcsec / u.yr):\n",
    "    return BASE_STAR_RA * u.degree + phase * pm_ra\n",
    "\n",
    "def dec_star(phase=0 * u.d, pm_dec=0.1 * u.arcsec / u.yr):\n",
    "    return BASE_STAR_DEC * u.degree + phase * pm_dec"
   ]
  },
  {
   "cell_type": "markdown",
   "id": "f66c5d4f-3b49-4edd-98b0-286e8cc97aef",
   "metadata": {},
   "source": [
    "Create a catalog for each visit"
   ]
  },
  {
   "cell_type": "code",
   "execution_count": null,
   "id": "777152be-1c8a-4be7-b594-be1b5c77fbe4",
   "metadata": {},
   "outputs": [],
   "source": [
    "dataset_refs"
   ]
  },
  {
   "cell_type": "code",
   "execution_count": null,
   "id": "c49a9e7f-37ad-4d41-8f34-7cbf9fa44a71",
   "metadata": {
    "tags": []
   },
   "outputs": [],
   "source": [
    "si_cat = {}\n",
    "for dr in dataset_refs:\n",
    "    visit = dr.dataId[\"visit\"]\n",
    "    mjd = visit_table.loc[visit][\"expMidptMJD\"]\n",
    "    phase = (mjd - BASE_MJD) * u.d\n",
    "    si_cat[visit] = [dict(\n",
    "        ra=ra_star(phase).to_value(u.degree),\n",
    "        dec=dec_star(phase).to_value(u.degree),\n",
    "        mag=mag_star().to_value(u.mag),\n",
    "        source_type=\"DeltaFunction\",\n",
    "        index=[\"test\"],\n",
    "    )]\n"
   ]
  },
  {
   "cell_type": "markdown",
   "id": "ba94100c-2a23-46ab-9fa7-0f7c0327d7a6",
   "metadata": {},
   "source": [
    "### Register a Collection to write injection catalog and injected images to"
   ]
  },
  {
   "cell_type": "markdown",
   "id": "93ff987e-519f-43be-9b0c-f28459f5c9af",
   "metadata": {},
   "source": [
    "See `source_injection` si_demo_dc2_visit.ipynb"
   ]
  },
  {
   "cell_type": "code",
   "execution_count": null,
   "id": "24a39272-ceef-42f3-8a50-867d6ed7cc89",
   "metadata": {
    "tags": []
   },
   "outputs": [],
   "source": [
    "writeable_butler = Butler(repo_config,\n",
    "                          run=output_collection,\n",
    "                          collections=output_collection,\n",
    "                          writeable=True)\n",
    "\n",
    "if not INJECTED_IMAGES_EXIST:\n",
    "    try:\n",
    "        writeable_butler.removeRuns([output_collection])\n",
    "    except MissingCollectionError:\n",
    "        print(\"Writing into a new RUN collection\")\n",
    "        pass\n",
    "    else:\n",
    "        print(\"Prior RUN collection located and successfully removed\")\n",
    "\n",
    "_ = writeable_butler.registry.registerCollection(output_collection, type=CollectionType.RUN)"
   ]
  },
  {
   "cell_type": "code",
   "execution_count": null,
   "id": "d9558a6f-c146-4add-95d3-a04bd075f2c4",
   "metadata": {
    "tags": []
   },
   "outputs": [],
   "source": [
    "print(butler)"
   ]
  },
  {
   "cell_type": "code",
   "execution_count": null,
   "id": "95c2f32c-2dd3-4fea-8181-29be22407cd3",
   "metadata": {
    "tags": []
   },
   "outputs": [],
   "source": [
    "print(writeable_butler)"
   ]
  },
  {
   "cell_type": "markdown",
   "id": "1dbe2759-fd40-4738-8ed6-a086792ae32e",
   "metadata": {
    "execution": {
     "iopub.execute_input": "2023-05-02T16:39:19.012228Z",
     "iopub.status.busy": "2023-05-02T16:39:19.011965Z",
     "iopub.status.idle": "2023-05-02T16:39:19.028657Z",
     "shell.execute_reply": "2023-05-02T16:39:19.027826Z",
     "shell.execute_reply.started": "2023-05-02T16:39:19.012205Z"
    },
    "tags": []
   },
   "source": [
    "## Make an injection catalog generator, save a copy as a list, reprovide as generator"
   ]
  },
  {
   "cell_type": "code",
   "execution_count": null,
   "id": "8defe07a-f2c5-49f7-a398-23dc27e2b668",
   "metadata": {
    "tags": []
   },
   "outputs": [],
   "source": [
    "def injected_and_save_image(data_id,\n",
    "                            si_cat,\n",
    "                            read_butler,\n",
    "                            write_butler,\n",
    "                            dataset_type=\"calexp\",\n",
    "                            mask_plane_name: str = \"INJECTED\",\n",
    "                            calib_flux_radius: float = 12.0,\n",
    "                            draw_size_scale: float = 1.0,\n",
    "                            draw_size_max: int = 1000,\n",
    "                            verbose=True):\n",
    "    \"Load an image, injected a catalog, and save to a new collection\"\n",
    "    calexp = read_butler.get(dataset_type, dataId=data_id)\n",
    "\n",
    "    si_object_generator = generate_galsim_objects(\n",
    "        injection_catalog=si_cat[calexp.visitInfo.id],\n",
    "        wcs=calexp.getWcs(),\n",
    "        photo_calib=calexp.getPhotoCalib(),\n",
    "        fits_alignment = \"wcs\",\n",
    "    )\n",
    "\n",
    "    # ( draw_sizes, common_bounds, fft_size_errors, psf_compute_errors, ) = \n",
    "\n",
    "    if verbose:\n",
    "        print(\"Inserting objects into {calexp}\")\n",
    "        \n",
    "    _ = inject_galsim_objects_into_exposure(\n",
    "        calexp,\n",
    "        si_object_generator,\n",
    "        mask_plane_name=mask_plane_name,\n",
    "        calib_flux_radius=calib_flux_radius,\n",
    "        draw_size_scale=draw_size_scale,\n",
    "        draw_size_max=draw_size_max,\n",
    "    )\n",
    "    \n",
    "    if verbose:\n",
    "        print(\"Saving newly injected image: \", calexp)\n",
    "        print(write_butler)\n",
    "\n",
    "    write_butler.put(calexp, dataset_type, dataId=data_id)"
   ]
  },
  {
   "cell_type": "code",
   "execution_count": null,
   "id": "e504bc23-c29a-45bf-ad55-f8df073a7ef5",
   "metadata": {
    "tags": []
   },
   "outputs": [],
   "source": [
    "print(writeable_butler.run)"
   ]
  },
  {
   "cell_type": "code",
   "execution_count": null,
   "id": "dbdf0802-c52a-47f3-b325-3e886f52ce6a",
   "metadata": {
    "tags": []
   },
   "outputs": [],
   "source": [
    "if not INJECTED_IMAGES_EXIST:\n",
    "    for dr in dataset_refs:\n",
    "        injected_and_save_image(dr.dataId, si_cat, butler, writeable_butler)"
   ]
  },
  {
   "cell_type": "markdown",
   "id": "88ded5d5-1a4a-4612-8479-fe9a2f4dba2f",
   "metadata": {
    "execution": {
     "iopub.execute_input": "2023-05-02T14:54:47.776325Z",
     "iopub.status.busy": "2023-05-02T14:54:47.775867Z",
     "iopub.status.idle": "2023-05-02T14:54:47.792118Z",
     "shell.execute_reply": "2023-05-02T14:54:47.791426Z",
     "shell.execute_reply.started": "2023-05-02T14:54:47.776303Z"
    },
    "tags": []
   },
   "source": [
    "# Run subtraction between calexps 2-N and calexp 1."
   ]
  },
  {
   "cell_type": "code",
   "execution_count": null,
   "id": "26c3437b-cadd-4684-a327-1c1faed8a8cc",
   "metadata": {
    "tags": []
   },
   "outputs": [],
   "source": [
    "config = AlardLuptonSubtractConfig()\n",
    "task = AlardLuptonSubtractTask(config=config)"
   ]
  },
  {
   "cell_type": "code",
   "execution_count": null,
   "id": "13a432b4-8ca3-4e5f-8304-51dc24e11faa",
   "metadata": {
    "tags": []
   },
   "outputs": [],
   "source": [
    "template = writeable_butler.get(\"calexp\", dataset_refs[0].dataId)"
   ]
  },
  {
   "cell_type": "code",
   "execution_count": null,
   "id": "a92263b0-2c7c-4bcb-af42-e9b8ed018ac6",
   "metadata": {
    "tags": []
   },
   "outputs": [],
   "source": [
    "def subtract(science, template, source):\n",
    "    warper_config = WarperConfig()\n",
    "    warper = Warper.fromConfig(warper_config)\n",
    "\n",
    "    science_wcs = science.getWcs()\n",
    "    science_bbox = science.getBBox()\n",
    "\n",
    "    science.visitInfo.id\n",
    "    \n",
    "    # Add PSF.  I think doing this directly without warping is wrong.  At least the x,y mapping should be updated\n",
    "    warped_template = warper.warpExposure(science_wcs, template, destBBox=science_bbox)\n",
    "    warped_template.setPsf(template.getPsf())\n",
    "    \n",
    "    # Now let's do the subtraction\n",
    "    subtraction = task.run(warped_template, science, source_catalog)\n",
    "    \n",
    "    return subtraction\n",
    "\n",
    "\n",
    "def detect(science, subtraction):\n",
    "    # Run detection on subtraction\n",
    "    detect_and_measure_config = DetectAndMeasureConfig()\n",
    "    detect_and_measure_task = DetectAndMeasureTask(config=detect_and_measure_config)\n",
    "\n",
    "    detect_and_measure = detect_and_measure_task.run(science, subtraction.matchedTemplate, subtraction.difference)\n",
    "\n",
    "    return detect_and_measure"
   ]
  },
  {
   "cell_type": "code",
   "execution_count": null,
   "id": "8a99d04e-fe59-4c5f-b67d-a6397a5976fc",
   "metadata": {
    "tags": []
   },
   "outputs": [],
   "source": [
    "def subtract_and_detect(data_id: dict,\n",
    "                        template: lsst.afw.image.exposure.ExposureF,\n",
    "                        butler: Butler):\n",
    "    \"\"\"\n",
    "    Subtract template image from image referred to by data_id and run detection.\n",
    "    \n",
    "    Butler needs to be writeable to store output of subtraction and detection.\n",
    "    \"\"\"\n",
    "    science = butler.get(\"calexp\", dr.dataId)\n",
    "    source_catalog = butler.get(\"src\", dataId=dr.dataId)\n",
    "\n",
    "    subtraction = subtract(science, template, source_catalog)\n",
    "    butler.put(subtraction.difference, \"goodSeeingDiff_differenceExp\", dataId=dr.dataId)\n",
    "\n",
    "    detection_catalog = detect(science, subtraction)\n",
    "    butler.put(detection_catalog.diaSources, \"goodSeeingDiff_diaSrc\", dataId=dr.dataId)"
   ]
  },
  {
   "cell_type": "code",
   "execution_count": null,
   "id": "3354e6dd-f99b-417a-af95-7811de40b6b5",
   "metadata": {
    "tags": []
   },
   "outputs": [],
   "source": [
    "# The template is the first image, so start at 1:\n",
    "# This dataset_ref list is sorted by visit,\n",
    "#   which should be equivalent to sorting by MJD\n",
    "if not SUBTRACTIONS_OF_INJECTED_IMAGE_EXIST:\n",
    "    for dr in dataset_refs[1:]:\n",
    "        subtract_and_detect(dr.dataId, template, writeable_butler)"
   ]
  },
  {
   "cell_type": "markdown",
   "id": "23866c1c-0c6a-4681-aa03-d59995ca5b85",
   "metadata": {
    "execution": {
     "iopub.execute_input": "2023-05-12T18:05:13.586062Z",
     "iopub.status.busy": "2023-05-12T18:05:13.585108Z",
     "iopub.status.idle": "2023-05-12T18:05:13.590004Z",
     "shell.execute_reply": "2023-05-12T18:05:13.589105Z",
     "shell.execute_reply.started": "2023-05-12T18:05:13.586027Z"
    }
   },
   "source": [
    "## Show cut outs for each subtraction"
   ]
  },
  {
   "cell_type": "markdown",
   "id": "8581fc72-f0c1-4d48-9824-10a910e9a2a0",
   "metadata": {
    "tags": []
   },
   "source": [
    "## Some helper utilities for plotting"
   ]
  },
  {
   "cell_type": "code",
   "execution_count": null,
   "id": "d415822d-4ccd-489a-96e5-0f2a7cdf9e77",
   "metadata": {
    "tags": []
   },
   "outputs": [],
   "source": [
    "def show_image_on_wcs(calexp, figsize=(8, 8), x=None, y=None,\n",
    "                      pixel_extent=None, stamp_size=None,\n",
    "                      marker=\"o\", color=\"red\", size=20):\n",
    "    \"\"\"\n",
    "    Specifying both pixel_extent and size is undefined.\n",
    "    \"\"\"\n",
    "    fig = plt.figure(figsize=figsize)\n",
    "    plt.subplot(projection=WCS(calexp.getWcs().getFitsMetadata()))\n",
    "    if stamp_size is not None and x is not None and y is not None:    \n",
    "        half_stamp = stamp_size / 2\n",
    "        # If x and y are of different types, then user should clarify what they wanted\n",
    "        if np.isscalar(x):\n",
    "            first_x = x\n",
    "            first_y = y\n",
    "        else:\n",
    "            first_x = x[0]\n",
    "            first_y = y[0]\n",
    "            \n",
    "        pixel_extent = (int(first_x - half_stamp), int(first_x + half_stamp),\n",
    "                        int(first_y - half_stamp), int(first_y + half_stamp))\n",
    "    if pixel_extent is None:\n",
    "        pixel_extent = (int(calexp.getBBox().beginX), int(calexp.getBBox().endX),\n",
    "                        int(calexp.getBBox().beginY), int(calexp.getBBox().endY))\n",
    "    # Image array is y, x.  \n",
    "    # So we select from the image array in [Y_Begin:Y_End, X_Begin:X_End]\n",
    "    # But then `extent` is (X_Begin, X_End, Y_Begin, Y_End)\n",
    "    im = plt.imshow(calexp.image.array[pixel_extent[2]:pixel_extent[3], pixel_extent[0]:pixel_extent[1]],\n",
    "                    cmap=\"gray\", vmin=-200.0, vmax=400,\n",
    "                    extent=pixel_extent, origin=\"lower\")\n",
    "    plt.grid(color=\"white\", ls=\"solid\")\n",
    "    plt.xlabel(\"Right Ascension\")\n",
    "    plt.ylabel(\"Declination\")\n",
    "    if x is not None and y is not None:\n",
    "        plt.scatter(x, y, s=size, marker=marker, edgecolor=color, facecolor=\"none\")\n",
    "    plt.show()"
   ]
  },
  {
   "cell_type": "markdown",
   "id": "7574b896-2736-47a2-b935-434f4a51165b",
   "metadata": {
    "tags": []
   },
   "source": [
    "### Identify pixel regions to focus on"
   ]
  },
  {
   "cell_type": "code",
   "execution_count": null,
   "id": "7380becc-8400-43f1-aaa1-730c231cc13b",
   "metadata": {
    "tags": []
   },
   "outputs": [],
   "source": [
    "def getSiXyFromCalexp(visit_id, calexp, si_cat=si_cat):\n",
    "    \"\"\"\n",
    "    visit_id: Visit index into catalog that has RA, Dec\n",
    "    calexp: Determines the WCS frame that converts RA, Dec -> x, y\n",
    "    \"\"\"\n",
    "    this_si_cat = si_cat[visit_id]\n",
    "    xy_coords = calexp.getWcs().skyToPixel(geom.SpherePoint(this_si_cat[0][\"ra\"], this_si_cat[0][\"dec\"], geom.degrees))\n",
    "    return xy_coords    "
   ]
  },
  {
   "cell_type": "code",
   "execution_count": null,
   "id": "f9b7e427-beb0-4d3a-82e0-66205149f6cd",
   "metadata": {
    "tags": []
   },
   "outputs": [],
   "source": [
    "template_xy_coords = getSiXyFromCalexp(template.visitInfo.id, template)"
   ]
  },
  {
   "cell_type": "code",
   "execution_count": null,
   "id": "f813b960-8a4f-469f-a520-caf7fcae0a8f",
   "metadata": {
    "tags": []
   },
   "outputs": [],
   "source": [
    "stamp_size = 400"
   ]
  },
  {
   "cell_type": "markdown",
   "id": "f3a08bba-9db7-461c-9e12-4b2181964f12",
   "metadata": {},
   "source": [
    "Here's the template"
   ]
  },
  {
   "cell_type": "code",
   "execution_count": null,
   "id": "202e6ba8-1b35-447a-984c-43e6feb2c6c1",
   "metadata": {
    "tags": []
   },
   "outputs": [],
   "source": [
    "xy_coords = getSiXyFromCalexp(template.visitInfo.id, template)\n",
    "show_image_on_wcs(template, x=xy_coords.x, y=xy_coords.y, stamp_size=stamp_size)"
   ]
  },
  {
   "cell_type": "markdown",
   "id": "6c0d2cc4-f24c-41be-b6b4-e311c9e27775",
   "metadata": {},
   "source": [
    "Now let's step through the calexps and subtractions"
   ]
  },
  {
   "cell_type": "markdown",
   "id": "04f027b2-ba9a-4b50-8662-729b4c707936",
   "metadata": {},
   "source": [
    "We can see the difference between the location of the star at the template epoch (\"green\") from the location of the star in the science epoch (\"red\")."
   ]
  },
  {
   "cell_type": "code",
   "execution_count": null,
   "id": "cdcd4ec7-adf1-41f1-85ea-a01f8c6064dd",
   "metadata": {
    "tags": []
   },
   "outputs": [],
   "source": [
    "def plot_calexp_cutout(data_id, template, butler=writeable_butler):\n",
    "    calexp = butler.get(\"calexp\", dataId=dr.dataId)\n",
    "    # Warp the template to get the orientation\n",
    "    warper_config = WarperConfig()\n",
    "    warper = Warper.fromConfig(warper_config)\n",
    "\n",
    "    template_wcs = template.getWcs()\n",
    "    template_bbox = template.getBBox()\n",
    "    \n",
    "    # Add PSF.  I think doing this directly without warping is wrong.  At least the x,y mapping should be updated\n",
    "    warped_calexp = warper.warpExposure(template_wcs, calexp, destBBox=template_bbox)\n",
    "    warped_calexp.setPsf(calexp.getPsf())\n",
    "\n",
    "    template_xy_coords = getSiXyFromCalexp(template.visitInfo.id, warped_calexp)\n",
    "    xy_coords = getSiXyFromCalexp(warped_calexp.visitInfo.id, warped_calexp)\n",
    "    colors = [\"green\", \"red\"]\n",
    "    print(calexp.visitInfo.id)\n",
    "    show_image_on_wcs(warped_calexp,\n",
    "                      x=[template_xy_coords.x, xy_coords.x],\n",
    "                      y=[template_xy_coords.y, xy_coords.y],\n",
    "                      color=colors, stamp_size=stamp_size,\n",
    "                     figsize=(3, 3))"
   ]
  },
  {
   "cell_type": "code",
   "execution_count": null,
   "id": "2a59a3ba-9d9d-4192-a145-87db31ca7396",
   "metadata": {
    "tags": []
   },
   "outputs": [],
   "source": [
    "stamp_size = 100\n",
    "# Note that each image will be shown in its own orientation.\n",
    "for dr in dataset_refs[1:]:\n",
    "    plot_calexp_cutout(dr.dataId, template, writeable_butler)\n"
   ]
  },
  {
   "cell_type": "markdown",
   "id": "5131443a-036e-4032-9a03-05d649d0d2c9",
   "metadata": {},
   "source": [
    "The injected star shows up clearly in the subtraction against the original template.\n",
    "\n",
    "If we subtract the injected template from the injected science we see a dipole"
   ]
  },
  {
   "cell_type": "code",
   "execution_count": null,
   "id": "08dfc5a9-aed7-4963-850e-f1da5e4e3dc7",
   "metadata": {
    "tags": []
   },
   "outputs": [],
   "source": [
    "def plot_subtraction_cutout(data_id, tempalte, butler=writeable_butler):\n",
    "    calexp = butler.get(\"goodSeeingDiff_differenceExp\", dataId=data_id)\n",
    "    src = butler.get(\"goodSeeingDiff_diaSrc\", dataID=data_id)\n",
    "    # Warp the template to get the orientation\n",
    "    warper_config = WarperConfig()\n",
    "    warper = Warper.fromConfig(warper_config)\n",
    "\n",
    "    template_wcs = template.getWcs()\n",
    "    template_bbox = template.getBBox()\n",
    "    \n",
    "    # Add PSF.  I think doing this directly without warping is wrong.  At least the x,y mapping should be updated\n",
    "    warped_calexp = warper.warpExposure(template_wcs, calexp, destBBox=template_bbox)\n",
    "    warped_calexp.setPsf(calexp.getPsf())\n",
    "\n",
    "    template_xy_coords = getSiXyFromCalexp(template.visitInfo.id, warped_calexp)\n",
    "    xy_coords = getSiXyFromCalexp(warped_calexp.visitInfo.id, warped_calexp)\n",
    "    colors = [\"green\", \"red\"]\n",
    "    print(calexp.visitInfo.id)\n",
    "    show_image_on_wcs(warped_calexp,\n",
    "                      x=[template_xy_coords.x, xy_coords.x],\n",
    "                      y=[template_xy_coords.y, xy_coords.y],\n",
    "                      color=colors, stamp_size=stamp_size,\n",
    "                     figsize=(3, 3))"
   ]
  },
  {
   "cell_type": "code",
   "execution_count": null,
   "id": "621bbde6-f314-426b-a10e-bec7a8a1e13c",
   "metadata": {
    "tags": []
   },
   "outputs": [],
   "source": [
    "stamp_size = 100\n",
    "# Note that each image will be shown in its own orientation.\n",
    "for dr in dataset_refs[1:]:\n",
    "    plot_subtraction_cutout(dr.dataId, template, writeable_butler)"
   ]
  },
  {
   "cell_type": "markdown",
   "id": "0074dd7f-1114-41ba-82f3-f5e917ea9c0d",
   "metadata": {},
   "source": [
    "Did we recover injected object?"
   ]
  },
  {
   "cell_type": "code",
   "execution_count": null,
   "id": "d44ed2fc-b9ec-45d4-a952-294a0666c041",
   "metadata": {
    "tags": []
   },
   "outputs": [],
   "source": [
    "dia_src_injected = detect_and_measure_injected.diaSources.asAstropy()"
   ]
  },
  {
   "cell_type": "code",
   "execution_count": null,
   "id": "1925f67b-0b1b-4d50-904c-ff23a7d6f6de",
   "metadata": {
    "tags": []
   },
   "outputs": [],
   "source": [
    "plt.scatter(dia_src_injected[\"slot_Centroid_x\"], dia_src_injected[\"slot_Centroid_y\"])\n",
    "plt.scatter([science_xy_coords.x], [science_xy_coords.y], color=\"red\", s=20)"
   ]
  },
  {
   "cell_type": "code",
   "execution_count": null,
   "id": "6bd47567-21dc-4dba-821a-0c9944beb938",
   "metadata": {
    "tags": []
   },
   "outputs": [],
   "source": [
    "# Match in a simple way\n",
    "threshold_dist = 2  # pixels\n",
    "threshold_dist_sq = threshold_dist ** 2\n",
    "\n",
    "dist_sq = (dia_src_injected[\"slot_Centroid_x\"] - science_xy_coords.x)**2 + \\\n",
    "          (dia_src_injected[\"slot_Centroid_y\"] - science_xy_coords.y)**2\n",
    "\n",
    "idx, = np.where(dist_sq < threshold_dist_sq)\n",
    "matching_injected = dia_src_injected[idx]"
   ]
  },
  {
   "cell_type": "code",
   "execution_count": null,
   "id": "f80ffebb-7f25-4789-9d67-b9d36d9f7342",
   "metadata": {
    "tags": []
   },
   "outputs": [],
   "source": [
    "matching_injected"
   ]
  },
  {
   "cell_type": "markdown",
   "id": "f74d4f5d-4971-40c8-ad87-363ead8f7ed5",
   "metadata": {},
   "source": [
    "There are many diffim measurements and flags.  We're here most direclty interested in the dipole flag."
   ]
  },
  {
   "cell_type": "code",
   "execution_count": null,
   "id": "cb698412-b0dd-465c-8e17-f79b70bddd79",
   "metadata": {
    "tags": []
   },
   "outputs": [],
   "source": [
    "import re\n",
    "# dipole_cols = re.compile(\"diffim.*ipole\")\n",
    "dipole_cols = re.compile(\"_value\")\n",
    "\n",
    "[c for c in list(matching_injected.columns) if dipole_cols.search(c)]"
   ]
  },
  {
   "cell_type": "code",
   "execution_count": null,
   "id": "f734a195-38a9-4465-9af8-1d3755f95aa2",
   "metadata": {
    "tags": []
   },
   "outputs": [],
   "source": [
    "dipole_min_sn = detect_and_measure_config.measurement.plugins['ip_diffim_DipoleFit'].minSn\n",
    "dipole_threshold_ratio = detect_and_measure_config.measurement.plugins['ip_diffim_DipoleFit'].maxFluxRatio\n",
    "print(f\"Dipole flag will be set for objects with S/N > {dipole_min_sn:0.2f}\")\n",
    "print(f\"and {1-dipole_threshold_ratio:0.2f} < neg_flux/tot_flux = 1 - pos_flux/tot_flux < {dipole_threshold_ratio:0.2f}\")"
   ]
  },
  {
   "cell_type": "code",
   "execution_count": null,
   "id": "68f1d773-cb1a-4416-b0e8-6d074f68c91a",
   "metadata": {
    "tags": []
   },
   "outputs": [],
   "source": [
    "neg_flux = np.abs(dia_src_injected[\"ip_diffim_PsfDipoleFlux_neg_instFlux\"])\n",
    "pos_flux = np.abs(dia_src_injected[\"ip_diffim_PsfDipoleFlux_pos_instFlux\"])\n",
    "tot_flux = neg_flux + pos_flux\n",
    "neg_ratio = neg_flux / tot_flux\n",
    "pos_ratio = pos_flux / tot_flux\n",
    "\n",
    "plt.scatter(neg_ratio, pos_ratio)\n",
    "plt.xlabel(\"neg_flux / (pos_flux + neg_flux)\")\n",
    "plt.ylabel(\"pos_flux / (pos_flux + neg_flux)\")\n",
    "span_kwargs = {\"color\": \"orange\", \"alpha\": 0.1}\n",
    "plt.axvspan(dipole_threshold_ratio, 1, **span_kwargs)\n",
    "plt.axvspan(0, 1 - dipole_threshold_ratio, **span_kwargs)\n",
    "plt.axhspan(dipole_threshold_ratio, 1, **span_kwargs)\n",
    "plt.axhspan(0, 1 - dipole_threshold_ratio, **span_kwargs)\n",
    "\n",
    "ax = plt.gca()\n",
    "plt.xlim(0, 1)\n",
    "plt.ylim(0, 1)\n",
    "ax.set_aspect(\"equal\")"
   ]
  },
  {
   "cell_type": "markdown",
   "id": "721495a1-5ea6-4524-9366-d380d72cc945",
   "metadata": {},
   "source": [
    "The dipoles are those in the extremes (upper-left and lower-right corners).\n",
    "\n",
    "This is a perfect y = 1 - x line by construction because we're plotting y/(x+y)  vs. x/(x+y) = 1 - y/(x+y).\n",
    "\n",
    "So we can equivalently look at this in one dimension:"
   ]
  },
  {
   "cell_type": "code",
   "execution_count": null,
   "id": "c17613ef-00b6-464e-ad58-c74de650dd15",
   "metadata": {
    "tags": []
   },
   "outputs": [],
   "source": [
    "bins = np.linspace(-0.05, 1.05, 51)\n",
    "plt.hist(pos_ratio, bins=bins)\n",
    "plt.xlabel(\"pos_flux / (pos_flux + neg_flux)\")\n",
    "plt.axvspan(dipole_threshold_ratio, 1, **span_kwargs)\n",
    "plt.axvspan(0, 1 - dipole_threshold_ratio, **span_kwargs)\n",
    "plt.xlim(0, 1)\n",
    "# plt.hist(neg_ratio, bins=bins, histtype=\"step\");"
   ]
  },
  {
   "cell_type": "code",
   "execution_count": null,
   "id": "71ddfc11-6a09-4917-a31d-96eb4948b869",
   "metadata": {
    "tags": []
   },
   "outputs": [],
   "source": [
    "columns_of_interest = [\"ip_diffim_PsfDipoleFlux_pos_instFlux\", \"ip_diffim_PsfDipoleFlux_neg_instFlux\", \"ip_diffim_ClassificationDipole_value\"]\n",
    "matching_injected[columns_of_interest]"
   ]
  },
  {
   "cell_type": "markdown",
   "id": "35b8fbcf-c973-4497-8789-60706f98c88b",
   "metadata": {},
   "source": [
    "### Appendix.  Snippets of code I might want later"
   ]
  },
  {
   "cell_type": "code",
   "execution_count": null,
   "id": "e849f042-00fd-401c-9972-e438f1e7b379",
   "metadata": {
    "tags": []
   },
   "outputs": [],
   "source": [
    "# Data set, DC2  Pick an RA, Dec region.  get 10 images\n",
    "tract = 4639\n",
    "patch = 0\n",
    "data_id = {\"tract\": tract, \"patch\": patch}\n",
    "\n",
    "# Get images that overlap this patch in i-band\n",
    "data_id[\"band\"] = \"i\""
   ]
  },
  {
   "cell_type": "code",
   "execution_count": null,
   "id": "1d8aceae-f6d3-4cf4-82bf-819cf2fa53c4",
   "metadata": {
    "tags": []
   },
   "outputs": [],
   "source": [
    "class deferred_wrapper():\n",
    "    def __init__(self, cat):\n",
    "        self.cat = cat\n",
    "        \n",
    "    def get(self):\n",
    "        return self.cat\n",
    "\n",
    "# si_cat_deferred = deferred_wrapper(si_cat)"
   ]
  },
  {
   "cell_type": "code",
   "execution_count": null,
   "id": "a52f18cb-ed0b-483c-84ce-be67d3772476",
   "metadata": {
    "tags": []
   },
   "outputs": [],
   "source": [
    "# If you want a test calexp, here's one:\n",
    "NEED_TEST_CALEXP = False\n",
    "if NEED_TEST_CALEXP:\n",
    "    test_dataId = {\"visit\": 421727, \"detector\": 157, \"band\": \"i\"}  # Known existing exposure\n",
    "    test_calexp = butler.get(\"calexp\", dataId=dataId)"
   ]
  },
  {
   "cell_type": "code",
   "execution_count": null,
   "id": "87009b79-2e2c-43bc-89b6-c522d6b0070a",
   "metadata": {
    "tags": []
   },
   "outputs": [],
   "source": [
    "def remove_figure(fig):\n",
    "    \"\"\"\n",
    "    Remove a figure to reduce memory footprint.\n",
    "\n",
    "    Parameters\n",
    "    ----------\n",
    "    fig: matplotlib.figure.Figure\n",
    "        Figure to be removed.\n",
    "\n",
    "    Returns\n",
    "    -------\n",
    "    None\n",
    "    \"\"\"\n",
    "    # get the axes and clear their images\n",
    "    for ax in fig.get_axes():\n",
    "        for im in ax.get_images():\n",
    "            im.remove()\n",
    "    fig.clf()       # clear the figure\n",
    "    plt.close(fig)  # close the figure\n",
    "    gc.collect()    # call the garbage collector"
   ]
  }
 ],
 "metadata": {
  "kernelspec": {
   "display_name": "LSST",
   "language": "python",
   "name": "lsst"
  },
  "language_info": {
   "codemirror_mode": {
    "name": "ipython",
    "version": 3
   },
   "file_extension": ".py",
   "mimetype": "text/x-python",
   "name": "python",
   "nbconvert_exporter": "python",
   "pygments_lexer": "ipython3",
   "version": "3.10.9"
  }
 },
 "nbformat": 4,
 "nbformat_minor": 5
}
