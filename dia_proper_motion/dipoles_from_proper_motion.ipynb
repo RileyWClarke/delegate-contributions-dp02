{
 "cells": [
  {
   "cell_type": "markdown",
   "id": "68351cdb-2b6f-449b-a602-2ebc02904b39",
   "metadata": {},
   "source": [
    "# Testing dipole measurement and recovery of proper-motion star\n",
    "Michael Wood-Vasey\n",
    "\n",
    "Inspired by conversation with Eric Bellm and Lynne Jones.\n",
    "\n",
    "1. Take a set of images of a region spaced over 10 years.\n",
    "2. Simulate a star with a given proper motion.  Try things from 0.1 -- 10\" over ten years.\n",
    "3. First test single-frame recovery and astrometry\n",
    "4. Then run subtractions for each Year N - Year 1 pair.\n",
    "5. Analyze the dipoles and measurements of these DIA Sources.  Compare to single-frame measurements.  I think the interesting question of concern/interest for DIA are the ability and robustness of dipole fitting and measurement as one approaches no separation.\n",
    "6. Start with constant brightness source.  Then repeat for variable source and check recovery.\n",
    "7. Compare individual fitting with scene-modeling.\n",
    "\n",
    "Could start with just a very simplified gaussian PSF to get a sense, but I think the interesting questions are about the Science Pipeline measurements so shifting to (starting with) more realistic data where the Science Pipelines are really computing PSFs and convolution kernels would be helpful.\n",
    "\n",
    "I would be tempted to start with DC2 (5 years), and then try it with HSC, DECam images (3 years, maybe 5 years with a little work?).  But the time lag isn't really key as one can scale up the proper motion to compensate.\n",
    "\n",
    "Notes:\n",
    "* DC2 stars do not have proper motion.\n",
    "* I'm ignoring parallax.  One could simulate parallax if one really wanted to model end-to-end, but I don't think it's central to the basic question."
   ]
  },
  {
   "cell_type": "code",
   "execution_count": null,
   "id": "b0c6b5a2-1fde-4dc2-84ee-97260750b278",
   "metadata": {
    "tags": []
   },
   "outputs": [],
   "source": [
    "from astropy.wcs import WCS\n",
    "import astropy.units as u\n",
    "\n",
    "import matplotlib.pyplot as plt\n",
    "import numpy as np\n",
    "import pandas as pd\n",
    "\n",
    "import gc\n",
    "\n",
    "\n",
    "import lsst.afw.display as afwDisplay\n",
    "from lsst.afw.image import MultibandExposure\n",
    "from lsst.afw.math import Warper, WarperConfig\n",
    "import lsst.geom as geom\n",
    "from lsst.daf.butler import Butler, DimensionUniverse, DatasetType, CollectionType\n",
    "from lsst.daf.butler.registry import MissingCollectionError\n",
    "from lsst.ip.diffim import AlardLuptonSubtractConfig, AlardLuptonSubtractTask\n",
    "from lsst.ip.diffim import DetectAndMeasureConfig, DetectAndMeasureTask\n",
    "from lsst.pipe.tasks.makeWarp import MakeWarpConfig, MakeWarpTask\n",
    "from lsst.source.injection.inject_engine import generate_galsim_objects, inject_galsim_objects_into_exposure\n",
    "import lsst.sphgeom"
   ]
  },
  {
   "cell_type": "code",
   "execution_count": null,
   "id": "7caa7cac-2dd3-4cc2-9d36-c1002981d08a",
   "metadata": {
    "tags": []
   },
   "outputs": [],
   "source": [
    "afwDisplay.setDefaultBackend('matplotlib')\n",
    "plt.style.use('tableau-colorblind10')\n",
    "%matplotlib inline"
   ]
  },
  {
   "cell_type": "code",
   "execution_count": null,
   "id": "b8c11a10-d26c-45a7-a785-44f9d82453b0",
   "metadata": {
    "tags": []
   },
   "outputs": [],
   "source": [
    "# Data set, DC2  Pick an RA, Dec region.  get 10 images\n",
    "tract = 4639\n",
    "patch = 0\n",
    "data_id = {\"tract\": tract, \"patch\": patch}"
   ]
  },
  {
   "cell_type": "code",
   "execution_count": null,
   "id": "e79db740-c13b-40b0-9171-fc4c5b023bcd",
   "metadata": {
    "tags": []
   },
   "outputs": [],
   "source": [
    "collection = \"2.2i/runs/DP0.2\"\n",
    "repo_config = \"dp02\"\n",
    "butler = Butler(repo_config, collections=collection)"
   ]
  },
  {
   "cell_type": "code",
   "execution_count": null,
   "id": "d999c063-5c3e-4f1c-95dc-41bcc7a8b828",
   "metadata": {
    "tags": []
   },
   "outputs": [],
   "source": [
    "print(butler.registry.getDatasetType(\"calexp\"))"
   ]
  },
  {
   "cell_type": "code",
   "execution_count": null,
   "id": "627b2739-ed7c-4501-8646-8cf64e8cc2d8",
   "metadata": {
    "tags": []
   },
   "outputs": [],
   "source": [
    "# Get images that overlap this patch in i-band\n",
    "data_id[\"band\"] = \"i\""
   ]
  },
  {
   "cell_type": "code",
   "execution_count": null,
   "id": "64139f55-33cc-476f-bb33-39e01f410a7f",
   "metadata": {
    "tags": []
   },
   "outputs": [],
   "source": [
    "skyMap = butler.get(\"skyMap\", skymap=\"DC2\")"
   ]
  },
  {
   "cell_type": "code",
   "execution_count": null,
   "id": "0db544ef-74fa-4f52-8f95-e07c56348e4e",
   "metadata": {
    "tags": []
   },
   "outputs": [],
   "source": [
    "# Do a spatial query for calexps using HTM levels following example in 04b_Intermediate_Butler_Queries.ipynb\n",
    "ra, dec = 55, -30  # degrees\n",
    "\n",
    "level = 10  # the resolution of the HTM grid\n",
    "pixelization = lsst.sphgeom.HtmPixelization(level)\n",
    "\n",
    "htm_id = pixelization.index(\n",
    "    lsst.sphgeom.UnitVector3d(\n",
    "        lsst.sphgeom.LonLat.fromDegrees(ra, dec)\n",
    "    )\n",
    ")"
   ]
  },
  {
   "cell_type": "code",
   "execution_count": null,
   "id": "0a0bda96-9043-408f-9261-b1afa445c8ea",
   "metadata": {
    "tags": []
   },
   "outputs": [],
   "source": [
    "htm_id"
   ]
  },
  {
   "cell_type": "code",
   "execution_count": null,
   "id": "ac405a8c-98b2-45e6-8fec-3f87d6fbedce",
   "metadata": {
    "tags": []
   },
   "outputs": [],
   "source": [
    "parent_level = htm_id // 10\n",
    "htm_ids = [parent_level * 10 + i for i in [0, 1, 2, 3]]"
   ]
  },
  {
   "cell_type": "code",
   "execution_count": null,
   "id": "b048f6c4-0b4f-45f8-8493-b92aa3b7ac81",
   "metadata": {
    "tags": []
   },
   "outputs": [],
   "source": [
    "htm_ids"
   ]
  },
  {
   "cell_type": "code",
   "execution_count": null,
   "id": "30704f26-cfc1-4715-bf2c-eff5f760c9a6",
   "metadata": {
    "tags": []
   },
   "outputs": [],
   "source": [
    "hi = htm_ids[0]\n",
    "\n",
    "# dataset_refs is an iterator, but each query is only a few hundred results, so convert to a list for future convenience\n",
    "dataset_refs = list(butler.registry.queryDatasets(\"calexp\", htm20=hi, dataId={\"band\": \"i\"}))\n",
    "dataset_refs = set(dataset_refs)\n",
    "for hi in htm_ids:\n",
    "    dr = list(butler.registry.queryDatasets(\"calexp\", htm20=hi, dataId={\"band\": \"i\"}))\n",
    "    dataset_refs = dataset_refs.intersection(dr)"
   ]
  },
  {
   "cell_type": "code",
   "execution_count": null,
   "id": "a9b03aed-bcd3-441e-bf17-120c8f02f274",
   "metadata": {
    "tags": []
   },
   "outputs": [],
   "source": [
    "dataset_refs = list(dataset_refs)\n",
    "# Sort by visitId to get a loose time order\n",
    "ids_visit = [dr.dataId[\"visit\"] for dr in dataset_refs]\n",
    "dataset_refs = [dataset_refs[idx] for idx in np.argsort(ids_visit)]\n",
    "\n",
    "print(dataset_refs)"
   ]
  },
  {
   "cell_type": "code",
   "execution_count": null,
   "id": "5f51bbfa-92e9-4a66-9a74-081286815ece",
   "metadata": {
    "tags": []
   },
   "outputs": [],
   "source": [
    "print(f\"Found {len(list(dataset_refs))} calexps\")"
   ]
  },
  {
   "cell_type": "code",
   "execution_count": null,
   "id": "31ca2798-dc98-426b-9a89-c32b952dab03",
   "metadata": {
    "tags": []
   },
   "outputs": [],
   "source": [
    "visit_table = butler.get(\"visitTable\") #, dataset_refs[0].dataId)"
   ]
  },
  {
   "cell_type": "markdown",
   "id": "3902d976-a034-47b7-9a77-af9e835f9942",
   "metadata": {},
   "source": [
    "We should find ~17 calexps matching all."
   ]
  },
  {
   "cell_type": "markdown",
   "id": "5b0baaa2-e073-47df-9533-bb78140a835e",
   "metadata": {},
   "source": [
    "## Some helper utilities for plotting"
   ]
  },
  {
   "cell_type": "code",
   "execution_count": null,
   "id": "87009b79-2e2c-43bc-89b6-c522d6b0070a",
   "metadata": {
    "tags": []
   },
   "outputs": [],
   "source": [
    "def remove_figure(fig):\n",
    "    \"\"\"\n",
    "    Remove a figure to reduce memory footprint.\n",
    "\n",
    "    Parameters\n",
    "    ----------\n",
    "    fig: matplotlib.figure.Figure\n",
    "        Figure to be removed.\n",
    "\n",
    "    Returns\n",
    "    -------\n",
    "    None\n",
    "    \"\"\"\n",
    "    # get the axes and clear their images\n",
    "    for ax in fig.get_axes():\n",
    "        for im in ax.get_images():\n",
    "            im.remove()\n",
    "    fig.clf()       # clear the figure\n",
    "    plt.close(fig)  # close the figure\n",
    "    gc.collect()    # call the garbage collector"
   ]
  },
  {
   "cell_type": "code",
   "execution_count": null,
   "id": "d415822d-4ccd-489a-96e5-0f2a7cdf9e77",
   "metadata": {
    "tags": []
   },
   "outputs": [],
   "source": [
    "def show_image_on_wcs(calexp, figsize=(8, 8), x=None, y=None, pixel_extent=None,\n",
    "                      marker=\"o\", color=\"red\", size=20):\n",
    "    fig = plt.figure(figsize=figsize)\n",
    "    plt.subplot(projection=WCS(calexp.getWcs().getFitsMetadata()))\n",
    "    if pixel_extent is None:\n",
    "        pixel_extent = (int(calexp.getBBox().beginX), int(calexp.getBBox().endX),\n",
    "                        int(calexp.getBBox().beginY), int(calexp.getBBox().endY))\n",
    "    # Image array is y, x.  \n",
    "    # So we select from the image array in [Y_Begin:Y_End, X_Begin:X_End]\n",
    "    # But then `extent` is (X_Begin, X_End, Y_Begin, Y_End)\n",
    "    im = plt.imshow(calexp.image.array[pixel_extent[2]:pixel_extent[3], pixel_extent[0]:pixel_extent[1]],\n",
    "                    cmap=\"gray\", vmin=-200.0, vmax=400,\n",
    "                    extent=pixel_extent, origin=\"lower\")\n",
    "    plt.grid(color=\"white\", ls=\"solid\")\n",
    "    plt.xlabel(\"Right Ascension\")\n",
    "    plt.ylabel(\"Declination\")\n",
    "    if x is not None and y is not None:\n",
    "        plt.scatter(x, y, s=size, marker=marker, edgecolor=color, facecolor=\"none\")\n",
    "    plt.show()\n",
    "#    remove_figure(fig)"
   ]
  },
  {
   "cell_type": "markdown",
   "id": "713c67cf-9f67-48f2-bae7-869be63b2d07",
   "metadata": {},
   "source": [
    "## Inject object"
   ]
  },
  {
   "cell_type": "code",
   "execution_count": null,
   "id": "9067a6f3-eb9d-4e7c-8d6a-44e646801b53",
   "metadata": {
    "tags": []
   },
   "outputs": [],
   "source": [
    "# Simulate star\n",
    "# Start with a constant magnitude\n",
    "BASE_MAG_STAR = 17  # u.mag\n",
    "BASE_STAR_RA, BASE_STAR_DEC = 54.982, -29.81\n",
    "BASE_MJD = 60_000\n",
    "\n",
    "# Wrap with a function to allow accessing consistent with a future expansion to time.\n",
    "def mag_star(phase=0 * u.d):\n",
    "    return BASE_MAG_STAR * u.mag\n",
    "\n",
    "def ra_star(phase=0 * u.d, pm_ra=0.1 * u.arcsec / u.yr):\n",
    "    return BASE_STAR_RA * u.degree + phase * pm_ra\n",
    "\n",
    "def dec_star(phase=0 * u.d, pm_dec=0.1 * u.arcsec / u.yr):\n",
    "    return BASE_STAR_DEC * u.degree + phase * pm_dec"
   ]
  },
  {
   "cell_type": "markdown",
   "id": "f66c5d4f-3b49-4edd-98b0-286e8cc97aef",
   "metadata": {},
   "source": [
    "Create a catalog for each visit"
   ]
  },
  {
   "cell_type": "code",
   "execution_count": null,
   "id": "777152be-1c8a-4be7-b594-be1b5c77fbe4",
   "metadata": {},
   "outputs": [],
   "source": [
    "dataset_refs"
   ]
  },
  {
   "cell_type": "code",
   "execution_count": null,
   "id": "c49a9e7f-37ad-4d41-8f34-7cbf9fa44a71",
   "metadata": {
    "tags": []
   },
   "outputs": [],
   "source": [
    "si_cat = {}\n",
    "for dr in dataset_refs:\n",
    "    visit = dr.dataId[\"visit\"]\n",
    "    mjd = visit_table.loc[visit][\"expMidptMJD\"]\n",
    "    phase = (mjd - BASE_MJD) * u.d\n",
    "    si_cat[visit] = [dict(\n",
    "        ra=ra_star(phase).to_value(u.degree),\n",
    "        dec=dec_star(phase).to_value(u.degree),\n",
    "        mag=mag_star().to_value(u.mag),\n",
    "        source_type=\"DeltaFunction\",\n",
    "        index=[\"test\"],\n",
    "    )]\n"
   ]
  },
  {
   "cell_type": "markdown",
   "id": "ba94100c-2a23-46ab-9fa7-0f7c0327d7a6",
   "metadata": {},
   "source": [
    "### Register a Collection to write injection catalog and injected images to"
   ]
  },
  {
   "cell_type": "markdown",
   "id": "93ff987e-519f-43be-9b0c-f28459f5c9af",
   "metadata": {},
   "source": [
    "See `source_injection` si_demo_dc2_visit.ipynb"
   ]
  },
  {
   "cell_type": "code",
   "execution_count": null,
   "id": "bf79ebe5-c515-48dc-8b7b-6e18bb343660",
   "metadata": {
    "tags": []
   },
   "outputs": [],
   "source": [
    "writeable_butler =  Butler(repo_config, writeable=True)\n",
    "\n",
    "si_input_collection = \"u/wmwv/proper_motion\"\n",
    "\n",
    "try:\n",
    "    writeable_butler.removeRuns([si_input_collection])\n",
    "except MissingCollectionError:\n",
    "    print(\"Writing into a new RUN collection\")\n",
    "    pass\n",
    "else:\n",
    "    print(\"Prior RUN collection located and successfully removed\")\n",
    "\n",
    "_ = writeable_butler.registry.registerCollection(si_input_collection, type=CollectionType.RUN)"
   ]
  },
  {
   "cell_type": "markdown",
   "id": "c7471f50-76a2-4ac3-877f-6f17a6ef2360",
   "metadata": {},
   "source": [
    "### Register a DatasetType for these catalogs in the repo\n",
    "\n",
    "This isn't necessary once it's been done once, which it has for `2.2i/runs/DP0.2` at the IDF RSP.  Thus `registerDatasetType` returns `False`, which means the DatasetType is already there."
   ]
  },
  {
   "cell_type": "code",
   "execution_count": null,
   "id": "98b6a815-bf0f-419e-a391-050e7edffc49",
   "metadata": {
    "tags": []
   },
   "outputs": [],
   "source": [
    "si_dataset_type =  DatasetType(\n",
    "    \"si_cat\",\n",
    "    dimensions=[\"skymap\", \"tract\"],\n",
    "    storageClass=\"DataFrame\",\n",
    "    universe=DimensionUniverse(),\n",
    ")\n",
    "\n",
    "writeable_butler.registry.registerDatasetType(si_dataset_type)"
   ]
  },
  {
   "cell_type": "markdown",
   "id": "1328ca39-ad1f-4cba-ba82-9f451a48620a",
   "metadata": {},
   "source": [
    "### Put the source injection catalog into the repo"
   ]
  },
  {
   "cell_type": "code",
   "execution_count": null,
   "id": "550ee85d-f1bd-4ffa-be79-78c3c4026b0f",
   "metadata": {
    "tags": []
   },
   "outputs": [],
   "source": [
    "for visit, cat in si_cat.items():\n",
    "    si_dataId = dict(tract=tract, visit=visit, skymap=\"DC2\")\n",
    "\n",
    "    writeable_butler.put(pd.DataFrame(cat), si_dataset_type, si_dataId, run=si_input_collection)"
   ]
  },
  {
   "cell_type": "markdown",
   "id": "88ded5d5-1a4a-4612-8479-fe9a2f4dba2f",
   "metadata": {
    "execution": {
     "iopub.execute_input": "2023-05-02T14:54:47.776325Z",
     "iopub.status.busy": "2023-05-02T14:54:47.775867Z",
     "iopub.status.idle": "2023-05-02T14:54:47.792118Z",
     "shell.execute_reply": "2023-05-02T14:54:47.791426Z",
     "shell.execute_reply.started": "2023-05-02T14:54:47.776303Z"
    },
    "tags": []
   },
   "source": [
    "# Run subtraction between two calexps"
   ]
  },
  {
   "cell_type": "code",
   "execution_count": null,
   "id": "26c3437b-cadd-4684-a327-1c1faed8a8cc",
   "metadata": {
    "tags": []
   },
   "outputs": [],
   "source": [
    "config = AlardLuptonSubtractConfig()\n",
    "task = AlardLuptonSubtractTask(config=config)"
   ]
  },
  {
   "cell_type": "code",
   "execution_count": null,
   "id": "63ef746c-25c6-4eae-af44-e742e91f21f2",
   "metadata": {
    "tags": []
   },
   "outputs": [],
   "source": [
    "print(dataset_refs[0].dataId)\n",
    "print(dataset_refs[1].dataId)"
   ]
  },
  {
   "cell_type": "code",
   "execution_count": null,
   "id": "5a59b51a-e3ad-4be5-b8d0-4b2df95822a5",
   "metadata": {
    "tags": []
   },
   "outputs": [],
   "source": [
    "template = butler.get(\"calexp\", dataset_refs[0].dataId)\n",
    "science = butler.get(\"calexp\", dataset_refs[-1].dataId)\n",
    "source_catalog = butler.get(\"src\", dataId=dataset_refs[-1].dataId)"
   ]
  },
  {
   "cell_type": "code",
   "execution_count": null,
   "id": "e31eb506-4f78-46f7-a499-7b57228af418",
   "metadata": {
    "tags": []
   },
   "outputs": [],
   "source": [
    "warper_config = WarperConfig()\n",
    "warper =  Warper.fromConfig(warper_config)"
   ]
  },
  {
   "cell_type": "code",
   "execution_count": null,
   "id": "6504471b-dc01-4198-873c-eb12af98f191",
   "metadata": {
    "tags": []
   },
   "outputs": [],
   "source": [
    "science_wcs = science.getWcs()\n",
    "science_bbox = science.getBBox()"
   ]
  },
  {
   "cell_type": "code",
   "execution_count": null,
   "id": "f3eba505-3be7-48cc-97c1-e39388f0cfa9",
   "metadata": {
    "tags": []
   },
   "outputs": [],
   "source": [
    "science.visitInfo.id"
   ]
  },
  {
   "cell_type": "markdown",
   "id": "1dbe2759-fd40-4738-8ed6-a086792ae32e",
   "metadata": {
    "execution": {
     "iopub.execute_input": "2023-05-02T16:39:19.012228Z",
     "iopub.status.busy": "2023-05-02T16:39:19.011965Z",
     "iopub.status.idle": "2023-05-02T16:39:19.028657Z",
     "shell.execute_reply": "2023-05-02T16:39:19.027826Z",
     "shell.execute_reply.started": "2023-05-02T16:39:19.012205Z"
    },
    "tags": []
   },
   "source": [
    "## Make an injection catalog generator, save a copy as a list, reprovide as generator"
   ]
  },
  {
   "cell_type": "code",
   "execution_count": null,
   "id": "b3873185-b28a-49cc-a0a2-0ebeb26cb451",
   "metadata": {
    "tags": []
   },
   "outputs": [],
   "source": [
    "template_si_object_generator = generate_galsim_objects(\n",
    "    injection_catalog=si_cat[template.visitInfo.id],\n",
    "    wcs=template.getWcs(),\n",
    "    photo_calib=template.getPhotoCalib(),\n",
    "    fits_alignment = \"wcs\",\n",
    ")\n",
    "\n",
    "template_si_objects = list(template_si_object_generator)\n",
    "template_si_object_generator = (o for o in template_si_objects)"
   ]
  },
  {
   "cell_type": "code",
   "execution_count": null,
   "id": "fc852b62-4b13-4cbe-8330-219b297936d5",
   "metadata": {
    "tags": []
   },
   "outputs": [],
   "source": [
    "science_si_object_generator = generate_galsim_objects(\n",
    "    injection_catalog=si_cat[template.visitInfo.id],\n",
    "    wcs=science.getWcs(),\n",
    "    photo_calib=science.getPhotoCalib(),\n",
    "    fits_alignment = \"wcs\",\n",
    ")\n",
    "\n",
    "science_si_objects = list(science_si_object_generator)\n",
    "science_si_object_generator = (o for o in science_si_objects)"
   ]
  },
  {
   "cell_type": "code",
   "execution_count": null,
   "id": "6aa34dd3-4f37-4a89-9dcb-155420811469",
   "metadata": {
    "tags": []
   },
   "outputs": [],
   "source": [
    "print(template_si_objects)"
   ]
  },
  {
   "cell_type": "code",
   "execution_count": null,
   "id": "d19d0649-78e3-4972-a6f9-69fcfeb89ca9",
   "metadata": {
    "tags": []
   },
   "outputs": [],
   "source": [
    "print(science_si_objects)"
   ]
  },
  {
   "cell_type": "code",
   "execution_count": null,
   "id": "44393e96-4025-41c1-94e4-d295b53e8fab",
   "metadata": {
    "tags": []
   },
   "outputs": [],
   "source": [
    "mask_plane_name: str = \"INJECTED\"\n",
    "calib_flux_radius: float = 12.0\n",
    "draw_size_scale: float = 1.0\n",
    "draw_size_max: int = 1000"
   ]
  },
  {
   "cell_type": "code",
   "execution_count": null,
   "id": "c57d8ed7-5a95-4077-a0c8-85e733653740",
   "metadata": {
    "tags": []
   },
   "outputs": [],
   "source": [
    "injected_template = template.clone()\n",
    "injected_science = science.clone()"
   ]
  },
  {
   "cell_type": "code",
   "execution_count": null,
   "id": "270fff75-20b8-41ba-8a12-bc399e5383c0",
   "metadata": {
    "tags": []
   },
   "outputs": [],
   "source": [
    "# ( draw_sizes, common_bounds, fft_size_errors, psf_compute_errors, ) = \n",
    "\n",
    "_ = inject_galsim_objects_into_exposure(\n",
    "    injected_template,\n",
    "    template_si_object_generator,\n",
    "    mask_plane_name=mask_plane_name,\n",
    "    calib_flux_radius=calib_flux_radius,\n",
    "    draw_size_scale=draw_size_scale,\n",
    "    draw_size_max=draw_size_max,\n",
    ")"
   ]
  },
  {
   "cell_type": "code",
   "execution_count": null,
   "id": "6b289044-4ad1-484a-8121-5385fb63e55e",
   "metadata": {
    "tags": []
   },
   "outputs": [],
   "source": [
    "_ = inject_galsim_objects_into_exposure(\n",
    "    injected_science,\n",
    "    science_si_object_generator,\n",
    "    mask_plane_name=mask_plane_name,\n",
    "    calib_flux_radius=calib_flux_radius,\n",
    "    draw_size_scale=draw_size_scale,\n",
    "    draw_size_max=draw_size_max,\n",
    ")"
   ]
  },
  {
   "cell_type": "code",
   "execution_count": null,
   "id": "f813b960-8a4f-469f-a520-caf7fcae0a8f",
   "metadata": {
    "tags": []
   },
   "outputs": [],
   "source": [
    "size = 400\n",
    "\n",
    "half_size = size / 2\n",
    "science_xy_coords = science_si_objects[0][1]\n",
    "science_xy_extent = (int(science_xy_coords.x - half_size), int(science_xy_coords.x + half_size),\n",
    "                     int(science_xy_coords.y - half_size), int(science_xy_coords.y + half_size))"
   ]
  },
  {
   "cell_type": "code",
   "execution_count": null,
   "id": "0d6427bd-c317-4ad0-8c98-e4dcd603b2c8",
   "metadata": {
    "tags": []
   },
   "outputs": [],
   "source": [
    "science_xy_coords_template = science.getWcs().skyToPixel(geom.SpherePoint(template_si_cat[0][\"ra\"], template_si_cat[0][\"dec\"], geom.degrees))"
   ]
  },
  {
   "cell_type": "code",
   "execution_count": null,
   "id": "72505ce4-d363-4336-8971-04572e0a31f6",
   "metadata": {
    "tags": []
   },
   "outputs": [],
   "source": [
    "template_xy_coords = template_si_objects[0][1]\n",
    "template_xy_extent = (int(template_xy_coords.x - half_size), int(template_xy_coords.x + half_size),\n",
    "                      int(template_xy_coords.y - half_size), int(template_xy_coords.y + half_size))"
   ]
  },
  {
   "cell_type": "code",
   "execution_count": null,
   "id": "94afe846-c553-4df5-983e-45ac149fe938",
   "metadata": {
    "tags": []
   },
   "outputs": [],
   "source": [
    "print(science_xy_extent)\n",
    "print(template_xy_extent)"
   ]
  },
  {
   "cell_type": "code",
   "execution_count": null,
   "id": "68663827-3671-4994-b3e4-1abeb55134c8",
   "metadata": {
    "tags": []
   },
   "outputs": [],
   "source": [
    "# https://github.com/lsst/ip_diffim/blob/7a89bf037d00e8b7659df4fab0fd3c36f68be89f/python/lsst/ip/diffim/getTemplate.py#L531\n",
    "warped_template = warper.warpExposure(science_wcs, template, destBBox=science_bbox)\n",
    "warped_injected_template = warper.warpExposure(science_wcs, injected_template, destBBox=science_bbox)"
   ]
  },
  {
   "cell_type": "markdown",
   "id": "3b870c64-8c86-45eb-89f4-dfd09f16c26c",
   "metadata": {},
   "source": [
    "Add PSF.  I think doing this directly without warping is wrong.  At least the x,y mapping should be updated"
   ]
  },
  {
   "cell_type": "code",
   "execution_count": null,
   "id": "adfea47c-41a3-43d1-a2e0-98d3ef855eb0",
   "metadata": {
    "tags": []
   },
   "outputs": [],
   "source": [
    "warped_template.setPsf(template.getPsf())\n",
    "warped_injected_template.setPsf(injected_template.getPsf())"
   ]
  },
  {
   "cell_type": "markdown",
   "id": "f3a08bba-9db7-461c-9e12-4b2181964f12",
   "metadata": {},
   "source": [
    "Here's what the template looks like when warped to the science image wcs and bounding box."
   ]
  },
  {
   "cell_type": "code",
   "execution_count": null,
   "id": "6318f7ad-e441-4763-b6bc-a1d0aecb9aef",
   "metadata": {
    "tags": []
   },
   "outputs": [],
   "source": [
    "show_image_on_wcs(injected_science, x=science_xy_coords.x, y=science_xy_coords.y, pixel_extent=science_xy_extent)"
   ]
  },
  {
   "cell_type": "code",
   "execution_count": null,
   "id": "2c56a7b7-3532-41be-a437-ac6125154613",
   "metadata": {
    "tags": []
   },
   "outputs": [],
   "source": [
    "show_image_on_wcs(warped_injected_template, x=science_xy_coords.x, y=science_xy_coords.y, pixel_extent=science_xy_extent)"
   ]
  },
  {
   "cell_type": "markdown",
   "id": "8a19ecf9-4237-4a9b-8837-8b70eafd1532",
   "metadata": {},
   "source": [
    "### Simple subtraction of arrays with no matching of flux level or PSF confirms that we have a displacement"
   ]
  },
  {
   "cell_type": "code",
   "execution_count": null,
   "id": "552b9883-ccef-4796-8c85-e998b1ec2b6e",
   "metadata": {},
   "outputs": [],
   "source": [
    "diff = science.clone()\n",
    "diff.image.array = injected_science.image.array - warped_injected_template.image.array"
   ]
  },
  {
   "cell_type": "code",
   "execution_count": null,
   "id": "09863437-2a4f-4da5-ab6e-902a0d9ec20b",
   "metadata": {
    "tags": []
   },
   "outputs": [],
   "source": [
    "show_image_on_wcs(diff, x=science_xy_coords.x, y=science_xy_coords.y, pixel_extent=science_xy_extent)"
   ]
  },
  {
   "cell_type": "markdown",
   "id": "6222d5a4-b849-45dd-84c7-b4c063517f89",
   "metadata": {
    "execution": {
     "iopub.execute_input": "2023-05-03T14:53:13.094693Z",
     "iopub.status.busy": "2023-05-03T14:53:13.093421Z",
     "iopub.status.idle": "2023-05-03T14:53:13.098678Z",
     "shell.execute_reply": "2023-05-03T14:53:13.097798Z",
     "shell.execute_reply.started": "2023-05-03T14:53:13.094645Z"
    }
   },
   "source": [
    "### Now let's do the subtraction right with PSF matching and flux normalization"
   ]
  },
  {
   "cell_type": "code",
   "execution_count": null,
   "id": "7ede41a0-c470-4ea0-b7e0-4fc5e125b118",
   "metadata": {
    "tags": []
   },
   "outputs": [],
   "source": [
    "subtraction_injected = task.run(warped_template, injected_science, source_catalog)"
   ]
  },
  {
   "cell_type": "code",
   "execution_count": null,
   "id": "b5e00b91-9ec1-4ccd-868b-e06e5cbb57c2",
   "metadata": {
    "tags": []
   },
   "outputs": [],
   "source": [
    "subtraction_injected_injected = task.run(warped_injected_template, injected_science, source_catalog)"
   ]
  },
  {
   "cell_type": "code",
   "execution_count": null,
   "id": "54f9c068-3093-49a6-a101-d25d6ccc0687",
   "metadata": {
    "tags": []
   },
   "outputs": [],
   "source": [
    "subtraction_injected"
   ]
  },
  {
   "cell_type": "code",
   "execution_count": null,
   "id": "52ff0466-a386-4513-b1ad-42e26d9610d5",
   "metadata": {
    "tags": []
   },
   "outputs": [],
   "source": [
    "show_image_on_wcs(subtraction_injected.matchedScience, x=science_xy_coords.x, y=science_xy_coords.y, pixel_extent=science_xy_extent)"
   ]
  },
  {
   "cell_type": "code",
   "execution_count": null,
   "id": "80f4aa76-65d7-467f-b524-9b158893d682",
   "metadata": {
    "tags": []
   },
   "outputs": [],
   "source": [
    "show_image_on_wcs(subtraction_injected.matchedTemplate, x=science_xy_coords.x, y=science_xy_coords.y, pixel_extent=science_xy_extent)"
   ]
  },
  {
   "cell_type": "markdown",
   "id": "8b7f92ee-0ae6-48b6-91c6-10daf4bfecbd",
   "metadata": {},
   "source": [
    "The injected star shows up clearly in the subtraction against the original template."
   ]
  },
  {
   "cell_type": "code",
   "execution_count": null,
   "id": "93e62a75-7d78-43e4-b2f9-f6135e3dfabf",
   "metadata": {
    "tags": []
   },
   "outputs": [],
   "source": [
    "show_image_on_wcs(subtraction_injected.difference, x=science_xy_coords.x, y=science_xy_coords.y, pixel_extent=science_xy_extent)"
   ]
  },
  {
   "cell_type": "code",
   "execution_count": null,
   "id": "fb5c52cb-823d-4423-a55e-708b405b13b5",
   "metadata": {
    "tags": []
   },
   "outputs": [],
   "source": [
    "x = [science_xy_coords.x, science_xy_coords_template.x]\n",
    "y = [science_xy_coords.y, science_xy_coords_template.y]\n",
    "colors = [\"red\", \"green\"]"
   ]
  },
  {
   "cell_type": "markdown",
   "id": "9e595a23-849f-41e3-bcd6-c512c9f10bd0",
   "metadata": {},
   "source": [
    "Here's the template we injected a source on.  We can see the difference between the location of the star at the template epoch (\"green\") from the location of the star in the science epoch (\"red\")."
   ]
  },
  {
   "cell_type": "code",
   "execution_count": null,
   "id": "f122b665-d6b0-440d-890f-cb550a7e9c9b",
   "metadata": {
    "tags": []
   },
   "outputs": [],
   "source": [
    "show_image_on_wcs(subtraction_injected_injected.matchedTemplate, x=x, y=y, color=colors, pixel_extent=science_xy_extent)"
   ]
  },
  {
   "cell_type": "markdown",
   "id": "69d7d911-8ae7-42b0-994a-f198bd8eec16",
   "metadata": {},
   "source": [
    "If we subtract the injected template from the injected science we see a dipole"
   ]
  },
  {
   "cell_type": "code",
   "execution_count": null,
   "id": "07733da2-0732-4713-88ac-94c845380e01",
   "metadata": {
    "tags": []
   },
   "outputs": [],
   "source": [
    "show_image_on_wcs(subtraction_injected_injected.difference, x=x, y=y, color=colors, pixel_extent=science_xy_extent)"
   ]
  },
  {
   "cell_type": "code",
   "execution_count": null,
   "id": "ecf30ef1-2885-418d-ac0c-3d1a9278e5c5",
   "metadata": {
    "tags": []
   },
   "outputs": [],
   "source": [
    "def show_image_with_mask_plane(calexp, figsize=(8, 8)):\n",
    "    fig, ax = plt.subplots(figsize=figsize)\n",
    "    display = afwDisplay.Display(frame=fig)\n",
    "    display.scale('asinh', 'zscale')\n",
    "    display.setMaskTransparency(80)\n",
    "    display.setMaskPlaneColor('DETECTED', 'blue')\n",
    "    display.mtv(calexp)\n",
    "    plt.show()\n",
    "    remove_figure(fig)\n",
    "    \n",
    "    return display"
   ]
  },
  {
   "cell_type": "code",
   "execution_count": null,
   "id": "c5c12342-1657-4c3c-b412-14e143af3d3a",
   "metadata": {
    "tags": []
   },
   "outputs": [],
   "source": [
    "show_image_with_mask_plane(warped_template)"
   ]
  },
  {
   "cell_type": "code",
   "execution_count": null,
   "id": "1d58b70d-9cb0-4e74-8025-c3e0d6c35e86",
   "metadata": {
    "tags": []
   },
   "outputs": [],
   "source": [
    "show_image_with_mask_plane(injected_science)"
   ]
  },
  {
   "cell_type": "code",
   "execution_count": null,
   "id": "d2919375-01ab-4a37-81a2-eef2072a8891",
   "metadata": {
    "tags": []
   },
   "outputs": [],
   "source": [
    "display = show_image_with_mask_plane(subtraction_injected.difference)"
   ]
  },
  {
   "cell_type": "code",
   "execution_count": null,
   "id": "bfcb10c9-169d-4fb8-8e74-62621fd06c66",
   "metadata": {
    "tags": []
   },
   "outputs": [],
   "source": [
    "display = show_image_with_mask_plane(subtraction_injected_injected.difference)"
   ]
  },
  {
   "cell_type": "code",
   "execution_count": null,
   "id": "53d1fbdd-829b-433e-a42c-14d3b8b2c504",
   "metadata": {
    "tags": []
   },
   "outputs": [],
   "source": [
    "print(\"Mask plane bit definitions:\\n\", display.getMaskPlaneColor())\n",
    "print(\"\\nMask plane methods:\\n\")\n",
    "help(display.setMaskPlaneColor)"
   ]
  },
  {
   "cell_type": "markdown",
   "id": "90c04a98-4c56-44ee-b1a9-0763ac24f642",
   "metadata": {},
   "source": [
    "Run detection on subtraction"
   ]
  },
  {
   "cell_type": "code",
   "execution_count": null,
   "id": "f217f91b-3698-4e56-9424-9193cbd94d2c",
   "metadata": {},
   "outputs": [],
   "source": [
    "detect_and_measure_config = DetectAndMeasureConfig()\n",
    "detect_and_measure_task = DetectAndMeasureTask(config=detect_and_measure_config)"
   ]
  },
  {
   "cell_type": "code",
   "execution_count": null,
   "id": "f729cadf-8721-4cce-b14c-d2274aaf87fd",
   "metadata": {
    "tags": []
   },
   "outputs": [],
   "source": [
    "detect_and_measure_injected = detect_and_measure_task.run(injected_science, subtraction_injected.matchedTemplate, subtraction_injected.difference)"
   ]
  },
  {
   "cell_type": "code",
   "execution_count": null,
   "id": "358388dd-ff3d-4fc9-b501-037baa296d1f",
   "metadata": {
    "tags": []
   },
   "outputs": [],
   "source": [
    "detect_and_measure_injected_injected = detect_and_measure_task.run(injected_science, subtraction_injected_injected.matchedTemplate, subtraction_injected_injected.difference)"
   ]
  },
  {
   "cell_type": "markdown",
   "id": "0074dd7f-1114-41ba-82f3-f5e917ea9c0d",
   "metadata": {},
   "source": [
    "Did we recover injected object?"
   ]
  },
  {
   "cell_type": "code",
   "execution_count": null,
   "id": "d44ed2fc-b9ec-45d4-a952-294a0666c041",
   "metadata": {
    "tags": []
   },
   "outputs": [],
   "source": [
    "dia_src_injected = detect_and_measure_injected.diaSources.asAstropy()"
   ]
  },
  {
   "cell_type": "code",
   "execution_count": null,
   "id": "1925f67b-0b1b-4d50-904c-ff23a7d6f6de",
   "metadata": {
    "tags": []
   },
   "outputs": [],
   "source": [
    "plt.scatter(dia_src_injected[\"slot_Centroid_x\"], dia_src_injected[\"slot_Centroid_y\"])\n",
    "plt.scatter([science_xy_coords.x], [science_xy_coords.y], color=\"red\", s=20)"
   ]
  },
  {
   "cell_type": "code",
   "execution_count": null,
   "id": "6bd47567-21dc-4dba-821a-0c9944beb938",
   "metadata": {
    "tags": []
   },
   "outputs": [],
   "source": [
    "# Match in a simple way\n",
    "threshold_dist = 2  # pixels\n",
    "threshold_dist_sq = threshold_dist ** 2\n",
    "\n",
    "dist_sq = (dia_src_injected[\"slot_Shape_x\"] - science_xy_coords.x)**2 + \\\n",
    "          (dia_src_injected[\"slot_Shape_y\"] - science_xy_coords.y)**2\n",
    "\n",
    "idx, = np.where(dist_sq < threshold_dist_sq)\n",
    "matching_injected = dia_src_injected[idx]"
   ]
  },
  {
   "cell_type": "code",
   "execution_count": null,
   "id": "f80ffebb-7f25-4789-9d67-b9d36d9f7342",
   "metadata": {
    "tags": []
   },
   "outputs": [],
   "source": [
    "matching_injected"
   ]
  },
  {
   "cell_type": "markdown",
   "id": "f74d4f5d-4971-40c8-ad87-363ead8f7ed5",
   "metadata": {},
   "source": [
    "There are many diffim measurements and flags.  We're here most direclty interested in the dipole flag."
   ]
  },
  {
   "cell_type": "code",
   "execution_count": null,
   "id": "cb698412-b0dd-465c-8e17-f79b70bddd79",
   "metadata": {
    "tags": []
   },
   "outputs": [],
   "source": [
    "import re\n",
    "# dipole_cols = re.compile(\"diffim.*ipole\")\n",
    "dipole_cols = re.compile(\"_value\")\n",
    "\n",
    "[c for c in list(matching_injected.columns) if dipole_cols.search(c)]"
   ]
  },
  {
   "cell_type": "code",
   "execution_count": null,
   "id": "f734a195-38a9-4465-9af8-1d3755f95aa2",
   "metadata": {
    "tags": []
   },
   "outputs": [],
   "source": [
    "dipole_min_sn = detect_and_measure_config.measurement.plugins['ip_diffim_DipoleFit'].minSn\n",
    "dipole_threshold_ratio = detect_and_measure_config.measurement.plugins['ip_diffim_DipoleFit'].maxFluxRatio\n",
    "print(f\"Dipole flag will be set for objects with S/N > {dipole_min_sn:0.2f}\")\n",
    "print(f\"and {1-threshold_ratio:0.2f} < neg_flux/tot_flux = 1 - pos_flux/tot_flux < {threshold_ratio:0.2f}\")"
   ]
  },
  {
   "cell_type": "code",
   "execution_count": null,
   "id": "68f1d773-cb1a-4416-b0e8-6d074f68c91a",
   "metadata": {
    "tags": []
   },
   "outputs": [],
   "source": [
    "neg_flux = np.abs(dia_src_injected[\"ip_diffim_PsfDipoleFlux_neg_instFlux\"])\n",
    "pos_flux = np.abs(dia_src_injected[\"ip_diffim_PsfDipoleFlux_pos_instFlux\"])\n",
    "tot_flux = neg_flux + pos_flux\n",
    "neg_ratio = neg_flux / tot_flux\n",
    "pos_ratio = pos_flux / tot_flux\n",
    "\n",
    "plt.scatter(neg_ratio, pos_ratio)\n",
    "plt.xlabel(\"neg_flux / (pos_flux + neg_flux)\")\n",
    "plt.ylabel(\"pos_flux / (pos_flux + neg_flux)\")\n",
    "span_kwargs = {\"color\": \"orange\", \"alpha\": 0.1}\n",
    "plt.axvspan(threshold_ratio, 1, **span_kwargs)\n",
    "plt.axvspan(0, 1 - threshold_ratio, **span_kwargs)\n",
    "plt.axhspan(threshold_ratio, 1, **span_kwargs)\n",
    "plt.axhspan(0, 1 - threshold_ratio, **span_kwargs)\n",
    "\n",
    "ax = plt.gca()\n",
    "plt.xlim(0, 1)\n",
    "plt.ylim(0, 1)\n",
    "ax.set_aspect(\"equal\")"
   ]
  },
  {
   "cell_type": "markdown",
   "id": "721495a1-5ea6-4524-9366-d380d72cc945",
   "metadata": {},
   "source": [
    "The dipoles are those in the extremes (upper-left and lower-right corners).\n",
    "\n",
    "This is a perfect y = 1 - x line by construction because we're plotting y/(x+y)  vs. x/(x+y) = 1 - y/(x+y).\n",
    "\n",
    "So we can equivalently look at this in one dimension:"
   ]
  },
  {
   "cell_type": "code",
   "execution_count": null,
   "id": "c17613ef-00b6-464e-ad58-c74de650dd15",
   "metadata": {
    "tags": []
   },
   "outputs": [],
   "source": [
    "bins = np.linspace(-0.05, 1.05, 51)\n",
    "plt.hist(pos_ratio, bins=bins)\n",
    "plt.xlabel(\"pos_flux / (pos_flux + neg_flux)\")\n",
    "plt.axvspan(threshold_ratio, 1, **span_kwargs)\n",
    "plt.axvspan(0, 1 - threshold_ratio, **span_kwargs)\n",
    "plt.xlim(0, 1)\n",
    "# plt.hist(neg_ratio, bins=bins, histtype=\"step\");"
   ]
  },
  {
   "cell_type": "markdown",
   "id": "ff51baa8-2e45-43c5-aa65-78631f02b084",
   "metadata": {},
   "source": [
    "Our DIA Source from the injected star is not a dipole because it fails the Dipole Flux measurement.  This seems completely possible and reasonable because it should have any negative part."
   ]
  },
  {
   "cell_type": "code",
   "execution_count": null,
   "id": "71ddfc11-6a09-4917-a31d-96eb4948b869",
   "metadata": {
    "tags": []
   },
   "outputs": [],
   "source": [
    "columns_of_interest = [\"ip_diffim_PsfDipoleFlux_pos_instFlux\", \"ip_diffim_PsfDipoleFlux_neg_instFlux\", \"ip_diffim_ClassificationDipole_value\"]\n",
    "matching_injected[columns_of_interest]"
   ]
  },
  {
   "cell_type": "markdown",
   "id": "fc010673-1124-4ec7-aaf5-61d67f75e082",
   "metadata": {},
   "source": [
    "Let's look at the subtraction where there was an injected start in the template and in the source iamge that were slightly displaced."
   ]
  },
  {
   "cell_type": "code",
   "execution_count": null,
   "id": "75d739c8-1031-48b3-aa24-dd30ca768d29",
   "metadata": {
    "tags": []
   },
   "outputs": [],
   "source": [
    "dia_src_injected_injected = detect_and_measure_injected_injected.diaSources.asAstropy()"
   ]
  },
  {
   "cell_type": "code",
   "execution_count": null,
   "id": "7b425f14-3d16-4686-8791-fc8808e1f1fa",
   "metadata": {
    "tags": []
   },
   "outputs": [],
   "source": [
    "x_col = re.compile(\"_x\")\n",
    "[c for c in dia_src_injected_injected.columns if x_col.search(c)]"
   ]
  },
  {
   "cell_type": "code",
   "execution_count": null,
   "id": "77d41511-cc8a-4b66-9386-628d47bdd02c",
   "metadata": {
    "tags": []
   },
   "outputs": [],
   "source": [
    "plt.scatter(dia_src_injected_injected[\"slot_Centroid_x\"], dia_src_injected_injected[\"slot_Centroid_y\"])\n",
    "plt.scatter([science_xy_coords.x], [science_xy_coords.y], color=\"red\", s=20)"
   ]
  },
  {
   "cell_type": "code",
   "execution_count": null,
   "id": "130de7e2-6e0e-457d-a9d6-f19dc09f5f87",
   "metadata": {
    "tags": []
   },
   "outputs": [],
   "source": [
    "# Match in a simple way\n",
    "threshold_dist = 2  # pixels\n",
    "threshold_dist_sq = threshold_dist ** 2\n",
    "\n",
    "dist_sq = (dia_src_table_injected_injected[\"slot_Centroid_x\"] - science_xy_coords.x)**2 + \\\n",
    "          (dia_src_table_injected_injected[\"slot_Centroid_y\"] - science_xy_coords.y)**2\n",
    "\n",
    "idx, = np.where(dist_sq < threshold_dist_sq)\n",
    "matching_injected_injected = dia_src_table_injected_injected[idx]"
   ]
  },
  {
   "cell_type": "code",
   "execution_count": null,
   "id": "1e9baa85-36e6-4fbc-a412-ce9c5165b015",
   "metadata": {
    "tags": []
   },
   "outputs": [],
   "source": [
    "neg_flux = np.abs(matching_injected_injected[\"ip_diffim_PsfDipoleFlux_neg_instFlux\"])\n",
    "pos_flux = np.abs(matching_injected_injected[\"ip_diffim_PsfDipoleFlux_pos_instFlux\"])\n",
    "tot_flux = neg_flux + pos_flux\n",
    "neg_ratio = neg_flux / tot_flux\n",
    "pos_ratio = pos_flux / tot_flux\n",
    "\n",
    "print(pos_ratio)"
   ]
  },
  {
   "cell_type": "code",
   "execution_count": null,
   "id": "2a48e3f5-0fff-4e7c-9924-9e898fb5737a",
   "metadata": {
    "tags": []
   },
   "outputs": [],
   "source": [
    "matching_injected_injected[columns_of_interest]"
   ]
  },
  {
   "cell_type": "markdown",
   "id": "35b8fbcf-c973-4497-8789-60706f98c88b",
   "metadata": {},
   "source": [
    "### Appendix.  Snippets of code I might want later"
   ]
  },
  {
   "cell_type": "code",
   "execution_count": null,
   "id": "1d8aceae-f6d3-4cf4-82bf-819cf2fa53c4",
   "metadata": {
    "tags": []
   },
   "outputs": [],
   "source": [
    "class deferred_wrapper():\n",
    "    def __init__(self, cat):\n",
    "        self.cat = cat\n",
    "        \n",
    "    def get(self):\n",
    "        return self.cat\n",
    "\n",
    "# si_cat_deferred = deferred_wrapper(si_cat)"
   ]
  },
  {
   "cell_type": "code",
   "execution_count": null,
   "id": "a52f18cb-ed0b-483c-84ce-be67d3772476",
   "metadata": {
    "tags": []
   },
   "outputs": [],
   "source": [
    "# If you want a test calexp, here's one:\n",
    "NEED_TEST_CALEXP = False\n",
    "if NEED_TEST_CALEXP:\n",
    "    test_dataId = {\"visit\": 421727, \"detector\": 157, \"band\": \"i\"}  # Known existing exposure\n",
    "    test_calexp = butler.get(\"calexp\", dataId=dataId)"
   ]
  }
 ],
 "metadata": {
  "kernelspec": {
   "display_name": "LSST",
   "language": "python",
   "name": "lsst"
  },
  "language_info": {
   "codemirror_mode": {
    "name": "ipython",
    "version": 3
   },
   "file_extension": ".py",
   "mimetype": "text/x-python",
   "name": "python",
   "nbconvert_exporter": "python",
   "pygments_lexer": "ipython3",
   "version": "3.10.9"
  }
 },
 "nbformat": 4,
 "nbformat_minor": 5
}
