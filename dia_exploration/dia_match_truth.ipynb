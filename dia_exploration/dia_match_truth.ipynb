{
 "cells": [
  {
   "cell_type": "markdown",
   "id": "749b0ddf",
   "metadata": {},
   "source": [
    "<b>DiaObject / TruthSummary Catalog Matching</b> <br>\n",
    "Contact author: Douglas Tucker <br>\n",
    "Last verified to run: 2022-12-08<br>\n",
    "LSST Science Piplines version: Weekly 2022_40 <br>\n",
    "Container Size: medium <br>"
   ]
  },
  {
   "cell_type": "markdown",
   "id": "9da1a210-d858-42fe-8591-570965b8be1a",
   "metadata": {},
   "source": [
    "**Description:** This notebook was prompted by a discussion in the Community Forum concerning the identification of candidate SNe Ia as in the DP0.2 data set as described in the DP0.2 Tutorial Notebook <a href=\"https://github.com/rubin-dp0/tutorial-notebooks/blob/main/07a_DiaObject_Samples.ipynb\">07a_DiaObject_Samples.ipynb</a>.  Here, we use the method described in that notebook to identify candidate SNe Ia from the DP0.2 DiaObject and DiaSource tables, match the resulting catalog of candidate DP0.2 SNe Ia to the TruthSummary table that is a basis of the original simulated data, and then analyze the results.\n",
    "\n",
    "Basically, we find that c. 95% of the candidate SNe Ia identified in DP0.2 are in the TruthSummary table.\n",
    "\n",
    "We also look at the inverse problem:  how many of the variable objects (variable stars and SNe Ia) from the TruthSummary table are detected in the DiaObject table?  Here we find the not-unexpected result that many of the variable sources in the much deeper TruthSummary table are too faint to be detected by the DIA pipeline.\n",
    "\n",
    "For the catalog matching step, we make use of the astropy function `match_coordinates_sky`, a fast, KD-tree-based method for matching two catalogs.  For those interested just in the catalog-matching step, please see Sections 2.3 and 3.3 below."
   ]
  },
  {
   "cell_type": "markdown",
   "id": "8f72b27f",
   "metadata": {},
   "source": [
    "**Credit:** The material for identifying candidate SNeIa from the DiaObject and DiaSource tables was developed by Melissa Graham for the DP0.2 Tutorial Notebook <a href=\"https://github.com/rubin-dp0/tutorial-notebooks/blob/main/07a_DiaObject_Samples.ipynb\">07a_DiaObject_Samples.ipynb</a>."
   ]
  },
  {
   "cell_type": "markdown",
   "id": "cfc73be0",
   "metadata": {},
   "source": [
    "## 1. Setup"
   ]
  },
  {
   "cell_type": "markdown",
   "id": "29ba28bf-f6d5-4401-8254-c36368de9d14",
   "metadata": {},
   "source": [
    "Import packages."
   ]
  },
  {
   "cell_type": "code",
   "execution_count": null,
   "id": "cddc1458",
   "metadata": {},
   "outputs": [],
   "source": [
    "import time\n",
    "from IPython.display import Image\n",
    "\n",
    "import math\n",
    "from astropy.units import UnitsWarning\n",
    "from astropy.coordinates import SkyCoord\n",
    "from astropy.coordinates import match_coordinates_sky\n",
    "import astropy.units as u\n",
    "from astropy.table import Table\n",
    "import pandas as pd\n",
    "import numpy\n",
    "import matplotlib.pyplot as plt\n",
    "\n",
    "from lsst.rsp import get_tap_service\n",
    "\n",
    "from astropy.cosmology import FlatLambdaCDM"
   ]
  },
  {
   "cell_type": "markdown",
   "id": "b6a8c049-2ea5-4370-b80e-8d2df94464ee",
   "metadata": {},
   "source": [
    "Set plotting parameters."
   ]
  },
  {
   "cell_type": "code",
   "execution_count": null,
   "id": "5a72c70e-e682-458c-8aeb-56ecfb4567f2",
   "metadata": {},
   "outputs": [],
   "source": [
    "plt.style.use('tableau-colorblind10')"
   ]
  },
  {
   "cell_type": "markdown",
   "id": "633e872a-137c-4622-8bc7-a32d7f020658",
   "metadata": {},
   "source": [
    "Set the cosmology to use with the astropy.cosmology package."
   ]
  },
  {
   "cell_type": "code",
   "execution_count": null,
   "id": "c6753ded-fabd-4536-9d3b-66cfee8ebb1f",
   "metadata": {},
   "outputs": [],
   "source": [
    "cosmo = FlatLambdaCDM(H0=70, Om0=0.3)"
   ]
  },
  {
   "cell_type": "markdown",
   "id": "349194b1-07a1-44a8-9bbe-8c8252e49e5d",
   "metadata": {},
   "source": [
    "Set identification parameters for candidate 0.1 < z 0.3 SNeIa, per DP0.2 Tutorial Notebook <a href=\"https://github.com/rubin-dp0/tutorial-notebooks/blob/main/07a_DiaObject_Samples.ipynb\">07a_DiaObject_Samples.ipynb</a>."
   ]
  },
  {
   "cell_type": "code",
   "execution_count": null,
   "id": "ede1907b-245d-4639-90d2-1bc949fa755c",
   "metadata": {},
   "outputs": [],
   "source": [
    "redshift_min = 0.1\n",
    "redshift_max = 0.3\n",
    "\n",
    "snia_peak_mag = -19.0\n",
    "snia_peak_mag_range = 0.5\n",
    "\n",
    "snia_peak_mr_min = cosmo.distmod(redshift_min).value + snia_peak_mag - snia_peak_mag_range\n",
    "snia_peak_mr_max = cosmo.distmod(redshift_max).value + snia_peak_mag + snia_peak_mag_range\n",
    "\n",
    "snia_peak_mg_max = 24.0\n",
    "snia_peak_mi_max = 24.0\n",
    "\n",
    "snia_ampl_mr_min = 1.5\n",
    "snia_ampl_mr_max = 5.5\n",
    "\n",
    "snia_nDiaSources_min = 15\n",
    "snia_nDiaSources_max = 100\n",
    "\n",
    "snia_duration_min = 50\n",
    "snia_duration_max = 300"
   ]
  },
  {
   "cell_type": "markdown",
   "id": "7cc807cf-3937-4a92-9fc8-9efbf8827447",
   "metadata": {},
   "source": [
    "Start the TAP service."
   ]
  },
  {
   "cell_type": "code",
   "execution_count": null,
   "id": "6e32778c-067e-41c3-a777-dcc4128d7de4",
   "metadata": {},
   "outputs": [],
   "source": [
    "service = get_tap_service()"
   ]
  },
  {
   "cell_type": "markdown",
   "id": "6c2c05d1-7f62-458c-b5e9-cb6a9f399a6d",
   "metadata": {},
   "source": [
    "## 2.  Do Candidate SNe Ia from the DiaObject table have suitable matches in the TruthSummary table?"
   ]
  },
  {
   "cell_type": "markdown",
   "id": "edadad01-b412-43c4-8097-791926fc5d62",
   "metadata": {},
   "source": [
    "### 2.1. Retrieve a sample of potentially SNIa-like DiaObjects\n"
   ]
  },
  {
   "cell_type": "markdown",
   "id": "661f3289-2ca8-4a80-8937-84de1be2122c",
   "metadata": {},
   "source": [
    "Again, this follows the methodolody of the DP0.2 Tutorial Notebook <a href=\"https://github.com/rubin-dp0/tutorial-notebooks/blob/main/07a_DiaObject_Samples.ipynb\">07a_DiaObject_Samples.ipynb</a>, except we are **not** retricting the query to the first 1000 entries returned.\n",
    "\n",
    "The following cell typically takes much less than a minute."
   ]
  },
  {
   "cell_type": "code",
   "execution_count": null,
   "id": "81b8cd59-1ba3-4eaa-846f-6478ed0c3cf5",
   "metadata": {},
   "outputs": [],
   "source": [
    "%%time\n",
    "\n",
    "results = service.search(\"SELECT ra, decl, diaObjectId, nDiaSources, \"\n",
    "                         \"scisql_nanojanskyToAbMag(rPSFluxMin) AS rMagMax, \"\n",
    "                         \"scisql_nanojanskyToAbMag(rPSFluxMax) AS rMagMin, \"\n",
    "                         \"scisql_nanojanskyToAbMag(gPSFluxMax) AS gMagMin, \"\n",
    "                         \"scisql_nanojanskyToAbMag(iPSFluxMax) AS iMagMin, \"\n",
    "                         \"scisql_nanojanskyToAbMag(rPSFluxMin)\"\n",
    "                         \" - scisql_nanojanskyToAbMag(rPSFluxMax) AS rMagAmp \"\n",
    "                         \"FROM dp02_dc2_catalogs.DiaObject \"\n",
    "                         \"WHERE nDiaSources > \"+str(snia_nDiaSources_min)+\" \"\n",
    "                         \"AND nDiaSources < \"+str(snia_nDiaSources_max)+\" \"\n",
    "                         \"AND scisql_nanojanskyToAbMag(rPSFluxMax) > \"+str(snia_peak_mr_min)+\" \"\n",
    "                         \"AND scisql_nanojanskyToAbMag(rPSFluxMax) < \"+str(snia_peak_mr_max)+\" \"\n",
    "                         \"AND scisql_nanojanskyToAbMag(gPSFluxMax) < \"+str(snia_peak_mg_max)+\" \"\n",
    "                         \"AND scisql_nanojanskyToAbMag(iPSFluxMax) < \"+str(snia_peak_mi_max)+\" \"\n",
    "                         \"AND scisql_nanojanskyToAbMag(rPSFluxMin)\"\n",
    "                         \" - scisql_nanojanskyToAbMag(rPSFluxMax) < \"+str(snia_ampl_mr_max)+\" \"\n",
    "                         \"AND scisql_nanojanskyToAbMag(rPSFluxMin)\"\n",
    "                         \" - scisql_nanojanskyToAbMag(rPSFluxMax) > \"+str(snia_ampl_mr_min)+\" \")\n",
    "\n",
    "DiaObjs = results.to_table()\n",
    "del results"
   ]
  },
  {
   "cell_type": "markdown",
   "id": "1768203c-de36-4aeb-a447-f3f7e40cdb9c",
   "metadata": {},
   "source": [
    "Note that we found 6570 DiaObjects over the entire DP0.2 footprint that meet the above criteria."
   ]
  },
  {
   "cell_type": "code",
   "execution_count": null,
   "id": "85db3b35-5317-4bb5-888a-56bb56290e2b",
   "metadata": {},
   "outputs": [],
   "source": [
    "DiaObjs"
   ]
  },
  {
   "cell_type": "markdown",
   "id": "424d4c96-66ca-4b0d-a4c8-9aa684981737",
   "metadata": {},
   "source": [
    "### 2.1. Calculate lightcurve duration and identify potential SNIa\n",
    "\n",
    "The lightcurve duration -- time between the first and last detected DiaSource in any filter -- is not included in the DiaObject table.\n",
    "It is calculated below, using all of the DiaSources for each DiaObject.\n",
    "\n",
    "Time is reported in the DiaSource table as `midPointTai`, which is in the SI unit of \"TAI\" (<a href=\"https://en.wikipedia.org/wiki/International_Atomic_Time\">International Atomic Time</a>), and is presented in days (in particular, as \"<a href=\"https://en.wikipedia.org/wiki/Julian_day\">Modified Julian Days</a>\").\n",
    "\n",
    "Here we deviate slightly from the current (2022-10-25) version of <a href=\"https://github.com/rubin-dp0/tutorial-notebooks/blob/main/07a_DiaObject_Samples.ipynb\">07a_DiaObject_Samples.ipynb</a>, using a combination of the ADQL `WHERE IN` command plus some `pandas`-based manipulations to achieve the same results.  (Kudos to Fritz Mueller of the Data Management Team who pointed out the speedy `WHERE IN` command in response to the <a href=\"https://community.lsst.org/t/query-objects-providing-a-list-of-ids/7256\">Community Forum Post 7256</a>.)"
   ]
  },
  {
   "cell_type": "markdown",
   "id": "f8207dab-91fa-4d72-92e5-c1a058793077",
   "metadata": {},
   "source": [
    "First, create a list of diaObjectIds:"
   ]
  },
  {
   "cell_type": "code",
   "execution_count": null,
   "id": "ff2b8608-0117-419f-9b08-00d74430097e",
   "metadata": {},
   "outputs": [],
   "source": [
    "diaObjectId_list = DiaObjs['diaObjectId'].tolist()"
   ]
  },
  {
   "cell_type": "markdown",
   "id": "7b7c8415-4006-41e9-a959-cd526dd7bf01",
   "metadata": {},
   "source": [
    "Next, convert this python list into a string containing the comma-separated list of diaObjectId's:"
   ]
  },
  {
   "cell_type": "code",
   "execution_count": null,
   "id": "c13ea7d3-2c65-473c-a776-febdd4a0f24e",
   "metadata": {},
   "outputs": [],
   "source": [
    "diaObjectId_list_str = ','.join(map(str,diaObjectId_list))"
   ]
  },
  {
   "cell_type": "markdown",
   "id": "085a47f0-dc11-447d-a4e3-bac1e01e693f",
   "metadata": {},
   "source": [
    "Now we can query for the `midPointTai` timestamp for all the DiaSources associated with the DiaObject.  This cell typically takes about 1 minute to run."
   ]
  },
  {
   "cell_type": "code",
   "execution_count": null,
   "id": "cde5bfdd-1131-4cb1-8677-892b13db7e11",
   "metadata": {},
   "outputs": [],
   "source": [
    "%%time\n",
    "\n",
    "query = \"\"\"\n",
    "        SELECT diaObjectId, midPointTai \n",
    "        FROM dp02_dc2_catalogs.DiaSource \n",
    "        WHERE diaObjectId IN (%s)\n",
    "        \"\"\" % (diaObjectId_list_str)\n",
    "\n",
    "#print(query)\n",
    "\n",
    "results = service.search(query)\n",
    "\n",
    "df_tmp = results.to_table().to_pandas()\n",
    "\n",
    "del results"
   ]
  },
  {
   "cell_type": "markdown",
   "id": "ee3d4430-aa4f-47cb-9479-59c48db1cc99",
   "metadata": {},
   "source": [
    "_Optional:_  Take a quick look at the results from this query.  There are typically many `midPointTai`'s -- one per DiaSource for that DiaObject -- for each `diaObjectId`:"
   ]
  },
  {
   "cell_type": "code",
   "execution_count": null,
   "id": "cce14dc3-ab93-43cb-afb6-4172e58323da",
   "metadata": {},
   "outputs": [],
   "source": [
    "#df_tmp"
   ]
  },
  {
   "cell_type": "markdown",
   "id": "87134d49-fa97-46ad-8452-140bf55cc666",
   "metadata": {},
   "source": [
    "We can use the pandas `groupby` function to find the earliest and latest `midPointTai` associated with each diaObject.  We can either estimate the duration for each diaObject by subtracting the minimum `midPointTai` from the maximum `midPointTai` for that diaObject, or by using the numpy `ptp` function to find the range of `midPointTai`'s for each diaObject."
   ]
  },
  {
   "cell_type": "code",
   "execution_count": null,
   "id": "b8488548-ce2e-4d83-a964-5b8eefb72b6f",
   "metadata": {},
   "outputs": [],
   "source": [
    "df_tmp1 = df_tmp.groupby(\"diaObjectId\")['midPointTai'].agg([\"min\", \"max\", numpy.ptp])\n",
    "df_tmp1['duration'] = df_tmp1['max'] - df_tmp1['min']\n",
    "df_tmp1.reset_index(inplace=True)"
   ]
  },
  {
   "cell_type": "markdown",
   "id": "7484182b-fa09-473b-bff7-a33abd3e2c18",
   "metadata": {},
   "source": [
    "_Optional:_  Take a quick look at the contents of df_tmp1:"
   ]
  },
  {
   "cell_type": "code",
   "execution_count": null,
   "id": "1f90528a-c6cf-4ece-bb42-d2b0070e9665",
   "metadata": {},
   "outputs": [],
   "source": [
    "#df_tmp1"
   ]
  },
  {
   "cell_type": "markdown",
   "id": "7a00f02a-061d-4fea-bd01-e8a3b9f288f1",
   "metadata": {},
   "source": [
    "Let's convert the DiaObjs Table to a pandas DataFrame:"
   ]
  },
  {
   "cell_type": "code",
   "execution_count": null,
   "id": "6395daaf-f8a0-4a66-b5c3-04c4bae9b148",
   "metadata": {},
   "outputs": [],
   "source": [
    "df_DiaObjs = DiaObjs.to_pandas()"
   ]
  },
  {
   "cell_type": "markdown",
   "id": "80d1bf8c-f29f-4ad3-b51d-79f90b95fbf7",
   "metadata": {},
   "source": [
    "We will now merge the `df_DiaObjs` DataFrame with the the `df_tmp1` DataFrame by their `diaObjectId`'s.  Now, we have all the info we need for each diaObject. Note that the contents of the `ptp` column are the same as the manually generated contents of the `duration` column."
   ]
  },
  {
   "cell_type": "code",
   "execution_count": null,
   "id": "17525f0b-35b4-4f4d-8fe8-2bac806a0a81",
   "metadata": {},
   "outputs": [],
   "source": [
    "df_DiaObjs_new = pd.merge(df_DiaObjs, df_tmp1, on='diaObjectId', how='inner')"
   ]
  },
  {
   "cell_type": "markdown",
   "id": "74cb5c5b-6a11-457e-9fc0-1e1ac83bb963",
   "metadata": {},
   "source": [
    "_Optional:_  Take a quick look at the contents of df_DiaObjs_new:"
   ]
  },
  {
   "cell_type": "code",
   "execution_count": null,
   "id": "782f3a42-4337-4b07-b78f-41f2bfff16b8",
   "metadata": {},
   "outputs": [],
   "source": [
    "#df_DiaObjs_new"
   ]
  },
  {
   "cell_type": "markdown",
   "id": "16aafdfa-e78d-4345-982e-c4ee37b44489",
   "metadata": {},
   "source": [
    "Now, let us select only DiaObjects in the `df_DiaObjs_new` DataFrame that have lightcurve durations within the specified range for SNIa.  Note, there are 331 candidate SNeIa that meet these criteria over the whole area and time period of the DP0.2 (simulated) observations.\n",
    "\n",
    "**These 331 candidate SNe Ia compose the sample we wish to match with the TruthSummary table.**"
   ]
  },
  {
   "cell_type": "code",
   "execution_count": null,
   "id": "d90d10a1-dd93-4184-a123-28ebf1379057",
   "metadata": {},
   "outputs": [],
   "source": [
    "mask = (df_DiaObjs_new['duration'] > snia_duration_min) & (df_DiaObjs_new['duration'] < snia_duration_max)\n",
    "df_DiaObjs_cand_SNeIa = df_DiaObjs_new[mask].copy(deep=True)\n",
    "df_DiaObjs_cand_SNeIa.reset_index(inplace=True, drop=True)\n",
    "df_DiaObjs_cand_SNeIa"
   ]
  },
  {
   "cell_type": "markdown",
   "id": "67ac1511-f5c3-4672-8060-8a32f2a82bb8",
   "metadata": {},
   "source": [
    "### 2.2. Retrieve all variable stars and SNe Ia from the TruthSummary table."
   ]
  },
  {
   "cell_type": "markdown",
   "id": "4f5539a2-f448-4009-8e91-ab85057b9ffc",
   "metadata": {},
   "source": [
    "Many of these potential SNe Ia will not be SNe Ia.  For example, many will be variable stars.  We will match our list of potential SNe Ia with both SNe Ia *and* variable stars from the TruthSummary table."
   ]
  },
  {
   "cell_type": "markdown",
   "id": "7d8363c7-d62c-4052-a066-87a9f8fc166a",
   "metadata": {},
   "source": [
    "First, we will download the id, ra, dec, is_variable, mag_r, redshift, and truth_type for all stars and SNe Ia.\n",
    "\n",
    "The following cell can take several minutes to run..."
   ]
  },
  {
   "cell_type": "code",
   "execution_count": null,
   "id": "3472bef2-5133-4a35-a80c-69d1f5f26c53",
   "metadata": {},
   "outputs": [],
   "source": [
    "%%time\n",
    "\n",
    "query = \"\"\"SELECT id, ra, dec, is_pointsource, is_variable, mag_r, redshift, truth_type \n",
    "           FROM dp02_dc2_catalogs.TruthSummary \n",
    "           WHERE \n",
    "           truth_type=2 OR truth_type=3 \n",
    "        \"\"\"\n",
    "\n",
    "print(query)\n",
    "\n",
    "results = service.search(query)\n",
    "df_ts23 = results.to_table().to_pandas()\n",
    "del results\n",
    "\n",
    "df_ts23"
   ]
  },
  {
   "cell_type": "markdown",
   "id": "f468343f-8985-4620-89c6-294150c0fc28",
   "metadata": {},
   "source": [
    "### 2.3. Match the catalog of candidate SNe Ia from the DiaObject/DiaSource tables with the catalog of SNe Ia from the TruthSummary table.\n"
   ]
  },
  {
   "cell_type": "markdown",
   "id": "e61be4f0-2b1a-454a-9bb2-4a25b9b35073",
   "metadata": {},
   "source": [
    "We'll match the two DataFrames using a KD-tree matching routine provided by the astropy package.  See https://docs.astropy.org/en/stable/coordinates/matchsep.html?highlight=matching#matching-catalogs"
   ]
  },
  {
   "cell_type": "markdown",
   "id": "c9dc0b99-f909-4948-bd61-31f311c63b5c",
   "metadata": {},
   "source": [
    "First, we need to create two `SkyCoord` arrays -- one for df_DiaObjs_cand_SNeIa and one for df_ts23:"
   ]
  },
  {
   "cell_type": "code",
   "execution_count": null,
   "id": "237a878d-c50f-4507-884d-586c79f309c2",
   "metadata": {},
   "outputs": [],
   "source": [
    "c_df_DiaObjs_cand_SNeIa = SkyCoord(ra=df_DiaObjs_cand_SNeIa.loc[:,'ra'].values*u.degree, dec=df_DiaObjs_cand_SNeIa.loc[:,'decl'].values*u.degree)\n",
    "c_df_ts23 = SkyCoord(ra=df_ts23.loc[:,'ra'].values*u.degree, dec=df_ts23.loc[:,'dec'].values*u.degree)"
   ]
  },
  {
   "cell_type": "markdown",
   "id": "42c6176b-e426-491f-9b33-71ac18dc7ebd",
   "metadata": {},
   "source": [
    "We will use the astropy function `match_coordinates_sky` to match the two catalogs.\n",
    "\n",
    "**Note that `match_coordinates_sky` finds the nearest match in the reference catalog (the second parameter, here `c_df_ts23`) for each object in the source catalog (the first parameter, here `c_df_diaObjs_tx`).  The nearest match could be very distant (and thus unphysical); so you may wish to apply a limit on the separation after the match to remove unphysical matches.** Here, we will consider all matches, at least for the time being.\n",
    "\n",
    "`match_coordinates_sky` returns 3 arrays:  `idx` is the array of indices in c_df_ts23 that have matches to c_df_DiaObjs_cand_SNeIa, `d2d` is the array of 2D separations between the object in c_df_ts23 and its match in c_df_DiaObjs_cand_SNeIa, and `d3d` is the array of the 3D separations between the object in c_df_ts23 and its match in c_df_DiaObjs_cand_SNeIa. Since we do not include a third coordinate for distance for spatial matches (a unit distance is assumed), we ignore `d3d`.\n"
   ]
  },
  {
   "cell_type": "code",
   "execution_count": null,
   "id": "d05d9151-32f0-4c30-baee-04b92cc252b5",
   "metadata": {},
   "outputs": [],
   "source": [
    "idx, d2d, d3d = match_coordinates_sky(c_df_DiaObjs_cand_SNeIa, c_df_ts23)"
   ]
  },
  {
   "cell_type": "markdown",
   "id": "fcf6613e-19c4-4df3-b902-bfdcc1a67e1e",
   "metadata": {},
   "source": [
    "### 2.4. Analysis of the match.\n"
   ]
  },
  {
   "cell_type": "markdown",
   "id": "643508ff-381d-4fc3-ba22-516c3893f762",
   "metadata": {},
   "source": [
    "First, we note that there is indeed a match for each of the 331 candidate SNe Ia in c_df_DiaObjs_cand_SNeIa.  (That said, since we have not imposed a limiting match radius, some of these matches may be bad/unphysical)."
   ]
  },
  {
   "cell_type": "code",
   "execution_count": null,
   "id": "5ace1c7e-ffe0-44db-bf32-a54d30150dcc",
   "metadata": {},
   "outputs": [],
   "source": [
    "len(d2d)"
   ]
  },
  {
   "cell_type": "markdown",
   "id": "923f9f59-b48b-4bd9-858b-ccd9016095e2",
   "metadata": {},
   "source": [
    "Now let's look at these matches in df_ts23.  Note that most are indeed `truth_type=3` (i.e., SNe Ia)."
   ]
  },
  {
   "cell_type": "code",
   "execution_count": null,
   "id": "89255bae-c1dc-432e-bb46-4d9fa275afcc",
   "metadata": {},
   "outputs": [],
   "source": [
    "df_ts23.loc[idx]"
   ]
  },
  {
   "cell_type": "markdown",
   "id": "8b672c8d-b35b-4da0-a642-9842f6b9c31c",
   "metadata": {},
   "source": [
    "Let's make a copy of df_ts23 and reset its index, to simplify merging it with df_DiaObjs_cand_SNeIa later."
   ]
  },
  {
   "cell_type": "code",
   "execution_count": null,
   "id": "826b5da8-0c71-4a75-b767-2686d19d39c8",
   "metadata": {},
   "outputs": [],
   "source": [
    "df_ts23_cand_SNeIa = df_ts23.loc[idx].copy(deep=True)\n",
    "df_ts23_cand_SNeIa.reset_index(inplace=True, drop=True)"
   ]
  },
  {
   "cell_type": "markdown",
   "id": "f43355c5-f387-4bb4-92bc-6c857fc55563",
   "metadata": {},
   "source": [
    "_Optional_: view the contents of df_ts23_cand_SNeIa:"
   ]
  },
  {
   "cell_type": "code",
   "execution_count": null,
   "id": "fb13259e-c867-4c02-a75f-c7459b25af5e",
   "metadata": {},
   "outputs": [],
   "source": [
    "#df_ts23_cand_SNeIa"
   ]
  },
  {
   "cell_type": "markdown",
   "id": "8a941069-9175-4614-9fdf-909cf889fbb4",
   "metadata": {},
   "source": [
    "The index for each row in df_ts23_cand_SNeIa (`0, 1, 2, 3, ...`) is now the same as the index of the corresponding DiaObject in df_DiaObjs_cand_SNeIa; so we can perform this simple merge, joining by the index:"
   ]
  },
  {
   "cell_type": "code",
   "execution_count": null,
   "id": "85aa04fb-ee23-4282-9ebe-7875ffe1b7da",
   "metadata": {},
   "outputs": [],
   "source": [
    "df_merged = pd.merge(df_DiaObjs_cand_SNeIa,df_ts23_cand_SNeIa, left_index=True, right_index=True)"
   ]
  },
  {
   "cell_type": "markdown",
   "id": "de113503-13fb-4234-b375-c78c47d4c0c0",
   "metadata": {},
   "source": [
    "Now we have the relevant TruthSummary info for each matched DiaObject in the df_DiaObjs_tx DataFrame all in one df_merged DataFrame:"
   ]
  },
  {
   "cell_type": "code",
   "execution_count": null,
   "id": "428fc051-e34d-4f5c-8719-4ab6a8c0ec35",
   "metadata": {},
   "outputs": [],
   "source": [
    "df_merged"
   ]
  },
  {
   "cell_type": "markdown",
   "id": "2164d46a-c36a-4853-a7f6-05cadf9bc89d",
   "metadata": {},
   "source": [
    "Let's plot the DiaObjects sky positions.  Grey triangles are matched with TruthSummary SNe Ia; Cyan circles are matched with TruthSummary variable stars.  Note, most of the variables are near corners of the field, which may indicate some sort of mis-match."
   ]
  },
  {
   "cell_type": "code",
   "execution_count": null,
   "id": "d66226eb-a270-46c2-8386-98f259d37e64",
   "metadata": {},
   "outputs": [],
   "source": [
    "color_truth_type = {2 : '#56b4e9', 3 : 'grey'}\n",
    "marker_truth_type = {2 : 'o', 3 : '^'}\n",
    "\n",
    "groups = df_merged.groupby('truth_type')\n",
    "for name, group in groups:\n",
    "    plt.plot(group.ra_x, group.decl, marker=marker_truth_type[name], linestyle='', markersize=5, label=name, color=color_truth_type[name])\n",
    "\n",
    "plt.legend()"
   ]
  },
  {
   "cell_type": "markdown",
   "id": "84af6816-08b2-4f07-8978-1a31184195c0",
   "metadata": {},
   "source": [
    "Now, let's calculate the separation in arcseconds between each DiaObject in the merged DataFrame and its TruthSummary match.  We could do this with `astropy`, but here we will just do a quick calculation using the following function.\n",
    "\n",
    "(Alternatively, we could have just used the results from `idx, d2d, d3d = match_coordinates_sky(c_df_DiaObjs_tx, c_df_ts23)`, via `df_merged['d2d_arcsec'] = d2d.arcsec`.  Note that the results from `match_coordinates_sky` differ from those from the following `sepGetArray` function by c. 1 milli-arcsec.)"
   ]
  },
  {
   "cell_type": "code",
   "execution_count": null,
   "id": "a633a785-7eb9-4af4-82f2-7513e81d7ab9",
   "metadata": {},
   "outputs": [],
   "source": [
    "# Return angular separation (in degrees) of two points on the Celestial Sphere\n",
    "def sepDegGetArray(raDeg1,decDeg1,raDeg2,decDeg2):\n",
    "\n",
    "    import numpy\n",
    "\n",
    "    raRad1  = numpy.radians(raDeg1)\n",
    "    decRad1 = numpy.radians(decDeg1)\n",
    "    raRad2  = numpy.radians(raDeg2)\n",
    "    decRad2 = numpy.radians(decDeg2)\n",
    "\n",
    "    cosSep = numpy.sin(decRad1)*numpy.sin(decRad2) + numpy.cos(decRad1)*numpy.cos(decRad2)*numpy.cos(raRad1-raRad2)\n",
    "    sepRad = numpy.arccos(cosSep)\n",
    "    sepDeg = numpy.degrees(sepRad)\n",
    "\n",
    "    return sepDeg"
   ]
  },
  {
   "cell_type": "code",
   "execution_count": null,
   "id": "9dbbbe30-0ade-4c4b-b123-a7ce1d8ea29d",
   "metadata": {},
   "outputs": [],
   "source": [
    "df_merged['sepArcsec'] = 3600.*sepDegGetArray(df_merged['ra_x'],df_merged['decl'],df_merged['ra_y'],df_merged['dec'])"
   ]
  },
  {
   "cell_type": "markdown",
   "id": "a0af8db6-d686-4289-8514-10ad1720916e",
   "metadata": {},
   "source": [
    "_Optional_:  view the contents of df_merged with the new `sepArcsec` column:"
   ]
  },
  {
   "cell_type": "code",
   "execution_count": null,
   "id": "be6134a7-9e5c-42de-a4ff-e4569ec974b7",
   "metadata": {},
   "outputs": [],
   "source": [
    "#df_merged"
   ]
  },
  {
   "cell_type": "markdown",
   "id": "4d454759-8b85-41f0-9ba1-8bf093243a1a",
   "metadata": {},
   "source": [
    "Now let's plot the histogram of separations.  There are clearly some \"matches\" that have a separation over a degree away!"
   ]
  },
  {
   "cell_type": "code",
   "execution_count": null,
   "id": "034b6471-f60f-4456-8796-331f7c394f86",
   "metadata": {},
   "outputs": [],
   "source": [
    "df_merged.hist('sepArcsec', bins=50)\n",
    "plt.xlabel('separation [arcsec]')\n",
    "plt.ylabel('Number')"
   ]
  },
  {
   "cell_type": "markdown",
   "id": "69428214-8312-4ad7-9b92-fd551a7916b0",
   "metadata": {},
   "source": [
    "Let's plot DiaObjects matched with TruthSummary variable stars separately from those matched with TruthSummary SNe Ia."
   ]
  },
  {
   "cell_type": "code",
   "execution_count": null,
   "id": "14d5a89a-9453-45e3-9b9b-2cabc56592b2",
   "metadata": {},
   "outputs": [],
   "source": [
    "fig, ax = plt.subplots(1, 2, figsize=(10, 3), sharey=False, sharex=False)\n",
    "\n",
    "ax[0].hist(df_merged[df_merged.truth_type==2]['sepArcsec'], bins=20, color='grey')\n",
    "ax[0].set_title('Matched to a Variable Star')\n",
    "ax[0].set_xlabel('separation [arcsec]')\n",
    "ax[0].set_ylabel('Number matches')\n",
    "ax[0].grid(True)\n",
    "\n",
    "ax[1].hist(df_merged[df_merged.truth_type==3]['sepArcsec'], bins=20, color='grey')\n",
    "ax[1].set_title('Matched to an SNIa')\n",
    "ax[1].set_xlabel('separation [arcsec]')\n",
    "ax[1].set_ylabel('Number matches')\n",
    "ax[1].grid(True)\n",
    "\n",
    "plt.tight_layout()\n",
    "plt.show()"
   ]
  },
  {
   "cell_type": "markdown",
   "id": "332e62b2-31fe-4f84-af83-50fb4753b3ec",
   "metadata": {},
   "source": [
    "Let's zoom in for both of these.  A 1.0-arcsec match radius sounds like a pretty reasonable limit for a good match."
   ]
  },
  {
   "cell_type": "code",
   "execution_count": null,
   "id": "b7f0418c-c906-4a1d-bec7-0be3dbb9b153",
   "metadata": {},
   "outputs": [],
   "source": [
    "# Limit ot a range of 1.00 arcsec:\n",
    "range = [0.00, 1.00]\n",
    "\n",
    "fig, ax = plt.subplots(1, 2, figsize=(10, 3), sharey=False, sharex=False)\n",
    "\n",
    "ax[0].hist(df_merged[df_merged.truth_type==2]['sepArcsec'], bins=100, range=range, color='grey')\n",
    "ax[0].set_title('Matched to a Variable Star')\n",
    "ax[0].set_xlabel('separation [arcsec]')\n",
    "ax[0].set_ylabel('Number matches')\n",
    "ax[0].grid(True)\n",
    "\n",
    "ax[1].hist(df_merged[df_merged.truth_type==3]['sepArcsec'], bins=100, range=range, color='grey')\n",
    "ax[1].set_title('Matched to an SNIa')\n",
    "ax[1].set_xlabel('separation [arcsec]')\n",
    "ax[1].set_ylabel('Number matches')\n",
    "ax[1].grid(True)\n",
    "\n",
    "plt.tight_layout()\n",
    "plt.show()"
   ]
  },
  {
   "cell_type": "markdown",
   "id": "83e21b99-83c4-4b86-88ef-cedebf56f7f7",
   "metadata": {},
   "source": [
    "Yes, a match radius of 1.00 arcsec is indeed reasonable.  It tooks like three legitimate matches between the SNIa-candidate DiaObjects and variable stars out of a total of 331 SNIa-candidate DiaObjects.  The overwhelming majority of SNIa-candidate DiaObjects (313 out of 331) are matched to genuine SNeIa's in the TruthSummary table:"
   ]
  },
  {
   "cell_type": "code",
   "execution_count": null,
   "id": "5d5d0241-c0cc-474d-b33c-7926433b271f",
   "metadata": {},
   "outputs": [],
   "source": [
    "len( df_merged[ (df_merged.truth_type==3) & (df_merged.sepArcsec < 1.00) ]['sepArcsec'] )"
   ]
  },
  {
   "cell_type": "markdown",
   "id": "3c9461aa-0771-41ef-9eb8-a3800c2949fc",
   "metadata": {},
   "source": [
    "Let's plot the sky distribution of again, but color-code the symbols by `sepArcsec`.  It is clear here that the stars in the upper right of the plot are all bad matches."
   ]
  },
  {
   "cell_type": "code",
   "execution_count": null,
   "id": "4408f22b-1041-407e-bb9a-b67cfd72c8ae",
   "metadata": {},
   "outputs": [],
   "source": [
    "plt.scatter(df_merged.ra_x, df_merged.decl, marker='o', s=20, c=df_merged.sepArcsec)\n",
    "plt.colorbar()"
   ]
  },
  {
   "cell_type": "markdown",
   "id": "ee313b70-c16f-43f9-8815-ff5098ec223e",
   "metadata": {},
   "source": [
    "Finally, for this subsection, let's plot the redshifts of the 313 DiaObjects are well-matched with SNeIa in the TruthSummary table.  "
   ]
  },
  {
   "cell_type": "code",
   "execution_count": null,
   "id": "6b1cbe21-da19-4abf-bd11-73db7d8d4983",
   "metadata": {},
   "outputs": [],
   "source": [
    "mask = (df_merged.truth_type==3) & (df_merged.sepArcsec < 1.00)\n",
    "df_merged[mask].hist('redshift', bins=25)"
   ]
  },
  {
   "cell_type": "markdown",
   "id": "906b18da-af7b-4075-94e3-ebe1a3080866",
   "metadata": {},
   "source": [
    "So, yes, this is quite reasonable.  The original cuts performed on the DiaObject/DiaSource tables from the DP0.2 Tutorial Notebook <a href=\"https://github.com/rubin-dp0/tutorial-notebooks/blob/main/07a_DiaObject_Samples.ipynb\">07a_DiaObject_Samples.ipynb</a> were intentionally \"back-of-the-envelope\" to find candidate low-redshift SNe Ia, and this is what we found.  The resulting redshift range was a bit larger (0.1 < z < 0.5) than originally sought (0.1 < z < 0.3), but still very reasonable for a \"back-of-the-envelope\" search, and nearly 95% (313./331.) of the DiaObject/DiaSource candidates did turn out to be well matched with SNe Ia in the TruthSummary table."
   ]
  },
  {
   "cell_type": "markdown",
   "id": "ed541e1b-10d1-4260-af18-b739d97c220a",
   "metadata": {},
   "source": [
    "## 3.  What fraction of variable objects in the TruthSummary table show up in the DiaObject table?\n",
    "\n",
    "This is sort of the reverse question from the one in Section 2.  \n",
    "\n",
    "There, we extracted a set of candidate SNe Ia from the DiaObjects table using the observed properties from the DiaObject and DiaSource tables and tried to find their matches in the TruthSummary table.\n",
    "\n",
    "Here, we are looking at the TruthSummary table, and want to see if the variable objects found there can also be found in thd DiaObjects table.  (Note:  we don't expect all the entries in the TruthSummary table to have corresponding entries in the DiaObject table, since the TruthSummmary table goes deeper than the Rubin detection thresholds.)"
   ]
  },
  {
   "cell_type": "markdown",
   "id": "45eb0a75-ca8f-4ae5-a209-8c6dc965a7f5",
   "metadata": {},
   "source": [
    "### 3.1 Query all variable objects within a small sky area within the TruthSummary table"
   ]
  },
  {
   "cell_type": "markdown",
   "id": "2ca926e7-2802-4f5a-93bb-e9a67abc7896",
   "metadata": {},
   "source": [
    "First, let's grab an RA,DEC-restricted sample of variable objects from the TruthSummary table.  This cell typically takes less than a minute to run."
   ]
  },
  {
   "cell_type": "code",
   "execution_count": null,
   "id": "4abff4bf-a682-4d09-80d8-0bf2c595a183",
   "metadata": {},
   "outputs": [],
   "source": [
    "%%time\n",
    "\n",
    "query = \"\"\"SELECT id, ra, dec, is_variable, mag_r, redshift, truth_type \n",
    "           FROM dp02_dc2_catalogs.TruthSummary \n",
    "           WHERE ra >= 61.0 AND ra <= 62.0 AND dec >= -33.0 AND dec <= -32.0\n",
    "           AND is_variable=1\n",
    "        \"\"\"\n",
    "\n",
    "print(query)\n",
    "\n",
    "results = service.search(query)\n",
    "df_ts123 = results.to_table().to_pandas()\n",
    "del results\n",
    "\n",
    "df_ts123"
   ]
  },
  {
   "cell_type": "markdown",
   "id": "a3eb228f-7542-4b30-9a4d-7469a77a09e2",
   "metadata": {},
   "source": [
    "It looks like there are a lot of variable stars (`truth_type=2`).  "
   ]
  },
  {
   "cell_type": "markdown",
   "id": "bb73e9b8-c681-499c-ba8e-65676f1b6e53",
   "metadata": {},
   "source": [
    "### 3.2 Query all objects within the same small sky area within the DiaObjects table"
   ]
  },
  {
   "cell_type": "markdown",
   "id": "104e892f-2082-4f30-9f5d-c98174bc2b82",
   "metadata": {},
   "source": [
    "Next, we will query all the objects in the DiaObject table within the same RA,DEC range.  (Although we use `maxrec`, this limit is actually not reached.  In the RA,DEC range used, there are 100,643 entries returned.)  The query is similar for the DiaObjs query in Section 3.2, but with fewer restrictions in the `WHERE` clause.  Basically, we wanted just about everything in the DiaObjects table within a limited RA,DEC range.  The following cell typically takes less than a minute to run."
   ]
  },
  {
   "cell_type": "code",
   "execution_count": null,
   "id": "d0df5f14-8055-4f0d-8fd6-be3840043a57",
   "metadata": {},
   "outputs": [],
   "source": [
    "%%time\n",
    "\n",
    "results = service.search(\"SELECT ra, decl, diaObjectId, nDiaSources, \"\n",
    "                         \"scisql_nanojanskyToAbMag(rPSFluxMin) AS rMagMax, \"\n",
    "                         \"scisql_nanojanskyToAbMag(rPSFluxMax) AS rMagMin, \"\n",
    "                         \"scisql_nanojanskyToAbMag(gPSFluxMax) AS gMagMin, \"\n",
    "                         \"scisql_nanojanskyToAbMag(iPSFluxMax) AS iMagMin, \"\n",
    "                         \"scisql_nanojanskyToAbMag(rPSFluxMin)\"\n",
    "                         \" - scisql_nanojanskyToAbMag(rPSFluxMax) AS rMagAmp \"\n",
    "                         \"FROM dp02_dc2_catalogs.DiaObject \"\n",
    "                         \"WHERE ra BETWEEN 61.0 AND 62.0 AND decl BETWEEN -33.0 AND -32.0\",\n",
    "                         maxrec=1000000)\n",
    "\n",
    "DiaObjsAll = results.to_table()\n",
    "del results"
   ]
  },
  {
   "cell_type": "code",
   "execution_count": null,
   "id": "adc63cd1-c9b3-44f6-b544-4c9269f2be87",
   "metadata": {},
   "outputs": [],
   "source": [
    "DiaObjsAll"
   ]
  },
  {
   "cell_type": "markdown",
   "id": "f2f3e094-8f40-4f11-9657-7b066609bbdc",
   "metadata": {},
   "source": [
    "Let's convert the `astropy` table to a pandas DataFrame."
   ]
  },
  {
   "cell_type": "code",
   "execution_count": null,
   "id": "40d6d030-fc01-46b3-b533-b8fa4a717911",
   "metadata": {},
   "outputs": [],
   "source": [
    "df_DiaObjsAll = DiaObjsAll.to_pandas()"
   ]
  },
  {
   "cell_type": "markdown",
   "id": "e0821160-5208-40de-a328-006dc3fdc042",
   "metadata": {},
   "source": [
    "### 3.3. Match the catalog of variable objects from TruthSummary objects with catalog the objects from the DiaObject table."
   ]
  },
  {
   "cell_type": "markdown",
   "id": "0a4aa220-4284-407b-9a11-67a5ec40288c",
   "metadata": {},
   "source": [
    "As in Section 2.3, we'll match the two DataFrames using the astropy function, `match_coordinates_sky`.  (As before , details for this astropy function can be found here: https://docs.astropy.org/en/stable/coordinates/matchsep.html?highlight=matching#matching-catalogs.)"
   ]
  },
  {
   "cell_type": "markdown",
   "id": "00b8a60f-cd00-4833-a642-02bb9a81d951",
   "metadata": {},
   "source": [
    "As in Section 2.3, we first need to create two `SkyCoord` arrays -- one for df_ts123 and one for df_DiaObjsAll:"
   ]
  },
  {
   "cell_type": "code",
   "execution_count": null,
   "id": "2228ae67-632b-439e-8140-88aa9aff0269",
   "metadata": {},
   "outputs": [],
   "source": [
    "c_df_ts123 = SkyCoord(ra=df_ts123.loc[:,'ra'].values*u.degree, dec=df_ts123.loc[:,'dec'].values*u.degree)\n",
    "c_df_DiaObjsAll = SkyCoord(ra=df_DiaObjsAll.loc[:,'ra'].values*u.degree, dec=df_DiaObjsAll.loc[:,'decl'].values*u.degree)"
   ]
  },
  {
   "cell_type": "markdown",
   "id": "a2fd2774-9e21-4b4b-add7-547cc8417557",
   "metadata": {},
   "source": [
    "As in Section 2.3, 2e will use the astropy function `match_coordinates_sky` to match the two catalogs.\n",
    "\n",
    "That said, there is one difference:  before, we wanted to find the best match in the TruthSummary catalog (DataFrame df_ts23) for each entry in our DiaObject-based SNIa-candidate catalog (DataFrame df_DiaObjs_cand_SNeIa); here, we want to find the best match in the DiagObject catalog (DataFrame df_DiaObjsAll) for each entry in our TruthSummary catalog (DataFrame df_ts123).  So, in the current case, the reference catalog (the second parameter in `match_coordinates_sky`) is c_df_DiaObjsAll, and the source catalog (the first paramter in `match_coordinates_sky`) is c_df_ts123.\n",
    "\n",
    "Recall that `match_coordinates_sky` returns 3 arrays: idx is the array of indices in the reference catalog (c_df_DiaObjsAll) that have matches to the source catalog (c_df_ts123), d2d is the array of 2D separations between the object in reference catalog (c_df_DiaObjsAll) and its match in the source catalog (c_df_ts123), and d3d is the array of the 3D separations between the object in the reference catalog (c_df_DiaObjsAll) and its match in the source catalog (c_df_ts123). Since we do not include a third coordinate for distance for spatial matches (a unit distance is assumed), we ignore d3d.\n"
   ]
  },
  {
   "cell_type": "code",
   "execution_count": null,
   "id": "11813cbd-5b35-4a1e-86b9-c722c5547039",
   "metadata": {},
   "outputs": [],
   "source": [
    "idx, d2d, d3d = match_coordinates_sky(c_df_ts123, c_df_DiaObjsAll)"
   ]
  },
  {
   "cell_type": "markdown",
   "id": "bc44ab53-130b-43c2-b8d3-abf806d179aa",
   "metadata": {},
   "source": [
    "### 3.4. Analysis of the match."
   ]
  },
  {
   "cell_type": "markdown",
   "id": "8d4e7c83-583a-4579-94ad-864172c44f99",
   "metadata": {},
   "source": [
    "As expected, we have as many matches as there are rows in df_ts123 (i.e, 11325)."
   ]
  },
  {
   "cell_type": "code",
   "execution_count": null,
   "id": "049c4969-4dda-48ad-85c5-354f1724e55d",
   "metadata": {},
   "outputs": [],
   "source": [
    "len(idx)"
   ]
  },
  {
   "cell_type": "markdown",
   "id": "d4e56bf0-ea4c-44c4-b4f8-aeb0c8899e54",
   "metadata": {},
   "source": [
    "Let's perform the same type of merge join of the the two DataFrames that we did in Section 2.3.  Here, we also include the separations (in arcsec) calculated by `match_coordinates_sky` as a comparison with those separations calculated by our function `sepGetArcsec`; note that the two methods yield values that differ by typically less than 1 milli-arcsec."
   ]
  },
  {
   "cell_type": "code",
   "execution_count": null,
   "id": "f045f34c-25a6-46fd-a7e1-f3758c99609c",
   "metadata": {},
   "outputs": [],
   "source": [
    "df_DiaObjsAll_new = df_DiaObjsAll.loc[idx].copy(deep=True)\n",
    "df_DiaObjsAll_new.reset_index(inplace=True, drop=True)\n",
    "\n",
    "df_merged_allmatch = pd.merge(df_ts123, df_DiaObjsAll_new, left_index=True, right_index=True)\n",
    "df_merged_allmatch['sepArcsec'] = 3600.*sepDegGetArray(df_merged_allmatch['ra_x'],df_merged_allmatch['decl'],df_merged_allmatch['ra_y'],df_merged_allmatch['dec'])\n",
    "df_merged_allmatch['d2d_arcsec'] = d2d.arcsec"
   ]
  },
  {
   "cell_type": "markdown",
   "id": "dc89339c-b958-4e2c-9927-bd8855d86bce",
   "metadata": {},
   "source": [
    "Let's take a look at the resulting merged DataFrame:"
   ]
  },
  {
   "cell_type": "code",
   "execution_count": null,
   "id": "0434e203-9280-4e29-9884-d7a208472bc3",
   "metadata": {},
   "outputs": [],
   "source": [
    "df_merged_allmatch"
   ]
  },
  {
   "cell_type": "markdown",
   "id": "971fab40-a30e-4d0b-8952-6f9fe7c1d4b1",
   "metadata": {},
   "source": [
    "Based on our results in Section 2, let's define a good match as one with a match separation of less than 1.0 arcsec."
   ]
  },
  {
   "cell_type": "code",
   "execution_count": null,
   "id": "2a2d8168-3094-45e9-9fb7-aebe2bfebecd",
   "metadata": {},
   "outputs": [],
   "source": [
    "df_merged_allmatch.loc[:,'good_match'] = (df_merged_allmatch.loc[:,'sepArcsec'] < 1.00)"
   ]
  },
  {
   "cell_type": "markdown",
   "id": "70c755a3-7e7b-4cc5-a0cf-3ca956ea942e",
   "metadata": {},
   "source": [
    "_Optional:_  Look a the updated contents of df_merged_allmatch:"
   ]
  },
  {
   "cell_type": "code",
   "execution_count": null,
   "id": "04fd1dbb-e0a1-441b-aeff-df27fb08e303",
   "metadata": {},
   "outputs": [],
   "source": [
    "#df_merged_allmatch"
   ]
  },
  {
   "cell_type": "markdown",
   "id": "1d7b64e2-e410-4c09-bda2-6ee9ebe749f8",
   "metadata": {},
   "source": [
    "Let's focus on the TruthSummary variable stars, first.  Let's plot the histogram for `mag_r` for \"All Matches\" and for just the \"Good Matches\".  Note that the \"Good Matches\" are mostly brighter than about `mag_r` < 22.  This clearly indicates some sort of magnitude limit for strong detection by the DIA pipeline."
   ]
  },
  {
   "cell_type": "code",
   "execution_count": null,
   "id": "bbefa6dd-6a37-4ea5-9857-e85c42996ff9",
   "metadata": {},
   "outputs": [],
   "source": [
    "ax = df_merged_allmatch[(df_merged_allmatch.truth_type==2)].hist('mag_r', label='All Matches')\n",
    "df_merged_allmatch[(df_merged_allmatch.truth_type==2) & (df_merged_allmatch.good_match)].hist('mag_r', label='Good Matches', ax=ax)\n",
    "plt.legend()\n",
    "plt.xlabel('mag_r')\n",
    "plt.ylabel('Number')\n",
    "plt.title('TruthSummary Table Variable Stars')\n"
   ]
  },
  {
   "cell_type": "markdown",
   "id": "72a942fd-4f92-44e4-8753-db62c6534c85",
   "metadata": {},
   "source": [
    "Unfortunately, the TruthSummary table does not record the input brightness of its SNe Ia.  This information is likely available elsewhere, but finding it is beyond the purview of this notebook.  Let us use redshift, instead.  The results are are not as clear cut as for the TruthSummary variable stars, but, for the TruthSummary SNe Ia, the \"Good Matches\" do tend to have lower redshifts than \"All Matches\".  Since it is expected that higher redshift SNe Ia will tend to have fainter apparent magnitudes, this also suggests some sort of magnitude limit for detection by the DIA pipeline."
   ]
  },
  {
   "cell_type": "code",
   "execution_count": null,
   "id": "0237b574-ed88-4548-a4e3-bfc55c3d8008",
   "metadata": {},
   "outputs": [],
   "source": [
    "ax = df_merged_allmatch[(df_merged_allmatch.truth_type==3)].hist('redshift', label='All Matches')\n",
    "df_merged_allmatch[(df_merged_allmatch.truth_type==3) & (df_merged_allmatch.good_match)].hist('redshift', label='Good Matches', ax=ax)\n",
    "plt.legend()\n",
    "plt.xlabel('redshift')\n",
    "plt.ylabel('Number')\n",
    "plt.title('TruthSummary Table SNe Ia')\n"
   ]
  },
  {
   "cell_type": "code",
   "execution_count": null,
   "id": "1d542d6a-371f-4b65-8026-a6a4ae3dbc3e",
   "metadata": {},
   "outputs": [],
   "source": []
  }
 ],
 "metadata": {
  "kernelspec": {
   "display_name": "LSST",
   "language": "python",
   "name": "lsst"
  },
  "language_info": {
   "codemirror_mode": {
    "name": "ipython",
    "version": 3
   },
   "file_extension": ".py",
   "mimetype": "text/x-python",
   "name": "python",
   "nbconvert_exporter": "python",
   "pygments_lexer": "ipython3",
   "version": "3.10.5"
  },
  "toc-autonumbering": false
 },
 "nbformat": 4,
 "nbformat_minor": 5
}
