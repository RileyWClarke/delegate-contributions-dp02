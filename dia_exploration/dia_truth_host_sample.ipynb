{
 "cells": [
  {
   "cell_type": "markdown",
   "id": "dda98f46-1eb1-49a9-9efa-f03a85f8b6f5",
   "metadata": {},
   "source": [
    "# Generate a sample of SN host galaxies\n",
    "\n",
    "Contact author: Melissa Graham\n",
    "\n",
    "Date last verified to run: Fri Feb 2 2024\n",
    "\n",
    "RSP environment version: Weekly 2024_04\n",
    "\n",
    "**Summary:**\n",
    "A demo of how to get data for a subset of simulated DC2 galaxies which were designated as hosts for simulated SNe,\n",
    "and to find out if these galaxies were detected in a deepCoadd image and are in the `Object` table.\n",
    "This notebook does not explore whether the simulated SNe themselves were detected and are in the `diaObject` table.\n",
    "\n",
    "Import packages and then instantiate the TAP service for DP0.2."
   ]
  },
  {
   "cell_type": "code",
   "execution_count": null,
   "id": "f5dd98a5-8786-4875-aaaf-cb629509a85b",
   "metadata": {},
   "outputs": [],
   "source": [
    "import numpy as np\n",
    "import matplotlib.pyplot as plt\n",
    "from lsst.rsp import get_tap_service"
   ]
  },
  {
   "cell_type": "code",
   "execution_count": null,
   "id": "983c70b1-4c5e-4970-abd3-2ff197704efb",
   "metadata": {},
   "outputs": [],
   "source": [
    "service = get_tap_service(\"tap\")"
   ]
  },
  {
   "cell_type": "markdown",
   "id": "2a2134cf-270f-4338-bab9-cc278bc703e5",
   "metadata": {},
   "source": [
    "Use a test area with a 0.5 deg radius in the central region of DC2.\n",
    "\n",
    "From the `TruthSummary` table, return the list of all simulated objects in the test area (galaxies, stars, and SNe).\n",
    "\n",
    "Join with the `MatchesTruth` table to retrive the `match_objectId`, if the simulated object was detected in a deepCoadd."
   ]
  },
  {
   "cell_type": "code",
   "execution_count": null,
   "id": "2f7d919a-373e-45a2-a9e3-96aa1906980f",
   "metadata": {},
   "outputs": [],
   "source": [
    "query = '''SELECT ts.ra, ts.dec, ts.id, ts.id_truth_type, ts.host_galaxy, ts.truth_type, mt.match_objectId \n",
    "           FROM dp02_dc2_catalogs.TruthSummary AS ts  \n",
    "           JOIN dp02_dc2_catalogs.MatchesTruth AS mt ON mt.id_truth_type = ts.id_truth_type \n",
    "           WHERE CONTAINS(POINT('ICRS', ts.ra, ts.dec), CIRCLE('ICRS', 62, -37, 0.5)) = 1 '''\n",
    "\n",
    "job = service.submit_job(query)\n",
    "job.run()\n",
    "job.wait(phases=['COMPLETED', 'ERROR'])\n",
    "print('Job phase is', job.phase)"
   ]
  },
  {
   "cell_type": "markdown",
   "id": "b4ae3417-b94a-4be8-bd6e-212f79f35ccb",
   "metadata": {},
   "source": [
    "Additional asynchronous job query commands in case they're needed."
   ]
  },
  {
   "cell_type": "code",
   "execution_count": null,
   "id": "21e5ab21-4aac-42de-a2de-fcc51cc02bce",
   "metadata": {},
   "outputs": [],
   "source": [
    "# job.raise_if_error()\n",
    "# job.abort()"
   ]
  },
  {
   "cell_type": "markdown",
   "id": "56b88303-166a-42da-a9b3-51c2081054fc",
   "metadata": {},
   "source": [
    "Fetch the results into an astropy table called `results`."
   ]
  },
  {
   "cell_type": "code",
   "execution_count": null,
   "id": "27d06463-0ca8-41ca-91bc-32b6ed97b0fb",
   "metadata": {},
   "outputs": [],
   "source": [
    "results = job.fetch_result().to_table()"
   ]
  },
  {
   "cell_type": "markdown",
   "id": "100905e4-8fb9-4285-882e-7ca3a892dc35",
   "metadata": {},
   "source": [
    "Option to show results."
   ]
  },
  {
   "cell_type": "code",
   "execution_count": null,
   "id": "86855d5f-c000-4f9f-a56c-2eb389fd4a9c",
   "metadata": {},
   "outputs": [],
   "source": [
    "# results"
   ]
  },
  {
   "cell_type": "markdown",
   "id": "e10e46bb-ac75-4fff-8337-364600044380",
   "metadata": {},
   "source": [
    "Print the number of SNe and the number of host galaxies in the area. Out of 1.7 million simulated objects, ~1000 are SNe."
   ]
  },
  {
   "cell_type": "code",
   "execution_count": null,
   "id": "f98fb0e7-74ba-4234-bb86-7849d304c61a",
   "metadata": {},
   "outputs": [],
   "source": [
    "tx = np.where(results['truth_type'] == 3)[0]\n",
    "print('The number of SNe in the area: ', len(tx))\n",
    "del tx\n",
    "\n",
    "tx = np.where(results['host_galaxy'] > 0)[0]\n",
    "print('The number of SN host galaxies in the area: ', len(tx))\n",
    "del tx"
   ]
  },
  {
   "cell_type": "markdown",
   "id": "353fadec-8dde-408d-89aa-e050dbdd9dee",
   "metadata": {},
   "source": [
    "Store the list of host galaxy `id` in `host_ids`. It must be formatted as a string."
   ]
  },
  {
   "cell_type": "code",
   "execution_count": null,
   "id": "700987b5-799f-4d9c-9d32-deca62c2fa11",
   "metadata": {},
   "outputs": [],
   "source": [
    "tx = np.where(results['host_galaxy'] > 0)[0]\n",
    "host_ids = np.asarray(results['host_galaxy'][tx], dtype='str')\n",
    "del tx"
   ]
  },
  {
   "cell_type": "markdown",
   "id": "221bcdb3-6726-412f-bb07-40e649b2403c",
   "metadata": {},
   "source": [
    "How many of these host galaxies are matched to a simulated object in our test area (`nmatch`),\n",
    "and were detected in a deepCoadd and are in the `Object` table (`ndetect`)?\n",
    "\n",
    "While figuring this out, also create a list of the detected host galaxies' `id_truth_type` (temp1) and `match_objectId` (temp2)."
   ]
  },
  {
   "cell_type": "code",
   "execution_count": null,
   "id": "2eb9d0a6-b81c-4311-9ed7-318d96fd5052",
   "metadata": {},
   "outputs": [],
   "source": [
    "nmatch = 0\n",
    "ndetect = 0\n",
    "\n",
    "temp1 = []\n",
    "temp2 = []\n",
    "\n",
    "for i in range(len(host_ids)):\n",
    "    tx = np.where(results['id'] == host_ids[i])[0]\n",
    "    if len(tx) == 1:\n",
    "        nmatch += 1\n",
    "        if results['match_objectId'][tx] > 0:\n",
    "            ndetect += 1\n",
    "            temp1.append(results['id_truth_type'][tx[0]])\n",
    "            temp2.append(results['match_objectId'][tx[0]])\n",
    "    del tx\n",
    "\n",
    "print('Number of host galaxies matched to the results table: ', nmatch)\n",
    "print('Number of host galaxies that were detected and are in the Object table:', ndetect)\n",
    "del nmatch, ndetect\n",
    "\n",
    "host_id_truth_type = np.asarray(temp1, dtype='str')\n",
    "host_match_objectId = np.asarray(temp2, dtype='int')\n",
    "del temp1, temp2"
   ]
  },
  {
   "cell_type": "markdown",
   "id": "c5a52e68-80c3-4da0-b945-54c0b84add66",
   "metadata": {},
   "source": [
    "There were 912 simulated galaxies in the test area that served as host galaxies AND were detected in a deepCoadd.\n",
    "\n",
    "However, this does not mean that all 912 simulated SNe were detected and are in the `diaObject` table.\n",
    "That is a question beyond the scope of this demo. See instead the \"dia_match_truth.ipynb\" notebook in the\n",
    "\"delegate-contributions-dp02/dia_exploration/\" folder.\n",
    "\n",
    "The end result is a list of the `id_truth_type` and `match_objectId` for galaxies in the test area which\n",
    "were used as SN hosts in the DC2 simulation, and were also detected in a deepCoadd."
   ]
  },
  {
   "cell_type": "code",
   "execution_count": null,
   "id": "72f49ac2-3c01-401d-9976-b345f8475a0a",
   "metadata": {},
   "outputs": [],
   "source": [
    "print(host_id_truth_type[0])\n",
    "print(host_match_objectId[0])\n",
    "print(len(host_id_truth_type), len(host_match_objectId))"
   ]
  }
 ],
 "metadata": {
  "kernelspec": {
   "display_name": "LSST",
   "language": "python",
   "name": "lsst"
  },
  "language_info": {
   "codemirror_mode": {
    "name": "ipython",
    "version": 3
   },
   "file_extension": ".py",
   "mimetype": "text/x-python",
   "name": "python",
   "nbconvert_exporter": "python",
   "pygments_lexer": "ipython3",
   "version": "3.11.7"
  }
 },
 "nbformat": 4,
 "nbformat_minor": 5
}
