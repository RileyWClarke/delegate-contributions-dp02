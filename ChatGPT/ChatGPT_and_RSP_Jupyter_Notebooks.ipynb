{
 "cells": [
  {
   "cell_type": "markdown",
   "id": "f357c7a8-646c-4aff-9696-d444c581ddd6",
   "metadata": {},
   "source": [
    "<b>Develop Jupyter Notebook software with chatGPT </b> <br>\n",
    "Last verified to run on 2023-05-25 with LSST Science Pipelines release w_2023_07 <br>\n",
    "Contact authors: Allan Jackson <br>\n",
    "Target audience: All DP0 delegates. <br>\n",
    "Container Size: medium <br>\n",
    "Questions welcome at <a href=\"https://community.lsst.org/c/support/dp0\">community.lsst.org/c/support/dp0</a> <br>\n",
    "Find DP0 documentation and resources at <a href=\"https://dp0-2.lsst.io\">dp0-2.lsst.io</a> <br>"
   ]
  },
  {
   "cell_type": "markdown",
   "id": "2068b250-d64e-4a69-a35a-a8371a853828",
   "metadata": {},
   "source": [
    "**Credit:** Originally developed by Allan Jackson in the context of the Rubin DP0.2. Please consider acknowledging Allan Jackson and the DP0.2 team if this notebook is used for the preparation of journal articles or software releases."
   ]
  },
  {
   "cell_type": "markdown",
   "id": "5560ebdf-5538-4bb8-a00a-fa8f5284172f",
   "metadata": {},
   "source": [
    "### Learning Objectives\n",
    "\n",
    "A group of us (DP0 delegates, stack club members, and RSP support personnel) were curious about how well SOA LLMs could aid in generating code for our RSP Jupyter Notebooks.The difference between our expectations and the actual capability of the LLM(s) were sometimes quite different.\n",
    "We were able to generate Python code snippets using several chatbot LLM models, which saved us time and increased our productivity, we also discovered that human review is still necessary to ensure that the generated code is accurate and meets the desired specifications. \n",
    "Remarkably, we learned that we had to adjust our approach in communicating with the LLMs. Initially, we would ask questions or provide instructions in a more conversational manner, similar to how we would interact with a human colleague. However, we found that the LLMs responded more accurately and effectively when we gave more explicit, detailed, and technical instructions. This often meant breaking down complex tasks into smaller, more manageable steps and specifying the desired output format or structure.\n",
    "\n",
    "This notebook demonstrates how to: <br>\n",
    "1. Explore various LLM chatbot models in conjunction with RSP Jupyter Notebooks<br>\n",
    "2. Demonstrate and exercise ten skills relative to Notebooks being developed for RSP and outside use<br>\n",
    "3. Visualize an inproved speed of software generation capable with new LLMs and chatbots specifically<br>"
   ]
  },
  {
   "cell_type": "markdown",
   "id": "aace6f0a-f8e7-4fb0-8389-fca24248a9c3",
   "metadata": {},
   "source": [
    "The Poe-Sage model chatbot can be found at:https://poe.com/. There is no fee associated with the use of the Poe model but be aware that several of the models available (left side of screen) may have fees associated with their use. The chatGPT models (and OpenAI playground) can be used on the OpenAI.com website and some can be used on a temporary free basis. The use of 'bing' which is based on chatGPT-4 is located at https://www.bing.com/?PC=EE01 and has internet access (if properly prompted). You must have an OpenAI API key in order to use the Code Translator at https://ai-code-translator.vercel.app/ (I don't remember if the OpenAI API key has a fee)."
   ]
  },
  {
   "cell_type": "markdown",
   "id": "a805f89e-929c-4b42-b748-ed9016b24cf9",
   "metadata": {},
   "source": [
    "**1. Creating and Formatting Markdown:** Use Markdown to style text, including headers, lists, and code snippets.<br><font color='red'>Just copy and paste the 'prompt' in the next line and the text in the following cell together into a chatbot then hit enter.<br><br></font>\n",
    "as an expert in markdown format please convert the following standard text into Markdown formatted text:"
   ]
  },
  {
   "cell_type": "markdown",
   "id": "664f9896-ecf7-4cf5-83ab-871e276a9fd9",
   "metadata": {},
   "source": [
    "ChatGPT and RSP Jupyter Notebooks \n",
    "This notebook is intended as quick orientation on the use of chatGPT in conjunction with Jupyter Notebooks on the Rubin Science Platform. Within just a few minutes the user should be able to demonstrate skills in the following: \n",
    "Sure, here's the edited text for later input as markdown code:\n",
    "Sure, here's the text without the markdown formatting:\n",
    "\n",
    "1. Creating and Formatting Markdown: Use Markdown to style text, including headers, lists, and code snippets.\n",
    "\n",
    "2. Code Generation and Explanation: ChatGPT can generate Python code snippets and explain existing code, useful for learning and teaching Python.\n",
    "\n",
    "3. Data Analysis: Use ChatGPT to generate insights from data through descriptive statistics and visualizations.\n",
    "\n",
    "4. Natural Language Processing (NLP): ChatGPT can perform various NLP tasks, such as sentiment analysis and text classification.\n",
    "\n",
    "5. Interactive Programming: Describe your programming needs in English, and ChatGPT can generate the corresponding Python code.\n",
    "\n",
    "6. Documentation: ChatGPT can assist in writing clear, concise documentation for your code, functions, classes, and modules.\n",
    "\n",
    "7. Summarization: Use ChatGPT to summarize large amounts of text, simplifying the understanding of documents, articles, or datasets.\n",
    "\n",
    "8. Generating and Explaining ADQL for Astronomy: ChatGPT can generate and explain Astronomical Data Query Language (ADQL) queries based on natural language inputs.\n",
    "\n",
    "9. Translating Between Natural Languages: Use ChatGPT for translation tasks and data analysis involving multiple languages.\n",
    "\n",
    "10. Translating Between Code Languages: ChatGPT can translate between various computer languages."
   ]
  },
  {
   "cell_type": "markdown",
   "id": "d5643344-06b2-4e07-8849-50b5ec5ab26f",
   "metadata": {},
   "source": [
    "**2. Code Generation and Explanation:** ChatGPT can generate Python code snippets and explain existing code, this can be useful for learning and teaching Python.<br><font color=red>Just copy and paste the 'prompt' in the next lines into a chatbot then hit enter. (Then, paste the result into the following code cell and run it.)</font><br><br>\n",
    "as an expert in astropy and jupyter programming, please generate a  jupyter cell with the import statements generally required for astropy, numpy, pandas  dependencies etc., perform this step by step"
   ]
  },
  {
   "cell_type": "code",
   "execution_count": null,
   "id": "d0ab1054-d0b3-44e1-be9d-86c86c170e8d",
   "metadata": {},
   "outputs": [],
   "source": []
  },
  {
   "cell_type": "markdown",
   "id": "49652746-64fd-4309-b1bd-d09b20b4b7eb",
   "metadata": {},
   "source": [
    "**3. Data Analysis:** Use ChatGPT to generate insights from data through descriptive statistics and visualizations.<br><font color=red>Just copy and paste the 'prompt' in the next lines into a chatbot then hit enter. (Then, paste the result into the following code cell and run it.)</font><br><br>as an expert in iris, python and jupyter coding, please generate a  jupyter cell with an example of Data Analysis: generate insights from data through descriptive statistics and visualizations. Please generate this in one concise jupyter code cell:"
   ]
  },
  {
   "cell_type": "code",
   "execution_count": null,
   "id": "aefaceca-f4ce-4401-af6b-3e92712dedc9",
   "metadata": {
    "tags": []
   },
   "outputs": [],
   "source": []
  },
  {
   "cell_type": "markdown",
   "id": "83885e6b-ee85-47f5-bdf6-46d549f995e2",
   "metadata": {},
   "source": [
    "**4. Natural Language Processing (NLP):** ChatGPT can perform various NLP tasks, such as sentiment analysis, Named Entity Recognition (NER), and Topic Modeling. In this case we will be examining a portion of text from a paper, but you are welcome to try other text as well.<br> <font color='red'>Just copy and paste the 'prompt' in the next line and the text in the following cell together into a chatbot then hit enter</font><br><br> as a natural language specialist use Topic Modeling to help identify the most important words and phrases in the following text:"
   ]
  },
  {
   "cell_type": "code",
   "execution_count": null,
   "id": "76d965e9-e764-4dcc-91e6-9228369b7fe5",
   "metadata": {},
   "outputs": [],
   "source": [
    "as a natural language specialist use Topic Modeling to help identify the most important words and phrases in the following text:\n",
    "Thus, since the early days\n",
    "scientists have started to register and classify sources that ap\u0002pear to be variable. Over the years the number of known vari\u0002ables and the number of (sub)types of variability have increased\n",
    "significantly. GCVS (Samus’ et al. 2017) has been one of the\n",
    "first catalogues of variable stars started in 1946. The American\n",
    "Association of Variable Star Observers (AAVSO) maintain the\n",
    "international variable star index (VSX; Watson et al. 2006) that\n",
    "in its latest version contains more than 2.1 million objects. The\n",
    "advance of modern astronomy allowed the identification of vari\u0002able sources by large-scale surveys. All-Sky Automated Survey\n",
    "(ASAS; Pojmanski 2002), All-Sky Automated Survey for Super\u0002novae (ASAS-SN; Shappee et al. 2014; Jayasinghe et al. 2018,\n",
    "2019a,b), the Optical Gravitational Lensing Experiment (OGLE;\n",
    "Udalski et al. 2015), the Catalina Real-Time Transient Survey\n",
    "(Drake et al. 2014b), Zwicky Transient Facility (ZTF; Graham\n",
    "et al. 2019) and Gaia (Clementini et al. 2016; Rimoldini et al.\n",
    "2019a; Clementini et al. 2019) are only some projects that have\n",
    "increased significantly the number of known variables.\n",
    "The Gaia consortium released 3194 variable stars of 2 vari\u0002ability types in its first data release (DR1; Eyer et al. 2017),\n",
    "which increased to 550 737 variables and 6 types in DR2 (Holl\n",
    "et al. 2018), and to 13 million and 30 (sub)types including galax\u0002ies in DR3 (Eyer et al. 2022). Moreover, it is foreseen that the\n",
    "increase in the number of variables will continue in DR4 by an\n",
    "order of magnitude. This abundance of data has made the need\n",
    "of automated methods of detection and classification of sources\n",
    "imperative. Thus, most of the modern all-sky surveys use some\n",
    "type of machine learning method for the identification of vari\u0002ables. Supervised machine learning methods use a labelled set\n",
    "of known variables (usually from the literature) in order to train\n",
    "classifiers. The creation of an unbiased training set is a challeng\u0002ing task. It needs to have a large number of sources adequately\n",
    "covering all variability classes aimed by the project, in order to\n",
    "be able to select training sources that do not suffer from selection\n",
    "biases, e.g., in the distribution in the sky or by incomplete cov\u0002erage of magnitudes. It may also include contaminants, where in\n",
    "the case of variable sources can be non variable or other types\n",
    "of objects that exhibit artificial variability. Details on artificial\n",
    "variability in Gaia can be found in Holl et al. (2022)."
   ]
  },
  {
   "cell_type": "markdown",
   "id": "c3313da6-3865-4f4f-83c5-120984b1cc93",
   "metadata": {
    "execution": {
     "iopub.execute_input": "2023-05-25T22:59:53.206557Z",
     "iopub.status.busy": "2023-05-25T22:59:53.205781Z",
     "iopub.status.idle": "2023-05-25T22:59:53.211705Z",
     "shell.execute_reply": "2023-05-25T22:59:53.210829Z",
     "shell.execute_reply.started": "2023-05-25T22:59:53.206525Z"
    }
   },
   "source": [
    "Change the words 'Topic Modeling' in the previous prompt to 'Named Entity Recognition' to get the named entities in the text."
   ]
  },
  {
   "cell_type": "markdown",
   "id": "98211714-5ea8-4c77-af75-81f400502d24",
   "metadata": {},
   "source": [
    "**5. Interactive Programming:** Describe your programming needs in English, and ChatGPT can generate the corresponding Python code.<br><font color='red'>The purpose of this exercise is to make you aware of how the level of detail in your prompt to the chatbot can effect the resulting code, comments, and markdown generated. This is known as 'prompt engineering'. In addition reiterative prompts to the chatbot will help focus the resulting code. <br>First prompt:</font><br><br>Write a Python program that prompts the user to input a list of numbers separated by commas. The program should then convert this input into a list of integers, and calculate the sum of all the even numbers in this list. The sum should then be printed out to the user.Write a Python program that prompts the user to input a list of numbers separated by commas. The program should then convert this input into a list of integers, and calculate the sum of all the even numbers in this list. The sum should then be printed out to the user."
   ]
  },
  {
   "cell_type": "code",
   "execution_count": 23,
   "id": "85b50a10-cdff-4ad4-9c7d-8be162108be1",
   "metadata": {
    "execution": {
     "iopub.execute_input": "2023-05-25T23:04:25.177376Z",
     "iopub.status.busy": "2023-05-25T23:04:25.176395Z",
     "iopub.status.idle": "2023-05-25T23:04:41.256338Z",
     "shell.execute_reply": "2023-05-25T23:04:41.255432Z",
     "shell.execute_reply.started": "2023-05-25T23:04:25.177342Z"
    },
    "tags": []
   },
   "outputs": [
    {
     "name": "stdin",
     "output_type": "stream",
     "text": [
      "Enter a list of numbers separated by commas:  4, 5, 6, 7, 8\n"
     ]
    },
    {
     "name": "stdout",
     "output_type": "stream",
     "text": [
      "The sum of the even numbers in the list is: 18\n"
     ]
    }
   ],
   "source": [
    "# Prompt the user to enter a list of numbers separated by commas\n",
    "input_list = input(\"Enter a list of numbers separated by commas: \")\n",
    "\n",
    "# Convert the input string into a list of integers\n",
    "num_list = [int(x) for x in input_list.split(\",\")]\n",
    "\n",
    "# Initialize a variable to store the sum of the even numbers\n",
    "even_sum = 0\n",
    "\n",
    "# Loop through the list of numbers and add up all the even numbers\n",
    "for num in num_list:\n",
    "    if num % 2 == 0:\n",
    "        even_sum += num\n",
    "\n",
    "# Print out the sum of the even numbers\n",
    "print(\"The sum of the even numbers in the list is:\", even_sum)"
   ]
  },
  {
   "cell_type": "markdown",
   "id": "ea073650-48ef-430c-919d-4b1cdc784d7c",
   "metadata": {
    "execution": {
     "iopub.execute_input": "2023-05-25T23:19:01.732515Z",
     "iopub.status.busy": "2023-05-25T23:19:01.731486Z",
     "iopub.status.idle": "2023-05-25T23:19:01.738506Z",
     "shell.execute_reply": "2023-05-25T23:19:01.737547Z",
     "shell.execute_reply.started": "2023-05-25T23:19:01.732480Z"
    }
   },
   "source": [
    "<font color='red'>Second prompt:</font><br><br>can you suggest a way to make the code cell more efficient"
   ]
  },
  {
   "cell_type": "markdown",
   "id": "ef789749-bb6c-437a-a0a3-59f1d6e68b1a",
   "metadata": {},
   "source": [
    "<font color='red'>Third prompt:</font><br><br>can you rewrite it using a python lambda"
   ]
  },
  {
   "cell_type": "markdown",
   "id": "63f15c0c-3b22-4e59-b123-b786ac6a736c",
   "metadata": {},
   "source": [
    "<font color='red'>Fourth prompt:</font><br><br>what is the most efficient code"
   ]
  },
  {
   "cell_type": "markdown",
   "id": "bd59e50f-139f-44ed-8d6a-eb81b76aceef",
   "metadata": {},
   "source": [
    "**6. Documentation:** ChatGPT can assist in writing clear, concise documentation for your code, functions, classes, and modules.<br><font color='red'>Just copy and paste the 'prompt' in the next line and the text in the following cell together into a chatbot then hit enter.<br><br></font>\n",
    "as an expert in python code please provide comments for the code snippet below, including the purpose and functionality of each component, this should be in a concise single jupyter code cell:"
   ]
  },
  {
   "cell_type": "code",
   "execution_count": null,
   "id": "e4eb3401-415e-4169-ad60-6ece34338679",
   "metadata": {
    "tags": []
   },
   "outputs": [],
   "source": [
    "import numpy as np\n",
    "import pandas as pd \n",
    "import scipy as sp\n",
    "import matplotlib.pyplot as plt \n",
    "from astroquery.gaia import Gaia\n",
    "import astroquery\n",
    "from astroquery.vizier import Vizier\n",
    "from astropy.table import Table\n",
    "Vizier.ROW_LIMIT = -1\n",
    "result = Vizier.query_constraints(catalog='J/A+A/621/A38')\n",
    "print(result)\n",
    "result[0].columns\n",
    "list_columns = ['Name','Gaia','RAJ2000','DEJ2000','Select','SpTypeSim','SpTypeSD','Plx','GMAG','Gmag','BPmag','RPmag','BP-RP','pmRA','pmDE','E_B-V_','AV','FUVmag','NUVmag','VAPASS','BAPASS','gAPASS','rAPASS','iAPASS','uSDSS','gSDSS','rSDSS','iSDSS','zSDSS','uSKYM','vSKYM','gSKYM','rSKYM','iSKYM','zSKYM','uATLAS','gATLAS','rATLAS','iATLAS','zATLAS','uVPHAS','gVPHAS','r2VPHAS','HaVPHAS','rVPHAS','iVPHAS','uKiDS','gKiDS','rKiDS','iKiDS','gPS1','rPS1','iPS1','zPS1','yPS1','rIPHAS','iIPHAS','HaIPHAS','J2MASS','H2MASS','K2MASS','YUKIDSS','JUKIDSS','HUKIDSS','KUKIDSS','YVHS','JVHS','HVHS','KsVHS','ZVVV','YVVV','JVVV','HVVV','KsVVV','ZVIKING','YVIKING','JVIKING','HVIKING','KsVIKING','W1mag','W2mag','W3mag','W4mag','Dens','epsi','sepsi','amax','E_BR_RP_','SED']\n",
    "list = []\n",
    "list = result[result.keys()[0]]\n",
    "df = pd.DataFrame.from_records(list, columns=list_columns)\n",
    "df.head()"
   ]
  },
  {
   "cell_type": "code",
   "execution_count": null,
   "id": "dbfdd1cd-c6e6-47b2-9a8f-eee1f00615e3",
   "metadata": {},
   "outputs": [],
   "source": []
  },
  {
   "cell_type": "markdown",
   "id": "22c9775b-1fc1-4c48-b5f4-33d89454b4c1",
   "metadata": {},
   "source": [
    "After you have 'auto-commented' code using a chatbot, always read and run the resulting cell code to insure the chatbot has not 'halucinated' or omitted neccisary code or punctuation."
   ]
  },
  {
   "cell_type": "markdown",
   "id": "bcee86d7-3e75-4456-bda7-1683a1c54c32",
   "metadata": {},
   "source": [
    "**7. Summarization:** Use ChatGPT to summarize large amounts of text, simplifying the understanding of documents, articles, or datasets.<br> <font color='red'>The results of this exercise depends of the length of the text and the LLM \"model\"used by your chatbot. This might best be performed by opening the 'bing' chatbot (Free - using the Mirosoft edge browser) and directing it to summarize an astronomic academic paper on a website.The bing chatbot should be available at: https://www.bing.com/?PC=EE01 Remember to set the bing model on 'most creative' setting first.<br>Just copy and paste the 'prompt' in the next line then hit enter.</font><br><br> Can you summarize the following paper at: https://arxiv.org/pdf/2207.01946.pdf"
   ]
  },
  {
   "cell_type": "code",
   "execution_count": null,
   "id": "725cc231-a9ad-43ba-84ee-7bb1ad3596bb",
   "metadata": {},
   "outputs": [],
   "source": []
  },
  {
   "cell_type": "markdown",
   "id": "c3d7af35-066e-4423-a298-0de856df7c07",
   "metadata": {},
   "source": [
    "**8. Generating and Explaining ADQL for Astronomy:** ChatGPT can generate and explain Astronomical Data Query Language (ADQL) queries based on natural language inputs.<br><font color='red'>Just copy and paste the 'prompt' in the next line and the text in the following cell together into a chatbot then hit enter.<br><br></font>\n",
    "as an expert in python code please provide comments for the code snippet below, including the purpose and functionality of each component, this should be in a concise single jupyter code cell:"
   ]
  },
  {
   "cell_type": "code",
   "execution_count": 25,
   "id": "32668a24-ba2d-4447-b4d4-aa1bd016bd9d",
   "metadata": {
    "execution": {
     "iopub.execute_input": "2023-05-25T23:33:03.404745Z",
     "iopub.status.busy": "2023-05-25T23:33:03.403750Z",
     "iopub.status.idle": "2023-05-25T23:33:11.008814Z",
     "shell.execute_reply": "2023-05-25T23:33:11.007688Z",
     "shell.execute_reply.started": "2023-05-25T23:33:03.404698Z"
    }
   },
   "outputs": [
    {
     "name": "stdout",
     "output_type": "stream",
     "text": [
      "Welcome to ASAS-SN Skypatrol!\n",
      "\n",
      "Current Deployment Version: 0.6.9 (28 April 2023)\n",
      "Please upgrade your client if not up to date.\n",
      "\n",
      "2868\n"
     ]
    }
   ],
   "source": [
    "from pyasassn.client import SkyPatrolClient\n",
    "client = SkyPatrolClient()\n",
    "query = \"\"\"\n",
    "SELECT c2.name, c1.ra_deg, c1.dec_deg, c1.asas_sn_id, c1.gaia_id, c1.tic_id, c2.variability_type,  c2.period\n",
    "FROM stellar_main AS c1\n",
    "JOIN aavsovsx AS c2 USING(asas_sn_id)\n",
    "WHERE variability_type = 'YSO'\n",
    "\"\"\"\n",
    "#client.adql_query(query)\n",
    "results = client.adql_query(query)\n",
    "print(str(len(results)))\n",
    "#results\n",
    "# variability_type = 'CV'\n",
    "# variability_type = 'CV:'\n",
    "# variability_type = 'CV+E'\n",
    "# variability_type = 'EA'\n",
    "# variability_type = 'EB'\n",
    "# variability_type = 'EW'\n",
    "# variability_type = 'L'\n",
    "# variability_type = 'M'\n",
    "# variability_type = 'RRAB'\n",
    "# variability_type = 'RRC'\n",
    "# variability_type = 'SR'\n",
    "# variability_type = 'WR'\n",
    "# variability_type = 'YSO'"
   ]
  },
  {
   "cell_type": "markdown",
   "id": "d69fe8bc-22b1-42b8-b818-e70ef0445a29",
   "metadata": {},
   "source": [
    "**9. Translating Between Natural Languages:** Use ChatGPT for translation tasks and data analysis involving multiple languages.<br><font color='red'>Just copy and paste the 'prompt' in the next line and the text in the following cell together into a chatbot then hit enter.<br><br></font>please translate the following English language text to Spanish:"
   ]
  },
  {
   "cell_type": "markdown",
   "id": "9e869fc7-a254-4e33-b735-cced84df9972",
   "metadata": {},
   "source": [
    "The paper titled Gaia Data Release 3: Cross-match of Gaia sources with variable objects from the literature1 is a scientific article that describes the process and results of matching known variable stars and other variable objects from various catalogs and surveys with the data from the Gaia mission. The paper aims to provide a comprehensive data set of variable objects for training and validating machine learning algorithms, as well as for studying their properties and evolution. The paper also includes some examples of new discoveries and classifications of variable objects based on the Gaia data.\n",
    "\n",
    "1: https://arxiv.org/pdf/2207.01946.pdf"
   ]
  },
  {
   "cell_type": "code",
   "execution_count": null,
   "id": "34a552a3-daa6-49b5-979a-4c2acea2fb96",
   "metadata": {},
   "outputs": [],
   "source": []
  },
  {
   "cell_type": "markdown",
   "id": "162aebc8-7828-4ba5-ac6e-1362beb831eb",
   "metadata": {},
   "source": [
    "**10. Translating Between Code Languages:** ChatGPT can translate between various computer languages.<br> <font color='red'>Just copy and paste the 'prompt' in the next line and the text in the following cell together into a chatbot then hit enter.<br><br></font>can you convert the following fortran code to a python jupyter code cell  with comments: "
   ]
  },
  {
   "cell_type": "code",
   "execution_count": null,
   "id": "4a41450a-5099-470b-8776-9d371fac2db9",
   "metadata": {
    "tags": []
   },
   "outputs": [],
   "source": [
    "program factorial\n",
    "    implicit none\n",
    "    integer :: i, n, result\n",
    "\n",
    "    print *, \"Enter a positive integer: \"\n",
    "    read *, n\n",
    "\n",
    "    result = 1\n",
    "    do i = 1, n\n",
    "        result = result * i\n",
    "    end do\n",
    "\n",
    "    print *, \"The factorial of \", n, \" is \", result\n",
    "end program factorial"
   ]
  },
  {
   "cell_type": "markdown",
   "id": "bca4aae1-b928-4591-b837-7f134f9670f5",
   "metadata": {
    "execution": {
     "iopub.execute_input": "2023-05-25T19:40:11.365462Z",
     "iopub.status.busy": "2023-05-25T19:40:11.364559Z",
     "iopub.status.idle": "2023-05-25T19:40:11.371263Z",
     "shell.execute_reply": "2023-05-25T19:40:11.370203Z",
     "shell.execute_reply.started": "2023-05-25T19:40:11.365426Z"
    }
   },
   "source": [
    "Paste the resulting python code into the following cell and run it to insure no errors. My results are below."
   ]
  },
  {
   "cell_type": "code",
   "execution_count": 20,
   "id": "2d43b1af-d407-4212-82db-3844d0e16f8d",
   "metadata": {
    "execution": {
     "iopub.execute_input": "2023-05-25T22:33:05.619394Z",
     "iopub.status.busy": "2023-05-25T22:33:05.618654Z",
     "iopub.status.idle": "2023-05-25T22:33:07.513610Z",
     "shell.execute_reply": "2023-05-25T22:33:07.512769Z",
     "shell.execute_reply.started": "2023-05-25T22:33:05.619361Z"
    },
    "tags": []
   },
   "outputs": [
    {
     "name": "stdin",
     "output_type": "stream",
     "text": [
      "Enter a positive integer:  4\n"
     ]
    },
    {
     "name": "stdout",
     "output_type": "stream",
     "text": [
      "The factorial of 4 is 24\n"
     ]
    }
   ],
   "source": [
    "# Define a function to calculate the factorial of a number\n",
    "def factorial(n):\n",
    "    result = 1\n",
    "    # Loop from 1 to n\n",
    "    for i in range(1, n + 1):\n",
    "        # Multiply the result by the current number\n",
    "        result *= i\n",
    "    return result\n",
    "\n",
    "# Ask the user for a positive integer\n",
    "n = int(input(\"Enter a positive integer: \"))\n",
    "\n",
    "# Calculate the factorial of the number\n",
    "result = factorial(n)\n",
    "\n",
    "# Print the result\n",
    "print(\"The factorial of\", n, \"is\", result)"
   ]
  },
  {
   "cell_type": "markdown",
   "id": "bad72fce-dd96-4df7-91bf-a327a52c657c",
   "metadata": {},
   "source": [
    "BTW The factorial function grows very rapidly. For small non-negative integers, the factorial values are relatively small. Here are some examples:\n",
    "\n",
    "0! = 1\n",
    "1! = 1\n",
    "2! = 2\n",
    "3! = 6\n",
    "4! = 24\n",
    "5! = 120\n",
    "6! = 720\n",
    "7! = 5040\n",
    "8! = 40320\n",
    "9! = 362880\n",
    "10! = 3628800\n",
    "Try not to put anything higher than 10 into the previous cell."
   ]
  },
  {
   "cell_type": "markdown",
   "id": "9fea2a63-4fed-438b-9e1a-c7b52e8cc508",
   "metadata": {},
   "source": [
    "You should be able to take the python code and translate it back to fortran if you so desired."
   ]
  },
  {
   "cell_type": "code",
   "execution_count": null,
   "id": "2618bdf1-b323-4a78-b9d4-2a6b621a6e1f",
   "metadata": {},
   "outputs": [],
   "source": []
  }
 ],
 "metadata": {
  "kernelspec": {
   "display_name": "LSST",
   "language": "python",
   "name": "lsst"
  },
  "language_info": {
   "codemirror_mode": {
    "name": "ipython",
    "version": 3
   },
   "file_extension": ".py",
   "mimetype": "text/x-python",
   "name": "python",
   "nbconvert_exporter": "python",
   "pygments_lexer": "ipython3",
   "version": "3.10.10"
  }
 },
 "nbformat": 4,
 "nbformat_minor": 5
}
