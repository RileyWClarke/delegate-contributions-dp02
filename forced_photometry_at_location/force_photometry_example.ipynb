{
 "cells": [
  {
   "cell_type": "markdown",
   "id": "17a6bdbd-4722-4f1c-abc1-e05051ed06b4",
   "metadata": {},
   "source": [
    "# Forced Photometry Measurements at a Given Location\n",
    "\n",
    "Brian Morsony <br>\n",
    "Last modified 10/25/2022\n",
    "\n",
    "## Introduction\n",
    "\n",
    "This notebook is an example of using fake sources to do force photometry at a given location.  It works by loading an image from the butler, adding a fake source at the desired coordinates, doing source detection on the modified image, then doing photometry on the origional image (with the fake source)\n",
    "\n",
    "This works, but is slow if you want to do a full 5-year lightcurve.  Ideally, it should be possible to do photometry only on the added source, not all the sources in the image, but I haven't figure that out yet.\n",
    "\n",
    "This notebook is based largely on the \"fake_source_injection_multicolor\" notebook written by Jeff Carlin.  The fake source injection and image processing routines are borrowed from that code.\n",
    "\n",
    "\n"
   ]
  },
  {
   "cell_type": "code",
   "execution_count": 1,
   "id": "d5ba0453-e127-4d4e-83c7-b53f24e43601",
   "metadata": {},
   "outputs": [
    {
     "name": "stdout",
     "output_type": "stream",
     "text": [
      "All packages loaded\n"
     ]
    }
   ],
   "source": [
    "# First, import a bunch of python packages:\n",
    "\n",
    "# Import python packages\n",
    "import time\n",
    "import os\n",
    "import warnings\n",
    "import numpy as np\n",
    "import matplotlib as mpl\n",
    "import matplotlib.pyplot as plt\n",
    "from IPython.display import IFrame, display, Markdown\n",
    "from mpl_toolkits.axes_grid1 import make_axes_locatable\n",
    "from matplotlib.patches import Rectangle\n",
    "from astropy.visualization import ZScaleInterval\n",
    "from astropy.coordinates import SkyCoord\n",
    "import astropy.units as u\n",
    "from astropy.table import Table, vstack\n",
    "from astropy.time import Time\n",
    "\n",
    "\n",
    "# Import tasks from the LSST Science Pipelines for reprocessing images\n",
    "from lsst.pipe.tasks.characterizeImage import CharacterizeImageTask\n",
    "from lsst.pipe.tasks.calibrate import CalibrateTask\n",
    "from lsst.meas.algorithms.detection import SourceDetectionTask\n",
    "from lsst.meas.deblender import SourceDeblendTask\n",
    "from lsst.meas.base import SingleFrameMeasurementTask\n",
    "\n",
    "import lsst.sphgeom\n",
    "\n",
    "\n",
    "# Import LSST Science Pipelines packages (see pipelines.lsst.io)\n",
    "import lsst.daf.base as dafBase\n",
    "from lsst.daf.butler import Butler\n",
    "import lsst.afw.image as afwImage\n",
    "import lsst.afw.display as afwDisplay\n",
    "import lsst.afw.table as afwTable\n",
    "import lsst.geom as geom\n",
    "import lsst.pipe.tasks.fakes as fakes\n",
    "\n",
    "# Use lsst.afw.display with the matplotlib backend\n",
    "afwDisplay.setDefaultBackend('matplotlib')\n",
    "\n",
    "\n",
    "\n",
    "\n",
    "\n",
    "print('All packages loaded')"
   ]
  },
  {
   "cell_type": "markdown",
   "id": "69fb1618-c9ba-4da1-8571-b30190cb9e27",
   "metadata": {},
   "source": [
    "## Define functions\n",
    "\n",
    "In the next few cells, we define the function need to inject fake sources, process images, and a wrapper to do the force photometry at a given location, band, etc."
   ]
  },
  {
   "cell_type": "code",
   "execution_count": 2,
   "id": "52a77c7c-2a59-409d-8a2a-584087314cd5",
   "metadata": {},
   "outputs": [
    {
     "name": "stdout",
     "output_type": "stream",
     "text": [
      "Ready to add fake sources\n"
     ]
    }
   ],
   "source": [
    "# Set up functions to add fakes stars to an image:\n",
    "\n",
    "\n",
    "# make stars at a given position with a given intensity\n",
    "# I am using this to make a fake source at the location I want to do photometry\n",
    "def makeFakeStar(position, intensity, psf):\n",
    "    psfImage = psf.computeImage(geom.Point2D(position.x, position.y)).getArray()\n",
    "    psfImage *= intensity\n",
    "    noise = np.random.normal(0, np.sqrt(abs(psfImage)))\n",
    "    return psfImage + noise, noise\n",
    "\n",
    "\n",
    "\n",
    "\n",
    "\n",
    "# This is used to add multiple fake stars.  I really just need to do one source.\n",
    "def addFakeStars(ras, decs, mags, calexp_ref, butler):\n",
    "    \n",
    "    # Load the image with the given calexp_ref ID\n",
    "    calexp_inp = butler.get('calexp', calexp_ref.dataId)\n",
    "    \n",
    "    # Make a copy of the image to add fake sources to\n",
    "    calexp_withFakes = calexp_inp.clone()\n",
    "\n",
    "    \n",
    "    # Fetch objects from the exposure\n",
    "    psf = calexp_withFakes.getPsf()\n",
    "    image = calexp_withFakes.getMaskedImage().getImage()\n",
    "    variance = calexp_withFakes.getMaskedImage().getVariance()\n",
    "    wcs = calexp_withFakes.getWcs()\n",
    "    photocalib = calexp_withFakes.getPhotoCalib()\n",
    "       \n",
    "    dt = calexp_withFakes.getInfo().getVisitInfo().getDate().toPython()\n",
    "    mjd = Time(dt).mjd\n",
    "    print(mjd)\n",
    "    \n",
    "    fluxes = []\n",
    "    \n",
    "    noise_scale = np.mean(image.getArray())    \n",
    "    image_size = image.getArray().shape\n",
    "    \n",
    "    print('noise_scale = ',noise_scale)\n",
    "    print('image_size = ',image_size)\n",
    "    \n",
    "    \n",
    "    # Use the \"photocalib\" from the calexp to convert magnitudes to instrumental fluxes:\n",
    "    for mag in mags:\n",
    "        fluxes.append(photocalib.magnitudeToInstFlux(mag))\n",
    "\n",
    "    # Get the corner coordinates of the image:\n",
    "    y0 = image.getY0()\n",
    "    x0 = image.getX0()\n",
    "    ymax = y0 + calexp_withFakes.getDimensions()[1]\n",
    "    xmax = x0 + calexp_withFakes.getDimensions()[0]\n",
    "\n",
    "    \n",
    "    # At each position create a star with the given intensity and add it\n",
    "    # to the image.\n",
    "    for ra, dec, intensity in zip(ras, decs, fluxes):\n",
    "        # Use the WCS to convert RA, Dec to X, Y pixel coordinates:\n",
    "        pos = wcs.skyToPixel(geom.SpherePoint(ra, dec, geom.degrees))\n",
    " \n",
    "        # Call \"makeFakeStar\" to get the image of a PSF-like object with the desired flux:\n",
    "        objArray, noiseArray = makeFakeStar(pos, intensity, psf)\n",
    "        psfRad = int((objArray.shape[0]-1)/2.)\n",
    "\n",
    "        # Check that the desired position is within the image:\n",
    "        oky = (pos.y > psfRad) & (pos.y < ymax - psfRad)\n",
    "        okx = (pos.x > psfRad) & (pos.x < xmax - psfRad)\n",
    "\n",
    "        if okx & oky:\n",
    "            yslice = slice(int(np.floor(pos.y - psfRad - y0)), int(np.floor(pos.y + psfRad + y0 + 1)))\n",
    "            xslice = slice(int(np.floor(pos.x - psfRad - x0)), int(np.floor(pos.x + psfRad + x0 + 1)))\n",
    "\n",
    "            print('Injecting source at x, y = ', pos.x, pos.y)\n",
    "            print('xslice = ',xslice,x0)\n",
    "\n",
    "            # NOTE: while image arrays are indexed with x, y, the extraction of the data into (numpy) arrays\n",
    "            # means that the returned arrays follow numpy's y, x convention.\n",
    "            # More on indexing: https://pipelines.lsst.io/modules/lsst.afw.image/indexing-conventions.html\n",
    "            \n",
    "            # To do full image source detection:\n",
    "            image.getArray()[yslice, xslice] += objArray - noiseArray\n",
    "            \n",
    "        else:\n",
    "            print('Skipped injecting source at x, y = ', pos.x, pos.y, ' because it is too close to (or off) the edge.')\n",
    "\n",
    "    return calexp_inp, calexp_withFakes\n",
    "\n",
    "\n",
    "print('Ready to add fake sources')\n"
   ]
  },
  {
   "cell_type": "code",
   "execution_count": 3,
   "id": "c5c55b16-812a-42e3-995c-c3cf722fd8ef",
   "metadata": {},
   "outputs": [
    {
     "name": "stdout",
     "output_type": "stream",
     "text": [
      "Ready to process images\n"
     ]
    }
   ],
   "source": [
    "# Set up function to do photometry on image with fake sources included:\n",
    "\n",
    "# Process the image with fake sources added and do photometry on all (real and fake) sources\n",
    "def processFakes(calexp_inp, calexp_inp_new):\n",
    "    \n",
    "    # Create a basic schema to use with these tasks\n",
    "    schema = afwTable.SourceTable.makeMinimalSchema()\n",
    "\n",
    "    print('schema = ')\n",
    "    print(schema)\n",
    "    \n",
    "    # Create a container which will be used to record metadata about algorithm execution\n",
    "    algMetadata = dafBase.PropertyList()\n",
    "\n",
    "    # Initialize CharacterizeImageTask and its configuration:\n",
    "    config = CharacterizeImageTask.ConfigClass()\n",
    "    config.psfIterations = 1\n",
    "    charImageTask = CharacterizeImageTask(None, config=config)\n",
    "\n",
    "    # Initialize SourceDetectionTask and its configuration:\n",
    "    config = SourceDetectionTask.ConfigClass()\n",
    "    config.thresholdValue = 10      # detection threshold in units of thresholdType\n",
    "    config.thresholdType = \"stdev\"   # units for thresholdValue\n",
    "    sourceDetectionTask = SourceDetectionTask(schema=schema, config=config)\n",
    "    sourceDeblendTask = SourceDeblendTask(schema=schema)\n",
    "\n",
    "    # Initialize SingleFrameMeasurementTask and its configuration:\n",
    "    config = SingleFrameMeasurementTask.ConfigClass()\n",
    "    sourceMeasurementTask = SingleFrameMeasurementTask(schema=schema, config=config, algMetadata=algMetadata)\n",
    "\n",
    "    #print('after config, schema = ')\n",
    "    #print(schema)\n",
    "\n",
    "    \n",
    "    # Make an empty table that we'll put the results in:\n",
    "    tab = afwTable.SourceTable.make(schema)\n",
    "    \n",
    "    # Image characterization\n",
    "\n",
    "    # I'm not sure what this does or if it is necessary, but it seems to take a long time - Brian Morsony, 7/29/2022\n",
    "    # result = charImageTask.run(calexp_inp)\n",
    "\n",
    "    # Get the PSF and some image properties\n",
    "    psf = calexp_inp.getPsf()\n",
    "    sigma = psf.computeShape().getDeterminantRadius()\n",
    "    pixelScale = calexp_inp.getWcs().getPixelScale().asArcseconds()\n",
    "\n",
    "    # The factor of 2.355 converts from std to fwhm\n",
    "    \n",
    "    #sigma = 1./pixelScale/2.355\n",
    "    print('psf fwhm = {:.2f} arcsec'.format(sigma*pixelScale*2.355))\n",
    "    \n",
    "    \n",
    "    # Run source detection on the image with fake sources\n",
    "    result = sourceDetectionTask.run(tab, calexp_inp_new)\n",
    "    \n",
    "    \n",
    "    sources = result.sources\n",
    "\n",
    "    del result\n",
    "\n",
    "    sources = sources.copy(True)\n",
    "\n",
    "    \n",
    "    \n",
    "    # Run source deblending on origional image\n",
    "    sourceDeblendTask.run(calexp_inp, sources)\n",
    "\n",
    "    \n",
    "    sources = sources.copy(True)\n",
    "    \n",
    "    sources_test = sources.asAstropy()\n",
    "    #print('sources_test')\n",
    "    #print(sources_test)\n",
    "    \n",
    "\n",
    "    \n",
    "    # Run source measurement on origional image\n",
    "    sourceMeasurementTask.run(measCat=sources, exposure=calexp_inp)\n",
    "\n",
    "    \n",
    "    \n",
    "    # The copy makes sure that the sources are sequential in memory\n",
    "    sources = sources.copy(True)\n",
    "    \n",
    "    # For convenience, return an Astropy table:\n",
    "    source_tab = sources.asAstropy()\n",
    "    \n",
    "    # Convert fluxes to magnitudes and add them to the table\n",
    "    photocalib = calexp_inp.getPhotoCalib()\n",
    "    psfmags = photocalib.instFluxToMagnitude(sources, 'base_PsfFlux')\n",
    "    source_tab.add_columns([psfmags[:,0], psfmags[:,1]], names=['mag_psf', 'magerr_psf'])\n",
    "    \n",
    "    dt = calexp_inp.getInfo().getVisitInfo().getDate().toPython()\n",
    "    mjd = Time(dt).mjd\n",
    "    print(mjd)\n",
    "    \n",
    "    mjd_arr = psfmags.copy()\n",
    "    mjd_arr[:] = mjd\n",
    "\n",
    "    source_tab.add_columns([mjd_arr[:,1]], names=['mjd'])\n",
    "\n",
    "    \n",
    "    return(source_tab)\n",
    "\n",
    "\n",
    "\n",
    "print('Ready to process images')\n"
   ]
  },
  {
   "cell_type": "code",
   "execution_count": 4,
   "id": "6dac6d00-6960-4349-9736-5efa0144f15d",
   "metadata": {},
   "outputs": [
    {
     "name": "stdout",
     "output_type": "stream",
     "text": [
      "Ready to do photometry\n"
     ]
    }
   ],
   "source": [
    "# Now make a function to loop over several (or all) visits in a given band\n",
    "\n",
    "# Do the photometry at a given location in one band\n",
    "def photometry_at_coord_all_visits(racen,deccen,band,start_index=0,end_index=None,image_bool=False):\n",
    "\n",
    "    # racen and deccen are the ra and dec of the location where you want to do photometry\n",
    "    \n",
    "    # To use the DP0.1 data, use this:\n",
    "\n",
    "    # For DC2 gen3, these are the only optoins\n",
    "    # repo = 's3://butler-us-central1-dp01'\n",
    "    # collection = '2.2i/runs/DP0.1'\n",
    "    #\n",
    "    # butler = Butler(repo, collections=collection)\n",
    "\n",
    "\n",
    "\n",
    "    # For DP0.2, we want the following configuration and collection:\n",
    "\n",
    "    config = \"dp02\"\n",
    "    collection = '2.2i/runs/DP0.2'\n",
    "\n",
    "    butler = Butler(config=config, collections=collection)\n",
    "\n",
    "\n",
    "    # I think I need this line for either collection, but not sure:\n",
    "    registry = butler.registry\n",
    "\n",
    "    \n",
    "    # Higher levels make smaller triangles around the coordinates you want\n",
    "\n",
    "    # pixelization = lsst.sphgeom.HtmPixelization(12)\n",
    "    pixelization = lsst.sphgeom.HtmPixelization(14)\n",
    "\n",
    "\n",
    "    htm_id = pixelization.index(\n",
    "        lsst.sphgeom.UnitVector3d(\n",
    "            lsst.sphgeom.LonLat.fromDegrees(racen, deccen)\n",
    "        )\n",
    "    )\n",
    "\n",
    "    # Obtain and print the scale to provide a sense of the size of the sky pixelization being used\n",
    "    scale = pixelization.triangle(htm_id).getBoundingCircle().getOpeningAngle().asDegrees()*3600\n",
    "    print(f'HTM ID={htm_id} at level={pixelization.getLevel()} is a ~{scale:0.2}\" triangle.')\n",
    "\n",
    "\n",
    "    \n",
    "    # Find all the visits for the given band:\n",
    "    \n",
    "    datasetRefs_u = registry.queryDatasets(\"calexp\", htm20=htm_id, band=band)\n",
    "     \n",
    "    print(\"Found \", datasetRefs_u.count(), \" \",band,\"-band calexps at that position.\")\n",
    "    \n",
    "    # I don't know how this is being sorted, but at least it seems to be in the same order each time.\n",
    "    datasetRefs_u = sorted(datasetRefs_u)\n",
    "\n",
    "    \n",
    "    \n",
    "    # For now, just take the first visit of each color.  Eventually want to make it do photometry for all visits:\n",
    "    \n",
    "    #for i, ref in enumerate(datasetRefs_u):\n",
    "    #    if i==sort_index:\n",
    "    #        uref = ref\n",
    "    \n",
    "    ref = datasetRefs_u[start_index:end_index]\n",
    "    \n",
    "    # Set up a face source at the given coordinates.\n",
    "    \n",
    "    fake_ras = np.array([racen])\n",
    "    fake_decs = np.array([deccen])\n",
    "    \n",
    "    # Set the fake source to be 22nd magnitude.  This seems to be detectable but not overpowering.\n",
    "    \n",
    "    fake_umags = np.array([22.])\n",
    "\n",
    "    \n",
    "    # Go through and add the fake source to all images.\n",
    "\n",
    "    for i, uref in enumerate(ref):\n",
    "        \n",
    "        print(' ')\n",
    "        print('i = ',i)\n",
    "    \n",
    "        calexp_orig_u, calexp_new_u = addFakeStars(fake_ras, fake_decs, fake_umags, uref, butler)\n",
    "    \n",
    "\n",
    "        # Process all the fake images to do photometry.\n",
    "        # Eventaully probably need to make this a loop over all viists.\n",
    "\n",
    "        t1 = time.time()\n",
    "\n",
    "        sources_withfakes_u = processFakes(calexp_orig_u,calexp_new_u)\n",
    "\n",
    "        t2 = time.time()\n",
    "        print('dt', t2 - t1)\n",
    "\n",
    "        \n",
    "    \n",
    "        # Now match input sources to photometry sources\n",
    "\n",
    "        # Coordinates of input fake stars\n",
    "        sc_fakes = SkyCoord(ra=fake_ras*u.deg, dec=fake_decs*u.deg, frame='icrs')\n",
    "\n",
    "        # Coordinates of objects in calexps with fakes added:\n",
    "        sc_withfakes_u = SkyCoord(ra=sources_withfakes_u['coord_ra'], dec=sources_withfakes_u['coord_dec'], frame='icrs')\n",
    "\n",
    "        \n",
    "        \n",
    "        # Plot an image of all sources adn fake source location:\n",
    "    \n",
    "        if image_bool==True:\n",
    "            fig, ax = plt.subplots(1, 1)\n",
    "            plt.plot(sc_withfakes_u.ra, sc_withfakes_u.dec, '.k', label='detected sources')\n",
    "            plt.plot(sc_fakes.ra, sc_fakes.dec, 'sr', fillstyle='none', label='fake sources')\n",
    "            ax.invert_xaxis()\n",
    "            plt.legend()\n",
    "            plt.xlabel('RA (deg)')\n",
    "            plt.ylabel('Dec (deg)')\n",
    "            plt.show()\n",
    "        \n",
    "        \n",
    "\n",
    "        # Match them using the Astropy SkyCoord \"match_to_catalog_sky\" method:\n",
    "\n",
    "        idx_u, sep_u, _ = sc_fakes.match_to_catalog_sky(sc_withfakes_u)\n",
    "\n",
    "        # Return the table, match sources, id of matched source, and separation of matched source\n",
    "        # return sourcers_withfakes_u, sc_withfakes_u, idx_u, sep_u\n",
    "\n",
    "\n",
    "\n",
    "        okmch_u = (sep_u.arcsec < 1.0)\n",
    "        mch_mags_u = sources_withfakes_u[idx_u]['mag_psf']\n",
    "        mch_magerrs_u = sources_withfakes_u[idx_u]['magerr_psf']\n",
    "        # If the nearest match is >1\" away, set its magnitudes to -99.9:\n",
    "        mch_mags_u[~okmch_u] = -99.9\n",
    "        mch_magerrs_u[~okmch_u] = -99.9\n",
    "        mch_flux_u = sources_withfakes_u[idx_u]['base_PsfFlux_instFlux']\n",
    "        mch_fluxerr_u = sources_withfakes_u[idx_u]['base_PsfFlux_instFluxErr']\n",
    "        mch_flux_u[~okmch_u] = -99.9\n",
    "        mch_fluxerr_u[~okmch_u] = -99.9\n",
    "        mch_mjd_u = sources_withfakes_u[idx_u]['mjd']\n",
    "        seps_u = sep_u.arcsec\n",
    "\n",
    "\n",
    "        #print(fake_imags[okmch], sources_withfakes_i[idx_i[okmch]]['mag_psf'])\n",
    "\n",
    "\n",
    "\n",
    "        # Make a table of fake sources and measured fluxes    \n",
    "\n",
    "\n",
    "        print('Data to table = ',band,mch_flux_u[0], mch_fluxerr_u[0], mch_mags_u[0], mch_magerrs_u[0], seps_u[0])\n",
    "\n",
    "        # one band table\n",
    "        tab_one = Table([fake_ras, fake_decs, mch_mjd_u,\n",
    "                         mch_flux_u, mch_fluxerr_u, mch_mags_u, mch_magerrs_u, seps_u], \n",
    "                         names=['ra', 'dec', 'mjd',\n",
    "                                'flux', 'fluxerr', 'meas', 'err_meas', 'sep'],\n",
    "                         units=[u.deg, u.deg, u.d,\n",
    "                                u.Jy, u.Jy, u.mag, u.mag, u.arcsec])\n",
    "\n",
    "        if i==0:\n",
    "            tab_all = tab_one.copy()\n",
    "        else:\n",
    "            tab_all = vstack([tab_all,tab_one])\n",
    "            \n",
    "        #print(tab_all)\n",
    "        \n",
    "    \n",
    "    #for col in tab_all.colnames[0:2]:\n",
    "    #    tab_all[col].info.format = '%.9g'  # for consistent table output\n",
    "    #for col in tab_all.colnames[2:]:\n",
    "    #    tab_all[col].info.format = '%.8g'  # for consistent table output\n",
    "    \n",
    "        \n",
    "\n",
    "    return sources_withfakes_u, tab_all\n",
    "\n",
    "\n",
    "\n",
    "print('Ready to do photometry')\n"
   ]
  },
  {
   "cell_type": "markdown",
   "id": "b4545303-b2e9-4915-9624-7ea9b278940a",
   "metadata": {},
   "source": [
    "\n",
    "## Photometry Examples\n",
    "\n",
    "Everything is set up now.  In the next several cells, we do some examples of force photometry at the location of a supernova.  \n",
    "\n",
    "For some visits, the source will be off the edge of the detector or too close to the edge, so a fake source will not be added.  In these cases, we don't get photometry on the source, so the returned flux and flux error is set to -99.9.\n",
    "\n",
    "When the sourceis added, we get photometry at that location.  Becuase there usually isn't a real source there, we can get positive and negative values of the flux, but the flux error should always be positive.\n"
   ]
  },
  {
   "cell_type": "code",
   "execution_count": 5,
   "id": "b2820176-804e-4616-a957-45b1cf0eb3b3",
   "metadata": {},
   "outputs": [
    {
     "data": {
      "text/html": [
       "<pre style=\"margin: 0.1em;\n",
       "padding-left: 0.25em;\n",
       "border-left-style: solid;\n",
       "font-family: var(--jp-code-font-family);\n",
       "font-size: var(--jp-code-font-size);\n",
       "line-height: var(--jp-code-line-height);\n",
       "\"><span style=\"color: var(--jp-warn-color2)\">botocore.credentials</span> <span style=\"color: var(--jp-info-color0)\">INFO</span>: Found credentials in shared credentials file: /home/morsony/.lsst/aws-credentials.ini</pre>"
      ],
      "text/plain": [
       "<IPython.core.display.HTML object>"
      ]
     },
     "metadata": {},
     "output_type": "display_data"
    },
    {
     "name": "stdout",
     "output_type": "stream",
     "text": [
      "HTM ID=2359497778 at level=14 is a ~1.7e+01\" triangle.\n",
      "Found  52   u -band calexps at that position.\n",
      " \n",
      "i =  0\n",
      "59851.30014821991\n",
      "noise_scale =  1.8755872\n",
      "image_size =  (4000, 4072)\n",
      "Skipped injecting source at x, y =  4245.563499786534 148.92215477870968  because it is too close to (or off) the edge.\n",
      "schema = \n",
      "Schema(\n",
      "    (Field['L'](name=\"id\", doc=\"unique ID\"), Key<L>(offset=0, nElements=1)),\n",
      "    (Field['Angle'](name=\"coord_ra\", doc=\"position in ra/dec\"), Key<Angle>(offset=8, nElements=1)),\n",
      "    (Field['Angle'](name=\"coord_dec\", doc=\"position in ra/dec\"), Key<Angle>(offset=16, nElements=1)),\n",
      "    (Field['L'](name=\"parent\", doc=\"unique ID of parent source\"), Key<L>(offset=24, nElements=1)),\n",
      ")\n",
      "\n",
      "psf fwhm = 0.89 arcsec\n"
     ]
    },
    {
     "name": "stderr",
     "output_type": "stream",
     "text": [
      "/tmp/ipykernel_12199/2532271563.py:45: FutureWarning: Default position argument overload is deprecated and will be removed in version 24.0.  Please explicitly specify a position.\n",
      "  sigma = psf.computeShape().getDeterminantRadius()\n"
     ]
    },
    {
     "data": {
      "text/html": [
       "<pre style=\"margin: 0.1em;\n",
       "padding-left: 0.25em;\n",
       "border-left-style: solid;\n",
       "font-family: var(--jp-code-font-family);\n",
       "font-size: var(--jp-code-font-size);\n",
       "line-height: var(--jp-code-line-height);\n",
       "\"><span style=\"color: var(--jp-warn-color2)\">lsst.sourceDetection</span> <span style=\"color: var(--jp-info-color0)\">INFO</span>: Detected 419 positive peaks in 405 footprints and 0 negative peaks in 0 footprints to 10 sigma</pre>"
      ],
      "text/plain": [
       "<IPython.core.display.HTML object>"
      ]
     },
     "metadata": {},
     "output_type": "display_data"
    },
    {
     "data": {
      "text/html": [
       "<pre style=\"margin: 0.1em;\n",
       "padding-left: 0.25em;\n",
       "border-left-style: solid;\n",
       "font-family: var(--jp-code-font-family);\n",
       "font-size: var(--jp-code-font-size);\n",
       "line-height: var(--jp-code-line-height);\n",
       "\"><span style=\"color: var(--jp-warn-color2)\">lsst.sourceDetection</span> <span style=\"color: var(--jp-info-color0)\">INFO</span>: Resubtracting the background after object detection</pre>"
      ],
      "text/plain": [
       "<IPython.core.display.HTML object>"
      ]
     },
     "metadata": {},
     "output_type": "display_data"
    },
    {
     "data": {
      "text/html": [
       "<pre style=\"margin: 0.1em;\n",
       "padding-left: 0.25em;\n",
       "border-left-style: solid;\n",
       "font-family: var(--jp-code-font-family);\n",
       "font-size: var(--jp-code-font-size);\n",
       "line-height: var(--jp-code-line-height);\n",
       "\"><span style=\"color: var(--jp-warn-color2)\">lsst.sourceDeblend</span> <span style=\"color: var(--jp-info-color0)\">INFO</span>: Deblending 405 sources</pre>"
      ],
      "text/plain": [
       "<IPython.core.display.HTML object>"
      ]
     },
     "metadata": {},
     "output_type": "display_data"
    },
    {
     "data": {
      "text/html": [
       "<pre style=\"margin: 0.1em;\n",
       "padding-left: 0.25em;\n",
       "border-left-style: solid;\n",
       "font-family: var(--jp-code-font-family);\n",
       "font-size: var(--jp-code-font-size);\n",
       "line-height: var(--jp-code-line-height);\n",
       "\"><span style=\"color: var(--jp-warn-color2)\">lsst.sourceDeblend</span> <span style=\"color: var(--jp-info-color0)\">INFO</span>: Deblended: of 405 sources, 9 were deblended, creating 23 children, total 428 sources</pre>"
      ],
      "text/plain": [
       "<IPython.core.display.HTML object>"
      ]
     },
     "metadata": {},
     "output_type": "display_data"
    },
    {
     "data": {
      "text/html": [
       "<pre style=\"margin: 0.1em;\n",
       "padding-left: 0.25em;\n",
       "border-left-style: solid;\n",
       "font-family: var(--jp-code-font-family);\n",
       "font-size: var(--jp-code-font-size);\n",
       "line-height: var(--jp-code-line-height);\n",
       "\"><span style=\"color: var(--jp-warn-color2)\">lsst.measurement</span> <span style=\"color: var(--jp-info-color0)\">INFO</span>: Measuring 428 sources (405 parents, 23 children) </pre>"
      ],
      "text/plain": [
       "<IPython.core.display.HTML object>"
      ]
     },
     "metadata": {},
     "output_type": "display_data"
    },
    {
     "name": "stdout",
     "output_type": "stream",
     "text": [
      "59851.30014821991\n",
      "dt 5.890807390213013\n"
     ]
    },
    {
     "data": {
      "image/png": "[encoded data removed]",
      "text/plain": [
       "<Figure size 640x480 with 1 Axes>"
      ]
     },
     "metadata": {},
     "output_type": "display_data"
    },
    {
     "name": "stdout",
     "output_type": "stream",
     "text": [
      "Data to table =  u -99.9 -99.9 -99.9 -99.9 40.07601948878525\n",
      "Done\n"
     ]
    }
   ],
   "source": [
    "# Now do an example image:\n",
    "\n",
    "\n",
    "np.random.seed(715)   # make it reproducable, not random\n",
    "\n",
    "# for SN with DiaObjectID = 1326398051190837313\n",
    "racen = 56.5885599\n",
    "deccen = -42.4486176\n",
    "\n",
    "# Pick the u band for less visits\n",
    "band = 'u'\n",
    "\n",
    "# Start with the first visit in the list.  The one happens to be outside the detector.\n",
    "\n",
    "# This will plot an image of all detected sources, and a red box around the location where we want photometry.\n",
    "# In this case, there is no source in the red box.\n",
    "\n",
    "sources_withfakes_0, tab_0 = photometry_at_coord_all_visits(racen,deccen,band,\n",
    "                                start_index=0,end_index=1,image_bool=True)\n",
    "\n",
    "    \n",
    "print('Done')\n",
    "\n"
   ]
  },
  {
   "cell_type": "code",
   "execution_count": 6,
   "id": "a06bb5b2-8bab-49c6-ae8a-83ea962269ee",
   "metadata": {},
   "outputs": [
    {
     "name": "stdout",
     "output_type": "stream",
     "text": [
      "HTM ID=2359497778 at level=14 is a ~1.7e+01\" triangle.\n",
      "Found  52   u -band calexps at that position.\n",
      " \n",
      "i =  0\n",
      "59819.29373722222\n",
      "noise_scale =  1.0413336\n",
      "image_size =  (4000, 4072)\n",
      "Injecting source at x, y =  1174.1851199230614 3287.2078154926985\n",
      "xslice =  slice(1154, 1195, None) 0\n",
      "schema = \n",
      "Schema(\n",
      "    (Field['L'](name=\"id\", doc=\"unique ID\"), Key<L>(offset=0, nElements=1)),\n",
      "    (Field['Angle'](name=\"coord_ra\", doc=\"position in ra/dec\"), Key<Angle>(offset=8, nElements=1)),\n",
      "    (Field['Angle'](name=\"coord_dec\", doc=\"position in ra/dec\"), Key<Angle>(offset=16, nElements=1)),\n",
      "    (Field['L'](name=\"parent\", doc=\"unique ID of parent source\"), Key<L>(offset=24, nElements=1)),\n",
      ")\n",
      "\n",
      "psf fwhm = 1.05 arcsec\n"
     ]
    },
    {
     "name": "stderr",
     "output_type": "stream",
     "text": [
      "/tmp/ipykernel_12199/2532271563.py:45: FutureWarning: Default position argument overload is deprecated and will be removed in version 24.0.  Please explicitly specify a position.\n",
      "  sigma = psf.computeShape().getDeterminantRadius()\n"
     ]
    },
    {
     "data": {
      "text/html": [
       "<pre style=\"margin: 0.1em;\n",
       "padding-left: 0.25em;\n",
       "border-left-style: solid;\n",
       "font-family: var(--jp-code-font-family);\n",
       "font-size: var(--jp-code-font-size);\n",
       "line-height: var(--jp-code-line-height);\n",
       "\"><span style=\"color: var(--jp-warn-color2)\">lsst.sourceDetection</span> <span style=\"color: var(--jp-info-color0)\">INFO</span>: Detected 335 positive peaks in 329 footprints and 0 negative peaks in 0 footprints to 10 sigma</pre>"
      ],
      "text/plain": [
       "<IPython.core.display.HTML object>"
      ]
     },
     "metadata": {},
     "output_type": "display_data"
    },
    {
     "data": {
      "text/html": [
       "<pre style=\"margin: 0.1em;\n",
       "padding-left: 0.25em;\n",
       "border-left-style: solid;\n",
       "font-family: var(--jp-code-font-family);\n",
       "font-size: var(--jp-code-font-size);\n",
       "line-height: var(--jp-code-line-height);\n",
       "\"><span style=\"color: var(--jp-warn-color2)\">lsst.sourceDetection</span> <span style=\"color: var(--jp-info-color0)\">INFO</span>: Resubtracting the background after object detection</pre>"
      ],
      "text/plain": [
       "<IPython.core.display.HTML object>"
      ]
     },
     "metadata": {},
     "output_type": "display_data"
    },
    {
     "data": {
      "text/html": [
       "<pre style=\"margin: 0.1em;\n",
       "padding-left: 0.25em;\n",
       "border-left-style: solid;\n",
       "font-family: var(--jp-code-font-family);\n",
       "font-size: var(--jp-code-font-size);\n",
       "line-height: var(--jp-code-line-height);\n",
       "\"><span style=\"color: var(--jp-warn-color2)\">lsst.sourceDeblend</span> <span style=\"color: var(--jp-info-color0)\">INFO</span>: Deblending 329 sources</pre>"
      ],
      "text/plain": [
       "<IPython.core.display.HTML object>"
      ]
     },
     "metadata": {},
     "output_type": "display_data"
    },
    {
     "data": {
      "text/html": [
       "<pre style=\"margin: 0.1em;\n",
       "padding-left: 0.25em;\n",
       "border-left-style: solid;\n",
       "font-family: var(--jp-code-font-family);\n",
       "font-size: var(--jp-code-font-size);\n",
       "line-height: var(--jp-code-line-height);\n",
       "\"><span style=\"color: var(--jp-warn-color2)\">lsst.sourceDeblend</span> <span style=\"color: var(--jp-info-color0)\">INFO</span>: Deblended: of 329 sources, 6 were deblended, creating 12 children, total 341 sources</pre>"
      ],
      "text/plain": [
       "<IPython.core.display.HTML object>"
      ]
     },
     "metadata": {},
     "output_type": "display_data"
    },
    {
     "data": {
      "text/html": [
       "<pre style=\"margin: 0.1em;\n",
       "padding-left: 0.25em;\n",
       "border-left-style: solid;\n",
       "font-family: var(--jp-code-font-family);\n",
       "font-size: var(--jp-code-font-size);\n",
       "line-height: var(--jp-code-line-height);\n",
       "\"><span style=\"color: var(--jp-warn-color2)\">lsst.measurement</span> <span style=\"color: var(--jp-info-color0)\">INFO</span>: Measuring 341 sources (329 parents, 12 children) </pre>"
      ],
      "text/plain": [
       "<IPython.core.display.HTML object>"
      ]
     },
     "metadata": {},
     "output_type": "display_data"
    },
    {
     "name": "stdout",
     "output_type": "stream",
     "text": [
      "59819.29373722222\n",
      "dt 5.809568166732788\n"
     ]
    },
    {
     "data": {
      "image/png": "[encoded data removed]",
      "text/plain": [
       "<Figure size 640x480 with 1 Axes>"
      ]
     },
     "metadata": {},
     "output_type": "display_data"
    },
    {
     "name": "stdout",
     "output_type": "stream",
     "text": [
      "Data to table =  u -34.661063016748216 95.40797465376022 nan 2.9885953928377114 0.05571602180273029\n",
      "Done\n"
     ]
    }
   ],
   "source": [
    "# Let's pick a different visit, where the coordiates are on the detector.\n",
    "\n",
    "# In this case, there is a source in the red box, and photometry is done on it.\n",
    "\n",
    "\n",
    "np.random.seed(715)   # make it reproducable, not random\n",
    "\n",
    "sources_withfakes_2, tab_2 = photometry_at_coord_all_visits(racen,deccen,band,\n",
    "                                start_index=2,end_index=3,image_bool=True)\n",
    "    \n",
    "print('Done')\n",
    "\n"
   ]
  },
  {
   "cell_type": "code",
   "execution_count": 7,
   "id": "048bbcaf-4796-45df-9054-072676011d8c",
   "metadata": {},
   "outputs": [
    {
     "name": "stdout",
     "output_type": "stream",
     "text": [
      "u-band flux = -34.661063016748216 +/- 95.40797465376022 at mjd = 59819.29373722222\n",
      " \n",
      "    ra         dec            mjd                flux             fluxerr      meas      err_meas              sep        \n",
      "   deg         deg             d                  Jy                 Jy        mag         mag                arcsec      \n",
      "---------- ----------- ----------------- ------------------- ----------------- ---- ------------------ -------------------\n",
      "56.5885599 -42.4486176 59819.29373722222 -34.661063016748216 95.40797465376022  nan 2.9885953928377114 0.05571602180273029\n"
     ]
    }
   ],
   "source": [
    "# Use the data in the returned table to print some info about the photometry.\n",
    "\n",
    "\n",
    "print('u-band flux =',tab_2[0]['flux'],'+/-',tab_2[0]['fluxerr'],'at mjd =',tab_2[0]['mjd'])\n",
    "\n",
    "print(' ')\n",
    "\n",
    "# Now print the actual table (with 1 entry)\n",
    "\n",
    "print(tab_2[0])\n",
    "\n"
   ]
  },
  {
   "cell_type": "code",
   "execution_count": 8,
   "id": "d74899d6-591c-4c73-a70a-a4de0824ffe1",
   "metadata": {},
   "outputs": [
    {
     "name": "stdout",
     "output_type": "stream",
     "text": [
      "HTM ID=2359497778 at level=14 is a ~1.7e+01\" triangle.\n",
      "Found  52   u -band calexps at that position.\n",
      " \n",
      "i =  0\n",
      "60731.04764222221\n",
      "noise_scale =  0.97060215\n",
      "image_size =  (4000, 4072)\n",
      "Injecting source at x, y =  2969.8669260235974 2293.7605985931536\n",
      "xslice =  slice(2949, 2990, None) 0\n",
      "schema = \n",
      "Schema(\n",
      "    (Field['L'](name=\"id\", doc=\"unique ID\"), Key<L>(offset=0, nElements=1)),\n",
      "    (Field['Angle'](name=\"coord_ra\", doc=\"position in ra/dec\"), Key<Angle>(offset=8, nElements=1)),\n",
      "    (Field['Angle'](name=\"coord_dec\", doc=\"position in ra/dec\"), Key<Angle>(offset=16, nElements=1)),\n",
      "    (Field['L'](name=\"parent\", doc=\"unique ID of parent source\"), Key<L>(offset=24, nElements=1)),\n",
      ")\n",
      "\n",
      "psf fwhm = 0.82 arcsec\n"
     ]
    },
    {
     "name": "stderr",
     "output_type": "stream",
     "text": [
      "/tmp/ipykernel_12199/2532271563.py:45: FutureWarning: Default position argument overload is deprecated and will be removed in version 24.0.  Please explicitly specify a position.\n",
      "  sigma = psf.computeShape().getDeterminantRadius()\n"
     ]
    },
    {
     "data": {
      "text/html": [
       "<pre style=\"margin: 0.1em;\n",
       "padding-left: 0.25em;\n",
       "border-left-style: solid;\n",
       "font-family: var(--jp-code-font-family);\n",
       "font-size: var(--jp-code-font-size);\n",
       "line-height: var(--jp-code-line-height);\n",
       "\"><span style=\"color: var(--jp-warn-color2)\">lsst.sourceDetection</span> <span style=\"color: var(--jp-info-color0)\">INFO</span>: Detected 415 positive peaks in 406 footprints and 0 negative peaks in 0 footprints to 10 sigma</pre>"
      ],
      "text/plain": [
       "<IPython.core.display.HTML object>"
      ]
     },
     "metadata": {},
     "output_type": "display_data"
    },
    {
     "data": {
      "text/html": [
       "<pre style=\"margin: 0.1em;\n",
       "padding-left: 0.25em;\n",
       "border-left-style: solid;\n",
       "font-family: var(--jp-code-font-family);\n",
       "font-size: var(--jp-code-font-size);\n",
       "line-height: var(--jp-code-line-height);\n",
       "\"><span style=\"color: var(--jp-warn-color2)\">lsst.sourceDetection</span> <span style=\"color: var(--jp-info-color0)\">INFO</span>: Resubtracting the background after object detection</pre>"
      ],
      "text/plain": [
       "<IPython.core.display.HTML object>"
      ]
     },
     "metadata": {},
     "output_type": "display_data"
    },
    {
     "data": {
      "text/html": [
       "<pre style=\"margin: 0.1em;\n",
       "padding-left: 0.25em;\n",
       "border-left-style: solid;\n",
       "font-family: var(--jp-code-font-family);\n",
       "font-size: var(--jp-code-font-size);\n",
       "line-height: var(--jp-code-line-height);\n",
       "\"><span style=\"color: var(--jp-warn-color2)\">lsst.sourceDeblend</span> <span style=\"color: var(--jp-info-color0)\">INFO</span>: Deblending 406 sources</pre>"
      ],
      "text/plain": [
       "<IPython.core.display.HTML object>"
      ]
     },
     "metadata": {},
     "output_type": "display_data"
    },
    {
     "data": {
      "text/html": [
       "<pre style=\"margin: 0.1em;\n",
       "padding-left: 0.25em;\n",
       "border-left-style: solid;\n",
       "font-family: var(--jp-code-font-family);\n",
       "font-size: var(--jp-code-font-size);\n",
       "line-height: var(--jp-code-line-height);\n",
       "\"><span style=\"color: var(--jp-warn-color2)\">lsst.sourceDeblend</span> <span style=\"color: var(--jp-info-color0)\">INFO</span>: Deblended: of 406 sources, 7 were deblended, creating 16 children, total 422 sources</pre>"
      ],
      "text/plain": [
       "<IPython.core.display.HTML object>"
      ]
     },
     "metadata": {},
     "output_type": "display_data"
    },
    {
     "data": {
      "text/html": [
       "<pre style=\"margin: 0.1em;\n",
       "padding-left: 0.25em;\n",
       "border-left-style: solid;\n",
       "font-family: var(--jp-code-font-family);\n",
       "font-size: var(--jp-code-font-size);\n",
       "line-height: var(--jp-code-line-height);\n",
       "\"><span style=\"color: var(--jp-warn-color2)\">lsst.measurement</span> <span style=\"color: var(--jp-info-color0)\">INFO</span>: Measuring 422 sources (406 parents, 16 children) </pre>"
      ],
      "text/plain": [
       "<IPython.core.display.HTML object>"
      ]
     },
     "metadata": {},
     "output_type": "display_data"
    },
    {
     "name": "stdout",
     "output_type": "stream",
     "text": [
      "60731.04764222221\n",
      "dt 5.701986312866211\n",
      "Data to table =  u -97.72790550288926 72.32142105499395 nan 0.8034757802531254 0.23041125168857002\n",
      " \n",
      "i =  1\n",
      "60731.048987222224\n",
      "noise_scale =  1.2524506\n",
      "image_size =  (4000, 4072)\n",
      "Injecting source at x, y =  2262.3910859461052 2323.759161006365\n",
      "xslice =  slice(2242, 2283, None) 0\n",
      "schema = \n",
      "Schema(\n",
      "    (Field['L'](name=\"id\", doc=\"unique ID\"), Key<L>(offset=0, nElements=1)),\n",
      "    (Field['Angle'](name=\"coord_ra\", doc=\"position in ra/dec\"), Key<Angle>(offset=8, nElements=1)),\n",
      "    (Field['Angle'](name=\"coord_dec\", doc=\"position in ra/dec\"), Key<Angle>(offset=16, nElements=1)),\n",
      "    (Field['L'](name=\"parent\", doc=\"unique ID of parent source\"), Key<L>(offset=24, nElements=1)),\n",
      ")\n",
      "\n",
      "psf fwhm = 0.84 arcsec\n"
     ]
    },
    {
     "name": "stderr",
     "output_type": "stream",
     "text": [
      "/tmp/ipykernel_12199/2532271563.py:45: FutureWarning: Default position argument overload is deprecated and will be removed in version 24.0.  Please explicitly specify a position.\n",
      "  sigma = psf.computeShape().getDeterminantRadius()\n"
     ]
    },
    {
     "data": {
      "text/html": [
       "<pre style=\"margin: 0.1em;\n",
       "padding-left: 0.25em;\n",
       "border-left-style: solid;\n",
       "font-family: var(--jp-code-font-family);\n",
       "font-size: var(--jp-code-font-size);\n",
       "line-height: var(--jp-code-line-height);\n",
       "\"><span style=\"color: var(--jp-warn-color2)\">lsst.sourceDetection</span> <span style=\"color: var(--jp-info-color0)\">INFO</span>: Detected 384 positive peaks in 371 footprints and 0 negative peaks in 0 footprints to 10 sigma</pre>"
      ],
      "text/plain": [
       "<IPython.core.display.HTML object>"
      ]
     },
     "metadata": {},
     "output_type": "display_data"
    },
    {
     "data": {
      "text/html": [
       "<pre style=\"margin: 0.1em;\n",
       "padding-left: 0.25em;\n",
       "border-left-style: solid;\n",
       "font-family: var(--jp-code-font-family);\n",
       "font-size: var(--jp-code-font-size);\n",
       "line-height: var(--jp-code-line-height);\n",
       "\"><span style=\"color: var(--jp-warn-color2)\">lsst.sourceDetection</span> <span style=\"color: var(--jp-info-color0)\">INFO</span>: Resubtracting the background after object detection</pre>"
      ],
      "text/plain": [
       "<IPython.core.display.HTML object>"
      ]
     },
     "metadata": {},
     "output_type": "display_data"
    },
    {
     "data": {
      "text/html": [
       "<pre style=\"margin: 0.1em;\n",
       "padding-left: 0.25em;\n",
       "border-left-style: solid;\n",
       "font-family: var(--jp-code-font-family);\n",
       "font-size: var(--jp-code-font-size);\n",
       "line-height: var(--jp-code-line-height);\n",
       "\"><span style=\"color: var(--jp-warn-color2)\">lsst.sourceDeblend</span> <span style=\"color: var(--jp-info-color0)\">INFO</span>: Deblending 371 sources</pre>"
      ],
      "text/plain": [
       "<IPython.core.display.HTML object>"
      ]
     },
     "metadata": {},
     "output_type": "display_data"
    },
    {
     "data": {
      "text/html": [
       "<pre style=\"margin: 0.1em;\n",
       "padding-left: 0.25em;\n",
       "border-left-style: solid;\n",
       "font-family: var(--jp-code-font-family);\n",
       "font-size: var(--jp-code-font-size);\n",
       "line-height: var(--jp-code-line-height);\n",
       "\"><span style=\"color: var(--jp-warn-color2)\">lsst.sourceDeblend</span> <span style=\"color: var(--jp-info-color0)\">INFO</span>: Deblended: of 371 sources, 11 were deblended, creating 24 children, total 395 sources</pre>"
      ],
      "text/plain": [
       "<IPython.core.display.HTML object>"
      ]
     },
     "metadata": {},
     "output_type": "display_data"
    },
    {
     "data": {
      "text/html": [
       "<pre style=\"margin: 0.1em;\n",
       "padding-left: 0.25em;\n",
       "border-left-style: solid;\n",
       "font-family: var(--jp-code-font-family);\n",
       "font-size: var(--jp-code-font-size);\n",
       "line-height: var(--jp-code-line-height);\n",
       "\"><span style=\"color: var(--jp-warn-color2)\">lsst.measurement</span> <span style=\"color: var(--jp-info-color0)\">INFO</span>: Measuring 395 sources (371 parents, 24 children) </pre>"
      ],
      "text/plain": [
       "<IPython.core.display.HTML object>"
      ]
     },
     "metadata": {},
     "output_type": "display_data"
    },
    {
     "name": "stdout",
     "output_type": "stream",
     "text": [
      "60731.048987222224\n",
      "dt 5.7525787353515625\n",
      "Data to table =  u 41.083304852076004 76.48574590609459 26.44637451415818 2.0213404375738935 0.2598857770461346\n",
      " \n",
      "i =  2\n",
      "60673.10369122454\n",
      "noise_scale =  0.93276185\n",
      "image_size =  (4000, 4072)\n",
      "Injecting source at x, y =  908.1471775631339 1619.5826323563656\n",
      "xslice =  slice(888, 929, None) 0\n",
      "schema = \n",
      "Schema(\n",
      "    (Field['L'](name=\"id\", doc=\"unique ID\"), Key<L>(offset=0, nElements=1)),\n",
      "    (Field['Angle'](name=\"coord_ra\", doc=\"position in ra/dec\"), Key<Angle>(offset=8, nElements=1)),\n",
      "    (Field['Angle'](name=\"coord_dec\", doc=\"position in ra/dec\"), Key<Angle>(offset=16, nElements=1)),\n",
      "    (Field['L'](name=\"parent\", doc=\"unique ID of parent source\"), Key<L>(offset=24, nElements=1)),\n",
      ")\n",
      "\n",
      "psf fwhm = 1.10 arcsec\n"
     ]
    },
    {
     "name": "stderr",
     "output_type": "stream",
     "text": [
      "/tmp/ipykernel_12199/2532271563.py:45: FutureWarning: Default position argument overload is deprecated and will be removed in version 24.0.  Please explicitly specify a position.\n",
      "  sigma = psf.computeShape().getDeterminantRadius()\n"
     ]
    },
    {
     "data": {
      "text/html": [
       "<pre style=\"margin: 0.1em;\n",
       "padding-left: 0.25em;\n",
       "border-left-style: solid;\n",
       "font-family: var(--jp-code-font-family);\n",
       "font-size: var(--jp-code-font-size);\n",
       "line-height: var(--jp-code-line-height);\n",
       "\"><span style=\"color: var(--jp-warn-color2)\">lsst.sourceDetection</span> <span style=\"color: var(--jp-info-color0)\">INFO</span>: Detected 327 positive peaks in 318 footprints and 0 negative peaks in 0 footprints to 10 sigma</pre>"
      ],
      "text/plain": [
       "<IPython.core.display.HTML object>"
      ]
     },
     "metadata": {},
     "output_type": "display_data"
    },
    {
     "data": {
      "text/html": [
       "<pre style=\"margin: 0.1em;\n",
       "padding-left: 0.25em;\n",
       "border-left-style: solid;\n",
       "font-family: var(--jp-code-font-family);\n",
       "font-size: var(--jp-code-font-size);\n",
       "line-height: var(--jp-code-line-height);\n",
       "\"><span style=\"color: var(--jp-warn-color2)\">lsst.sourceDetection</span> <span style=\"color: var(--jp-info-color0)\">INFO</span>: Resubtracting the background after object detection</pre>"
      ],
      "text/plain": [
       "<IPython.core.display.HTML object>"
      ]
     },
     "metadata": {},
     "output_type": "display_data"
    },
    {
     "data": {
      "text/html": [
       "<pre style=\"margin: 0.1em;\n",
       "padding-left: 0.25em;\n",
       "border-left-style: solid;\n",
       "font-family: var(--jp-code-font-family);\n",
       "font-size: var(--jp-code-font-size);\n",
       "line-height: var(--jp-code-line-height);\n",
       "\"><span style=\"color: var(--jp-warn-color2)\">lsst.sourceDeblend</span> <span style=\"color: var(--jp-info-color0)\">INFO</span>: Deblending 318 sources</pre>"
      ],
      "text/plain": [
       "<IPython.core.display.HTML object>"
      ]
     },
     "metadata": {},
     "output_type": "display_data"
    },
    {
     "data": {
      "text/html": [
       "<pre style=\"margin: 0.1em;\n",
       "padding-left: 0.25em;\n",
       "border-left-style: solid;\n",
       "font-family: var(--jp-code-font-family);\n",
       "font-size: var(--jp-code-font-size);\n",
       "line-height: var(--jp-code-line-height);\n",
       "\"><span style=\"color: var(--jp-warn-color2)\">lsst.sourceDeblend</span> <span style=\"color: var(--jp-info-color0)\">INFO</span>: Deblended: of 318 sources, 7 were deblended, creating 16 children, total 334 sources</pre>"
      ],
      "text/plain": [
       "<IPython.core.display.HTML object>"
      ]
     },
     "metadata": {},
     "output_type": "display_data"
    },
    {
     "data": {
      "text/html": [
       "<pre style=\"margin: 0.1em;\n",
       "padding-left: 0.25em;\n",
       "border-left-style: solid;\n",
       "font-family: var(--jp-code-font-family);\n",
       "font-size: var(--jp-code-font-size);\n",
       "line-height: var(--jp-code-line-height);\n",
       "\"><span style=\"color: var(--jp-warn-color2)\">lsst.measurement</span> <span style=\"color: var(--jp-info-color0)\">INFO</span>: Measuring 334 sources (318 parents, 16 children) </pre>"
      ],
      "text/plain": [
       "<IPython.core.display.HTML object>"
      ]
     },
     "metadata": {},
     "output_type": "display_data"
    },
    {
     "name": "stdout",
     "output_type": "stream",
     "text": [
      "60673.10369122454\n",
      "dt 5.9314446449279785\n",
      "Data to table =  u 456.73379640317245 103.1693870883647 23.813700386504138 0.2452521983368826 0.3128759534348407\n",
      " \n",
      "i =  3\n",
      "60674.10650522106\n",
      "noise_scale =  0.9713574\n",
      "image_size =  (4000, 4072)\n",
      "Skipped injecting source at x, y =  4274.703340159939 1955.9844340172892  because it is too close to (or off) the edge.\n",
      "schema = \n",
      "Schema(\n",
      "    (Field['L'](name=\"id\", doc=\"unique ID\"), Key<L>(offset=0, nElements=1)),\n",
      "    (Field['Angle'](name=\"coord_ra\", doc=\"position in ra/dec\"), Key<Angle>(offset=8, nElements=1)),\n",
      "    (Field['Angle'](name=\"coord_dec\", doc=\"position in ra/dec\"), Key<Angle>(offset=16, nElements=1)),\n",
      "    (Field['L'](name=\"parent\", doc=\"unique ID of parent source\"), Key<L>(offset=24, nElements=1)),\n",
      ")\n",
      "\n",
      "psf fwhm = 1.05 arcsec\n"
     ]
    },
    {
     "name": "stderr",
     "output_type": "stream",
     "text": [
      "/tmp/ipykernel_12199/2532271563.py:45: FutureWarning: Default position argument overload is deprecated and will be removed in version 24.0.  Please explicitly specify a position.\n",
      "  sigma = psf.computeShape().getDeterminantRadius()\n"
     ]
    },
    {
     "data": {
      "text/html": [
       "<pre style=\"margin: 0.1em;\n",
       "padding-left: 0.25em;\n",
       "border-left-style: solid;\n",
       "font-family: var(--jp-code-font-family);\n",
       "font-size: var(--jp-code-font-size);\n",
       "line-height: var(--jp-code-line-height);\n",
       "\"><span style=\"color: var(--jp-warn-color2)\">lsst.sourceDetection</span> <span style=\"color: var(--jp-info-color0)\">INFO</span>: Detected 326 positive peaks in 319 footprints and 0 negative peaks in 0 footprints to 10 sigma</pre>"
      ],
      "text/plain": [
       "<IPython.core.display.HTML object>"
      ]
     },
     "metadata": {},
     "output_type": "display_data"
    },
    {
     "data": {
      "text/html": [
       "<pre style=\"margin: 0.1em;\n",
       "padding-left: 0.25em;\n",
       "border-left-style: solid;\n",
       "font-family: var(--jp-code-font-family);\n",
       "font-size: var(--jp-code-font-size);\n",
       "line-height: var(--jp-code-line-height);\n",
       "\"><span style=\"color: var(--jp-warn-color2)\">lsst.sourceDetection</span> <span style=\"color: var(--jp-info-color0)\">INFO</span>: Resubtracting the background after object detection</pre>"
      ],
      "text/plain": [
       "<IPython.core.display.HTML object>"
      ]
     },
     "metadata": {},
     "output_type": "display_data"
    },
    {
     "data": {
      "text/html": [
       "<pre style=\"margin: 0.1em;\n",
       "padding-left: 0.25em;\n",
       "border-left-style: solid;\n",
       "font-family: var(--jp-code-font-family);\n",
       "font-size: var(--jp-code-font-size);\n",
       "line-height: var(--jp-code-line-height);\n",
       "\"><span style=\"color: var(--jp-warn-color2)\">lsst.sourceDeblend</span> <span style=\"color: var(--jp-info-color0)\">INFO</span>: Deblending 319 sources</pre>"
      ],
      "text/plain": [
       "<IPython.core.display.HTML object>"
      ]
     },
     "metadata": {},
     "output_type": "display_data"
    },
    {
     "data": {
      "text/html": [
       "<pre style=\"margin: 0.1em;\n",
       "padding-left: 0.25em;\n",
       "border-left-style: solid;\n",
       "font-family: var(--jp-code-font-family);\n",
       "font-size: var(--jp-code-font-size);\n",
       "line-height: var(--jp-code-line-height);\n",
       "\"><span style=\"color: var(--jp-warn-color2)\">lsst.sourceDeblend</span> <span style=\"color: var(--jp-info-color0)\">INFO</span>: Deblended: of 319 sources, 7 were deblended, creating 14 children, total 333 sources</pre>"
      ],
      "text/plain": [
       "<IPython.core.display.HTML object>"
      ]
     },
     "metadata": {},
     "output_type": "display_data"
    },
    {
     "data": {
      "text/html": [
       "<pre style=\"margin: 0.1em;\n",
       "padding-left: 0.25em;\n",
       "border-left-style: solid;\n",
       "font-family: var(--jp-code-font-family);\n",
       "font-size: var(--jp-code-font-size);\n",
       "line-height: var(--jp-code-line-height);\n",
       "\"><span style=\"color: var(--jp-warn-color2)\">lsst.measurement</span> <span style=\"color: var(--jp-info-color0)\">INFO</span>: Measuring 333 sources (319 parents, 14 children) </pre>"
      ],
      "text/plain": [
       "<IPython.core.display.HTML object>"
      ]
     },
     "metadata": {},
     "output_type": "display_data"
    },
    {
     "name": "stdout",
     "output_type": "stream",
     "text": [
      "60674.10650522106\n",
      "dt 5.782605409622192\n",
      "Data to table =  u -99.9 -99.9 -99.9 -99.9 77.55381090293359\n",
      " \n",
      "i =  4\n",
      "60674.10650522106\n",
      "noise_scale =  1.1925007\n",
      "image_size =  (4000, 4072)\n",
      "Injecting source at x, y =  24.564009703954525 1951.916647046064\n",
      "xslice =  slice(4, 45, None) 0\n",
      "schema = \n",
      "Schema(\n",
      "    (Field['L'](name=\"id\", doc=\"unique ID\"), Key<L>(offset=0, nElements=1)),\n",
      "    (Field['Angle'](name=\"coord_ra\", doc=\"position in ra/dec\"), Key<Angle>(offset=8, nElements=1)),\n",
      "    (Field['Angle'](name=\"coord_dec\", doc=\"position in ra/dec\"), Key<Angle>(offset=16, nElements=1)),\n",
      "    (Field['L'](name=\"parent\", doc=\"unique ID of parent source\"), Key<L>(offset=24, nElements=1)),\n",
      ")\n",
      "\n",
      "psf fwhm = 1.05 arcsec\n"
     ]
    },
    {
     "name": "stderr",
     "output_type": "stream",
     "text": [
      "/tmp/ipykernel_12199/2532271563.py:45: FutureWarning: Default position argument overload is deprecated and will be removed in version 24.0.  Please explicitly specify a position.\n",
      "  sigma = psf.computeShape().getDeterminantRadius()\n"
     ]
    },
    {
     "data": {
      "text/html": [
       "<pre style=\"margin: 0.1em;\n",
       "padding-left: 0.25em;\n",
       "border-left-style: solid;\n",
       "font-family: var(--jp-code-font-family);\n",
       "font-size: var(--jp-code-font-size);\n",
       "line-height: var(--jp-code-line-height);\n",
       "\"><span style=\"color: var(--jp-warn-color2)\">lsst.sourceDetection</span> <span style=\"color: var(--jp-info-color0)\">INFO</span>: Detected 320 positive peaks in 315 footprints and 0 negative peaks in 0 footprints to 10 sigma</pre>"
      ],
      "text/plain": [
       "<IPython.core.display.HTML object>"
      ]
     },
     "metadata": {},
     "output_type": "display_data"
    },
    {
     "data": {
      "text/html": [
       "<pre style=\"margin: 0.1em;\n",
       "padding-left: 0.25em;\n",
       "border-left-style: solid;\n",
       "font-family: var(--jp-code-font-family);\n",
       "font-size: var(--jp-code-font-size);\n",
       "line-height: var(--jp-code-line-height);\n",
       "\"><span style=\"color: var(--jp-warn-color2)\">lsst.sourceDetection</span> <span style=\"color: var(--jp-info-color0)\">INFO</span>: Resubtracting the background after object detection</pre>"
      ],
      "text/plain": [
       "<IPython.core.display.HTML object>"
      ]
     },
     "metadata": {},
     "output_type": "display_data"
    },
    {
     "data": {
      "text/html": [
       "<pre style=\"margin: 0.1em;\n",
       "padding-left: 0.25em;\n",
       "border-left-style: solid;\n",
       "font-family: var(--jp-code-font-family);\n",
       "font-size: var(--jp-code-font-size);\n",
       "line-height: var(--jp-code-line-height);\n",
       "\"><span style=\"color: var(--jp-warn-color2)\">lsst.sourceDeblend</span> <span style=\"color: var(--jp-info-color0)\">INFO</span>: Deblending 315 sources</pre>"
      ],
      "text/plain": [
       "<IPython.core.display.HTML object>"
      ]
     },
     "metadata": {},
     "output_type": "display_data"
    },
    {
     "data": {
      "text/html": [
       "<pre style=\"margin: 0.1em;\n",
       "padding-left: 0.25em;\n",
       "border-left-style: solid;\n",
       "font-family: var(--jp-code-font-family);\n",
       "font-size: var(--jp-code-font-size);\n",
       "line-height: var(--jp-code-line-height);\n",
       "\"><span style=\"color: var(--jp-warn-color2)\">lsst.sourceDeblend</span> <span style=\"color: var(--jp-info-color0)\">INFO</span>: Deblended: of 315 sources, 5 were deblended, creating 10 children, total 325 sources</pre>"
      ],
      "text/plain": [
       "<IPython.core.display.HTML object>"
      ]
     },
     "metadata": {},
     "output_type": "display_data"
    },
    {
     "data": {
      "text/html": [
       "<pre style=\"margin: 0.1em;\n",
       "padding-left: 0.25em;\n",
       "border-left-style: solid;\n",
       "font-family: var(--jp-code-font-family);\n",
       "font-size: var(--jp-code-font-size);\n",
       "line-height: var(--jp-code-line-height);\n",
       "\"><span style=\"color: var(--jp-warn-color2)\">lsst.measurement</span> <span style=\"color: var(--jp-info-color0)\">INFO</span>: Measuring 325 sources (315 parents, 10 children) </pre>"
      ],
      "text/plain": [
       "<IPython.core.display.HTML object>"
      ]
     },
     "metadata": {},
     "output_type": "display_data"
    },
    {
     "name": "stdout",
     "output_type": "stream",
     "text": [
      "60674.10650522106\n",
      "dt 5.908107280731201\n",
      "Data to table =  u 395.04623436717804 99.52279538437035 23.97219013289456 0.2735264700074917 0.0895752765418362\n",
      " \n",
      "i =  5\n",
      "60911.29311722222\n",
      "noise_scale =  1.2279929\n",
      "image_size =  (4000, 4072)\n",
      "Skipped injecting source at x, y =  3538.680485327306 4188.495363324396  because it is too close to (or off) the edge.\n",
      "schema = \n",
      "Schema(\n",
      "    (Field['L'](name=\"id\", doc=\"unique ID\"), Key<L>(offset=0, nElements=1)),\n",
      "    (Field['Angle'](name=\"coord_ra\", doc=\"position in ra/dec\"), Key<Angle>(offset=8, nElements=1)),\n",
      "    (Field['Angle'](name=\"coord_dec\", doc=\"position in ra/dec\"), Key<Angle>(offset=16, nElements=1)),\n",
      "    (Field['L'](name=\"parent\", doc=\"unique ID of parent source\"), Key<L>(offset=24, nElements=1)),\n",
      ")\n",
      "\n",
      "psf fwhm = 1.09 arcsec\n"
     ]
    },
    {
     "name": "stderr",
     "output_type": "stream",
     "text": [
      "/tmp/ipykernel_12199/2532271563.py:45: FutureWarning: Default position argument overload is deprecated and will be removed in version 24.0.  Please explicitly specify a position.\n",
      "  sigma = psf.computeShape().getDeterminantRadius()\n"
     ]
    },
    {
     "data": {
      "text/html": [
       "<pre style=\"margin: 0.1em;\n",
       "padding-left: 0.25em;\n",
       "border-left-style: solid;\n",
       "font-family: var(--jp-code-font-family);\n",
       "font-size: var(--jp-code-font-size);\n",
       "line-height: var(--jp-code-line-height);\n",
       "\"><span style=\"color: var(--jp-warn-color2)\">lsst.sourceDetection</span> <span style=\"color: var(--jp-info-color0)\">INFO</span>: Detected 259 positive peaks in 254 footprints and 0 negative peaks in 0 footprints to 10 sigma</pre>"
      ],
      "text/plain": [
       "<IPython.core.display.HTML object>"
      ]
     },
     "metadata": {},
     "output_type": "display_data"
    },
    {
     "data": {
      "text/html": [
       "<pre style=\"margin: 0.1em;\n",
       "padding-left: 0.25em;\n",
       "border-left-style: solid;\n",
       "font-family: var(--jp-code-font-family);\n",
       "font-size: var(--jp-code-font-size);\n",
       "line-height: var(--jp-code-line-height);\n",
       "\"><span style=\"color: var(--jp-warn-color2)\">lsst.sourceDetection</span> <span style=\"color: var(--jp-info-color0)\">INFO</span>: Resubtracting the background after object detection</pre>"
      ],
      "text/plain": [
       "<IPython.core.display.HTML object>"
      ]
     },
     "metadata": {},
     "output_type": "display_data"
    },
    {
     "data": {
      "text/html": [
       "<pre style=\"margin: 0.1em;\n",
       "padding-left: 0.25em;\n",
       "border-left-style: solid;\n",
       "font-family: var(--jp-code-font-family);\n",
       "font-size: var(--jp-code-font-size);\n",
       "line-height: var(--jp-code-line-height);\n",
       "\"><span style=\"color: var(--jp-warn-color2)\">lsst.sourceDeblend</span> <span style=\"color: var(--jp-info-color0)\">INFO</span>: Deblending 254 sources</pre>"
      ],
      "text/plain": [
       "<IPython.core.display.HTML object>"
      ]
     },
     "metadata": {},
     "output_type": "display_data"
    },
    {
     "data": {
      "text/html": [
       "<pre style=\"margin: 0.1em;\n",
       "padding-left: 0.25em;\n",
       "border-left-style: solid;\n",
       "font-family: var(--jp-code-font-family);\n",
       "font-size: var(--jp-code-font-size);\n",
       "line-height: var(--jp-code-line-height);\n",
       "\"><span style=\"color: var(--jp-warn-color2)\">lsst.sourceDeblend</span> <span style=\"color: var(--jp-info-color0)\">INFO</span>: Deblended: of 254 sources, 5 were deblended, creating 10 children, total 264 sources</pre>"
      ],
      "text/plain": [
       "<IPython.core.display.HTML object>"
      ]
     },
     "metadata": {},
     "output_type": "display_data"
    },
    {
     "data": {
      "text/html": [
       "<pre style=\"margin: 0.1em;\n",
       "padding-left: 0.25em;\n",
       "border-left-style: solid;\n",
       "font-family: var(--jp-code-font-family);\n",
       "font-size: var(--jp-code-font-size);\n",
       "line-height: var(--jp-code-line-height);\n",
       "\"><span style=\"color: var(--jp-warn-color2)\">lsst.measurement</span> <span style=\"color: var(--jp-info-color0)\">INFO</span>: Measuring 264 sources (254 parents, 10 children) </pre>"
      ],
      "text/plain": [
       "<IPython.core.display.HTML object>"
      ]
     },
     "metadata": {},
     "output_type": "display_data"
    },
    {
     "name": "stdout",
     "output_type": "stream",
     "text": [
      "60911.29311722222\n",
      "dt 5.518148422241211\n",
      "Data to table =  u -99.9 -99.9 -99.9 -99.9 77.49960188429155\n",
      " \n",
      "i =  6\n",
      "60911.29311722222\n",
      "noise_scale =  1.0620489\n",
      "image_size =  (4000, 4072)\n",
      "Skipped injecting source at x, y =  3537.9189330398553 -37.97612702103652  because it is too close to (or off) the edge.\n",
      "schema = \n",
      "Schema(\n",
      "    (Field['L'](name=\"id\", doc=\"unique ID\"), Key<L>(offset=0, nElements=1)),\n",
      "    (Field['Angle'](name=\"coord_ra\", doc=\"position in ra/dec\"), Key<Angle>(offset=8, nElements=1)),\n",
      "    (Field['Angle'](name=\"coord_dec\", doc=\"position in ra/dec\"), Key<Angle>(offset=16, nElements=1)),\n",
      "    (Field['L'](name=\"parent\", doc=\"unique ID of parent source\"), Key<L>(offset=24, nElements=1)),\n",
      ")\n",
      "\n",
      "psf fwhm = 1.09 arcsec\n"
     ]
    },
    {
     "name": "stderr",
     "output_type": "stream",
     "text": [
      "/tmp/ipykernel_12199/2532271563.py:45: FutureWarning: Default position argument overload is deprecated and will be removed in version 24.0.  Please explicitly specify a position.\n",
      "  sigma = psf.computeShape().getDeterminantRadius()\n"
     ]
    },
    {
     "data": {
      "text/html": [
       "<pre style=\"margin: 0.1em;\n",
       "padding-left: 0.25em;\n",
       "border-left-style: solid;\n",
       "font-family: var(--jp-code-font-family);\n",
       "font-size: var(--jp-code-font-size);\n",
       "line-height: var(--jp-code-line-height);\n",
       "\"><span style=\"color: var(--jp-warn-color2)\">lsst.sourceDetection</span> <span style=\"color: var(--jp-info-color0)\">INFO</span>: Detected 312 positive peaks in 304 footprints and 0 negative peaks in 0 footprints to 10 sigma</pre>"
      ],
      "text/plain": [
       "<IPython.core.display.HTML object>"
      ]
     },
     "metadata": {},
     "output_type": "display_data"
    },
    {
     "data": {
      "text/html": [
       "<pre style=\"margin: 0.1em;\n",
       "padding-left: 0.25em;\n",
       "border-left-style: solid;\n",
       "font-family: var(--jp-code-font-family);\n",
       "font-size: var(--jp-code-font-size);\n",
       "line-height: var(--jp-code-line-height);\n",
       "\"><span style=\"color: var(--jp-warn-color2)\">lsst.sourceDetection</span> <span style=\"color: var(--jp-info-color0)\">INFO</span>: Resubtracting the background after object detection</pre>"
      ],
      "text/plain": [
       "<IPython.core.display.HTML object>"
      ]
     },
     "metadata": {},
     "output_type": "display_data"
    },
    {
     "data": {
      "text/html": [
       "<pre style=\"margin: 0.1em;\n",
       "padding-left: 0.25em;\n",
       "border-left-style: solid;\n",
       "font-family: var(--jp-code-font-family);\n",
       "font-size: var(--jp-code-font-size);\n",
       "line-height: var(--jp-code-line-height);\n",
       "\"><span style=\"color: var(--jp-warn-color2)\">lsst.sourceDeblend</span> <span style=\"color: var(--jp-info-color0)\">INFO</span>: Deblending 304 sources</pre>"
      ],
      "text/plain": [
       "<IPython.core.display.HTML object>"
      ]
     },
     "metadata": {},
     "output_type": "display_data"
    },
    {
     "data": {
      "text/html": [
       "<pre style=\"margin: 0.1em;\n",
       "padding-left: 0.25em;\n",
       "border-left-style: solid;\n",
       "font-family: var(--jp-code-font-family);\n",
       "font-size: var(--jp-code-font-size);\n",
       "line-height: var(--jp-code-line-height);\n",
       "\"><span style=\"color: var(--jp-warn-color2)\">lsst.sourceDeblend</span> <span style=\"color: var(--jp-info-color0)\">INFO</span>: Deblended: of 304 sources, 8 were deblended, creating 16 children, total 320 sources</pre>"
      ],
      "text/plain": [
       "<IPython.core.display.HTML object>"
      ]
     },
     "metadata": {},
     "output_type": "display_data"
    },
    {
     "data": {
      "text/html": [
       "<pre style=\"margin: 0.1em;\n",
       "padding-left: 0.25em;\n",
       "border-left-style: solid;\n",
       "font-family: var(--jp-code-font-family);\n",
       "font-size: var(--jp-code-font-size);\n",
       "line-height: var(--jp-code-line-height);\n",
       "\"><span style=\"color: var(--jp-warn-color2)\">lsst.measurement</span> <span style=\"color: var(--jp-info-color0)\">INFO</span>: Measuring 320 sources (304 parents, 16 children) </pre>"
      ],
      "text/plain": [
       "<IPython.core.display.HTML object>"
      ]
     },
     "metadata": {},
     "output_type": "display_data"
    },
    {
     "name": "stdout",
     "output_type": "stream",
     "text": [
      "60911.29311722222\n",
      "dt 5.77482795715332\n",
      "Data to table =  u -99.9 -99.9 -99.9 -99.9 40.030895170900145\n",
      " \n",
      "i =  7\n",
      "60970.166018219905\n",
      "noise_scale =  1.0675298\n",
      "image_size =  (4000, 4072)\n",
      "Injecting source at x, y =  1212.112171167802 3586.0211974897\n",
      "xslice =  slice(1192, 1233, None) 0\n",
      "schema = \n",
      "Schema(\n",
      "    (Field['L'](name=\"id\", doc=\"unique ID\"), Key<L>(offset=0, nElements=1)),\n",
      "    (Field['Angle'](name=\"coord_ra\", doc=\"position in ra/dec\"), Key<Angle>(offset=8, nElements=1)),\n",
      "    (Field['Angle'](name=\"coord_dec\", doc=\"position in ra/dec\"), Key<Angle>(offset=16, nElements=1)),\n",
      "    (Field['L'](name=\"parent\", doc=\"unique ID of parent source\"), Key<L>(offset=24, nElements=1)),\n",
      ")\n",
      "\n"
     ]
    },
    {
     "name": "stderr",
     "output_type": "stream",
     "text": [
      "/tmp/ipykernel_12199/2532271563.py:45: FutureWarning: Default position argument overload is deprecated and will be removed in version 24.0.  Please explicitly specify a position.\n",
      "  sigma = psf.computeShape().getDeterminantRadius()\n"
     ]
    },
    {
     "name": "stdout",
     "output_type": "stream",
     "text": [
      "psf fwhm = 1.01 arcsec\n"
     ]
    },
    {
     "data": {
      "text/html": [
       "<pre style=\"margin: 0.1em;\n",
       "padding-left: 0.25em;\n",
       "border-left-style: solid;\n",
       "font-family: var(--jp-code-font-family);\n",
       "font-size: var(--jp-code-font-size);\n",
       "line-height: var(--jp-code-line-height);\n",
       "\"><span style=\"color: var(--jp-warn-color2)\">lsst.sourceDetection</span> <span style=\"color: var(--jp-info-color0)\">INFO</span>: Detected 343 positive peaks in 337 footprints and 0 negative peaks in 0 footprints to 10 sigma</pre>"
      ],
      "text/plain": [
       "<IPython.core.display.HTML object>"
      ]
     },
     "metadata": {},
     "output_type": "display_data"
    },
    {
     "data": {
      "text/html": [
       "<pre style=\"margin: 0.1em;\n",
       "padding-left: 0.25em;\n",
       "border-left-style: solid;\n",
       "font-family: var(--jp-code-font-family);\n",
       "font-size: var(--jp-code-font-size);\n",
       "line-height: var(--jp-code-line-height);\n",
       "\"><span style=\"color: var(--jp-warn-color2)\">lsst.sourceDetection</span> <span style=\"color: var(--jp-info-color0)\">INFO</span>: Resubtracting the background after object detection</pre>"
      ],
      "text/plain": [
       "<IPython.core.display.HTML object>"
      ]
     },
     "metadata": {},
     "output_type": "display_data"
    },
    {
     "data": {
      "text/html": [
       "<pre style=\"margin: 0.1em;\n",
       "padding-left: 0.25em;\n",
       "border-left-style: solid;\n",
       "font-family: var(--jp-code-font-family);\n",
       "font-size: var(--jp-code-font-size);\n",
       "line-height: var(--jp-code-line-height);\n",
       "\"><span style=\"color: var(--jp-warn-color2)\">lsst.sourceDeblend</span> <span style=\"color: var(--jp-info-color0)\">INFO</span>: Deblending 337 sources</pre>"
      ],
      "text/plain": [
       "<IPython.core.display.HTML object>"
      ]
     },
     "metadata": {},
     "output_type": "display_data"
    },
    {
     "data": {
      "text/html": [
       "<pre style=\"margin: 0.1em;\n",
       "padding-left: 0.25em;\n",
       "border-left-style: solid;\n",
       "font-family: var(--jp-code-font-family);\n",
       "font-size: var(--jp-code-font-size);\n",
       "line-height: var(--jp-code-line-height);\n",
       "\"><span style=\"color: var(--jp-warn-color2)\">lsst.sourceDeblend</span> <span style=\"color: var(--jp-info-color0)\">INFO</span>: Deblended: of 337 sources, 6 were deblended, creating 12 children, total 349 sources</pre>"
      ],
      "text/plain": [
       "<IPython.core.display.HTML object>"
      ]
     },
     "metadata": {},
     "output_type": "display_data"
    },
    {
     "data": {
      "text/html": [
       "<pre style=\"margin: 0.1em;\n",
       "padding-left: 0.25em;\n",
       "border-left-style: solid;\n",
       "font-family: var(--jp-code-font-family);\n",
       "font-size: var(--jp-code-font-size);\n",
       "line-height: var(--jp-code-line-height);\n",
       "\"><span style=\"color: var(--jp-warn-color2)\">lsst.measurement</span> <span style=\"color: var(--jp-info-color0)\">INFO</span>: Measuring 349 sources (337 parents, 12 children) </pre>"
      ],
      "text/plain": [
       "<IPython.core.display.HTML object>"
      ]
     },
     "metadata": {},
     "output_type": "display_data"
    },
    {
     "name": "stdout",
     "output_type": "stream",
     "text": [
      "60970.166018219905\n",
      "dt 5.972201108932495\n",
      "Data to table =  u -20.088488896708807 90.78994517342858 nan 4.906985854129558 0.02284125134720498\n",
      " \n",
      "i =  8\n",
      "60995.06411522107\n",
      "noise_scale =  0.9604461\n",
      "image_size =  (4000, 4072)\n",
      "Skipped injecting source at x, y =  4053.889855656078 2464.6678797232744  because it is too close to (or off) the edge.\n",
      "schema = \n",
      "Schema(\n",
      "    (Field['L'](name=\"id\", doc=\"unique ID\"), Key<L>(offset=0, nElements=1)),\n",
      "    (Field['Angle'](name=\"coord_ra\", doc=\"position in ra/dec\"), Key<Angle>(offset=8, nElements=1)),\n",
      "    (Field['Angle'](name=\"coord_dec\", doc=\"position in ra/dec\"), Key<Angle>(offset=16, nElements=1)),\n",
      "    (Field['L'](name=\"parent\", doc=\"unique ID of parent source\"), Key<L>(offset=24, nElements=1)),\n",
      ")\n",
      "\n",
      "psf fwhm = 1.02 arcsec\n"
     ]
    },
    {
     "name": "stderr",
     "output_type": "stream",
     "text": [
      "/tmp/ipykernel_12199/2532271563.py:45: FutureWarning: Default position argument overload is deprecated and will be removed in version 24.0.  Please explicitly specify a position.\n",
      "  sigma = psf.computeShape().getDeterminantRadius()\n"
     ]
    },
    {
     "data": {
      "text/html": [
       "<pre style=\"margin: 0.1em;\n",
       "padding-left: 0.25em;\n",
       "border-left-style: solid;\n",
       "font-family: var(--jp-code-font-family);\n",
       "font-size: var(--jp-code-font-size);\n",
       "line-height: var(--jp-code-line-height);\n",
       "\"><span style=\"color: var(--jp-warn-color2)\">lsst.sourceDetection</span> <span style=\"color: var(--jp-info-color0)\">INFO</span>: Detected 311 positive peaks in 305 footprints and 0 negative peaks in 0 footprints to 10 sigma</pre>"
      ],
      "text/plain": [
       "<IPython.core.display.HTML object>"
      ]
     },
     "metadata": {},
     "output_type": "display_data"
    },
    {
     "data": {
      "text/html": [
       "<pre style=\"margin: 0.1em;\n",
       "padding-left: 0.25em;\n",
       "border-left-style: solid;\n",
       "font-family: var(--jp-code-font-family);\n",
       "font-size: var(--jp-code-font-size);\n",
       "line-height: var(--jp-code-line-height);\n",
       "\"><span style=\"color: var(--jp-warn-color2)\">lsst.sourceDetection</span> <span style=\"color: var(--jp-info-color0)\">INFO</span>: Resubtracting the background after object detection</pre>"
      ],
      "text/plain": [
       "<IPython.core.display.HTML object>"
      ]
     },
     "metadata": {},
     "output_type": "display_data"
    },
    {
     "data": {
      "text/html": [
       "<pre style=\"margin: 0.1em;\n",
       "padding-left: 0.25em;\n",
       "border-left-style: solid;\n",
       "font-family: var(--jp-code-font-family);\n",
       "font-size: var(--jp-code-font-size);\n",
       "line-height: var(--jp-code-line-height);\n",
       "\"><span style=\"color: var(--jp-warn-color2)\">lsst.sourceDeblend</span> <span style=\"color: var(--jp-info-color0)\">INFO</span>: Deblending 305 sources</pre>"
      ],
      "text/plain": [
       "<IPython.core.display.HTML object>"
      ]
     },
     "metadata": {},
     "output_type": "display_data"
    },
    {
     "data": {
      "text/html": [
       "<pre style=\"margin: 0.1em;\n",
       "padding-left: 0.25em;\n",
       "border-left-style: solid;\n",
       "font-family: var(--jp-code-font-family);\n",
       "font-size: var(--jp-code-font-size);\n",
       "line-height: var(--jp-code-line-height);\n",
       "\"><span style=\"color: var(--jp-warn-color2)\">lsst.sourceDeblend</span> <span style=\"color: var(--jp-info-color0)\">INFO</span>: Deblended: of 305 sources, 6 were deblended, creating 12 children, total 317 sources</pre>"
      ],
      "text/plain": [
       "<IPython.core.display.HTML object>"
      ]
     },
     "metadata": {},
     "output_type": "display_data"
    },
    {
     "data": {
      "text/html": [
       "<pre style=\"margin: 0.1em;\n",
       "padding-left: 0.25em;\n",
       "border-left-style: solid;\n",
       "font-family: var(--jp-code-font-family);\n",
       "font-size: var(--jp-code-font-size);\n",
       "line-height: var(--jp-code-line-height);\n",
       "\"><span style=\"color: var(--jp-warn-color2)\">lsst.measurement</span> <span style=\"color: var(--jp-info-color0)\">INFO</span>: Measuring 317 sources (305 parents, 12 children) </pre>"
      ],
      "text/plain": [
       "<IPython.core.display.HTML object>"
      ]
     },
     "metadata": {},
     "output_type": "display_data"
    },
    {
     "name": "stdout",
     "output_type": "stream",
     "text": [
      "60995.06411522107\n",
      "dt 5.84700608253479\n",
      "Data to table =  u -99.9 -99.9 -99.9 -99.9 5.638687374366442\n",
      " \n",
      "i =  9\n",
      "60970.166467222225\n",
      "noise_scale =  1.1752998\n",
      "image_size =  (4000, 4072)\n",
      "Injecting source at x, y =  330.67759906530637 2303.502579896042\n",
      "xslice =  slice(310, 351, None) 0\n",
      "schema = \n",
      "Schema(\n",
      "    (Field['L'](name=\"id\", doc=\"unique ID\"), Key<L>(offset=0, nElements=1)),\n",
      "    (Field['Angle'](name=\"coord_ra\", doc=\"position in ra/dec\"), Key<Angle>(offset=8, nElements=1)),\n",
      "    (Field['Angle'](name=\"coord_dec\", doc=\"position in ra/dec\"), Key<Angle>(offset=16, nElements=1)),\n",
      "    (Field['L'](name=\"parent\", doc=\"unique ID of parent source\"), Key<L>(offset=24, nElements=1)),\n",
      ")\n",
      "\n",
      "psf fwhm = 1.03 arcsec\n"
     ]
    },
    {
     "name": "stderr",
     "output_type": "stream",
     "text": [
      "/tmp/ipykernel_12199/2532271563.py:45: FutureWarning: Default position argument overload is deprecated and will be removed in version 24.0.  Please explicitly specify a position.\n",
      "  sigma = psf.computeShape().getDeterminantRadius()\n"
     ]
    },
    {
     "data": {
      "text/html": [
       "<pre style=\"margin: 0.1em;\n",
       "padding-left: 0.25em;\n",
       "border-left-style: solid;\n",
       "font-family: var(--jp-code-font-family);\n",
       "font-size: var(--jp-code-font-size);\n",
       "line-height: var(--jp-code-line-height);\n",
       "\"><span style=\"color: var(--jp-warn-color2)\">lsst.sourceDetection</span> <span style=\"color: var(--jp-info-color0)\">INFO</span>: Detected 344 positive peaks in 335 footprints and 0 negative peaks in 0 footprints to 10 sigma</pre>"
      ],
      "text/plain": [
       "<IPython.core.display.HTML object>"
      ]
     },
     "metadata": {},
     "output_type": "display_data"
    },
    {
     "data": {
      "text/html": [
       "<pre style=\"margin: 0.1em;\n",
       "padding-left: 0.25em;\n",
       "border-left-style: solid;\n",
       "font-family: var(--jp-code-font-family);\n",
       "font-size: var(--jp-code-font-size);\n",
       "line-height: var(--jp-code-line-height);\n",
       "\"><span style=\"color: var(--jp-warn-color2)\">lsst.sourceDetection</span> <span style=\"color: var(--jp-info-color0)\">INFO</span>: Resubtracting the background after object detection</pre>"
      ],
      "text/plain": [
       "<IPython.core.display.HTML object>"
      ]
     },
     "metadata": {},
     "output_type": "display_data"
    },
    {
     "data": {
      "text/html": [
       "<pre style=\"margin: 0.1em;\n",
       "padding-left: 0.25em;\n",
       "border-left-style: solid;\n",
       "font-family: var(--jp-code-font-family);\n",
       "font-size: var(--jp-code-font-size);\n",
       "line-height: var(--jp-code-line-height);\n",
       "\"><span style=\"color: var(--jp-warn-color2)\">lsst.sourceDeblend</span> <span style=\"color: var(--jp-info-color0)\">INFO</span>: Deblending 335 sources</pre>"
      ],
      "text/plain": [
       "<IPython.core.display.HTML object>"
      ]
     },
     "metadata": {},
     "output_type": "display_data"
    },
    {
     "data": {
      "text/html": [
       "<pre style=\"margin: 0.1em;\n",
       "padding-left: 0.25em;\n",
       "border-left-style: solid;\n",
       "font-family: var(--jp-code-font-family);\n",
       "font-size: var(--jp-code-font-size);\n",
       "line-height: var(--jp-code-line-height);\n",
       "\"><span style=\"color: var(--jp-warn-color2)\">lsst.sourceDeblend</span> <span style=\"color: var(--jp-info-color0)\">INFO</span>: Deblended: of 335 sources, 7 were deblended, creating 16 children, total 351 sources</pre>"
      ],
      "text/plain": [
       "<IPython.core.display.HTML object>"
      ]
     },
     "metadata": {},
     "output_type": "display_data"
    },
    {
     "data": {
      "text/html": [
       "<pre style=\"margin: 0.1em;\n",
       "padding-left: 0.25em;\n",
       "border-left-style: solid;\n",
       "font-family: var(--jp-code-font-family);\n",
       "font-size: var(--jp-code-font-size);\n",
       "line-height: var(--jp-code-line-height);\n",
       "\"><span style=\"color: var(--jp-warn-color2)\">lsst.measurement</span> <span style=\"color: var(--jp-info-color0)\">INFO</span>: Measuring 351 sources (335 parents, 16 children) </pre>"
      ],
      "text/plain": [
       "<IPython.core.display.HTML object>"
      ]
     },
     "metadata": {},
     "output_type": "display_data"
    },
    {
     "name": "stdout",
     "output_type": "stream",
     "text": [
      "60970.166467222225\n",
      "dt 5.613714933395386\n",
      "Data to table =  u -123.34988107482111 89.78641284281821 nan 0.7903077713355965 0.330011885568567\n",
      "Done\n"
     ]
    }
   ],
   "source": [
    "# Now let's load several images in the same band.  \n",
    "# To load 10 images takes about 1.5 minutes\n",
    "\n",
    "# We'll be able to see detections, upper limits, and sources off the detector.\n",
    "\n",
    "np.random.seed(715)   # make it reproducable, not random\n",
    "\n",
    "sources_withfakes_u, tab_u = photometry_at_coord_all_visits(racen,deccen,band,start_index=25,end_index=35)\n",
    "\n",
    "print('Done')\n",
    "\n"
   ]
  },
  {
   "cell_type": "code",
   "execution_count": 9,
   "id": "99c909df-a95d-4ae7-9a21-6835fd429444",
   "metadata": {},
   "outputs": [
    {
     "data": {
      "text/html": [
       "<div><i>Table length=10</i>\n",
       "<table id=\"table140383897927536\" class=\"table-striped table-bordered table-condensed\">\n",
       "<thead><tr><th>ra</th><th>dec</th><th>mjd</th><th>flux</th><th>fluxerr</th><th>meas</th><th>err_meas</th><th>sep</th></tr></thead>\n",
       "<thead><tr><th>deg</th><th>deg</th><th>d</th><th>Jy</th><th>Jy</th><th>mag</th><th>mag</th><th>arcsec</th></tr></thead>\n",
       "<thead><tr><th>float64</th><th>float64</th><th>float64</th><th>float64</th><th>float64</th><th>float64</th><th>float64</th><th>float64</th></tr></thead>\n",
       "<tr><td>56.5885599</td><td>-42.4486176</td><td>60731.04764222221</td><td>-97.72790550288926</td><td>72.32142105499395</td><td>nan</td><td>0.8034757802531254</td><td>0.23041125168857002</td></tr>\n",
       "<tr><td>56.5885599</td><td>-42.4486176</td><td>60731.048987222224</td><td>41.083304852076004</td><td>76.48574590609459</td><td>26.44637451415818</td><td>2.0213404375738935</td><td>0.2598857770461346</td></tr>\n",
       "<tr><td>56.5885599</td><td>-42.4486176</td><td>60673.10369122454</td><td>456.73379640317245</td><td>103.1693870883647</td><td>23.813700386504138</td><td>0.2452521983368826</td><td>0.3128759534348407</td></tr>\n",
       "<tr><td>56.5885599</td><td>-42.4486176</td><td>60674.10650522106</td><td>-99.9</td><td>-99.9</td><td>-99.9</td><td>-99.9</td><td>77.55381090293359</td></tr>\n",
       "<tr><td>56.5885599</td><td>-42.4486176</td><td>60674.10650522106</td><td>395.04623436717804</td><td>99.52279538437035</td><td>23.97219013289456</td><td>0.2735264700074917</td><td>0.0895752765418362</td></tr>\n",
       "<tr><td>56.5885599</td><td>-42.4486176</td><td>60911.29311722222</td><td>-99.9</td><td>-99.9</td><td>-99.9</td><td>-99.9</td><td>77.49960188429155</td></tr>\n",
       "<tr><td>56.5885599</td><td>-42.4486176</td><td>60911.29311722222</td><td>-99.9</td><td>-99.9</td><td>-99.9</td><td>-99.9</td><td>40.030895170900145</td></tr>\n",
       "<tr><td>56.5885599</td><td>-42.4486176</td><td>60970.166018219905</td><td>-20.088488896708807</td><td>90.78994517342858</td><td>nan</td><td>4.906985854129558</td><td>0.02284125134720498</td></tr>\n",
       "<tr><td>56.5885599</td><td>-42.4486176</td><td>60995.06411522107</td><td>-99.9</td><td>-99.9</td><td>-99.9</td><td>-99.9</td><td>5.638687374366442</td></tr>\n",
       "<tr><td>56.5885599</td><td>-42.4486176</td><td>60970.166467222225</td><td>-123.34988107482111</td><td>89.78641284281821</td><td>nan</td><td>0.7903077713355965</td><td>0.330011885568567</td></tr>\n",
       "</table></div>"
      ],
      "text/plain": [
       "<Table length=10>\n",
       "    ra         dec     ...      err_meas              sep        \n",
       "   deg         deg     ...        mag                arcsec      \n",
       " float64     float64   ...      float64             float64      \n",
       "---------- ----------- ... ------------------ -------------------\n",
       "56.5885599 -42.4486176 ... 0.8034757802531254 0.23041125168857002\n",
       "56.5885599 -42.4486176 ... 2.0213404375738935  0.2598857770461346\n",
       "56.5885599 -42.4486176 ... 0.2452521983368826  0.3128759534348407\n",
       "56.5885599 -42.4486176 ...              -99.9   77.55381090293359\n",
       "56.5885599 -42.4486176 ... 0.2735264700074917  0.0895752765418362\n",
       "56.5885599 -42.4486176 ...              -99.9   77.49960188429155\n",
       "56.5885599 -42.4486176 ...              -99.9  40.030895170900145\n",
       "56.5885599 -42.4486176 ...  4.906985854129558 0.02284125134720498\n",
       "56.5885599 -42.4486176 ...              -99.9   5.638687374366442\n",
       "56.5885599 -42.4486176 ... 0.7903077713355965   0.330011885568567"
      ]
     },
     "execution_count": 9,
     "metadata": {},
     "output_type": "execute_result"
    }
   ],
   "source": [
    "# Print out the table for all the photometry\n",
    "\n",
    "# print('u-band flux =',tab_u[0]['flux'],'+/-',tab_u[0]['fluxerr'],'at mjd =',tab_u[0]['mjd'])\n",
    "\n",
    "# sources_withfakes_u\n",
    "\n",
    "tab_u"
   ]
  },
  {
   "cell_type": "code",
   "execution_count": 10,
   "id": "996e6866-197d-4f76-89d6-aafa9ac87711",
   "metadata": {},
   "outputs": [
    {
     "name": "stdout",
     "output_type": "stream",
     "text": [
      "4 bad sources\n",
      "4 upper limits\n",
      "2 detections\n"
     ]
    },
    {
     "data": {
      "image/png": "[encoded data removed]",
      "text/plain": [
       "<Figure size 640x480 with 1 Axes>"
      ]
     },
     "metadata": {},
     "output_type": "display_data"
    }
   ],
   "source": [
    "# Now let take a closer look at the data, and make a plot of it.\n",
    "\n",
    "# First, get the times, fluxes, and flux errors\n",
    "\n",
    "time_u = np.array(tab_u['mjd'][:])\n",
    "flux_u = np.array(tab_u['flux'][:])\n",
    "fluxerr_u = np.array(tab_u['fluxerr'][:])\n",
    "\n",
    "\n",
    "# We can use the flux information to split into 3 arrays: \n",
    "# bad values (off detector), detections, and non-detections\n",
    "\n",
    "# The sources with flux_u and fluxerr_u = -99.9 are out of the field of view, \n",
    "# so there's nothing to measure.\n",
    "\n",
    "# This will identify the \"good\" sources, that are on the detector\n",
    "\n",
    "good_source_arr = np.ones(time_u.size,dtype=bool)\n",
    "\n",
    "for i in np.arange(time_u.size):\n",
    "    if (fluxerr_u[i] < 0):\n",
    "        good_source_arr[i] = False\n",
    "\n",
    "        \n",
    "\n",
    "\n",
    "\n",
    "# Now go through all the sources (good and bad), and flag the ones that are upper limits.\n",
    "\n",
    "upper_limit_arr = np.ones(time_u.size,dtype=bool)  # True if upper limit, false otherwise\n",
    "flux_corr_u = np.copy(fluxerr_u)*3.   # flux set to 3 times sigma if it is an upper limit\n",
    "\n",
    "for i in np.arange(time_u.size):\n",
    "    if (flux_u[i] > fluxerr_u[i]*3.):\n",
    "        upper_limit_arr[i] = False\n",
    "        flux_corr_u[i] = flux_u[i]\n",
    "\n",
    "\n",
    "# Now identify our 3 types of sources: bad, upper limit, and detected\n",
    "# This will give you the indicies of each type in the origional arrays\n",
    "\n",
    "bad_sources = np.argwhere(good_source_arr == False)[:,0]\n",
    "upper_limit_sources = np.argwhere((upper_limit_arr == True) & (good_source_arr == True))[:,0]\n",
    "detected_sources = np.argwhere((upper_limit_arr == False) & (good_source_arr == True))[:,0]\n",
    "\n",
    "\n",
    "# Now make an array for the time, flux, and flux error for each type of source.\n",
    "# For upper limits, the flux will be 3x the flux error, e.g. the 3-sigma upper limit.\n",
    "\n",
    "\n",
    "bad_time_u = time_u[bad_sources]\n",
    "bad_flux_u = flux_u[bad_sources]\n",
    "bad_fluxerr_u = fluxerr_u[bad_sources]\n",
    "\n",
    "upper_limit_time_u = time_u[upper_limit_sources]\n",
    "upper_limit_flux_u = flux_corr_u[upper_limit_sources]\n",
    "upper_limit_fluxerr_u = fluxerr_u[upper_limit_sources]\n",
    "\n",
    "detected_time_u = time_u[detected_sources]\n",
    "detected_flux_u = flux_corr_u[detected_sources]\n",
    "detected_fluxerr_u = fluxerr_u[detected_sources]\n",
    "\n",
    "\n",
    "# Print out how many of each type there are\n",
    "\n",
    "print(bad_time_u.size,'bad sources')\n",
    "print(upper_limit_time_u.size,'upper limits')\n",
    "print(detected_time_u.size,'detections')\n",
    "\n",
    "\n",
    "# This will make a plot of the source for all visits.\n",
    "# Blue will be detetions with error bars\n",
    "# Orange will be upper limits, with arrows\n",
    "# Green will be bad sources, plotted as zero flux\n",
    "\n",
    "plt.errorbar(detected_time_u,detected_flux_u,yerr=detected_fluxerr_u,marker='o',linestyle='none')\n",
    "plt.errorbar(upper_limit_time_u,upper_limit_flux_u,yerr=upper_limit_fluxerr_u,uplims=True,marker='o',linestyle='none')\n",
    "plt.plot(bad_time_u,np.zeros(bad_time_u.size),'o')\n",
    "#plt.errorbar(upper_limit_time_u,upper_limit_flux_u,yerr=upper_limit_fluxerr_u,marker='o',linestyle='none')\n",
    "plt.show()\n",
    "\n",
    "    \n",
    "    "
   ]
  },
  {
   "cell_type": "markdown",
   "id": "4537fa75-16c6-44ed-a675-3964a75949f9",
   "metadata": {},
   "source": [
    "## Full R-band Light Curve\n",
    "\n",
    "The following box will do photometry for our location for all r-band visits.  \n",
    "\n",
    "This takes about 30 minutes to run.\n",
    "\n",
    "The long runtime is partially because there are more visits than u-band (132 vs. 52 for this example) and there are more sources per image than in u-band, so each image takes longer to process.\n",
    "\n"
   ]
  },
  {
   "cell_type": "code",
   "execution_count": null,
   "id": "0c9de874-9cdd-4459-8e41-454cb30bb71e",
   "metadata": {},
   "outputs": [],
   "source": [
    "# This box will load all the observations in r-band.  \n",
    "# This takes about 30 minutes to run.\n",
    "\n",
    "\n",
    "sources_withfakes_r, tab_r = photometry_at_coord_all_visits(racen,deccen,'r',start_index=0)\n",
    "\n"
   ]
  },
  {
   "cell_type": "code",
   "execution_count": null,
   "id": "43fd0d9e-4fdd-4d62-bb7a-d3d20e837913",
   "metadata": {},
   "outputs": [],
   "source": [
    "# Now let take a closer look at the r-band data, and make a plot of it.\n",
    "\n",
    "# First, get the times, fluxes, and flux errors\n",
    "\n",
    "time_u = np.array(tab_r['mjd'][:])\n",
    "flux_u = np.array(tab_r['flux'][:])\n",
    "fluxerr_u = np.array(tab_r['fluxerr'][:])\n",
    "\n",
    "\n",
    "# We can use the flux information to split into 3 arrays: \n",
    "# bad values (off detector), detections, and non-detections\n",
    "\n",
    "# The sources with flux_u and fluxerr_u = -99.9 are out of the field of view, \n",
    "# so there's nothing to measure.\n",
    "\n",
    "# This will identify the \"good\" sources, that are on the detector\n",
    "\n",
    "good_source_arr = np.ones(time_u.size,dtype=bool)\n",
    "\n",
    "for i in np.arange(time_u.size):\n",
    "    if (fluxerr_u[i] < 0):\n",
    "        good_source_arr[i] = False\n",
    "\n",
    "        \n",
    "\n",
    "\n",
    "\n",
    "# Now go through all the sources (good and bad), and flag the ones that are upper limits.\n",
    "\n",
    "upper_limit_arr = np.ones(time_u.size,dtype=bool)  # True if upper limit, false otherwise\n",
    "flux_corr_u = np.copy(fluxerr_u)*3.   # flux set to 3 times sigma if it is an upper limit\n",
    "\n",
    "for i in np.arange(time_u.size):\n",
    "    if (flux_u[i] > fluxerr_u[i]*3.):\n",
    "        upper_limit_arr[i] = False\n",
    "        flux_corr_u[i] = flux_u[i]\n",
    "\n",
    "\n",
    "# Now identify our 3 types of sources: bad, upper limit, and detected\n",
    "# This will give you the indicies of each type in the origional arrays\n",
    "\n",
    "bad_sources = np.argwhere(good_source_arr == False)[:,0]\n",
    "upper_limit_sources = np.argwhere((upper_limit_arr == True) & (good_source_arr == True))[:,0]\n",
    "detected_sources = np.argwhere((upper_limit_arr == False) & (good_source_arr == True))[:,0]\n",
    "\n",
    "\n",
    "# Now make an array for the time, flux, and flux error for each type of source.\n",
    "# For upper limits, the flux will be 3x the flux error, e.g. the 3-sigma upper limit.\n",
    "\n",
    "\n",
    "bad_time_u = time_u[bad_sources]\n",
    "bad_flux_u = flux_u[bad_sources]\n",
    "bad_fluxerr_u = fluxerr_u[bad_sources]\n",
    "\n",
    "upper_limit_time_u = time_u[upper_limit_sources]\n",
    "upper_limit_flux_u = flux_corr_u[upper_limit_sources]\n",
    "upper_limit_fluxerr_u = fluxerr_u[upper_limit_sources]\n",
    "\n",
    "detected_time_u = time_u[detected_sources]\n",
    "detected_flux_u = flux_corr_u[detected_sources]\n",
    "detected_fluxerr_u = fluxerr_u[detected_sources]\n",
    "\n",
    "\n",
    "# Print out how many of each type there are\n",
    "\n",
    "print(bad_time_u.size,'bad sources')\n",
    "print(upper_limit_time_u.size,'upper limits')\n",
    "print(detected_time_u.size,'detections')\n",
    "\n",
    "\n",
    "# This will make a plot of the source for all visits.\n",
    "# Blue will be detetions with error bars\n",
    "# Orange will be upper limits, with arrows\n",
    "# Green will be bad sources, plotted as zero flux\n",
    "\n",
    "# For this data, I'm plotting it on a log scale\n",
    "\n",
    "plt.errorbar(upper_limit_time_u,upper_limit_flux_u,yerr=upper_limit_fluxerr_u,uplims=True,marker='o',linestyle='none',color='tab:orange')\n",
    "plt.errorbar(detected_time_u,detected_flux_u,yerr=detected_fluxerr_u,marker='o',linestyle='none',color='tab:blue')\n",
    "plt.plot(bad_time_u,np.zeros(bad_time_u.size)+100,'o',color='tab:green')\n",
    "#plt.errorbar(upper_limit_time_u,upper_limit_flux_u,yerr=upper_limit_fluxerr_u,marker='o',linestyle='none')\n",
    "plt.yscale('log')\n",
    "plt.show()\n",
    "\n"
   ]
  },
  {
   "cell_type": "code",
   "execution_count": null,
   "id": "a545c54c-c512-46de-b0b1-7b93da0d7f95",
   "metadata": {},
   "outputs": [],
   "source": []
  }
 ],
 "metadata": {
  "kernelspec": {
   "display_name": "LSST",
   "language": "python",
   "name": "lsst"
  },
  "language_info": {
   "codemirror_mode": {
    "name": "ipython",
    "version": 3
   },
   "file_extension": ".py",
   "mimetype": "text/x-python",
   "name": "python",
   "nbconvert_exporter": "python",
   "pygments_lexer": "ipython3",
   "version": "3.10.5"
  }
 },
 "nbformat": 4,
 "nbformat_minor": 5
}
