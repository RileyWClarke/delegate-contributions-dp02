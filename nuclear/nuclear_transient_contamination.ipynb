{
 "cells": [
  {
   "cell_type": "markdown",
   "id": "004fa966-3772-471d-9c27-734ed6f9d7b8",
   "metadata": {},
   "source": [
    "<b>Nuclear Transient Searches and Contamination</b> <br>\n",
    "Contact author: K. Decker French <br>\n",
    "Last verified to run: 2022-08-17<br>\n",
    "LSST Science Piplines version: Weekly 2022_22 <br>\n",
    "Container Size: medium <br>"
   ]
  },
  {
   "cell_type": "markdown",
   "id": "070237d1-1944-45f6-b46d-cdc50ae06b94",
   "metadata": {},
   "source": [
    "**Description:** Use the DP0.2 Object, DiaObject, and DiaSource tables to investigate noise that will be present when searching for nuclear transients, and to identify transients near selected host galaxies."
   ]
  },
  {
   "cell_type": "markdown",
   "id": "6f6c0695-7bfc-49e4-91c1-bd113c4f575c",
   "metadata": {},
   "source": [
    "**Skills:** Use the TAP service and the DP0.2 Object, DiaObject and DiaSource tables."
   ]
  },
  {
   "cell_type": "markdown",
   "id": "9c7eb7f0-a9e7-409a-bedb-514ed3c11eb4",
   "metadata": {},
   "source": [
    "**LSST Data Products:** TAP tables dp02_dc2_catalogs.Object, DiaObject and DiaSource."
   ]
  },
  {
   "cell_type": "markdown",
   "id": "345fb6b8-37a6-4e70-a5fd-ad8e6a72d869",
   "metadata": {},
   "source": [
    "**Packages:** lsst.rsp, astropy.cosmology, numpy, matplotlib"
   ]
  },
  {
   "cell_type": "markdown",
   "id": "bf77673d-f817-4c89-8479-60dc5e81a89d",
   "metadata": {},
   "source": [
    "**Credit:** Developed by K. Decker French, based on material originally developed by Leanne Guy, Melissa Graham, Jeff Carlin and the Rubin Community Engagement Team for Data Preview 0. This work was made possible through the Preparing for Astrophysics with LSST Program, supported by the Heising-Simons Foundation and managed by Las Cumbres Observatory."
   ]
  },
  {
   "cell_type": "markdown",
   "id": "0bfa1504-f1ba-4d6f-bec9-463f9fa11eea",
   "metadata": {},
   "source": [
    "# 1. Introduction and setup\n",
    "\n",
    "This notebook demonstrates an example science case investigating nuclear transients in galaxies. The simulated dataset in DP0.2 does not contain AGN variability or Tidal Disruption Events (TDEs), so we can use the data to characterize the underlying noise that will be present in real lightcurves of galaxy nuclei. This notebook also shows an example of using host galaxy properties to divide up variable sources to look at correlations with host galaxy color.\n",
    "\n",
    "We will use three tables: \n",
    "- (1) Object: \"Properties of the astronomical objects detected and measured on the deep coadded images.\"\n",
    "- (2) DiaObject: \"Properties of time-varying astronomical objects based on association of data from one or more spatially-related DiaSource detections on individual single-epoch difference images.\"\n",
    "- (3) DiaSource: \"Properties of transient-object detections on the single-epoch difference images.\"\n",
    "\n",
    "Schema for each table can be found here: https://dm.lsst.org/sdm_schemas/browser/dp02.html\n",
    "\n",
    "This notebook was developed using DP0.2 tutorials 2, 7a and 7b (Leanne Guy, Melissa Graham, Jeff Carlin and the Rubin Community Engagement Team for Data Preview 0), which contain more information on TAP queries and lightcurve analyses."
   ]
  },
  {
   "cell_type": "markdown",
   "id": "f112329c-631f-40c1-9cd4-9a0fcd7f6e39",
   "metadata": {},
   "source": [
    "## 1.1. Package Imports\n",
    "\n",
    "**lsst.rsp:** The LSST Science Pipelines package for RSP functionality such as the TAP service (<a href=\"http://pipelines.lsst.io\">pipelines.lsst.io</a>).\n",
    "\n",
    "**astropy.cosmology:** An open-source package of cosmology tools (<a href=\"https://docs.astropy.org/en/stable/cosmology/index.html\">the astropy cosmology documentation</a>)."
   ]
  },
  {
   "cell_type": "code",
   "execution_count": null,
   "id": "e3f43c3f-367c-4bce-a9b3-e8eda492ede3",
   "metadata": {},
   "outputs": [],
   "source": [
    "#package imports\n",
    "import time\n",
    "from IPython.display import Image\n",
    "\n",
    "import numpy as np\n",
    "import matplotlib.pyplot as plt\n",
    "from astropy.table import Table\n",
    "\n",
    "from lsst.rsp import get_tap_service\n",
    "\n",
    "from astropy.cosmology import FlatLambdaCDM\n",
    "cosmo = FlatLambdaCDM(H0=70, Om0=0.3)"
   ]
  },
  {
   "cell_type": "markdown",
   "id": "358f0bf3-4d4e-4b37-9fae-f45ec9bc8fb8",
   "metadata": {},
   "source": [
    "## 1.2. Set up TAP service"
   ]
  },
  {
   "cell_type": "code",
   "execution_count": null,
   "id": "f8ce6800-3957-4711-bae2-83c9185a3e58",
   "metadata": {},
   "outputs": [],
   "source": [
    "# start TAP service\n",
    "service = get_tap_service()"
   ]
  },
  {
   "cell_type": "markdown",
   "id": "5eead576-23f3-45fe-9618-41d89a797fd5",
   "metadata": {},
   "source": [
    "# 2. Identify transient sources in the nuclei of galaxies\n",
    "\n",
    "DP0.2 does not contain AGN variability or Tidal Disruption Events (TDEs), so we can use the DiaObject and DiaSource results to investigate likely contaminants for future nuclear transient searches.\n",
    "\n"
   ]
  },
  {
   "cell_type": "markdown",
   "id": "7c83c081-ceb0-4684-bd36-01c2465be0d3",
   "metadata": {},
   "source": [
    "## 2.1. Select Galaxies "
   ]
  },
  {
   "cell_type": "markdown",
   "id": "3eb137e1-70d6-4e2f-bdc6-c39547212198",
   "metadata": {},
   "source": [
    "To start, we can identify galaxies in the Object catalog by requiring refExtendedness = 1. This identifies galaxies that appear extended in the reference band (typically the i band). We also require detect_isPrimary = 1 to get only deblended objects.\n",
    "\n",
    "Later on in this notebook, we'll aim to select based on host galaxy properties, so we start by restricting the objects to be brighter than 18 mag.\n",
    "\n",
    "This query with max_rec=1000 took about 15 seconds of wall time"
   ]
  },
  {
   "cell_type": "code",
   "execution_count": null,
   "id": "ab78ec0c-1001-40f3-8ae4-544e535dabcd",
   "metadata": {},
   "outputs": [],
   "source": [
    "%%time\n",
    "\n",
    "max_rec = 1000 \n",
    "\n",
    "query = \"SELECT objectId, coord_ra, coord_dec, detect_isPrimary, \" + \\\n",
    "        \"scisql_nanojanskyToAbMag(u_cModelFlux) AS u_cModelMag, \" + \\\n",
    "        \"scisql_nanojanskyToAbMag(r_cModelFlux) AS r_cModelMag, refExtendedness \" + \\\n",
    "        \"FROM dp02_dc2_catalogs.Object \" + \\\n",
    "        \"WHERE detect_isPrimary = 1 \" + \\\n",
    "        \"AND refExtendedness = 1 AND scisql_nanojanskyToAbMag(r_cModelFlux) < 18\"\n",
    "\n",
    "galaxies = service.search(query, maxrec=max_rec)"
   ]
  },
  {
   "cell_type": "markdown",
   "id": "07e10e35-f3c8-41eb-a498-2e12a713fd06",
   "metadata": {},
   "source": [
    "Inspect the results:"
   ]
  },
  {
   "cell_type": "code",
   "execution_count": null,
   "id": "55b69da6-7f55-44bd-9ec9-5cbc94edb4ad",
   "metadata": {},
   "outputs": [],
   "source": [
    "galaxies"
   ]
  },
  {
   "cell_type": "markdown",
   "id": "c703760f-9cdc-4408-8100-13119a44ee4f",
   "metadata": {},
   "source": [
    "## 2.2. Identify nuclear \"transients\" in these galaxies\n",
    "\n",
    "For each galaxy, we now need to query the DiaObject catalog to find transient events in the nuclei of these galaxies. \n",
    "\n",
    "We will use the coordinates gathered from the results query above to cross-match. Note: In general, transient-host matching can be complex (see for example [Gagliano et al. 2021](https://ui.adsabs.harvard.edu/abs/2021ApJ...908..170G/abstract), [Qin et al. 2022](https://ui.adsabs.harvard.edu/abs/2022ApJS..259...13Q/abstract)). However, for this application, transients within 0.5 arcsec of the galaxy coordinates are likely to be associated with that galaxy. As a further caveat, we will only be selecting one DiaObject per Object.\n",
    "\n",
    "In order to study the lightcurves of the resulting objects, we also require that there be >20 g-band data points.\n",
    "\n",
    "For this example, we'll select the total flux measurements gTOTFluxMean and gTOTFluxSigma. These measurements will contain flux from both the host galaxy and any transient emission. We use the TOTFlux measurements from DiaObject and DiaSource instead of the flux measurements from ForcedSource, as the DiaObject sources are deblended. We also select the gPSFluxMean to test the typical flux on the difference images for these sources.\n",
    "\n",
    "This next cell will execute a large number of queries (1000 if max_rec was not modified), but is quite fast in wall time (about 3 minutes for 1000 queries)."
   ]
  },
  {
   "cell_type": "code",
   "execution_count": null,
   "id": "3559936d-f2d7-4e5e-93a3-477c7467a793",
   "metadata": {},
   "outputs": [],
   "source": [
    "%%time\n",
    "\n",
    "#set up a Table to collect our results\n",
    "ra_arr = galaxies['coord_ra']\n",
    "dec_arr = galaxies['coord_dec']\n",
    "oid = galaxies['objectId']\n",
    "results_table = Table({'ra': ra_arr, \n",
    "                       'dec': dec_arr,\n",
    "                       'objectID': oid,\n",
    "                       'u_cModelMag': galaxies['u_cModelMag'],\n",
    "                       'r_cModelMag': galaxies['r_cModelMag'],\n",
    "                       'diaObjectID': np.zeros_like(oid),\n",
    "                       'matches': np.zeros_like(ra_arr),\n",
    "                       'gTOTMagMean': np.zeros_like(ra_arr),\n",
    "                       'gTOTMagSigma': np.zeros_like(ra_arr),\n",
    "                       'gPSFluxMean': np.zeros_like(ra_arr)})\n",
    "\n",
    "#iterate over each galaxy selected above from Object\n",
    "for jj, res in enumerate(galaxies):\n",
    "    ra = res['coord_ra']\n",
    "    dec = res['coord_dec']\n",
    "    center_coords = '{0:2f},  {1:2f}'.format(ra, dec)\n",
    "    radius = \"0.000139\" #0.5 arcsec in degrees\n",
    "    query = \"SELECT ra, decl, diaObjectId, gPSFluxNdata, \" + \\\n",
    "            \"scisql_nanojanskyToAbMag(gTOTFluxMean) AS gTOTMagMean, \" + \\\n",
    "            \"gPSFluxMean, \" + \\\n",
    "            \"scisql_nanojanskyToAbMagSigma(gTOTFluxMean, gTOTFluxSigma) as gTOTMagSigma \" + \\\n",
    "            \"FROM dp02_dc2_catalogs.DiaObject \" + \\\n",
    "            \"WHERE CONTAINS(POINT('ICRS', ra, decl), \" + \\\n",
    "            \"CIRCLE('ICRS', \" + center_coords + \", \" + radius + \")) = 1 \" + \\\n",
    "            \"AND gPSFluxNdata > 20\"\n",
    "    result_ds = service.search(query)\n",
    "    if len(result_ds) == 0: continue #if there is nothing returned, results_table['matches'] will stay = 0\n",
    "    else:\n",
    "        results_table['diaObjectID'][jj] = result_ds['diaObjectId'][0]\n",
    "        results_table['matches'][jj] = len(result_ds)\n",
    "        results_table['gTOTMagMean'][jj] = result_ds['gTOTMagMean'][0]\n",
    "        results_table['gTOTMagSigma'][jj] = result_ds['gTOTMagSigma'][0]\n",
    "        results_table['gPSFluxMean'][jj] = result_ds['gPSFluxMean'][0]\n"
   ]
  },
  {
   "cell_type": "markdown",
   "id": "f397c47b-3800-4e44-8c22-cf980faa17b3",
   "metadata": {},
   "source": [
    "Inspect the results"
   ]
  },
  {
   "cell_type": "code",
   "execution_count": null,
   "id": "cca70c89-c632-4b55-bafd-2bc153d219c9",
   "metadata": {},
   "outputs": [],
   "source": [
    "results_table"
   ]
  },
  {
   "cell_type": "markdown",
   "id": "67647df4-85ba-42c3-9863-0c559107312e",
   "metadata": {},
   "source": [
    "Count how many galaxies had a match in DiaObject within 0.5\" of the center"
   ]
  },
  {
   "cell_type": "code",
   "execution_count": null,
   "id": "e934c85a-7668-4514-8e95-9b17a0ae9825",
   "metadata": {},
   "outputs": [],
   "source": [
    "np.size(np.where(results_table['matches'] >0))"
   ]
  },
  {
   "cell_type": "markdown",
   "id": "ca7fb5b6-e90d-48e0-84f3-0fa0e8331645",
   "metadata": {},
   "source": [
    "About 1/3-2/3 of the galaxies have a match. "
   ]
  },
  {
   "cell_type": "markdown",
   "id": "2a2c36ec-f813-47df-9b8d-1598ac860458",
   "metadata": {},
   "source": [
    "## 2.3. Plot lightcurves\n",
    "\n",
    "Next, let's query the DiaObject sources in the DiaSource catalog to get lightcurves, and plot some of them. This next cell is directly adapted from tutorial notebook 7a., and plots the first 5 objects."
   ]
  },
  {
   "cell_type": "code",
   "execution_count": null,
   "id": "a3675455-c0cb-4260-aa07-2e0ecbd23296",
   "metadata": {},
   "outputs": [],
   "source": [
    "#only select the DiaObject sources that are matched\n",
    "matched = results_table[results_table['matches'] > 0]\n",
    "\n",
    "#define plot symbols and colors\n",
    "plot_filter_labels = ['u', 'g', 'r', 'i', 'z', 'y']\n",
    "plot_filter_colors = {'u' : '#56b4e9', 'g' : '#008060', 'r' : '#ff4000',\n",
    "                     'i' : '#850000', 'z' : '#6600cc', 'y' : '#000000'}\n",
    "plot_filter_symbols = {'u' : 'o', 'g' : '^', 'r' : 'v', 'i' : 's', 'z' : '*', 'y' : 'p'}\n",
    "\n",
    "fig, ax = plt.subplots(5, 1, figsize=(10, 10), sharey=False, sharex=False)\n",
    "\n",
    "\n",
    "for i in range(5):\n",
    "    result = service.search(\"SELECT ra, decl, diaObjectId, diaSourceId, \"\n",
    "                             \"filterName, midPointTai, \"\n",
    "                             \"scisql_nanojanskyToAbMag(totFlux) AS psAbMag \"\n",
    "                             \"FROM dp02_dc2_catalogs.DiaSource \"\n",
    "                             \"WHERE diaObjectId = \"+str(matched['diaObjectID'][i]))\n",
    "\n",
    "    for f, filt in enumerate(plot_filter_labels):\n",
    "        fx = np.where(result['filterName'] == filt)[0]\n",
    "        ax[i].plot(result['midPointTai'][fx], result['psAbMag'][fx],\n",
    "                      plot_filter_symbols[filt], ms=10, mew=0, alpha=0.5,\n",
    "                      color=plot_filter_colors[filt],label=plot_filter_labels[f])\n",
    "        del fx\n",
    "\n",
    "    ax[i].invert_yaxis()\n",
    "    ax[i].set_title(matched['diaObjectID'][i])\n",
    "\n",
    "    if i == 4:\n",
    "        ax[i].xaxis.set_label_text('MJD (days)')\n",
    "    ax[i].yaxis.set_label_text('mag')\n",
    "\n",
    "\n",
    "    del result\n",
    "\n",
    "plt.tight_layout()\n",
    "plt.legend(bbox_to_anchor=(1.04,1), loc=\"upper left\")\n",
    "plt.show()"
   ]
  },
  {
   "cell_type": "markdown",
   "id": "f345ec15-e570-4672-b833-56867ce9bef7",
   "metadata": {},
   "source": [
    "These look spurious, consistent with our expectation that there should be no true nuclear transients in this data set (with the exception of potentially finding a lucky SN Ia)."
   ]
  },
  {
   "cell_type": "markdown",
   "id": "853fa167-646c-4199-b4ef-ad01a16e6f6a",
   "metadata": {},
   "source": [
    "## 2.4. Analyze DiaObject information\n",
    "\n",
    "We can use the information from the DiaObject table to see the range of lightcurve statistics for the selected sources.\n",
    "\n",
    "For example, the next cell shows a histogram of the mean flux in the difference images."
   ]
  },
  {
   "cell_type": "code",
   "execution_count": null,
   "id": "ec1537a7-2cbd-48c7-9ba9-5a5d0d84ead3",
   "metadata": {},
   "outputs": [],
   "source": [
    "plt.hist(matched['gPSFluxMean'],bins=40,range=np.array([-20000,20000]))\n",
    "plt.axvline(0,color='k')\n",
    "plt.xlabel('gPSFluxMean')\n",
    "plt.ylabel('Number')\n",
    "plt.show()"
   ]
  },
  {
   "cell_type": "markdown",
   "id": "a4fd85a8-0df0-49b7-a08f-faaf171b7a33",
   "metadata": {},
   "source": [
    "The distribution looks roughly symmetric around zero. Many of the sources have negative mean fluxes in the difference image. This could be caused by two effects: either noise from the lack of any true transients, or real transients like SN Ia contaminating the reference images.\n",
    "\n",
    "We can test whether the mean or median flux is positive and zoom in on the center of this plot:"
   ]
  },
  {
   "cell_type": "code",
   "execution_count": null,
   "id": "8380ec6f-f934-41fd-b89a-b3d2fb131062",
   "metadata": {},
   "outputs": [],
   "source": [
    "plt.hist(matched['gPSFluxMean'],bins=40,range=np.array([-2000,2000]))\n",
    "plt.axvline(0,color='k')\n",
    "plt.axvline(np.mean(matched['gPSFluxMean']),label='Mean',color='red')\n",
    "plt.axvline(np.median(matched['gPSFluxMean']),label='Median',color='purple')\n",
    "plt.xlabel('gPSFluxMean')\n",
    "plt.ylabel('Number')\n",
    "plt.legend()\n",
    "plt.show()"
   ]
  },
  {
   "cell_type": "markdown",
   "id": "b9ae361d-3310-475c-aa50-815868156365",
   "metadata": {},
   "source": [
    "The mean and median are both positive, although barely. \n",
    "\n",
    "Next, let's explore the total flux parameters. The gTOTMagSigma quantity will describe the underlying noise we will have to deal with in future searches for nuclear transients."
   ]
  },
  {
   "cell_type": "code",
   "execution_count": null,
   "id": "d9e46979-a17c-4f55-8f4e-37b71c7106a8",
   "metadata": {},
   "outputs": [],
   "source": [
    "plt.hist(matched['gTOTMagSigma'])\n",
    "plt.xlabel('gTOTMagSigma')\n",
    "plt.ylabel('Number')\n",
    "plt.show()"
   ]
  },
  {
   "cell_type": "markdown",
   "id": "8cda835c-201a-4b9b-bbbb-b4a6f05426a8",
   "metadata": {},
   "source": [
    "We can select some of the sources with high sigma and inspect the lightcurves."
   ]
  },
  {
   "cell_type": "code",
   "execution_count": null,
   "id": "45eda3ed-7aa5-44eb-93fc-9fc02e39411a",
   "metadata": {},
   "outputs": [],
   "source": [
    "subset = matched[(matched['gTOTMagSigma'] > 0.2)]\n",
    "\n",
    "fig, ax = plt.subplots(5, 1, figsize=(10, 10), sharey=False, sharex=False)\n",
    "\n",
    "\n",
    "for i in range(5):\n",
    "    result = service.search(\"SELECT ra, decl, diaObjectId, diaSourceId, \"\n",
    "                             \"filterName, midPointTai, \"\n",
    "                             \"scisql_nanojanskyToAbMag(totFlux) AS psAbMag \"\n",
    "                             \"FROM dp02_dc2_catalogs.DiaSource \"\n",
    "                             \"WHERE diaObjectId = \"+str(subset['diaObjectID'][i]))\n",
    "\n",
    "    f = 1\n",
    "    filt = plot_filter_labels[1]\n",
    "    fx = np.where(result['filterName'] == filt)[0]\n",
    "    ax[i].plot(result['midPointTai'][fx], result['psAbMag'][fx],\n",
    "                  plot_filter_symbols[filt], ms=10, mew=0, alpha=0.5,\n",
    "                  color=plot_filter_colors[filt],label=plot_filter_labels[f])\n",
    "    del fx\n",
    "\n",
    "    ax[i].invert_yaxis()\n",
    "    ax[i].set_title(subset['diaObjectID'][i])\n",
    "\n",
    "    if i == 4:\n",
    "        ax[i].xaxis.set_label_text('MJD (days)')\n",
    "    ax[i].yaxis.set_label_text('mag')\n",
    "\n",
    "\n",
    "    del result\n",
    "\n",
    "plt.tight_layout()\n",
    "plt.legend(bbox_to_anchor=(1.04,1), loc=\"upper left\")\n",
    "plt.show()"
   ]
  },
  {
   "cell_type": "markdown",
   "id": "424fac3b-fa2c-4b67-a473-8872568aa2cd",
   "metadata": {},
   "source": [
    "Some of these sources have one large outlier driving up sigma, others seem to show real variability, which could be confused with damped random walk AGN-like variability."
   ]
  },
  {
   "cell_type": "markdown",
   "id": "95a5245e-fc71-4c46-bc16-03c07d68c6fa",
   "metadata": {},
   "source": [
    "# 3. Select candidate transients based on host galaxy properties\n",
    "\n",
    "Next, let's use the information about the host galaxies from the Object catalog. We'll first look at the galaxy colors to see if the [classic galaxy bimodality](https://ui.adsabs.harvard.edu/abs/2004ApJ...600..681B/abstract) is observed. "
   ]
  },
  {
   "cell_type": "code",
   "execution_count": null,
   "id": "b3ddd524-02d6-4752-a783-69857032a40f",
   "metadata": {},
   "outputs": [],
   "source": [
    "#visualize color bimodality\n",
    "urcolor = galaxies['u_cModelMag'] - galaxies['r_cModelMag']\n",
    "plt.hist(urcolor,bins=20,range=np.array([0,3.5]))\n",
    "plt.xlabel('u-r color')\n",
    "plt.ylabel('Number')\n",
    "plt.title('Galaxies from Object search')\n",
    "plt.show()"
   ]
  },
  {
   "cell_type": "markdown",
   "id": "133894b1-8af1-4ffa-8e18-744cc7842358",
   "metadata": {},
   "source": [
    "We see a clear red and blue peaks. Because we have only included galaxies with r < 18 mag in part 2.1 above, the fact that we have not k-corrected these colors has not washed out the bimodality. One avenue to explore is using the ugrizY host magnitudes to estimate k-corrections.\n",
    "\n",
    "Next, let's see whether the host galaxies with a match in DiaSource have a different distribution in u-r colors."
   ]
  },
  {
   "cell_type": "code",
   "execution_count": null,
   "id": "81a5a9b9-2956-41ff-8aa2-efbc9e99a3e9",
   "metadata": {},
   "outputs": [],
   "source": [
    "urcolor = matched['u_cModelMag'] - matched['r_cModelMag']\n",
    "plt.hist(urcolor,bins=20,range=np.array([0,3.5]))\n",
    "plt.xlabel('u-r color')\n",
    "plt.ylabel('Number')\n",
    "plt.title('Galaxies from DiaObject match')\n",
    "plt.show()"
   ]
  },
  {
   "cell_type": "markdown",
   "id": "1ba20c52-20df-4f2a-ac08-56921658cbad",
   "metadata": {},
   "source": [
    "We observe fewer red galaxies in the sample after cross matching with the DiaObject catalog. This effect may be due to a lesser contribution by SN Ia in this sample, or a systematic effect in creating DiaObject sources.\n",
    "\n",
    "Next, we can divide out the host galaxies into red and blue. and look at the lightcurve variation of each. Here, we'll use the gTOTMagSigma for each lightcurve from the DiaObject catalog to parameterize the typical noise in the nuclear variability of each type of galaxy."
   ]
  },
  {
   "cell_type": "code",
   "execution_count": null,
   "id": "40c6eb2e-9639-4e44-afd9-1fa5cd81ffbb",
   "metadata": {
    "tags": []
   },
   "outputs": [],
   "source": [
    "red = np.where((urcolor > 2) & (urcolor < 3.5))[0]\n",
    "blue = np.where((urcolor > 1.7) & (urcolor < 2))[0]\n",
    "\n",
    "colors = np.array([1.85, 2.75])\n",
    "colors_range = np.array([0.15, 0.75])\n",
    "sigma = np.zeros_like(colors)\n",
    "sigma_unc = np.zeros_like(colors)\n",
    "#blue\n",
    "sigma[0] = np.mean(matched['gTOTMagSigma'][blue])\n",
    "sigma_unc[0] = np.std(matched['gTOTMagSigma'][blue])/np.sqrt(np.size(blue))\n",
    "#red\n",
    "sigma[1] = np.mean(matched['gTOTMagSigma'][red])\n",
    "sigma_unc[1] = np.std(matched['gTOTMagSigma'][red])/np.sqrt(np.size(red))\n",
    "\n",
    "plt.errorbar(colors,sigma,xerr=colors_range,yerr=sigma_unc,linestyle='None',marker='o')\n",
    "plt.xlabel('u-r color')\n",
    "plt.ylabel('Average st. dev. of total g-band (mag)')\n",
    "plt.show()\n"
   ]
  },
  {
   "cell_type": "markdown",
   "id": "33c85c71-cb85-43c7-a167-d6ab4c111433",
   "metadata": {},
   "source": [
    "Red galaxies have a factor $\\sim1.5\\times$ more noise than blue galaxies. This effect may be related to high central Sérsic indices for quiescent red galaxies (typically $n\\sim4$) compared to blue star-forming galaxies (which typically have $n\\sim1$ exponential disks). Galaxies with high central densities may be difficult to detect nuclear transients in. With a larger sample (and applying k-corrections), differing trends could be explored for green valley galaxies etc. (Note: in some runs, these results seem to change due to the inclusion of events with large outliers. When testing this notebook with much larger sample sizes (~10,000 galaxies), the higher average sigma with redder color seems to hold.)"
   ]
  },
  {
   "cell_type": "code",
   "execution_count": null,
   "id": "d7790a63-5482-4a71-846e-9f595a125c82",
   "metadata": {},
   "outputs": [],
   "source": []
  }
 ],
 "metadata": {
  "kernelspec": {
   "display_name": "LSST",
   "language": "python",
   "name": "lsst"
  },
  "language_info": {
   "codemirror_mode": {
    "name": "ipython",
    "version": 3
   },
   "file_extension": ".py",
   "mimetype": "text/x-python",
   "name": "python",
   "nbconvert_exporter": "python",
   "pygments_lexer": "ipython3",
   "version": "3.10.4"
  }
 },
 "nbformat": 4,
 "nbformat_minor": 5
}
